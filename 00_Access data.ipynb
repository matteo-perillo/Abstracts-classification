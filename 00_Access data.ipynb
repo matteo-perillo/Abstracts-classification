{
 "cells": [
  {
   "cell_type": "code",
   "execution_count": null,
   "id": "905ce677",
   "metadata": {},
   "outputs": [],
   "source": []
  },
  {
   "cell_type": "code",
   "execution_count": 2,
   "id": "civilian-edward",
   "metadata": {},
   "outputs": [],
   "source": [
    "import os\n",
    "import json\n",
    "import time\n",
    "import re\n",
    "import pandas as pd\n",
    "import seaborn as sns\n",
    "import matplotlib.pyplot as plt\n",
    "import numpy as np"
   ]
  },
  {
   "cell_type": "code",
   "execution_count": 17,
   "id": "scientific-morning",
   "metadata": {},
   "outputs": [],
   "source": [
    "os.chdir('C:\\\\Users\\\\Matteo\\\\Documents\\\\Università\\\\Dataset progetti\\\\AI Modena School\\\\arXiv dataset')"
   ]
  },
  {
   "cell_type": "code",
   "execution_count": 18,
   "id": "biological-shareware",
   "metadata": {},
   "outputs": [],
   "source": [
    "def replacements(s):\n",
    "    return re.sub(' +', ' ', s).replace('\\n', ' ').replace(' ','_').replace('$','').replace('\\\\','').replace('-->','').replace('/','_').replace('?','').replace('|','')"
   ]
  },
  {
   "cell_type": "markdown",
   "id": "egyptian-journey",
   "metadata": {},
   "source": [
    "Store each article in its own json file"
   ]
  },
  {
   "cell_type": "code",
   "execution_count": null,
   "id": "piano-locking",
   "metadata": {},
   "outputs": [],
   "source": [
    "os.makedirs('Articoli')\n",
    "\n",
    "count = 0\n",
    "start = time.time()\n",
    "with open(\"arxiv-metadata-oai-snapshot.json\", 'r') as f:\n",
    "    for line in f:\n",
    "        json_string = json.loads(line)\n",
    "        idc = replacements(json_string['id'])\n",
    "        cat = json_string['categories'].replace(' ','.').split('.')[0]\n",
    "        if os.listdir('Articoli').count(cat)==0:\n",
    "            os.makedirs('Articoli\\\\'+cat)\n",
    "        with open('Articoli\\\\'+cat+'\\\\'+idc+'.json', 'w') as outfile:\n",
    "            json.dump(json_string, outfile, indent=4)\n",
    "            \n",
    "            \n",
    "        count += 1\n",
    "        if count % 1000 == 0:\n",
    "            print(count)\n",
    "            check = time.time()\n",
    "            print(check-start)\n",
    "        if count == 1000000:\n",
    "            break"
   ]
  },
  {
   "cell_type": "markdown",
   "id": "nutritional-adjustment",
   "metadata": {},
   "source": [
    "Access data"
   ]
  },
  {
   "cell_type": "code",
   "execution_count": 20,
   "id": "knowing-society",
   "metadata": {
    "collapsed": true
   },
   "outputs": [
    {
     "name": "stdout",
     "output_type": "stream",
     "text": [
      "100000\n",
      "3.3191890716552734\n",
      "200000\n",
      "6.492343902587891\n",
      "300000\n",
      "9.908198356628418\n",
      "400000\n",
      "15.938303232192993\n",
      "500000\n",
      "19.09451150894165\n",
      "600000\n",
      "22.889692783355713\n",
      "700000\n",
      "25.31608533859253\n",
      "800000\n",
      "29.54161262512207\n",
      "900000\n",
      "36.652419090270996\n",
      "1000000\n",
      "38.91438627243042\n"
     ]
    }
   ],
   "source": [
    "data_list  = []\n",
    "count = 0\n",
    "start = time.time()\n",
    "with open(\"arxiv-metadata-oai-snapshot.json\", 'r') as f:\n",
    "    for line in f:\n",
    "        data_list.append(json.loads(line))\n",
    "        count += 1\n",
    "        if count % 100000 == 0:\n",
    "            print(count)\n",
    "            check = time.time()\n",
    "            print(check-start)\n",
    "            \n",
    "        if count == 1000000:\n",
    "            break\n",
    "\n",
    "data = pd.DataFrame(data_list)\n",
    "#list(data.columns)\n",
    "\n",
    "data.head(5)"
   ]
  },
  {
   "cell_type": "code",
   "execution_count": 24,
   "id": "mobile-husband",
   "metadata": {},
   "outputs": [],
   "source": [
    "def clean_catagories(cate):\n",
    "    return cate.replace(' ','.').split('.')[0]\n",
    "\n",
    "categories = []\n",
    "for i in data['categories']:\n",
    "    categories.append(clean_catagories(i))\n",
    "categories = pd.Series(categories)\n",
    "\n",
    "def clean_abstracts(abst):\n",
    "    return abst.replace('\\n', ' ').strip()\n",
    "    \n",
    "abstracts = []\n",
    "\n",
    "for i in data['abstract']:\n",
    "    abstracts.append(clean_abstracts(i))"
   ]
  },
  {
   "cell_type": "code",
   "execution_count": 36,
   "id": "acceptable-bicycle",
   "metadata": {},
   "outputs": [],
   "source": [
    "cat_codes = sorted(list(set(categories)))\n",
    "\n",
    "cat_names = ['Astrophysics', 'Condensed Matter', 'Computer Science', 'Economics', 'Electrical Engineering and Systems Science',\n",
    "            'General Relativity and Quantum Cosmology', 'High Energy Physics - Experiment', 'High Energy Physics - Lattice',\n",
    "            'High Energy Physics - Phenomenology', 'High Energy Physics - Theory', 'Mathematics', 'Mathematical Physics',\n",
    "            'Nonlinear Sciences', 'Nuclear Experiment', 'Nuclear Theory', 'Physics', 'Quantitative Biology',\n",
    "            'Quantitative Finance', 'Quantum Physics', 'Statistics']\n",
    "\n",
    "cat_extended = dict(zip(cat_codes, cat_names))"
   ]
  },
  {
   "cell_type": "code",
   "execution_count": 37,
   "id": "broad-bracket",
   "metadata": {},
   "outputs": [
    {
     "name": "stdout",
     "output_type": "stream",
     "text": [
      "Stored 'cat_extended' (dict)\n"
     ]
    }
   ],
   "source": [
    "%store cat_extended"
   ]
  },
  {
   "cell_type": "markdown",
   "id": "known-penalty",
   "metadata": {},
   "source": [
    "Exploratory Data Analysis"
   ]
  },
  {
   "cell_type": "code",
   "execution_count": 28,
   "id": "heard-colorado",
   "metadata": {
    "scrolled": true
   },
   "outputs": [
    {
     "data": {
      "image/png": "[encoded data removed]",
      "text/plain": [
       "<Figure size 432x288 with 1 Axes>"
      ]
     },
     "metadata": {
      "needs_background": "light"
     },
     "output_type": "display_data"
    },
    {
     "name": "stdout",
     "output_type": "stream",
     "text": [
      "math        239569\n",
      "cs          142098\n",
      "cond-mat    139253\n",
      "astro-ph    136341\n",
      "physics      79035\n",
      "hep-ph       50603\n",
      "quant-ph     44679\n",
      "hep-th       39013\n",
      "gr-qc        25712\n",
      "stat         19868\n",
      "math-ph      17597\n",
      "nucl-th      13730\n",
      "q-bio        13316\n",
      "hep-ex       10158\n",
      "nlin          8934\n",
      "hep-lat       6625\n",
      "q-fin         5979\n",
      "nucl-ex       5735\n",
      "eess          1509\n",
      "econ           246\n",
      "dtype: int64\n"
     ]
    }
   ],
   "source": [
    "x=categories.value_counts()\n",
    "sns.barplot(x=x.index,y=x)\n",
    "plt.show()\n",
    "\n",
    "print(x)"
   ]
  },
  {
   "cell_type": "code",
   "execution_count": 29,
   "id": "agricultural-battery",
   "metadata": {},
   "outputs": [
    {
     "data": {
      "text/html": [
       "<div>\n",
       "<style scoped>\n",
       "    .dataframe tbody tr th:only-of-type {\n",
       "        vertical-align: middle;\n",
       "    }\n",
       "\n",
       "    .dataframe tbody tr th {\n",
       "        vertical-align: top;\n",
       "    }\n",
       "\n",
       "    .dataframe thead th {\n",
       "        text-align: right;\n",
       "    }\n",
       "</style>\n",
       "<table border=\"1\" class=\"dataframe\">\n",
       "  <thead>\n",
       "    <tr style=\"text-align: right;\">\n",
       "      <th></th>\n",
       "      <th>id</th>\n",
       "      <th>abstract</th>\n",
       "      <th>words_count</th>\n",
       "      <th>chars_count</th>\n",
       "      <th>category</th>\n",
       "    </tr>\n",
       "  </thead>\n",
       "  <tbody>\n",
       "    <tr>\n",
       "      <th>0</th>\n",
       "      <td>0704.0001</td>\n",
       "      <td>A fully differential calculation in perturbati...</td>\n",
       "      <td>140</td>\n",
       "      <td>980</td>\n",
       "      <td>hep-ph</td>\n",
       "    </tr>\n",
       "    <tr>\n",
       "      <th>1</th>\n",
       "      <td>0704.0002</td>\n",
       "      <td>We describe a new algorithm, the $(k,\\ell)$-pe...</td>\n",
       "      <td>115</td>\n",
       "      <td>795</td>\n",
       "      <td>math</td>\n",
       "    </tr>\n",
       "    <tr>\n",
       "      <th>2</th>\n",
       "      <td>0704.0003</td>\n",
       "      <td>The evolution of Earth-Moon system is describe...</td>\n",
       "      <td>144</td>\n",
       "      <td>877</td>\n",
       "      <td>physics</td>\n",
       "    </tr>\n",
       "    <tr>\n",
       "      <th>3</th>\n",
       "      <td>0704.0004</td>\n",
       "      <td>We show that a determinant of Stirling cycle n...</td>\n",
       "      <td>35</td>\n",
       "      <td>245</td>\n",
       "      <td>math</td>\n",
       "    </tr>\n",
       "    <tr>\n",
       "      <th>4</th>\n",
       "      <td>0704.0005</td>\n",
       "      <td>In this paper we show how to compute the $\\Lam...</td>\n",
       "      <td>37</td>\n",
       "      <td>220</td>\n",
       "      <td>math</td>\n",
       "    </tr>\n",
       "  </tbody>\n",
       "</table>\n",
       "</div>"
      ],
      "text/plain": [
       "          id                                           abstract  words_count  \\\n",
       "0  0704.0001  A fully differential calculation in perturbati...          140   \n",
       "1  0704.0002  We describe a new algorithm, the $(k,\\ell)$-pe...          115   \n",
       "2  0704.0003  The evolution of Earth-Moon system is describe...          144   \n",
       "3  0704.0004  We show that a determinant of Stirling cycle n...           35   \n",
       "4  0704.0005  In this paper we show how to compute the $\\Lam...           37   \n",
       "\n",
       "   chars_count category  \n",
       "0          980   hep-ph  \n",
       "1          795     math  \n",
       "2          877  physics  \n",
       "3          245     math  \n",
       "4          220     math  "
      ]
     },
     "execution_count": 29,
     "metadata": {},
     "output_type": "execute_result"
    }
   ],
   "source": [
    "words_count = [len(abstract.split()) for abstract in abstracts]\n",
    "chars_count = [len(abstract) for abstract in abstracts]\n",
    "\n",
    "data2 = pd.DataFrame(data={'id': data['id'], 'abstract': abstracts, 'words_count': words_count, 'chars_count': chars_count, 'category': categories})\n",
    "\n",
    "data2.head(5)"
   ]
  },
  {
   "cell_type": "code",
   "execution_count": 30,
   "id": "danish-politics",
   "metadata": {},
   "outputs": [
    {
     "name": "stdout",
     "output_type": "stream",
     "text": [
      "104.09450474512701\n",
      "152.34497684719148\n"
     ]
    },
    {
     "data": {
      "image/png": "[encoded data removed]",
      "text/plain": [
       "<Figure size 720x288 with 2 Axes>"
      ]
     },
     "metadata": {
      "needs_background": "light"
     },
     "output_type": "display_data"
    },
    {
     "name": "stdout",
     "output_type": "stream",
     "text": [
      "700.5255441268398\n",
      "1040.3937487416952\n"
     ]
    }
   ],
   "source": [
    "cat_1 = 'math-ph'\n",
    "cat_2 = 'stat'\n",
    "\n",
    "category = 'stat'\n",
    "print(data2[data2['category']==cat_1]['words_count'].mean())\n",
    "print(data2[data2['category']==cat_2]['words_count'].mean())\n",
    "\n",
    "fig,(ax1,ax2)=plt.subplots(1,2,figsize=(10,4))\n",
    "n1_words=data2[data2['category']==cat_1]['words_count']\n",
    "ax1.hist(n1_words,color='red')\n",
    "ax1.set_title(cat_1)\n",
    "n2_words=data2[data2['category']==cat_2]['words_count']\n",
    "ax2.hist(n2_words,color='green')\n",
    "ax2.set_title(cat_2)\n",
    "fig.suptitle('Words per abstract')\n",
    "plt.show()\n",
    "\n",
    "print(data2[data2['category']==cat_1]['chars_count'].mean())\n",
    "print(data2[data2['category']==cat_2]['chars_count'].mean())"
   ]
  },
  {
   "cell_type": "code",
   "execution_count": 38,
   "id": "soviet-cross",
   "metadata": {},
   "outputs": [
    {
     "name": "stdout",
     "output_type": "stream",
     "text": [
      "Stored 'data2' (DataFrame)\n"
     ]
    }
   ],
   "source": [
    "%store data2"
   ]
  }
 ],
 "metadata": {
  "kernelspec": {
   "display_name": "Python 3",
   "language": "python",
   "name": "python3"
  },
  "language_info": {
   "codemirror_mode": {
    "name": "ipython",
    "version": 3
   },
   "file_extension": ".py",
   "mimetype": "text/x-python",
   "name": "python",
   "nbconvert_exporter": "python",
   "pygments_lexer": "ipython3",
   "version": "3.9.12"
  }
 },
 "nbformat": 4,
 "nbformat_minor": 5
}

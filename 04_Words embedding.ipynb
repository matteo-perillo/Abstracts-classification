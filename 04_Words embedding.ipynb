{
 "cells": [
  {
   "cell_type": "code",
   "execution_count": 1,
   "id": "invisible-board",
   "metadata": {},
   "outputs": [],
   "source": [
    "import tensorflow as tf\n",
    "tf.config.run_functions_eagerly(True)\n",
    "\n",
    "from tensorflow.keras.preprocessing.text import Tokenizer\n",
    "from tensorflow.keras.preprocessing.sequence import pad_sequences\n",
    "from tensorflow.keras.models import Sequential\n",
    "from tensorflow.keras import layers\n",
    "from tensorflow.keras.utils import to_categorical\n",
    "from tensorflow.keras.backend import clear_session\n",
    "from tensorflow.keras.wrappers.scikit_learn import KerasClassifier\n",
    "\n",
    "from sklearn.model_selection import train_test_split, KFold, GridSearchCV\n",
    "from sklearn.preprocessing import LabelEncoder\n",
    "\n",
    "import numpy as np\n",
    "\n",
    "import matplotlib.pyplot as plt\n",
    "\n",
    "import pandas as pd\n",
    "\n",
    "import time"
   ]
  },
  {
   "cell_type": "code",
   "execution_count": 2,
   "id": "damaged-crime",
   "metadata": {},
   "outputs": [],
   "source": [
    "%store -r data_ready"
   ]
  },
  {
   "cell_type": "code",
   "execution_count": 3,
   "id": "australian-yukon",
   "metadata": {},
   "outputs": [],
   "source": [
    "#print(data_ready['category'].value_counts())\n",
    "cat_index = data_ready['category'].value_counts().index"
   ]
  },
  {
   "cell_type": "code",
   "execution_count": 14,
   "id": "spatial-mainstream",
   "metadata": {},
   "outputs": [],
   "source": [
    "def plot_history(history):\n",
    "    acc = history.history['accuracy']\n",
    "    val_acc = history.history['val_accuracy']\n",
    "    loss = history.history['loss']\n",
    "    val_loss = history.history['val_loss']\n",
    "    x = range(1, len(acc) + 1)\n",
    "\n",
    "    plt.figure(figsize=(12, 5))\n",
    "    plt.subplot(1, 2, 1)\n",
    "    plt.plot(x[:-1], acc[1:], 'b', label='Training acc')\n",
    "    plt.plot(x, val_acc, 'r', label='Validation acc')\n",
    "    plt.title('Training and validation accuracy')\n",
    "    plt.legend()\n",
    "    plt.subplot(1, 2, 2)\n",
    "    plt.plot(x[:-1], loss[1:], 'b', label='Training loss')\n",
    "    plt.plot(x, val_loss, 'r', label='Validation loss')\n",
    "    plt.title('Training and validation loss')\n",
    "    plt.legend()"
   ]
  },
  {
   "cell_type": "code",
   "execution_count": 5,
   "id": "matched-share",
   "metadata": {},
   "outputs": [],
   "source": [
    "select_data = data_ready[data_ready['category'].isin(['hep-ph','hep-th','quant-ph'])].reset_index(drop=True)\n",
    "\n",
    "X_train, X_test, y_train, y_test = train_test_split(select_data[\"clean_text\"], select_data[\"category\"],\n",
    "                                                    stratify = select_data[\"category\"], test_size=0.2, shuffle=True)\n",
    "\n",
    "tokenizer = Tokenizer(num_words=5000)\n",
    "tokenizer.fit_on_texts(data_ready['clean_text'][:100])\n",
    "\n",
    "X_train = tokenizer.texts_to_sequences(X_train)\n",
    "X_test = tokenizer.texts_to_sequences(X_test)\n",
    "\n",
    "maxlen = np.array([len(a) for a in X_train]).max()\n",
    "\n",
    "X_train = pad_sequences(X_train, padding='post', maxlen=maxlen)\n",
    "X_test = pad_sequences(X_test, padding='post', maxlen=maxlen)\n",
    "\n",
    "vocab_size = len(tokenizer.word_index) + 1\n",
    "\n",
    "encoder = LabelEncoder()\n",
    "encoder.fit(y_train)\n",
    "encoded_y_train = encoder.transform(y_train)\n",
    "encoded_y_test = encoder.transform(y_test)\n",
    "\n",
    "dummy_y_train = to_categorical(encoded_y_train)\n",
    "dummy_y_test = to_categorical(encoded_y_test)"
   ]
  },
  {
   "cell_type": "code",
   "execution_count": 7,
   "id": "desperate-pilot",
   "metadata": {},
   "outputs": [],
   "source": [
    "def create_emb_model(embedding_dim=50):\n",
    "    model = Sequential(name=\"Neural Network with Embedded Layer\")\n",
    "    model.add(layers.Embedding(input_dim=vocab_size, \n",
    "                               output_dim=embedding_dim, \n",
    "                               input_length=maxlen))\n",
    "    model.add(layers.GlobalMaxPool1D())\n",
    "    model.add(layers.Dense(10, activation='relu'))\n",
    "    model.add(layers.Dense(3, activation='softmax'))\n",
    "    model.compile(optimizer='adam', loss='categorical_crossentropy', metrics=['accuracy'])\n",
    "    return model\n",
    "\n",
    "# define the grid search parameters\n",
    "cand_ep = [5, 10, 20][:1] #number of epochs\n",
    "cand_bs = [1024, 2048, 4096][2:] #batch size\n",
    "cand_ed = [50, 100, 200][:1] #dimension of output of embedding layer\n",
    "#OTHER HYPERPARAMETERS TO OPTIMIZE: Type of pooling\n",
    "\n",
    "model = KerasClassifier(build_fn=create_emb_model, verbose=0)\n",
    "param_grid = dict(batch_size=cand_bs, epochs=cand_ep, embedding_dim=cand_ed)\n",
    "grid = GridSearchCV(estimator=model, param_grid=param_grid, n_jobs=-1, cv=5)"
   ]
  },
  {
   "cell_type": "code",
   "execution_count": 105,
   "id": "separate-consensus",
   "metadata": {},
   "outputs": [],
   "source": [
    "s = time.time()\n",
    "grid_result = grid.fit(X_train, dummy_y_train)\n",
    "f = time.time()\n",
    "\n",
    "print(f-s)"
   ]
  },
  {
   "cell_type": "code",
   "execution_count": 106,
   "id": "annual-fifteen",
   "metadata": {},
   "outputs": [
    {
     "name": "stdout",
     "output_type": "stream",
     "text": [
      "Best: 0.894905 using {'batch_size': 4096, 'embedding_dim': 50, 'epochs': 5}\n",
      "Stored 'emb_cv_results0' (DataFrame)\n"
     ]
    },
    {
     "data": {
      "text/html": [
       "<div>\n",
       "<style scoped>\n",
       "    .dataframe tbody tr th:only-of-type {\n",
       "        vertical-align: middle;\n",
       "    }\n",
       "\n",
       "    .dataframe tbody tr th {\n",
       "        vertical-align: top;\n",
       "    }\n",
       "\n",
       "    .dataframe thead th {\n",
       "        text-align: right;\n",
       "    }\n",
       "</style>\n",
       "<table border=\"1\" class=\"dataframe\">\n",
       "  <thead>\n",
       "    <tr style=\"text-align: right;\">\n",
       "      <th></th>\n",
       "      <th>mean_test_score</th>\n",
       "      <th>std_test_score</th>\n",
       "      <th>mean_fit_time</th>\n",
       "      <th>mean_score_time</th>\n",
       "      <th>param_batch_size</th>\n",
       "      <th>param_embedding_dim</th>\n",
       "      <th>param_epochs</th>\n",
       "    </tr>\n",
       "    <tr>\n",
       "      <th>rank_test_score</th>\n",
       "      <th></th>\n",
       "      <th></th>\n",
       "      <th></th>\n",
       "      <th></th>\n",
       "      <th></th>\n",
       "      <th></th>\n",
       "      <th></th>\n",
       "    </tr>\n",
       "  </thead>\n",
       "  <tbody>\n",
       "    <tr>\n",
       "      <th>1</th>\n",
       "      <td>0.894905</td>\n",
       "      <td>0.036688</td>\n",
       "      <td>120.70791</td>\n",
       "      <td>2.476115</td>\n",
       "      <td>4096</td>\n",
       "      <td>50</td>\n",
       "      <td>5</td>\n",
       "    </tr>\n",
       "  </tbody>\n",
       "</table>\n",
       "</div>"
      ],
      "text/plain": [
       "                 mean_test_score  std_test_score  mean_fit_time  \\\n",
       "rank_test_score                                                   \n",
       "1                       0.894905        0.036688      120.70791   \n",
       "\n",
       "                 mean_score_time param_batch_size param_embedding_dim  \\\n",
       "rank_test_score                                                         \n",
       "1                       2.476115             4096                  50   \n",
       "\n",
       "                param_epochs  \n",
       "rank_test_score               \n",
       "1                          5  "
      ]
     },
     "execution_count": 106,
     "metadata": {},
     "output_type": "execute_result"
    }
   ],
   "source": [
    "# summarize results\n",
    "print(\"Best: %f using %s\" % (grid_result.best_score_, grid_result.best_params_))\n",
    "means = grid_result.cv_results_['mean_test_score']\n",
    "stds = grid_result.cv_results_['std_test_score']\n",
    "params = grid_result.cv_results_['params']\n",
    "\n",
    "cv_results = pd.DataFrame.from_dict(grid_result.cv_results_).sort_values(by=['rank_test_score']).set_index('rank_test_score')\n",
    "emb_cv_results0 = cv_results.drop(['std_fit_time', 'std_score_time', 'params', 'split0_test_score', 'split1_test_score', \n",
    "                              'split2_test_score', 'split3_test_score', 'split4_test_score'], 1)\n",
    "clist = list(emb_cv_results0.columns.values)\n",
    "emb_cv_results0 = emb_cv_results0[clist[-2:] + clist[:-2]]\n",
    "%store emb_cv_results0\n",
    "emb_cv_results0"
   ]
  },
  {
   "cell_type": "code",
   "execution_count": null,
   "id": "final-bearing",
   "metadata": {},
   "outputs": [],
   "source": []
  },
  {
   "cell_type": "code",
   "execution_count": 10,
   "id": "attached-poultry",
   "metadata": {},
   "outputs": [
    {
     "name": "stdout",
     "output_type": "stream",
     "text": [
      "Model: \"Neural Network with Embedded Layer\"\n",
      "_________________________________________________________________\n",
      "Layer (type)                 Output Shape              Param #   \n",
      "=================================================================\n",
      "embedding_2 (Embedding)      (None, 193, 50)           92400     \n",
      "_________________________________________________________________\n",
      "global_max_pooling1d_2 (Glob (None, 50)                0         \n",
      "_________________________________________________________________\n",
      "dense_4 (Dense)              (None, 10)                510       \n",
      "_________________________________________________________________\n",
      "dense_5 (Dense)              (None, 3)                 33        \n",
      "=================================================================\n",
      "Total params: 92,943\n",
      "Trainable params: 92,943\n",
      "Non-trainable params: 0\n",
      "_________________________________________________________________\n"
     ]
    }
   ],
   "source": [
    "model = create_emb_model(embedding_dim = 50)\n",
    "model.summary()"
   ]
  },
  {
   "cell_type": "code",
   "execution_count": 11,
   "id": "reduced-potato",
   "metadata": {},
   "outputs": [
    {
     "name": "stderr",
     "output_type": "stream",
     "text": [
      "C:\\Users\\Matteo\\anaconda3\\lib\\site-packages\\tensorflow\\python\\data\\ops\\dataset_ops.py:3503: UserWarning: Even though the tf.config.experimental_run_functions_eagerly option is set, this option does not apply to tf.data functions. tf.data functions are still traced and executed as graphs.\n",
      "  warnings.warn(\n"
     ]
    },
    {
     "name": "stdout",
     "output_type": "stream",
     "text": [
      "Epoch 1/5\n",
      "27/27 [==============================] - 10s 350ms/step - loss: 1.0890 - accuracy: 0.3750 - val_loss: 1.0529 - val_accuracy: 0.3788\n",
      "Epoch 2/5\n",
      "27/27 [==============================] - 8s 312ms/step - loss: 1.0347 - accuracy: 0.4237 - val_loss: 0.9511 - val_accuracy: 0.6043\n",
      "Epoch 3/5\n",
      "27/27 [==============================] - 9s 322ms/step - loss: 0.9031 - accuracy: 0.6497 - val_loss: 0.7409 - val_accuracy: 0.8071\n",
      "Epoch 4/5\n",
      "27/27 [==============================] - 10s 386ms/step - loss: 0.6854 - accuracy: 0.8379 - val_loss: 0.5228 - val_accuracy: 0.9010\n",
      "Epoch 5/5\n",
      "27/27 [==============================] - 11s 387ms/step - loss: 0.4764 - accuracy: 0.9108 - val_loss: 0.3560 - val_accuracy: 0.9258\n"
     ]
    }
   ],
   "source": [
    "history = model.fit(X_train, dummy_y_train, epochs=5, verbose=True, validation_data=(X_test, dummy_y_test), batch_size=4096)"
   ]
  },
  {
   "cell_type": "code",
   "execution_count": 12,
   "id": "miniature-estonia",
   "metadata": {},
   "outputs": [
    {
     "name": "stdout",
     "output_type": "stream",
     "text": [
      "Training Accuracy: 0.9284\n",
      "Testing Accuracy:  0.9258\n"
     ]
    }
   ],
   "source": [
    "loss, accuracy = model.evaluate(X_train, dummy_y_train, verbose=False)\n",
    "print(\"Training Accuracy: {:.4f}\".format(accuracy))\n",
    "loss, accuracy = model.evaluate(X_test, dummy_y_test, verbose=False)\n",
    "print(\"Testing Accuracy:  {:.4f}\".format(accuracy))"
   ]
  },
  {
   "cell_type": "code",
   "execution_count": 15,
   "id": "lasting-automation",
   "metadata": {},
   "outputs": [
    {
     "data": {
      "image/png": "[encoded data removed]",
      "text/plain": [
       "<Figure size 864x360 with 2 Axes>"
      ]
     },
     "metadata": {
      "needs_background": "light"
     },
     "output_type": "display_data"
    }
   ],
   "source": [
    "plot_history(history)"
   ]
  }
 ],
 "metadata": {
  "kernelspec": {
   "display_name": "Python 3",
   "language": "python",
   "name": "python3"
  },
  "language_info": {
   "codemirror_mode": {
    "name": "ipython",
    "version": 3
   },
   "file_extension": ".py",
   "mimetype": "text/x-python",
   "name": "python",
   "nbconvert_exporter": "python",
   "pygments_lexer": "ipython3",
   "version": "3.8.5"
  }
 },
 "nbformat": 4,
 "nbformat_minor": 5
}

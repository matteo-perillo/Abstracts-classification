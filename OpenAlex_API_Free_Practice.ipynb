{
  "nbformat": 4,
  "nbformat_minor": 0,
  "metadata": {
    "colab": {
      "provenance": [],
      "authorship_tag": "ABX9TyOlVAPy0xypc7Tr9iIkGm4F"
    },
    "kernelspec": {
      "name": "python3",
      "display_name": "Python 3"
    },
    "language_info": {
      "name": "python"
    }
  },
  "cells": [
    {
      "cell_type": "code",
      "source": [
        "from google.colab.output import eval_js\n",
        "import pandas as pd\n",
        "import numpy as np\n",
        "import requests\n",
        "import json"
      ],
      "metadata": {
        "id": "UfJoxroXDst-"
      },
      "execution_count": 20,
      "outputs": []
    },
    {
      "cell_type": "code",
      "source": [
        "OA = 'https://api.openalex.org/'"
      ],
      "metadata": {
        "id": "iAPFEBUTDUy5"
      },
      "execution_count": 21,
      "outputs": []
    },
    {
      "cell_type": "code",
      "execution_count": 8,
      "metadata": {
        "id": "Sm3RrswyDBqn"
      },
      "outputs": [],
      "source": [
        "institutions = requests.get(\n",
        "    OA + 'institutions'\n",
        ").json()"
      ]
    },
    {
      "cell_type": "code",
      "source": [
        "italian_institutions = requests.get(\n",
        "    OA + 'institutions?filter=country_code:IT&sort=works_count:desc'\n",
        ").json()"
      ],
      "metadata": {
        "id": "4N18Qtv6Iwn6"
      },
      "execution_count": 44,
      "outputs": []
    },
    {
      "cell_type": "code",
      "source": [
        "italian_insti_df = pd.DataFrame(italian_institutions['results'])\n",
        "italian_insti_df.columns.values.tolist()"
      ],
      "metadata": {
        "colab": {
          "base_uri": "https://localhost:8080/"
        },
        "id": "RzCu46q7JuDD",
        "outputId": "79949774-d57c-417b-bea3-c323963f543a"
      },
      "execution_count": 51,
      "outputs": [
        {
          "output_type": "execute_result",
          "data": {
            "text/plain": [
              "['id',\n",
              " 'ror',\n",
              " 'display_name',\n",
              " 'country_code',\n",
              " 'type',\n",
              " 'homepage_url',\n",
              " 'image_url',\n",
              " 'image_thumbnail_url',\n",
              " 'display_name_acronyms',\n",
              " 'display_name_alternatives',\n",
              " 'works_count',\n",
              " 'cited_by_count',\n",
              " 'ids',\n",
              " 'geo',\n",
              " 'international',\n",
              " 'associated_institutions',\n",
              " 'counts_by_year',\n",
              " 'x_concepts',\n",
              " 'works_api_url',\n",
              " 'updated_date',\n",
              " 'created_date']"
            ]
          },
          "metadata": {},
          "execution_count": 51
        }
      ]
    },
    {
      "cell_type": "code",
      "source": [
        "italian_insti_df[['display_name','works_count']]"
      ],
      "metadata": {
        "colab": {
          "base_uri": "https://localhost:8080/",
          "height": 833
        },
        "id": "VYpFrBtsNImE",
        "outputId": "44c1d157-db4c-48a9-9c2a-8c31658142c2"
      },
      "execution_count": 60,
      "outputs": [
        {
          "output_type": "execute_result",
          "data": {
            "text/plain": [
              "                               display_name  works_count\n",
              "0               Sapienza University of Rome       165568\n",
              "1                     University of Bologna       131963\n",
              "2                       University of Padua       130393\n",
              "3                       University of Milan       128790\n",
              "4          University of Naples Federico II        92541\n",
              "5                    University of Florence        87745\n",
              "6                       University of Turin        86333\n",
              "7                        University of Pisa        83281\n",
              "8                     Politecnico di Milano        67135\n",
              "9                       University of Genoa        66279\n",
              "10                      University of Pavia        61372\n",
              "11           University of Rome Tor Vergata        61277\n",
              "12             University of Bari Aldo Moro        52915\n",
              "13                    University of Palermo        51098\n",
              "14          Polytechnic University of Turin        50216\n",
              "15                    University of Catania        46860\n",
              "16                    University of Perugia        46413\n",
              "17  Catholic University of the Sacred Heart        43371\n",
              "18                      University of Parma        43095\n",
              "19                      University of Siena        39851\n",
              "20                     University of Verona        39041\n",
              "21   University of Modena and Reggio Emilia        38315\n",
              "22             University of Milano-Bicocca        38223\n",
              "23                    University of Messina        34996\n",
              "24                    University of Ferrara        34902"
            ],
            "text/html": [
              "\n",
              "  <div id=\"df-755323a3-4f8e-4ea3-92b0-8b69e4684027\">\n",
              "    <div class=\"colab-df-container\">\n",
              "      <div>\n",
              "<style scoped>\n",
              "    .dataframe tbody tr th:only-of-type {\n",
              "        vertical-align: middle;\n",
              "    }\n",
              "\n",
              "    .dataframe tbody tr th {\n",
              "        vertical-align: top;\n",
              "    }\n",
              "\n",
              "    .dataframe thead th {\n",
              "        text-align: right;\n",
              "    }\n",
              "</style>\n",
              "<table border=\"1\" class=\"dataframe\">\n",
              "  <thead>\n",
              "    <tr style=\"text-align: right;\">\n",
              "      <th></th>\n",
              "      <th>display_name</th>\n",
              "      <th>works_count</th>\n",
              "    </tr>\n",
              "  </thead>\n",
              "  <tbody>\n",
              "    <tr>\n",
              "      <th>0</th>\n",
              "      <td>Sapienza University of Rome</td>\n",
              "      <td>165568</td>\n",
              "    </tr>\n",
              "    <tr>\n",
              "      <th>1</th>\n",
              "      <td>University of Bologna</td>\n",
              "      <td>131963</td>\n",
              "    </tr>\n",
              "    <tr>\n",
              "      <th>2</th>\n",
              "      <td>University of Padua</td>\n",
              "      <td>130393</td>\n",
              "    </tr>\n",
              "    <tr>\n",
              "      <th>3</th>\n",
              "      <td>University of Milan</td>\n",
              "      <td>128790</td>\n",
              "    </tr>\n",
              "    <tr>\n",
              "      <th>4</th>\n",
              "      <td>University of Naples Federico II</td>\n",
              "      <td>92541</td>\n",
              "    </tr>\n",
              "    <tr>\n",
              "      <th>5</th>\n",
              "      <td>University of Florence</td>\n",
              "      <td>87745</td>\n",
              "    </tr>\n",
              "    <tr>\n",
              "      <th>6</th>\n",
              "      <td>University of Turin</td>\n",
              "      <td>86333</td>\n",
              "    </tr>\n",
              "    <tr>\n",
              "      <th>7</th>\n",
              "      <td>University of Pisa</td>\n",
              "      <td>83281</td>\n",
              "    </tr>\n",
              "    <tr>\n",
              "      <th>8</th>\n",
              "      <td>Politecnico di Milano</td>\n",
              "      <td>67135</td>\n",
              "    </tr>\n",
              "    <tr>\n",
              "      <th>9</th>\n",
              "      <td>University of Genoa</td>\n",
              "      <td>66279</td>\n",
              "    </tr>\n",
              "    <tr>\n",
              "      <th>10</th>\n",
              "      <td>University of Pavia</td>\n",
              "      <td>61372</td>\n",
              "    </tr>\n",
              "    <tr>\n",
              "      <th>11</th>\n",
              "      <td>University of Rome Tor Vergata</td>\n",
              "      <td>61277</td>\n",
              "    </tr>\n",
              "    <tr>\n",
              "      <th>12</th>\n",
              "      <td>University of Bari Aldo Moro</td>\n",
              "      <td>52915</td>\n",
              "    </tr>\n",
              "    <tr>\n",
              "      <th>13</th>\n",
              "      <td>University of Palermo</td>\n",
              "      <td>51098</td>\n",
              "    </tr>\n",
              "    <tr>\n",
              "      <th>14</th>\n",
              "      <td>Polytechnic University of Turin</td>\n",
              "      <td>50216</td>\n",
              "    </tr>\n",
              "    <tr>\n",
              "      <th>15</th>\n",
              "      <td>University of Catania</td>\n",
              "      <td>46860</td>\n",
              "    </tr>\n",
              "    <tr>\n",
              "      <th>16</th>\n",
              "      <td>University of Perugia</td>\n",
              "      <td>46413</td>\n",
              "    </tr>\n",
              "    <tr>\n",
              "      <th>17</th>\n",
              "      <td>Catholic University of the Sacred Heart</td>\n",
              "      <td>43371</td>\n",
              "    </tr>\n",
              "    <tr>\n",
              "      <th>18</th>\n",
              "      <td>University of Parma</td>\n",
              "      <td>43095</td>\n",
              "    </tr>\n",
              "    <tr>\n",
              "      <th>19</th>\n",
              "      <td>University of Siena</td>\n",
              "      <td>39851</td>\n",
              "    </tr>\n",
              "    <tr>\n",
              "      <th>20</th>\n",
              "      <td>University of Verona</td>\n",
              "      <td>39041</td>\n",
              "    </tr>\n",
              "    <tr>\n",
              "      <th>21</th>\n",
              "      <td>University of Modena and Reggio Emilia</td>\n",
              "      <td>38315</td>\n",
              "    </tr>\n",
              "    <tr>\n",
              "      <th>22</th>\n",
              "      <td>University of Milano-Bicocca</td>\n",
              "      <td>38223</td>\n",
              "    </tr>\n",
              "    <tr>\n",
              "      <th>23</th>\n",
              "      <td>University of Messina</td>\n",
              "      <td>34996</td>\n",
              "    </tr>\n",
              "    <tr>\n",
              "      <th>24</th>\n",
              "      <td>University of Ferrara</td>\n",
              "      <td>34902</td>\n",
              "    </tr>\n",
              "  </tbody>\n",
              "</table>\n",
              "</div>\n",
              "      <button class=\"colab-df-convert\" onclick=\"convertToInteractive('df-755323a3-4f8e-4ea3-92b0-8b69e4684027')\"\n",
              "              title=\"Convert this dataframe to an interactive table.\"\n",
              "              style=\"display:none;\">\n",
              "        \n",
              "  <svg xmlns=\"http://www.w3.org/2000/svg\" height=\"24px\"viewBox=\"0 0 24 24\"\n",
              "       width=\"24px\">\n",
              "    <path d=\"M0 0h24v24H0V0z\" fill=\"none\"/>\n",
              "    <path d=\"M18.56 5.44l.94 2.06.94-2.06 2.06-.94-2.06-.94-.94-2.06-.94 2.06-2.06.94zm-11 1L8.5 8.5l.94-2.06 2.06-.94-2.06-.94L8.5 2.5l-.94 2.06-2.06.94zm10 10l.94 2.06.94-2.06 2.06-.94-2.06-.94-.94-2.06-.94 2.06-2.06.94z\"/><path d=\"M17.41 7.96l-1.37-1.37c-.4-.4-.92-.59-1.43-.59-.52 0-1.04.2-1.43.59L10.3 9.45l-7.72 7.72c-.78.78-.78 2.05 0 2.83L4 21.41c.39.39.9.59 1.41.59.51 0 1.02-.2 1.41-.59l7.78-7.78 2.81-2.81c.8-.78.8-2.07 0-2.86zM5.41 20L4 18.59l7.72-7.72 1.47 1.35L5.41 20z\"/>\n",
              "  </svg>\n",
              "      </button>\n",
              "      \n",
              "  <style>\n",
              "    .colab-df-container {\n",
              "      display:flex;\n",
              "      flex-wrap:wrap;\n",
              "      gap: 12px;\n",
              "    }\n",
              "\n",
              "    .colab-df-convert {\n",
              "      background-color: #E8F0FE;\n",
              "      border: none;\n",
              "      border-radius: 50%;\n",
              "      cursor: pointer;\n",
              "      display: none;\n",
              "      fill: #1967D2;\n",
              "      height: 32px;\n",
              "      padding: 0 0 0 0;\n",
              "      width: 32px;\n",
              "    }\n",
              "\n",
              "    .colab-df-convert:hover {\n",
              "      background-color: #E2EBFA;\n",
              "      box-shadow: 0px 1px 2px rgba(60, 64, 67, 0.3), 0px 1px 3px 1px rgba(60, 64, 67, 0.15);\n",
              "      fill: #174EA6;\n",
              "    }\n",
              "\n",
              "    [theme=dark] .colab-df-convert {\n",
              "      background-color: #3B4455;\n",
              "      fill: #D2E3FC;\n",
              "    }\n",
              "\n",
              "    [theme=dark] .colab-df-convert:hover {\n",
              "      background-color: #434B5C;\n",
              "      box-shadow: 0px 1px 3px 1px rgba(0, 0, 0, 0.15);\n",
              "      filter: drop-shadow(0px 1px 2px rgba(0, 0, 0, 0.3));\n",
              "      fill: #FFFFFF;\n",
              "    }\n",
              "  </style>\n",
              "\n",
              "      <script>\n",
              "        const buttonEl =\n",
              "          document.querySelector('#df-755323a3-4f8e-4ea3-92b0-8b69e4684027 button.colab-df-convert');\n",
              "        buttonEl.style.display =\n",
              "          google.colab.kernel.accessAllowed ? 'block' : 'none';\n",
              "\n",
              "        async function convertToInteractive(key) {\n",
              "          const element = document.querySelector('#df-755323a3-4f8e-4ea3-92b0-8b69e4684027');\n",
              "          const dataTable =\n",
              "            await google.colab.kernel.invokeFunction('convertToInteractive',\n",
              "                                                     [key], {});\n",
              "          if (!dataTable) return;\n",
              "\n",
              "          const docLinkHtml = 'Like what you see? Visit the ' +\n",
              "            '<a target=\"_blank\" href=https://colab.research.google.com/notebooks/data_table.ipynb>data table notebook</a>'\n",
              "            + ' to learn more about interactive tables.';\n",
              "          element.innerHTML = '';\n",
              "          dataTable['output_type'] = 'display_data';\n",
              "          await google.colab.output.renderOutput(dataTable, element);\n",
              "          const docLink = document.createElement('div');\n",
              "          docLink.innerHTML = docLinkHtml;\n",
              "          element.appendChild(docLink);\n",
              "        }\n",
              "      </script>\n",
              "    </div>\n",
              "  </div>\n",
              "  "
            ]
          },
          "metadata": {},
          "execution_count": 60
        }
      ]
    },
    {
      "cell_type": "code",
      "source": [
        "institutions['meta']"
      ],
      "metadata": {
        "colab": {
          "base_uri": "https://localhost:8080/"
        },
        "id": "xqaoQ9ceHm3j",
        "outputId": "fb3360b1-2c06-4894-f417-0dc9fee04568"
      },
      "execution_count": 36,
      "outputs": [
        {
          "output_type": "execute_result",
          "data": {
            "text/plain": [
              "{'count': 108667, 'db_response_time_ms': 31, 'page': 1, 'per_page': 25}"
            ]
          },
          "metadata": {},
          "execution_count": 36
        }
      ]
    },
    {
      "cell_type": "code",
      "source": [
        "len(institutions['results'])"
      ],
      "metadata": {
        "colab": {
          "base_uri": "https://localhost:8080/"
        },
        "id": "AD9zIMZvIICM",
        "outputId": "56bdcab4-76c9-4287-a242-cfcd44034969"
      },
      "execution_count": 25,
      "outputs": [
        {
          "output_type": "execute_result",
          "data": {
            "text/plain": [
              "25"
            ]
          },
          "metadata": {},
          "execution_count": 25
        }
      ]
    },
    {
      "cell_type": "code",
      "source": [
        "pd.DataFrame(institutions['results'])"
      ],
      "metadata": {
        "id": "BCpAMDSuEGn8"
      },
      "execution_count": null,
      "outputs": []
    },
    {
      "cell_type": "code",
      "source": [
        "01111rn36"
      ],
      "metadata": {
        "id": "dLKy7ALdItfB"
      },
      "execution_count": null,
      "outputs": []
    },
    {
      "cell_type": "code",
      "source": [],
      "metadata": {
        "id": "KtLmuj5MIZqe"
      },
      "execution_count": null,
      "outputs": []
    }
  ]
}
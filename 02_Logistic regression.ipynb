{
  "cells": [
    {
      "cell_type": "code",
      "execution_count": 62,
      "id": "positive-position",
      "metadata": {
        "id": "positive-position"
      },
      "outputs": [],
      "source": [
        "#Import libraries to access data from Google Drive\n",
        "from google.colab import files\n",
        "from pydrive.auth import GoogleAuth\n",
        "from pydrive.drive import GoogleDrive\n",
        "from google.colab import auth\n",
        "from oauth2client.client import GoogleCredentials\n",
        "\n",
        "#Import libraries for data manipulation and for tuning, training and assessing the LR model\n",
        "import numpy as np\n",
        "import pandas as pd\n",
        "import time\n",
        "from numpy import mean\n",
        "from numpy import std\n",
        "from sklearn.model_selection import train_test_split, cross_val_score, KFold, GridSearchCV\n",
        "from sklearn.datasets import make_classification\n",
        "from sklearn.linear_model import LogisticRegression\n",
        "from sklearn.metrics import accuracy_score, confusion_matrix\n",
        "from sklearn.feature_extraction.text import TfidfVectorizer, CountVectorizer\n",
        "\n",
        "#Import libraries to plot the results\n",
        "import matplotlib.pyplot as plt\n",
        "import itertools"
      ]
    },
    {
      "cell_type": "code",
      "source": [
        "auth.authenticate_user()\n",
        "gauth = GoogleAuth()\n",
        "gauth.credentials = GoogleCredentials.get_application_default()\n",
        "drive = GoogleDrive(gauth)\n",
        "downloaded = drive.CreateFile({'id':\"1rJUCyDztqA321Uo690atZCQYS8Q1Y6XN\"})\n",
        "downloaded.GetContentFile('preprocessed_data.csv')\n",
        "data_ready = pd.read_csv('preprocessed_data.csv')"
      ],
      "metadata": {
        "id": "g7KPFTlEmjku"
      },
      "id": "g7KPFTlEmjku",
      "execution_count": 63,
      "outputs": []
    },
    {
      "cell_type": "code",
      "execution_count": 64,
      "id": "disabled-raise",
      "metadata": {
        "id": "disabled-raise"
      },
      "outputs": [],
      "source": [
        "#print(data_ready['category'].value_counts())\n",
        "cat_index = data_ready['category'].value_counts().index"
      ]
    },
    {
      "cell_type": "code",
      "source": [
        "par = ['C']\n",
        "val = ['1e-4, 1e-3, 1e-2, 1e-1, 1, 0']\n",
        "\n",
        "d = {'Parametro': par, 'Valori possibili': val}\n",
        "hyperp_grid = pd.DataFrame(d)\n",
        "\n",
        "hyperp_grid.to_csv('hyperp_grid.csv', encoding = 'utf-8-sig') \n",
        "files.download('hyperp_grid.csv')"
      ],
      "metadata": {
        "colab": {
          "base_uri": "https://localhost:8080/",
          "height": 17
        },
        "id": "QBXofGpuPEeB",
        "outputId": "187163c8-bb89-4dd8-da9c-1b4d313e3102"
      },
      "id": "QBXofGpuPEeB",
      "execution_count": 86,
      "outputs": [
        {
          "output_type": "display_data",
          "data": {
            "text/plain": [
              "<IPython.core.display.Javascript object>"
            ],
            "application/javascript": [
              "\n",
              "    async function download(id, filename, size) {\n",
              "      if (!google.colab.kernel.accessAllowed) {\n",
              "        return;\n",
              "      }\n",
              "      const div = document.createElement('div');\n",
              "      const label = document.createElement('label');\n",
              "      label.textContent = `Downloading \"${filename}\": `;\n",
              "      div.appendChild(label);\n",
              "      const progress = document.createElement('progress');\n",
              "      progress.max = size;\n",
              "      div.appendChild(progress);\n",
              "      document.body.appendChild(div);\n",
              "\n",
              "      const buffers = [];\n",
              "      let downloaded = 0;\n",
              "\n",
              "      const channel = await google.colab.kernel.comms.open(id);\n",
              "      // Send a message to notify the kernel that we're ready.\n",
              "      channel.send({})\n",
              "\n",
              "      for await (const message of channel.messages) {\n",
              "        // Send a message to notify the kernel that we're ready.\n",
              "        channel.send({})\n",
              "        if (message.buffers) {\n",
              "          for (const buffer of message.buffers) {\n",
              "            buffers.push(buffer);\n",
              "            downloaded += buffer.byteLength;\n",
              "            progress.value = downloaded;\n",
              "          }\n",
              "        }\n",
              "      }\n",
              "      const blob = new Blob(buffers, {type: 'application/binary'});\n",
              "      const a = document.createElement('a');\n",
              "      a.href = window.URL.createObjectURL(blob);\n",
              "      a.download = filename;\n",
              "      div.appendChild(a);\n",
              "      a.click();\n",
              "      div.remove();\n",
              "    }\n",
              "  "
            ]
          },
          "metadata": {}
        },
        {
          "output_type": "display_data",
          "data": {
            "text/plain": [
              "<IPython.core.display.Javascript object>"
            ],
            "application/javascript": [
              "download(\"download_3967263a-a069-4bfd-b0d6-5876f00296e3\", \"hyperp_grid.csv\", 66)"
            ]
          },
          "metadata": {}
        }
      ]
    },
    {
      "cell_type": "code",
      "execution_count": 65,
      "id": "collectible-louisiana",
      "metadata": {
        "id": "collectible-louisiana"
      },
      "outputs": [],
      "source": [
        "def create_lr_model():\n",
        "    model = LogisticRegression(multi_class='multinomial', solver='lbfgs', max_iter = 10000)\n",
        "    return model\n",
        "\n",
        "def plot_confusion_matrix(cm, target_names, title='Confusion matrix', xsize=4, ysize=3,\n",
        "                          cmap=None, normalize=True, name='prova'):\n",
        "    accuracy = np.trace(cm) / np.sum(cm).astype('float')\n",
        "    misclass = 1 - accuracy\n",
        "\n",
        "    if cmap is None:\n",
        "        cmap = plt.get_cmap('Blues')\n",
        "\n",
        "    plt.figure(figsize=(xsize, ysize))\n",
        "    plt.imshow(cm, interpolation='nearest', cmap=cmap)\n",
        "    plt.title(title)\n",
        "  #  plt.colorbar()\n",
        "\n",
        "    if target_names is not None:\n",
        "        tick_marks = np.arange(len(target_names))\n",
        "        plt.xticks(tick_marks, target_names, rotation=45)\n",
        "        plt.yticks(tick_marks, target_names)\n",
        "\n",
        "    if normalize:\n",
        "        cm = cm.astype('float') / cm.sum(axis=1)[:, np.newaxis]\n",
        "\n",
        "\n",
        "    thresh = cm.max() / 1.5 if normalize else cm.max() / 2\n",
        "    for i, j in itertools.product(range(cm.shape[0]), range(cm.shape[1])):\n",
        "        if normalize:\n",
        "            plt.text(j, i, \"{:0.3f}\".format(cm[i, j]),\n",
        "                     horizontalalignment=\"center\",\n",
        "                     color=\"white\" if cm[i, j] > thresh else \"black\")\n",
        "        else:\n",
        "            plt.text(j, i, \"{:,}\".format(cm[i, j]),\n",
        "                     horizontalalignment=\"center\",\n",
        "                     color=\"white\" if cm[i, j] > thresh else \"black\")\n",
        "\n",
        "\n",
        "    plt.tight_layout()\n",
        "    plt.ylabel('True label')\n",
        "    plt.xlabel('Predicted label\\naccuracy={:0.3f}; misclass={:0.3f}'.format(accuracy, misclass))\n",
        "    filename = name + '.png'\n",
        "    plt.savefig(filename, bbox_inches = 'tight')"
      ]
    },
    {
      "cell_type": "markdown",
      "id": "magnetic-booking",
      "metadata": {
        "id": "magnetic-booking"
      },
      "source": [
        "Set 0"
      ]
    },
    {
      "cell_type": "code",
      "execution_count": null,
      "id": "assisted-edwards",
      "metadata": {
        "colab": {
          "base_uri": "https://localhost:8080/"
        },
        "id": "assisted-edwards",
        "outputId": "f40a00ba-3fc9-40be-ee64-7698de5d054f"
      },
      "outputs": [
        {
          "output_type": "stream",
          "name": "stdout",
          "text": [
            "hep-ph      50603\n",
            "quant-ph    44678\n",
            "hep-th      39013\n",
            "Name: category, dtype: int64\n"
          ]
        }
      ],
      "source": [
        "select_data = data_ready[data_ready['category'].isin(cat_index[0:3])].dropna().reset_index(drop=True)\n",
        "print(select_data['category'].value_counts())\n",
        "\n",
        "#SPLITTING THE TRAINING DATASET INTO TRAIN AND TEST\n",
        "X_train, X_test, y_train, y_test = train_test_split(select_data[\"clean_text\"], select_data[\"category\"], random_state = 1000,\n",
        "                                                    stratify = select_data[\"category\"], test_size=0.2, shuffle=True)\n",
        "\n",
        "#Tf-Idf\n",
        "tfidf_vectorizer = TfidfVectorizer(use_idf=True)\n",
        "X_train = tfidf_vectorizer.fit_transform(X_train) \n",
        "X_test = tfidf_vectorizer.transform(X_test)\n",
        "\n",
        "X_train.sort_indices()\n",
        "X_test.sort_indices()"
      ]
    },
    {
      "cell_type": "markdown",
      "id": "circular-andrews",
      "metadata": {
        "id": "circular-andrews"
      },
      "source": [
        "Tune regularization for multinomial logistic regression"
      ]
    },
    {
      "cell_type": "code",
      "execution_count": null,
      "id": "consistent-secretariat",
      "metadata": {
        "id": "consistent-secretariat"
      },
      "outputs": [],
      "source": [
        "model = create_lr_model()\n",
        "\n",
        "# define the grid search parameters\n",
        "cand_pt = ['none', 'l2']\n",
        "cand_rs = [0.0001, 0.001, 0.01, 0.1, 1.0]\n",
        "#cand_mi = [10, 100, 1000, 10000][1:2]\n",
        "\n",
        "param_grid0 = dict(penalty=cand_pt[1:2], C=cand_rs)\n",
        "param_grid1 = dict(penalty=cand_pt[0:1])\n",
        "\n",
        "grid0 = GridSearchCV(estimator=model, param_grid=param_grid0, n_jobs=-1, cv=5)\n",
        "grid1 = GridSearchCV(estimator=model, param_grid=param_grid1, n_jobs=-1, cv=5)"
      ]
    },
    {
      "cell_type": "code",
      "source": [
        "s = time.time()\n",
        "grid_results_l2 = grid0.fit(X_train, y_train)\n",
        "f = time.time()\n",
        "el_t = f-s\n",
        "\n",
        "cv_results_l2 = pd.DataFrame.from_dict(grid_results_l2.cv_results_)\n",
        "\n",
        "print(\"Best accuracy with l2 regularization: %f using %s\" % (grid_results_l2.best_score_, grid_results_l2.best_params_))\n",
        "print(\"\\n\")\n",
        "print(\"Time needed for the estimation: %f\" % (el_t))"
      ],
      "metadata": {
        "colab": {
          "base_uri": "https://localhost:8080/"
        },
        "id": "nBLvLWzaV0yH",
        "outputId": "5fa51628-0f83-4ffd-84ac-b2f3fade7d8f"
      },
      "id": "nBLvLWzaV0yH",
      "execution_count": null,
      "outputs": [
        {
          "output_type": "stream",
          "name": "stdout",
          "text": [
            "Best accuracy with l2 regularization: 0.950835 using {'C': 1.0, 'penalty': 'l2'}\n",
            "\n",
            "\n",
            "Time needed for the estimation: 240.488342\n"
          ]
        }
      ]
    },
    {
      "cell_type": "code",
      "source": [
        "s = time.time()\n",
        "grid_results_noreg = grid1.fit(X_train, y_train)\n",
        "f = time.time()\n",
        "el_t = f-s\n",
        "\n",
        "cv_results_noreg = pd.DataFrame.from_dict(grid_results_noreg.cv_results_)\n",
        "\n",
        "print(\"Best accuracy without regularization: %f using %s\" % (grid_results_noreg.best_score_, grid_results_noreg.best_params_))\n",
        "print(\"\\n\")\n",
        "print(\"Time needed for the estimation: %f\" % (el_t))"
      ],
      "metadata": {
        "colab": {
          "base_uri": "https://localhost:8080/"
        },
        "id": "kh8mGb-oV6j8",
        "outputId": "f567a439-02a7-4b78-f0f6-ff5bebe8a095"
      },
      "id": "kh8mGb-oV6j8",
      "execution_count": null,
      "outputs": [
        {
          "output_type": "stream",
          "name": "stdout",
          "text": [
            "Best accuracy without regularization: 0.927221 using {'penalty': 'none'}\n",
            "\n",
            "\n",
            "Time needed for the estimation: 429.227810\n"
          ]
        }
      ]
    },
    {
      "cell_type": "code",
      "execution_count": null,
      "id": "miniature-genetics",
      "metadata": {
        "collapsed": true,
        "colab": {
          "base_uri": "https://localhost:8080/",
          "height": 292
        },
        "id": "miniature-genetics",
        "outputId": "2ac44ea0-7bee-4eb0-a4c1-0cf809d070c2"
      },
      "outputs": [
        {
          "output_type": "stream",
          "name": "stderr",
          "text": [
            "/usr/local/lib/python3.7/dist-packages/ipykernel_launcher.py:4: FutureWarning: In a future version of pandas all arguments of DataFrame.drop except for the argument 'labels' will be keyword-only\n",
            "  after removing the cwd from sys.path.\n"
          ]
        },
        {
          "output_type": "execute_result",
          "data": {
            "text/plain": [
              "   mean_fit_time  mean_score_time param_C param_penalty  mean_test_score  \\\n",
              "4      35.505407         0.055061     1.0            l2         0.950835   \n",
              "3      18.735413         0.062525     0.1            l2         0.941537   \n",
              "2       9.915868         0.062417    0.01            l2         0.929232   \n",
              "5      79.519181         0.058207     NaN          none         0.927221   \n",
              "1       5.870612         0.101452   0.001            l2         0.871606   \n",
              "0       3.003658         0.060814  0.0001            l2         0.386652   \n",
              "\n",
              "   std_test_score  \n",
              "4        0.000866  \n",
              "3        0.001754  \n",
              "2        0.001810  \n",
              "5        0.001160  \n",
              "1        0.001901  \n",
              "0        0.000318  "
            ],
            "text/html": [
              "\n",
              "  <div id=\"df-501bdf7b-9efa-47ee-82b1-9d1d46c370d8\">\n",
              "    <div class=\"colab-df-container\">\n",
              "      <div>\n",
              "<style scoped>\n",
              "    .dataframe tbody tr th:only-of-type {\n",
              "        vertical-align: middle;\n",
              "    }\n",
              "\n",
              "    .dataframe tbody tr th {\n",
              "        vertical-align: top;\n",
              "    }\n",
              "\n",
              "    .dataframe thead th {\n",
              "        text-align: right;\n",
              "    }\n",
              "</style>\n",
              "<table border=\"1\" class=\"dataframe\">\n",
              "  <thead>\n",
              "    <tr style=\"text-align: right;\">\n",
              "      <th></th>\n",
              "      <th>mean_fit_time</th>\n",
              "      <th>mean_score_time</th>\n",
              "      <th>param_C</th>\n",
              "      <th>param_penalty</th>\n",
              "      <th>mean_test_score</th>\n",
              "      <th>std_test_score</th>\n",
              "    </tr>\n",
              "  </thead>\n",
              "  <tbody>\n",
              "    <tr>\n",
              "      <th>4</th>\n",
              "      <td>35.505407</td>\n",
              "      <td>0.055061</td>\n",
              "      <td>1.0</td>\n",
              "      <td>l2</td>\n",
              "      <td>0.950835</td>\n",
              "      <td>0.000866</td>\n",
              "    </tr>\n",
              "    <tr>\n",
              "      <th>3</th>\n",
              "      <td>18.735413</td>\n",
              "      <td>0.062525</td>\n",
              "      <td>0.1</td>\n",
              "      <td>l2</td>\n",
              "      <td>0.941537</td>\n",
              "      <td>0.001754</td>\n",
              "    </tr>\n",
              "    <tr>\n",
              "      <th>2</th>\n",
              "      <td>9.915868</td>\n",
              "      <td>0.062417</td>\n",
              "      <td>0.01</td>\n",
              "      <td>l2</td>\n",
              "      <td>0.929232</td>\n",
              "      <td>0.001810</td>\n",
              "    </tr>\n",
              "    <tr>\n",
              "      <th>5</th>\n",
              "      <td>79.519181</td>\n",
              "      <td>0.058207</td>\n",
              "      <td>NaN</td>\n",
              "      <td>none</td>\n",
              "      <td>0.927221</td>\n",
              "      <td>0.001160</td>\n",
              "    </tr>\n",
              "    <tr>\n",
              "      <th>1</th>\n",
              "      <td>5.870612</td>\n",
              "      <td>0.101452</td>\n",
              "      <td>0.001</td>\n",
              "      <td>l2</td>\n",
              "      <td>0.871606</td>\n",
              "      <td>0.001901</td>\n",
              "    </tr>\n",
              "    <tr>\n",
              "      <th>0</th>\n",
              "      <td>3.003658</td>\n",
              "      <td>0.060814</td>\n",
              "      <td>0.0001</td>\n",
              "      <td>l2</td>\n",
              "      <td>0.386652</td>\n",
              "      <td>0.000318</td>\n",
              "    </tr>\n",
              "  </tbody>\n",
              "</table>\n",
              "</div>\n",
              "      <button class=\"colab-df-convert\" onclick=\"convertToInteractive('df-501bdf7b-9efa-47ee-82b1-9d1d46c370d8')\"\n",
              "              title=\"Convert this dataframe to an interactive table.\"\n",
              "              style=\"display:none;\">\n",
              "        \n",
              "  <svg xmlns=\"http://www.w3.org/2000/svg\" height=\"24px\"viewBox=\"0 0 24 24\"\n",
              "       width=\"24px\">\n",
              "    <path d=\"M0 0h24v24H0V0z\" fill=\"none\"/>\n",
              "    <path d=\"M18.56 5.44l.94 2.06.94-2.06 2.06-.94-2.06-.94-.94-2.06-.94 2.06-2.06.94zm-11 1L8.5 8.5l.94-2.06 2.06-.94-2.06-.94L8.5 2.5l-.94 2.06-2.06.94zm10 10l.94 2.06.94-2.06 2.06-.94-2.06-.94-.94-2.06-.94 2.06-2.06.94z\"/><path d=\"M17.41 7.96l-1.37-1.37c-.4-.4-.92-.59-1.43-.59-.52 0-1.04.2-1.43.59L10.3 9.45l-7.72 7.72c-.78.78-.78 2.05 0 2.83L4 21.41c.39.39.9.59 1.41.59.51 0 1.02-.2 1.41-.59l7.78-7.78 2.81-2.81c.8-.78.8-2.07 0-2.86zM5.41 20L4 18.59l7.72-7.72 1.47 1.35L5.41 20z\"/>\n",
              "  </svg>\n",
              "      </button>\n",
              "      \n",
              "  <style>\n",
              "    .colab-df-container {\n",
              "      display:flex;\n",
              "      flex-wrap:wrap;\n",
              "      gap: 12px;\n",
              "    }\n",
              "\n",
              "    .colab-df-convert {\n",
              "      background-color: #E8F0FE;\n",
              "      border: none;\n",
              "      border-radius: 50%;\n",
              "      cursor: pointer;\n",
              "      display: none;\n",
              "      fill: #1967D2;\n",
              "      height: 32px;\n",
              "      padding: 0 0 0 0;\n",
              "      width: 32px;\n",
              "    }\n",
              "\n",
              "    .colab-df-convert:hover {\n",
              "      background-color: #E2EBFA;\n",
              "      box-shadow: 0px 1px 2px rgba(60, 64, 67, 0.3), 0px 1px 3px 1px rgba(60, 64, 67, 0.15);\n",
              "      fill: #174EA6;\n",
              "    }\n",
              "\n",
              "    [theme=dark] .colab-df-convert {\n",
              "      background-color: #3B4455;\n",
              "      fill: #D2E3FC;\n",
              "    }\n",
              "\n",
              "    [theme=dark] .colab-df-convert:hover {\n",
              "      background-color: #434B5C;\n",
              "      box-shadow: 0px 1px 3px 1px rgba(0, 0, 0, 0.15);\n",
              "      filter: drop-shadow(0px 1px 2px rgba(0, 0, 0, 0.3));\n",
              "      fill: #FFFFFF;\n",
              "    }\n",
              "  </style>\n",
              "\n",
              "      <script>\n",
              "        const buttonEl =\n",
              "          document.querySelector('#df-501bdf7b-9efa-47ee-82b1-9d1d46c370d8 button.colab-df-convert');\n",
              "        buttonEl.style.display =\n",
              "          google.colab.kernel.accessAllowed ? 'block' : 'none';\n",
              "\n",
              "        async function convertToInteractive(key) {\n",
              "          const element = document.querySelector('#df-501bdf7b-9efa-47ee-82b1-9d1d46c370d8');\n",
              "          const dataTable =\n",
              "            await google.colab.kernel.invokeFunction('convertToInteractive',\n",
              "                                                     [key], {});\n",
              "          if (!dataTable) return;\n",
              "\n",
              "          const docLinkHtml = 'Like what you see? Visit the ' +\n",
              "            '<a target=\"_blank\" href=https://colab.research.google.com/notebooks/data_table.ipynb>data table notebook</a>'\n",
              "            + ' to learn more about interactive tables.';\n",
              "          element.innerHTML = '';\n",
              "          dataTable['output_type'] = 'display_data';\n",
              "          await google.colab.output.renderOutput(dataTable, element);\n",
              "          const docLink = document.createElement('div');\n",
              "          docLink.innerHTML = docLinkHtml;\n",
              "          element.appendChild(docLink);\n",
              "        }\n",
              "      </script>\n",
              "    </div>\n",
              "  </div>\n",
              "  "
            ]
          },
          "metadata": {},
          "execution_count": 36
        }
      ],
      "source": [
        "cv_results = pd.concat([cv_results_l2, cv_results_noreg]).reset_index(drop=True)\n",
        "cv_results = cv_results.sort_values(by=['mean_test_score'], ascending=False)\n",
        "cv_results_set0_lr = cv_results.drop(['std_fit_time', 'std_score_time', 'params', 'split0_test_score', 'split1_test_score', \n",
        "                              'split2_test_score', 'split3_test_score', 'split4_test_score', 'rank_test_score'], 1)\n",
        "cv_results_set0_lr"
      ]
    },
    {
      "cell_type": "code",
      "source": [
        "cv_results_set0_lr.to_csv('cv_results_set0_lr.csv', encoding = 'utf-8-sig') \n",
        "files.download('cv_results_set0_lr.csv')"
      ],
      "metadata": {
        "colab": {
          "base_uri": "https://localhost:8080/",
          "height": 17
        },
        "id": "6GBkZ7GsiR5q",
        "outputId": "ac81a75a-7d22-4b02-9ecd-4b33f35bfba3"
      },
      "id": "6GBkZ7GsiR5q",
      "execution_count": null,
      "outputs": [
        {
          "output_type": "display_data",
          "data": {
            "text/plain": [
              "<IPython.core.display.Javascript object>"
            ],
            "application/javascript": [
              "\n",
              "    async function download(id, filename, size) {\n",
              "      if (!google.colab.kernel.accessAllowed) {\n",
              "        return;\n",
              "      }\n",
              "      const div = document.createElement('div');\n",
              "      const label = document.createElement('label');\n",
              "      label.textContent = `Downloading \"${filename}\": `;\n",
              "      div.appendChild(label);\n",
              "      const progress = document.createElement('progress');\n",
              "      progress.max = size;\n",
              "      div.appendChild(progress);\n",
              "      document.body.appendChild(div);\n",
              "\n",
              "      const buffers = [];\n",
              "      let downloaded = 0;\n",
              "\n",
              "      const channel = await google.colab.kernel.comms.open(id);\n",
              "      // Send a message to notify the kernel that we're ready.\n",
              "      channel.send({})\n",
              "\n",
              "      for await (const message of channel.messages) {\n",
              "        // Send a message to notify the kernel that we're ready.\n",
              "        channel.send({})\n",
              "        if (message.buffers) {\n",
              "          for (const buffer of message.buffers) {\n",
              "            buffers.push(buffer);\n",
              "            downloaded += buffer.byteLength;\n",
              "            progress.value = downloaded;\n",
              "          }\n",
              "        }\n",
              "      }\n",
              "      const blob = new Blob(buffers, {type: 'application/binary'});\n",
              "      const a = document.createElement('a');\n",
              "      a.href = window.URL.createObjectURL(blob);\n",
              "      a.download = filename;\n",
              "      div.appendChild(a);\n",
              "      a.click();\n",
              "      div.remove();\n",
              "    }\n",
              "  "
            ]
          },
          "metadata": {}
        },
        {
          "output_type": "display_data",
          "data": {
            "text/plain": [
              "<IPython.core.display.Javascript object>"
            ],
            "application/javascript": [
              "download(\"download_a72b47e8-b8c4-404c-b03e-3732c8a757ce\", \"cv_results_set0_lr.csv\", 620)"
            ]
          },
          "metadata": {}
        }
      ]
    },
    {
      "cell_type": "code",
      "execution_count": null,
      "id": "facial-patrick",
      "metadata": {
        "colab": {
          "base_uri": "https://localhost:8080/"
        },
        "id": "facial-patrick",
        "outputId": "ec305d44-a086-41ae-c76d-fc6a55f989d5"
      },
      "outputs": [
        {
          "output_type": "stream",
          "name": "stdout",
          "text": [
            "Accuracy: 0.953\n"
          ]
        }
      ],
      "source": [
        "#MULTINOMIAL LOGISTIC REGRESSION with tuned hyperparameters\n",
        "\n",
        "model = LogisticRegression(multi_class='multinomial', solver='lbfgs', penalty='l2', C=1, max_iter = 10000)\n",
        "\n",
        "# make a prediction with a multinomial logistic regression model\n",
        "# fit the model on the whole dataset\n",
        "model.fit(X_train, y_train)\n",
        "# define a single row of input data\n",
        "X_test0 = X_test\n",
        "yhat0 = model.predict(X_test0)\n",
        "y_test0 = y_test"
      ]
    },
    {
      "cell_type": "code",
      "source": [
        "#Accuracy score\n",
        "acc = accuracy_score(y_test0, yhat0)\n",
        "print('Accuracy: %.3f' % round(acc, 3))\n",
        "\n",
        "#Confusion matrix\n",
        "conf = confusion_matrix(y_test0, yhat0)\n",
        "plot_confusion_matrix(conf, ['hep-ph', 'hep-th', 'quant-ph'], name='lr0')"
      ],
      "metadata": {
        "colab": {
          "base_uri": "https://localhost:8080/",
          "height": 268
        },
        "id": "9TUxmEfe823O",
        "outputId": "2bdcb884-532b-4b61-e77a-307a8b069d23"
      },
      "id": "9TUxmEfe823O",
      "execution_count": 76,
      "outputs": [
        {
          "output_type": "stream",
          "name": "stdout",
          "text": [
            "Accuracy: 0.953\n"
          ]
        },
        {
          "output_type": "display_data",
          "data": {
            "text/plain": [
              "<Figure size 288x216 with 1 Axes>"
            ],
            "image/png": "[encoded data removed]"
          },
          "metadata": {
            "needs_background": "light"
          }
        }
      ]
    },
    {
      "cell_type": "markdown",
      "id": "mathematical-blast",
      "metadata": {
        "id": "mathematical-blast"
      },
      "source": [
        "Set 1"
      ]
    },
    {
      "cell_type": "code",
      "execution_count": null,
      "id": "excess-reviewer",
      "metadata": {
        "id": "excess-reviewer",
        "outputId": "6ec5c4e4-b6be-4445-ac75-2b9ef2ef0444",
        "colab": {
          "base_uri": "https://localhost:8080/"
        }
      },
      "outputs": [
        {
          "output_type": "stream",
          "name": "stdout",
          "text": [
            "stat       19868\n",
            "math-ph    17597\n",
            "nucl-th    13730\n",
            "q-bio      13316\n",
            "hep-ex     10158\n",
            "Name: category, dtype: int64\n"
          ]
        }
      ],
      "source": [
        "select_data = data_ready[data_ready['category'].isin(cat_index[4:9])].reset_index(drop=True)\n",
        "print(select_data['category'].value_counts())\n",
        "\n",
        "#SPLITTING THE TRAINING DATASET INTO TRAIN AND TEST\n",
        "X_train, X_test, y_train, y_test = train_test_split(select_data[\"clean_text\"], select_data[\"category\"], random_state = 1000,\n",
        "                                                    stratify = select_data[\"category\"], test_size=0.2, shuffle=True)\n",
        "\n",
        "#Tf-Idf\n",
        "tfidf_vectorizer = TfidfVectorizer(use_idf=True)\n",
        "X_train = tfidf_vectorizer.fit_transform(X_train) \n",
        "X_test = tfidf_vectorizer.transform(X_test)"
      ]
    },
    {
      "cell_type": "code",
      "execution_count": null,
      "id": "fuzzy-treasury",
      "metadata": {
        "id": "fuzzy-treasury",
        "outputId": "1cb77332-88f4-44ab-e3cd-1e952e6a668c",
        "colab": {
          "base_uri": "https://localhost:8080/"
        }
      },
      "outputs": [
        {
          "output_type": "stream",
          "name": "stdout",
          "text": [
            "Best accuracy with l2 regularization: 0.951134 using {'C': 1.0, 'penalty': 'l2'}\n",
            "\n",
            "\n",
            "Time needed for the estimation: 262.530915\n"
          ]
        }
      ],
      "source": [
        "s = time.time()\n",
        "grid_results_l2 = grid0.fit(X_train, y_train)\n",
        "f = time.time()\n",
        "el_t = f-s\n",
        "\n",
        "cv_results_l2 = pd.DataFrame.from_dict(grid_results_l2.cv_results_)\n",
        "\n",
        "print(\"Best accuracy with l2 regularization: %f using %s\" % (grid_results_l2.best_score_, grid_results_l2.best_params_))\n",
        "print(\"\\n\")\n",
        "print(\"Time needed for the estimation: %f\" % (el_t))"
      ]
    },
    {
      "cell_type": "code",
      "source": [
        "s = time.time()\n",
        "grid_results_noreg = grid1.fit(X_train, y_train)\n",
        "f = time.time()\n",
        "el_t = f-s\n",
        "\n",
        "cv_results_noreg = pd.DataFrame.from_dict(grid_results_noreg.cv_results_)\n",
        "\n",
        "print(\"Best accuracy without regularization: %f using %s\" % (grid_results_noreg.best_score_, grid_results_noreg.best_params_))\n",
        "print(\"\\n\")\n",
        "print(\"Time needed for the estimation: %f\" % (el_t))"
      ],
      "metadata": {
        "colab": {
          "base_uri": "https://localhost:8080/"
        },
        "id": "yC9zeK8RLzNH",
        "outputId": "f2307f03-172f-40a8-88de-ce57744bc631"
      },
      "id": "yC9zeK8RLzNH",
      "execution_count": null,
      "outputs": [
        {
          "output_type": "stream",
          "name": "stdout",
          "text": [
            "Best accuracy without regularization: 0.943283 using {'penalty': 'none'}\n",
            "\n",
            "\n",
            "Time needed for the estimation: 149.720491\n"
          ]
        }
      ]
    },
    {
      "cell_type": "code",
      "source": [
        "cv_results = pd.concat([cv_results_l2, cv_results_noreg]).reset_index(drop=True)\n",
        "cv_results = cv_results.sort_values(by=['mean_test_score'], ascending=False)\n",
        "cv_results_set1_lr = cv_results.drop(['std_fit_time', 'std_score_time', 'params', 'split0_test_score', 'split1_test_score', \n",
        "                              'split2_test_score', 'split3_test_score', 'split4_test_score', 'rank_test_score'], 1)\n",
        "cv_results_set1_lr"
      ],
      "metadata": {
        "colab": {
          "base_uri": "https://localhost:8080/",
          "height": 292
        },
        "id": "AY1RT8rML8yu",
        "outputId": "ecfcdc04-42f6-48e1-a81c-dbc46b7749f4"
      },
      "id": "AY1RT8rML8yu",
      "execution_count": null,
      "outputs": [
        {
          "output_type": "stream",
          "name": "stderr",
          "text": [
            "/usr/local/lib/python3.7/dist-packages/ipykernel_launcher.py:4: FutureWarning: In a future version of pandas all arguments of DataFrame.drop except for the argument 'labels' will be keyword-only\n",
            "  after removing the cwd from sys.path.\n"
          ]
        },
        {
          "output_type": "execute_result",
          "data": {
            "text/plain": [
              "   mean_fit_time  mean_score_time param_C param_penalty  mean_test_score  \\\n",
              "4      44.520727         0.043136     1.0            l2         0.951134   \n",
              "5      39.871834         0.043930     NaN          none         0.943283   \n",
              "3      21.763471         0.059046     0.1            l2         0.937256   \n",
              "2       9.952703         0.041080    0.01            l2         0.889311   \n",
              "1       3.619491         0.041293   0.001            l2         0.469808   \n",
              "0       2.107833         0.039040  0.0001            l2         0.266075   \n",
              "\n",
              "   std_test_score  \n",
              "4        0.001597  \n",
              "5        0.001642  \n",
              "3        0.001387  \n",
              "2        0.002012  \n",
              "1        0.001960  \n",
              "0        0.000033  "
            ],
            "text/html": [
              "\n",
              "  <div id=\"df-8009b884-be0c-47f3-b850-62f72a666b4e\">\n",
              "    <div class=\"colab-df-container\">\n",
              "      <div>\n",
              "<style scoped>\n",
              "    .dataframe tbody tr th:only-of-type {\n",
              "        vertical-align: middle;\n",
              "    }\n",
              "\n",
              "    .dataframe tbody tr th {\n",
              "        vertical-align: top;\n",
              "    }\n",
              "\n",
              "    .dataframe thead th {\n",
              "        text-align: right;\n",
              "    }\n",
              "</style>\n",
              "<table border=\"1\" class=\"dataframe\">\n",
              "  <thead>\n",
              "    <tr style=\"text-align: right;\">\n",
              "      <th></th>\n",
              "      <th>mean_fit_time</th>\n",
              "      <th>mean_score_time</th>\n",
              "      <th>param_C</th>\n",
              "      <th>param_penalty</th>\n",
              "      <th>mean_test_score</th>\n",
              "      <th>std_test_score</th>\n",
              "    </tr>\n",
              "  </thead>\n",
              "  <tbody>\n",
              "    <tr>\n",
              "      <th>4</th>\n",
              "      <td>44.520727</td>\n",
              "      <td>0.043136</td>\n",
              "      <td>1.0</td>\n",
              "      <td>l2</td>\n",
              "      <td>0.951134</td>\n",
              "      <td>0.001597</td>\n",
              "    </tr>\n",
              "    <tr>\n",
              "      <th>5</th>\n",
              "      <td>39.871834</td>\n",
              "      <td>0.043930</td>\n",
              "      <td>NaN</td>\n",
              "      <td>none</td>\n",
              "      <td>0.943283</td>\n",
              "      <td>0.001642</td>\n",
              "    </tr>\n",
              "    <tr>\n",
              "      <th>3</th>\n",
              "      <td>21.763471</td>\n",
              "      <td>0.059046</td>\n",
              "      <td>0.1</td>\n",
              "      <td>l2</td>\n",
              "      <td>0.937256</td>\n",
              "      <td>0.001387</td>\n",
              "    </tr>\n",
              "    <tr>\n",
              "      <th>2</th>\n",
              "      <td>9.952703</td>\n",
              "      <td>0.041080</td>\n",
              "      <td>0.01</td>\n",
              "      <td>l2</td>\n",
              "      <td>0.889311</td>\n",
              "      <td>0.002012</td>\n",
              "    </tr>\n",
              "    <tr>\n",
              "      <th>1</th>\n",
              "      <td>3.619491</td>\n",
              "      <td>0.041293</td>\n",
              "      <td>0.001</td>\n",
              "      <td>l2</td>\n",
              "      <td>0.469808</td>\n",
              "      <td>0.001960</td>\n",
              "    </tr>\n",
              "    <tr>\n",
              "      <th>0</th>\n",
              "      <td>2.107833</td>\n",
              "      <td>0.039040</td>\n",
              "      <td>0.0001</td>\n",
              "      <td>l2</td>\n",
              "      <td>0.266075</td>\n",
              "      <td>0.000033</td>\n",
              "    </tr>\n",
              "  </tbody>\n",
              "</table>\n",
              "</div>\n",
              "      <button class=\"colab-df-convert\" onclick=\"convertToInteractive('df-8009b884-be0c-47f3-b850-62f72a666b4e')\"\n",
              "              title=\"Convert this dataframe to an interactive table.\"\n",
              "              style=\"display:none;\">\n",
              "        \n",
              "  <svg xmlns=\"http://www.w3.org/2000/svg\" height=\"24px\"viewBox=\"0 0 24 24\"\n",
              "       width=\"24px\">\n",
              "    <path d=\"M0 0h24v24H0V0z\" fill=\"none\"/>\n",
              "    <path d=\"M18.56 5.44l.94 2.06.94-2.06 2.06-.94-2.06-.94-.94-2.06-.94 2.06-2.06.94zm-11 1L8.5 8.5l.94-2.06 2.06-.94-2.06-.94L8.5 2.5l-.94 2.06-2.06.94zm10 10l.94 2.06.94-2.06 2.06-.94-2.06-.94-.94-2.06-.94 2.06-2.06.94z\"/><path d=\"M17.41 7.96l-1.37-1.37c-.4-.4-.92-.59-1.43-.59-.52 0-1.04.2-1.43.59L10.3 9.45l-7.72 7.72c-.78.78-.78 2.05 0 2.83L4 21.41c.39.39.9.59 1.41.59.51 0 1.02-.2 1.41-.59l7.78-7.78 2.81-2.81c.8-.78.8-2.07 0-2.86zM5.41 20L4 18.59l7.72-7.72 1.47 1.35L5.41 20z\"/>\n",
              "  </svg>\n",
              "      </button>\n",
              "      \n",
              "  <style>\n",
              "    .colab-df-container {\n",
              "      display:flex;\n",
              "      flex-wrap:wrap;\n",
              "      gap: 12px;\n",
              "    }\n",
              "\n",
              "    .colab-df-convert {\n",
              "      background-color: #E8F0FE;\n",
              "      border: none;\n",
              "      border-radius: 50%;\n",
              "      cursor: pointer;\n",
              "      display: none;\n",
              "      fill: #1967D2;\n",
              "      height: 32px;\n",
              "      padding: 0 0 0 0;\n",
              "      width: 32px;\n",
              "    }\n",
              "\n",
              "    .colab-df-convert:hover {\n",
              "      background-color: #E2EBFA;\n",
              "      box-shadow: 0px 1px 2px rgba(60, 64, 67, 0.3), 0px 1px 3px 1px rgba(60, 64, 67, 0.15);\n",
              "      fill: #174EA6;\n",
              "    }\n",
              "\n",
              "    [theme=dark] .colab-df-convert {\n",
              "      background-color: #3B4455;\n",
              "      fill: #D2E3FC;\n",
              "    }\n",
              "\n",
              "    [theme=dark] .colab-df-convert:hover {\n",
              "      background-color: #434B5C;\n",
              "      box-shadow: 0px 1px 3px 1px rgba(0, 0, 0, 0.15);\n",
              "      filter: drop-shadow(0px 1px 2px rgba(0, 0, 0, 0.3));\n",
              "      fill: #FFFFFF;\n",
              "    }\n",
              "  </style>\n",
              "\n",
              "      <script>\n",
              "        const buttonEl =\n",
              "          document.querySelector('#df-8009b884-be0c-47f3-b850-62f72a666b4e button.colab-df-convert');\n",
              "        buttonEl.style.display =\n",
              "          google.colab.kernel.accessAllowed ? 'block' : 'none';\n",
              "\n",
              "        async function convertToInteractive(key) {\n",
              "          const element = document.querySelector('#df-8009b884-be0c-47f3-b850-62f72a666b4e');\n",
              "          const dataTable =\n",
              "            await google.colab.kernel.invokeFunction('convertToInteractive',\n",
              "                                                     [key], {});\n",
              "          if (!dataTable) return;\n",
              "\n",
              "          const docLinkHtml = 'Like what you see? Visit the ' +\n",
              "            '<a target=\"_blank\" href=https://colab.research.google.com/notebooks/data_table.ipynb>data table notebook</a>'\n",
              "            + ' to learn more about interactive tables.';\n",
              "          element.innerHTML = '';\n",
              "          dataTable['output_type'] = 'display_data';\n",
              "          await google.colab.output.renderOutput(dataTable, element);\n",
              "          const docLink = document.createElement('div');\n",
              "          docLink.innerHTML = docLinkHtml;\n",
              "          element.appendChild(docLink);\n",
              "        }\n",
              "      </script>\n",
              "    </div>\n",
              "  </div>\n",
              "  "
            ]
          },
          "metadata": {},
          "execution_count": 44
        }
      ]
    },
    {
      "cell_type": "code",
      "source": [
        "cv_results_set1_lr.to_csv('cv_results_set1_lr.csv', encoding = 'utf-8-sig') \n",
        "files.download('cv_results_set1_lr.csv')"
      ],
      "metadata": {
        "colab": {
          "base_uri": "https://localhost:8080/",
          "height": 17
        },
        "id": "dfgWczq1MPN0",
        "outputId": "28b39f19-9e7a-41da-be7d-f27a2e3640e5"
      },
      "id": "dfgWczq1MPN0",
      "execution_count": null,
      "outputs": [
        {
          "output_type": "display_data",
          "data": {
            "text/plain": [
              "<IPython.core.display.Javascript object>"
            ],
            "application/javascript": [
              "\n",
              "    async function download(id, filename, size) {\n",
              "      if (!google.colab.kernel.accessAllowed) {\n",
              "        return;\n",
              "      }\n",
              "      const div = document.createElement('div');\n",
              "      const label = document.createElement('label');\n",
              "      label.textContent = `Downloading \"${filename}\": `;\n",
              "      div.appendChild(label);\n",
              "      const progress = document.createElement('progress');\n",
              "      progress.max = size;\n",
              "      div.appendChild(progress);\n",
              "      document.body.appendChild(div);\n",
              "\n",
              "      const buffers = [];\n",
              "      let downloaded = 0;\n",
              "\n",
              "      const channel = await google.colab.kernel.comms.open(id);\n",
              "      // Send a message to notify the kernel that we're ready.\n",
              "      channel.send({})\n",
              "\n",
              "      for await (const message of channel.messages) {\n",
              "        // Send a message to notify the kernel that we're ready.\n",
              "        channel.send({})\n",
              "        if (message.buffers) {\n",
              "          for (const buffer of message.buffers) {\n",
              "            buffers.push(buffer);\n",
              "            downloaded += buffer.byteLength;\n",
              "            progress.value = downloaded;\n",
              "          }\n",
              "        }\n",
              "      }\n",
              "      const blob = new Blob(buffers, {type: 'application/binary'});\n",
              "      const a = document.createElement('a');\n",
              "      a.href = window.URL.createObjectURL(blob);\n",
              "      a.download = filename;\n",
              "      div.appendChild(a);\n",
              "      a.click();\n",
              "      div.remove();\n",
              "    }\n",
              "  "
            ]
          },
          "metadata": {}
        },
        {
          "output_type": "display_data",
          "data": {
            "text/plain": [
              "<IPython.core.display.Javascript object>"
            ],
            "application/javascript": [
              "download(\"download_5d75fea8-8e1c-4957-a64e-05d78458069f\", \"cv_results_set1_lr.csv\", 620)"
            ]
          },
          "metadata": {}
        }
      ]
    },
    {
      "cell_type": "code",
      "execution_count": null,
      "id": "encouraging-calculation",
      "metadata": {
        "id": "encouraging-calculation",
        "outputId": "a21b840f-144a-4516-e01b-978ef3721079",
        "colab": {
          "base_uri": "https://localhost:8080/"
        }
      },
      "outputs": [
        {
          "output_type": "stream",
          "name": "stdout",
          "text": [
            "Accuracy: 0.955\n"
          ]
        }
      ],
      "source": [
        "#MULTINOMIAL LOGISTIC REGRESSION with tuned hyperparameters\n",
        "\n",
        "model = LogisticRegression(multi_class='multinomial', solver='lbfgs', penalty='l2', C=1, max_iter = 10000)\n",
        "\n",
        "# make a prediction with a multinomial logistic regression model\n",
        "# fit the model on the whole dataset\n",
        "model.fit(X_train, y_train)\n",
        "# define a single row of input data\n",
        "X_test1 = X_test\n",
        "yhat1 = model.predict(X_test1)\n",
        "y_test1 = y_test"
      ]
    },
    {
      "cell_type": "code",
      "source": [
        "y_test1.value_counts()"
      ],
      "metadata": {
        "colab": {
          "base_uri": "https://localhost:8080/"
        },
        "id": "wkUwFw54Do5s",
        "outputId": "751f45a9-be8e-431e-9e6e-039d86436956"
      },
      "id": "wkUwFw54Do5s",
      "execution_count": 78,
      "outputs": [
        {
          "output_type": "execute_result",
          "data": {
            "text/plain": [
              "stat       3974\n",
              "math-ph    3519\n",
              "nucl-th    2746\n",
              "q-bio      2663\n",
              "hep-ex     2032\n",
              "Name: category, dtype: int64"
            ]
          },
          "metadata": {},
          "execution_count": 78
        }
      ]
    },
    {
      "cell_type": "code",
      "source": [
        "#Accuracy score\n",
        "acc = accuracy_score(y_test1, yhat1)\n",
        "print('Accuracy: %.3f' % round(acc, 3))\n",
        "\n",
        "#Confusion matrix\n",
        "conf = confusion_matrix(y_test1, yhat1)\n",
        "plot_confusion_matrix(conf, ['hep-ex','math-ph','nucl-th','q-bio','stat'], name = 'lr1', xsize=6, ysize=4)"
      ],
      "metadata": {
        "colab": {
          "base_uri": "https://localhost:8080/",
          "height": 340
        },
        "id": "jOMq4nWaMlOc",
        "outputId": "0c82b3e0-48f6-4e9a-ebb6-2fc6b5bb5a70"
      },
      "id": "jOMq4nWaMlOc",
      "execution_count": 80,
      "outputs": [
        {
          "output_type": "stream",
          "name": "stdout",
          "text": [
            "Accuracy: 0.955\n"
          ]
        },
        {
          "output_type": "display_data",
          "data": {
            "text/plain": [
              "<Figure size 432x288 with 1 Axes>"
            ],
            "image/png": "[encoded data removed]"
          },
          "metadata": {
            "needs_background": "light"
          }
        }
      ]
    },
    {
      "cell_type": "markdown",
      "id": "efficient-greensboro",
      "metadata": {
        "id": "efficient-greensboro"
      },
      "source": [
        "Extra"
      ]
    },
    {
      "cell_type": "code",
      "execution_count": null,
      "id": "according-clone",
      "metadata": {
        "id": "according-clone",
        "outputId": "15e75406-1f4d-4309-ccbb-f88b7818eb6b"
      },
      "outputs": [
        {
          "name": "stdout",
          "output_type": "stream",
          "text": [
            "Predicted Class: hep-ph\n",
            "Predicted Probabilities: [0.9962049  0.00222638 0.00156872]\n",
            "Real Class: hep-ph\n"
          ]
        }
      ],
      "source": [
        "#For observation 0\n",
        "# summarize the predicted class\n",
        "print('Predicted Class: %s' % yhat[0])\n",
        "\n",
        "# predict a multinomial probability distribution\n",
        "yhat_p = model.predict_proba(X_test_tfidf)\n",
        "# summarize the predicted probabilities\n",
        "print('Predicted Probabilities: %s' % yhat_p[0])\n",
        "\n",
        "print('Real Class: %s' % y_test[0])"
      ]
    },
    {
      "cell_type": "code",
      "execution_count": null,
      "id": "nutritional-reproduction",
      "metadata": {
        "collapsed": true,
        "id": "nutritional-reproduction",
        "outputId": "cec5c070-ef24-4b9a-b85e-f5c826d9472e"
      },
      "outputs": [
        {
          "name": "stdout",
          "output_type": "stream",
          "text": [
            "0.0000\n",
            ">0.0000 0.942 (0.001)\n",
            "0.0001\n",
            ">0.0001 0.386 (0.000)\n",
            "0.0010\n",
            ">0.0010 0.873 (0.003)\n",
            "0.0100\n",
            ">0.0100 0.930 (0.001)\n",
            "0.1000\n",
            ">0.1000 0.942 (0.001)\n",
            "1.0000\n",
            ">1.0000 0.951 (0.001)\n"
          ]
        },
        {
          "data": {
            "image/png": "[encoded data removed]",
            "text/plain": [
              "<Figure size 432x288 with 1 Axes>"
            ]
          },
          "metadata": {
            "needs_background": "light"
          },
          "output_type": "display_data"
        }
      ],
      "source": [
        "for name, model in models.items():\n",
        "    print(name)\n",
        "    # evaluate the model and collect the scores\n",
        "    scores = evaluate_model(model, X_train, y_train)\n",
        "    # store the results\n",
        "    results.append(scores)\n",
        "    names.append(name)\n",
        "    # summarize progress along the way\n",
        "    print('>%s %.3f (%.3f)' % (name, mean(scores), std(scores)))\n",
        "\n",
        "# plot model performance for comparison\n",
        "pyplot.boxplot(results, labels=names, showmeans=True)\n",
        "pyplot.show()"
      ]
    }
  ],
  "metadata": {
    "kernelspec": {
      "display_name": "Python 3",
      "language": "python",
      "name": "python3"
    },
    "language_info": {
      "codemirror_mode": {
        "name": "ipython",
        "version": 3
      },
      "file_extension": ".py",
      "mimetype": "text/x-python",
      "name": "python",
      "nbconvert_exporter": "python",
      "pygments_lexer": "ipython3",
      "version": "3.8.5"
    },
    "colab": {
      "name": "02_Baseline model.ipynb",
      "provenance": []
    }
  },
  "nbformat": 4,
  "nbformat_minor": 5
}
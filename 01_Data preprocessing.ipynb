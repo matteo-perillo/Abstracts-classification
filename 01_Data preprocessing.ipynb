{
  "cells": [
    {
      "cell_type": "code",
      "source": [
        "import pandas as pd\n",
        "import time\n",
        "import scipy\n",
        "\n",
        "#for text pre-processing\n",
        "import re, string\n",
        "import nltk\n",
        "nltk.download('stopwords')\n",
        "nltk.download('omw-1.4')\n",
        "from nltk.tokenize import word_tokenize\n",
        "from nltk.corpus import stopwords\n",
        "from nltk.tokenize import word_tokenize\n",
        "from nltk.stem import SnowballStemmer\n",
        "from nltk.corpus import wordnet\n",
        "from nltk.stem import WordNetLemmatizer\n",
        "nltk.download('punkt')\n",
        "nltk.download('averaged_perceptron_tagger')\n",
        "nltk.download('wordnet')"
      ],
      "metadata": {
        "id": "jD2XHPaTn_5v"
      },
      "id": "jD2XHPaTn_5v",
      "execution_count": null,
      "outputs": []
    },
    {
      "cell_type": "markdown",
      "id": "subtle-literature",
      "metadata": {
        "id": "subtle-literature"
      },
      "source": [
        "Text pre-processing"
      ]
    },
    {
      "cell_type": "code",
      "execution_count": null,
      "id": "bronze-event",
      "metadata": {
        "id": "bronze-event"
      },
      "outputs": [],
      "source": [
        "#convert to lowercase, strip and remove punctuations\n",
        "def preprocess(text):\n",
        "    text = text.lower() \n",
        "    text = text.strip()  \n",
        "    text = re.compile('<.*?>').sub('', text) \n",
        "    text = re.compile('[%s]' % re.escape(string.punctuation)).sub(' ', text)  \n",
        "    text = re.sub('\\s+', ' ', text)  \n",
        "    text = re.sub(r'\\[[0-9]*\\]',' ',text) \n",
        "    text = re.sub(r'[^\\w\\s]', '', str(text).lower().strip())\n",
        "    text = re.sub(r'\\d',' ',text) \n",
        "    text = re.sub(r'\\s+',' ',text) \n",
        "    return text \n",
        "\n",
        " \n",
        "# STOPWORD REMOVAL\n",
        "def stopword(string):\n",
        "    a = [i for i in string.split() if i not in stopwords.words('english')]\n",
        "    return ' '.join(a)\n",
        "\n",
        "\n",
        "#LEMMATIZATION\n",
        "# Initialize the lemmatizer\n",
        "wl = WordNetLemmatizer()\n",
        " \n",
        "# This is a helper function to map NTLK position tags\n",
        "def get_wordnet_pos(tag):\n",
        "    if tag.startswith('J'):\n",
        "        return wordnet.ADJ\n",
        "    elif tag.startswith('V'):\n",
        "        return wordnet.VERB\n",
        "    elif tag.startswith('N'):\n",
        "        return wordnet.NOUN\n",
        "    elif tag.startswith('R'):\n",
        "        return wordnet.ADV\n",
        "    else:\n",
        "        return wordnet.NOUN\n",
        "\n",
        "# Tokenize the sentence\n",
        "def lemmatizer(string):\n",
        "    word_pos_tags = nltk.pos_tag(word_tokenize(string)) # Get position tags\n",
        "    a=[wl.lemmatize(tag[0], get_wordnet_pos(tag[1])) for idx, tag in enumerate(word_pos_tags)] # Map the position tag and lemmatize the word/token\n",
        "    return \" \".join(a)\n",
        "\n",
        "def finalpreprocess(string):\n",
        "    return lemmatizer(stopword(preprocess(string)))"
      ]
    },
    {
      "cell_type": "code",
      "execution_count": null,
      "id": "matched-cleaner",
      "metadata": {
        "id": "matched-cleaner"
      },
      "outputs": [],
      "source": [
        "%store -r data_toy\n",
        "%store -r data_ready"
      ]
    },
    {
      "cell_type": "code",
      "execution_count": null,
      "id": "devoted-eating",
      "metadata": {
        "collapsed": true,
        "id": "devoted-eating",
        "outputId": "061c5acd-a7eb-4d42-8c33-fe14253e8bf0"
      },
      "outputs": [
        {
          "name": "stdout",
          "output_type": "stream",
          "text": [
            "hep-ph      50603\n",
            "quant-ph    44679\n",
            "hep-th      39013\n",
            "gr-qc       25712\n",
            "stat        19868\n",
            "math-ph     17597\n",
            "nucl-th     13730\n",
            "q-bio       13316\n",
            "hep-ex      10158\n",
            "nlin         8934\n",
            "hep-lat      6625\n",
            "q-fin        5979\n",
            "nucl-ex      5735\n",
            "eess         1509\n",
            "econ          246\n",
            "Name: category, dtype: int64\n"
          ]
        }
      ],
      "source": [
        "data_toy = data2[data2['category'].isin(['hep-ph','hep-th','quant-ph', 'gr-qc', 'stat', 'math-ph', 'nucl-th', 'q-bio',\n",
        "                                         'hep-ex', 'nlin', 'hep-lat', 'q-fin', 'nucl-ex', 'eess', 'econ'])]\n",
        "ind = range(len(data_toy))\n",
        "data_toy = data_toy.set_index(pd.Index(ind))\n",
        "\n",
        "s = time.time()\n",
        "data_toy['clean_text'] = data_toy['abstract'].apply(lambda x: finalpreprocess(x))\n",
        "f = time.time()\n",
        "print(f-s)\n",
        "\n",
        "data_ready = pd.DataFrame({\"clean_text\": data_toy['clean_text'], \"category\": data_toy['category']})"
      ]
    },
    {
      "cell_type": "markdown",
      "source": [
        "Frequency tables for preprocessed data"
      ],
      "metadata": {
        "id": "KFo6wBa62odb"
      },
      "id": "KFo6wBa62odb"
    },
    {
      "cell_type": "code",
      "source": [
        "import pandas as pd\n",
        "from google.colab import files\n",
        "from pydrive.auth import GoogleAuth\n",
        "from pydrive.drive import GoogleDrive\n",
        "from google.colab import auth\n",
        "from oauth2client.client import GoogleCredentials\n",
        "\n",
        "auth.authenticate_user()\n",
        "gauth = GoogleAuth()\n",
        "gauth.credentials = GoogleCredentials.get_application_default()\n",
        "drive = GoogleDrive(gauth)\n",
        "downloaded = drive.CreateFile({'id':\"1rJUCyDztqA321Uo690atZCQYS8Q1Y6XN\"})\n",
        "downloaded.GetContentFile('preprocessed_data.csv')\n",
        "data_ready = pd.read_csv('preprocessed_data.csv')"
      ],
      "metadata": {
        "id": "URlxl9qzqbps"
      },
      "id": "URlxl9qzqbps",
      "execution_count": null,
      "outputs": []
    },
    {
      "cell_type": "code",
      "source": [
        "cat_index = data_ready['category'].value_counts().index\n",
        "\n",
        "dataset0 = data_ready[data_ready['category'].isin(cat_index[0:3])].dropna().reset_index(drop=True)"
      ],
      "metadata": {
        "id": "TyLnFS4xrHaa",
        "outputId": "746f71e5-b9c6-4281-957f-a131371225f3",
        "colab": {
          "base_uri": "https://localhost:8080/"
        }
      },
      "id": "TyLnFS4xrHaa",
      "execution_count": null,
      "outputs": [
        {
          "output_type": "stream",
          "name": "stdout",
          "text": [
            "hep-ph      50603\n",
            "quant-ph    44678\n",
            "hep-th      39013\n",
            "Name: category, dtype: int64\n"
          ]
        }
      ]
    },
    {
      "cell_type": "code",
      "source": [
        "dataset1 = data_ready[data_ready['category'].isin(cat_index[4:9])].dropna().reset_index(drop=True)"
      ],
      "metadata": {
        "id": "E972Rxr4r9GQ",
        "outputId": "f04e3b1e-1c21-497a-89a5-341419dd9271",
        "colab": {
          "base_uri": "https://localhost:8080/"
        }
      },
      "id": "E972Rxr4r9GQ",
      "execution_count": null,
      "outputs": [
        {
          "output_type": "stream",
          "name": "stdout",
          "text": [
            "stat       19868\n",
            "math-ph    17597\n",
            "nucl-th    13730\n",
            "q-bio      13316\n",
            "hep-ex     10158\n",
            "Name: category, dtype: int64\n"
          ]
        }
      ]
    },
    {
      "cell_type": "code",
      "source": [
        "cat_codes = list(dataset0['category'].unique()) + list(dataset1['category'].unique())\n",
        "cat_names = ['HE Physics - Phenomenology', 'HE Physics - Theory', 'Quantum Physics', 'HE Physics - Experiment', 'Quantitative Biology', 'Nuclear Theory', 'Mathematical Physics', 'Statistics']\n",
        "ind_dict = dict(zip(cat_codes, cat_names))"
      ],
      "metadata": {
        "id": "6JWlFqATsDzx"
      },
      "id": "6JWlFqATsDzx",
      "execution_count": null,
      "outputs": []
    },
    {
      "cell_type": "code",
      "source": [
        "dataset0['category'].value_counts().rename(index=ind_dict)"
      ],
      "metadata": {
        "id": "vtwQy28JuIYb",
        "outputId": "9535ecfd-7f94-4d2b-dbf1-d953fc653e55",
        "colab": {
          "base_uri": "https://localhost:8080/"
        }
      },
      "id": "vtwQy28JuIYb",
      "execution_count": null,
      "outputs": [
        {
          "output_type": "execute_result",
          "data": {
            "text/plain": [
              "HE Physics - Phenomenology    50603\n",
              "Quantum Physics               44678\n",
              "HE Physics - Theory           39013\n",
              "Name: category, dtype: int64"
            ]
          },
          "metadata": {},
          "execution_count": 34
        }
      ]
    },
    {
      "cell_type": "code",
      "source": [
        "dataset1"
      ],
      "metadata": {
        "id": "2TXHR6Dx2hLp",
        "outputId": "20414736-4812-4e37-e9d8-5426d3b8d713",
        "colab": {
          "base_uri": "https://localhost:8080/",
          "height": 424
        }
      },
      "id": "2TXHR6Dx2hLp",
      "execution_count": null,
      "outputs": [
        {
          "output_type": "execute_result",
          "data": {
            "text/plain": [
              "                                              clean_text category\n",
              "0      shape hadronic form factor f q decay k e nue m...   hep-ex\n",
              "1      supplement paper arxiv q bio contain text corr...    q-bio\n",
              "2      multisite phosphorylation dephosphorylation cy...    q-bio\n",
              "3      investigate coulomb excitation low lie state u...  nucl-th\n",
              "4      present paper propose seemingly new method fin...  math-ph\n",
              "...                                                  ...      ...\n",
              "74664  background n back paced auditory serial additi...    q-bio\n",
              "74665  recently prove invariance observables respect ...  nucl-th\n",
              "74666  study diverse human population related histori...    q-bio\n",
              "74667  permissive environment e coli double dry mass ...    q-bio\n",
              "74668  recently number statistical problem find unexp...     stat\n",
              "\n",
              "[74669 rows x 2 columns]"
            ],
            "text/html": [
              "\n",
              "  <div id=\"df-a3d83926-6eed-44ae-a67d-bc37f3103ee0\">\n",
              "    <div class=\"colab-df-container\">\n",
              "      <div>\n",
              "<style scoped>\n",
              "    .dataframe tbody tr th:only-of-type {\n",
              "        vertical-align: middle;\n",
              "    }\n",
              "\n",
              "    .dataframe tbody tr th {\n",
              "        vertical-align: top;\n",
              "    }\n",
              "\n",
              "    .dataframe thead th {\n",
              "        text-align: right;\n",
              "    }\n",
              "</style>\n",
              "<table border=\"1\" class=\"dataframe\">\n",
              "  <thead>\n",
              "    <tr style=\"text-align: right;\">\n",
              "      <th></th>\n",
              "      <th>clean_text</th>\n",
              "      <th>category</th>\n",
              "    </tr>\n",
              "  </thead>\n",
              "  <tbody>\n",
              "    <tr>\n",
              "      <th>0</th>\n",
              "      <td>shape hadronic form factor f q decay k e nue m...</td>\n",
              "      <td>hep-ex</td>\n",
              "    </tr>\n",
              "    <tr>\n",
              "      <th>1</th>\n",
              "      <td>supplement paper arxiv q bio contain text corr...</td>\n",
              "      <td>q-bio</td>\n",
              "    </tr>\n",
              "    <tr>\n",
              "      <th>2</th>\n",
              "      <td>multisite phosphorylation dephosphorylation cy...</td>\n",
              "      <td>q-bio</td>\n",
              "    </tr>\n",
              "    <tr>\n",
              "      <th>3</th>\n",
              "      <td>investigate coulomb excitation low lie state u...</td>\n",
              "      <td>nucl-th</td>\n",
              "    </tr>\n",
              "    <tr>\n",
              "      <th>4</th>\n",
              "      <td>present paper propose seemingly new method fin...</td>\n",
              "      <td>math-ph</td>\n",
              "    </tr>\n",
              "    <tr>\n",
              "      <th>...</th>\n",
              "      <td>...</td>\n",
              "      <td>...</td>\n",
              "    </tr>\n",
              "    <tr>\n",
              "      <th>74664</th>\n",
              "      <td>background n back paced auditory serial additi...</td>\n",
              "      <td>q-bio</td>\n",
              "    </tr>\n",
              "    <tr>\n",
              "      <th>74665</th>\n",
              "      <td>recently prove invariance observables respect ...</td>\n",
              "      <td>nucl-th</td>\n",
              "    </tr>\n",
              "    <tr>\n",
              "      <th>74666</th>\n",
              "      <td>study diverse human population related histori...</td>\n",
              "      <td>q-bio</td>\n",
              "    </tr>\n",
              "    <tr>\n",
              "      <th>74667</th>\n",
              "      <td>permissive environment e coli double dry mass ...</td>\n",
              "      <td>q-bio</td>\n",
              "    </tr>\n",
              "    <tr>\n",
              "      <th>74668</th>\n",
              "      <td>recently number statistical problem find unexp...</td>\n",
              "      <td>stat</td>\n",
              "    </tr>\n",
              "  </tbody>\n",
              "</table>\n",
              "<p>74669 rows × 2 columns</p>\n",
              "</div>\n",
              "      <button class=\"colab-df-convert\" onclick=\"convertToInteractive('df-a3d83926-6eed-44ae-a67d-bc37f3103ee0')\"\n",
              "              title=\"Convert this dataframe to an interactive table.\"\n",
              "              style=\"display:none;\">\n",
              "        \n",
              "  <svg xmlns=\"http://www.w3.org/2000/svg\" height=\"24px\"viewBox=\"0 0 24 24\"\n",
              "       width=\"24px\">\n",
              "    <path d=\"M0 0h24v24H0V0z\" fill=\"none\"/>\n",
              "    <path d=\"M18.56 5.44l.94 2.06.94-2.06 2.06-.94-2.06-.94-.94-2.06-.94 2.06-2.06.94zm-11 1L8.5 8.5l.94-2.06 2.06-.94-2.06-.94L8.5 2.5l-.94 2.06-2.06.94zm10 10l.94 2.06.94-2.06 2.06-.94-2.06-.94-.94-2.06-.94 2.06-2.06.94z\"/><path d=\"M17.41 7.96l-1.37-1.37c-.4-.4-.92-.59-1.43-.59-.52 0-1.04.2-1.43.59L10.3 9.45l-7.72 7.72c-.78.78-.78 2.05 0 2.83L4 21.41c.39.39.9.59 1.41.59.51 0 1.02-.2 1.41-.59l7.78-7.78 2.81-2.81c.8-.78.8-2.07 0-2.86zM5.41 20L4 18.59l7.72-7.72 1.47 1.35L5.41 20z\"/>\n",
              "  </svg>\n",
              "      </button>\n",
              "      \n",
              "  <style>\n",
              "    .colab-df-container {\n",
              "      display:flex;\n",
              "      flex-wrap:wrap;\n",
              "      gap: 12px;\n",
              "    }\n",
              "\n",
              "    .colab-df-convert {\n",
              "      background-color: #E8F0FE;\n",
              "      border: none;\n",
              "      border-radius: 50%;\n",
              "      cursor: pointer;\n",
              "      display: none;\n",
              "      fill: #1967D2;\n",
              "      height: 32px;\n",
              "      padding: 0 0 0 0;\n",
              "      width: 32px;\n",
              "    }\n",
              "\n",
              "    .colab-df-convert:hover {\n",
              "      background-color: #E2EBFA;\n",
              "      box-shadow: 0px 1px 2px rgba(60, 64, 67, 0.3), 0px 1px 3px 1px rgba(60, 64, 67, 0.15);\n",
              "      fill: #174EA6;\n",
              "    }\n",
              "\n",
              "    [theme=dark] .colab-df-convert {\n",
              "      background-color: #3B4455;\n",
              "      fill: #D2E3FC;\n",
              "    }\n",
              "\n",
              "    [theme=dark] .colab-df-convert:hover {\n",
              "      background-color: #434B5C;\n",
              "      box-shadow: 0px 1px 3px 1px rgba(0, 0, 0, 0.15);\n",
              "      filter: drop-shadow(0px 1px 2px rgba(0, 0, 0, 0.3));\n",
              "      fill: #FFFFFF;\n",
              "    }\n",
              "  </style>\n",
              "\n",
              "      <script>\n",
              "        const buttonEl =\n",
              "          document.querySelector('#df-a3d83926-6eed-44ae-a67d-bc37f3103ee0 button.colab-df-convert');\n",
              "        buttonEl.style.display =\n",
              "          google.colab.kernel.accessAllowed ? 'block' : 'none';\n",
              "\n",
              "        async function convertToInteractive(key) {\n",
              "          const element = document.querySelector('#df-a3d83926-6eed-44ae-a67d-bc37f3103ee0');\n",
              "          const dataTable =\n",
              "            await google.colab.kernel.invokeFunction('convertToInteractive',\n",
              "                                                     [key], {});\n",
              "          if (!dataTable) return;\n",
              "\n",
              "          const docLinkHtml = 'Like what you see? Visit the ' +\n",
              "            '<a target=\"_blank\" href=https://colab.research.google.com/notebooks/data_table.ipynb>data table notebook</a>'\n",
              "            + ' to learn more about interactive tables.';\n",
              "          element.innerHTML = '';\n",
              "          dataTable['output_type'] = 'display_data';\n",
              "          await google.colab.output.renderOutput(dataTable, element);\n",
              "          const docLink = document.createElement('div');\n",
              "          docLink.innerHTML = docLinkHtml;\n",
              "          element.appendChild(docLink);\n",
              "        }\n",
              "      </script>\n",
              "    </div>\n",
              "  </div>\n",
              "  "
            ]
          },
          "metadata": {},
          "execution_count": 49
        }
      ]
    },
    {
      "cell_type": "code",
      "source": [
        "dataset1['category'].value_counts().rename(index=ind_dict)"
      ],
      "metadata": {
        "id": "4nRtdehnt1Q6",
        "outputId": "fb8e4a17-0f76-4df1-b350-7ddcff210e7e",
        "colab": {
          "base_uri": "https://localhost:8080/"
        }
      },
      "id": "4nRtdehnt1Q6",
      "execution_count": null,
      "outputs": [
        {
          "output_type": "execute_result",
          "data": {
            "text/plain": [
              "Statistics                 19868\n",
              "Mathematical Physics       17597\n",
              "Nuclear Theory             13730\n",
              "Quantitative Biology       13316\n",
              "HE Physics - Experiment    10158\n",
              "Name: category, dtype: int64"
            ]
          },
          "metadata": {},
          "execution_count": 35
        }
      ]
    },
    {
      "cell_type": "code",
      "source": [
        "print(dataset0['category'].value_counts().rename(index=ind_dict).to_latex(header = ['N. di abstract'], index=True))"
      ],
      "metadata": {
        "id": "u1kYzulbuic5",
        "outputId": "e7128a8c-87b8-411b-872e-0cc26e57600c",
        "colab": {
          "base_uri": "https://localhost:8080/"
        }
      },
      "id": "u1kYzulbuic5",
      "execution_count": null,
      "outputs": [
        {
          "output_type": "stream",
          "name": "stdout",
          "text": [
            "\\begin{tabular}{lr}\n",
            "\\toprule\n",
            "{} & N. di abstract \\\\\n",
            "\\midrule\n",
            "HE Physics - Phenomenology &          50603 \\\\\n",
            "Quantum Physics            &          44678 \\\\\n",
            "HE Physics - Theory        &          39013 \\\\\n",
            "\\bottomrule\n",
            "\\end{tabular}\n",
            "\n"
          ]
        }
      ]
    },
    {
      "cell_type": "code",
      "source": [
        "print(dataset1['category'].value_counts().rename(index=ind_dict).to_latex(index=True))"
      ],
      "metadata": {
        "id": "aCxGxAzQwrG6",
        "outputId": "78b9c2dc-3f6d-405a-f409-877996f30c24",
        "colab": {
          "base_uri": "https://localhost:8080/"
        }
      },
      "id": "aCxGxAzQwrG6",
      "execution_count": null,
      "outputs": [
        {
          "output_type": "stream",
          "name": "stdout",
          "text": [
            "\\begin{tabular}{lr}\n",
            "\\toprule\n",
            "{} &  category \\\\\n",
            "\\midrule\n",
            "Statistics              &     19868 \\\\\n",
            "Mathematical Physics    &     17597 \\\\\n",
            "Nuclear Theory          &     13730 \\\\\n",
            "Quantitative Biology    &     13316 \\\\\n",
            "HE Physics - Experiment &     10158 \\\\\n",
            "\\bottomrule\n",
            "\\end{tabular}\n",
            "\n"
          ]
        }
      ]
    }
  ],
  "metadata": {
    "kernelspec": {
      "display_name": "Python 3",
      "language": "python",
      "name": "python3"
    },
    "language_info": {
      "codemirror_mode": {
        "name": "ipython",
        "version": 3
      },
      "file_extension": ".py",
      "mimetype": "text/x-python",
      "name": "python",
      "nbconvert_exporter": "python",
      "pygments_lexer": "ipython3",
      "version": "3.8.5"
    },
    "colab": {
      "name": "01_Data preprocessing.ipynb",
      "provenance": []
    }
  },
  "nbformat": 4,
  "nbformat_minor": 5
}
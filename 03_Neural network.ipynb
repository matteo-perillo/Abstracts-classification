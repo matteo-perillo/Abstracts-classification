{
 "cells": [
  {
   "cell_type": "code",
   "execution_count": 1,
   "id": "b859bfb0",
   "metadata": {},
   "outputs": [],
   "source": [
    "import tensorflow as tf"
   ]
  },
  {
   "cell_type": "code",
   "execution_count": 2,
   "id": "f4bbb8fa",
   "metadata": {},
   "outputs": [
    {
     "data": {
      "text/plain": [
       "'2.9.0'"
      ]
     },
     "execution_count": 2,
     "metadata": {},
     "output_type": "execute_result"
    }
   ],
   "source": []
  },
  {
   "cell_type": "code",
   "execution_count": 1,
   "id": "fallen-telescope",
   "metadata": {},
   "outputs": [],
   "source": [
    "from sklearn.model_selection import cross_val_score, KFold, GridSearchCV\n",
    "from sklearn.preprocessing import LabelEncoder\n",
    "from sklearn.pipeline import Pipeline\n",
    "import tensorflow as tf\n",
    "from tensorflow.keras.optimizers import Adam\n",
    "from tensorflow.keras.models import Sequential\n",
    "from tensorflow.keras import layers\n",
    "from tensorflow.keras.wrappers.scikit_learn import KerasClassifier\n",
    "from tensorflow.keras.utils import to_categorical\n",
    "from tensorflow.keras.backend import clear_session\n",
    "from tensorflow.keras.regularizers import l2\n",
    "import matplotlib.pyplot as plt\n",
    "\n",
    "import pandas as pd\n",
    "\n",
    "from sklearn.metrics import confusion_matrix\n",
    "from sklearn.model_selection import train_test_split\n",
    "from sklearn.feature_extraction.text import TfidfVectorizer, CountVectorizer"
   ]
  },
  {
   "cell_type": "code",
   "execution_count": 2,
   "id": "c77c1e3e",
   "metadata": {},
   "outputs": [],
   "source": [
    "import tensorflow as tf"
   ]
  },
  {
   "cell_type": "code",
   "execution_count": 3,
   "id": "b17c1712",
   "metadata": {},
   "outputs": [
    {
     "data": {
      "text/plain": [
       "'2.6.0'"
      ]
     },
     "execution_count": 3,
     "metadata": {},
     "output_type": "execute_result"
    }
   ],
   "source": [
    "tf.version.VERSION"
   ]
  },
  {
   "cell_type": "code",
   "execution_count": 4,
   "id": "b4fb8981",
   "metadata": {},
   "outputs": [
    {
     "data": {
      "text/plain": [
       "[]"
      ]
     },
     "execution_count": 4,
     "metadata": {},
     "output_type": "execute_result"
    }
   ],
   "source": [
    "tf.config.list_physical_devices('GPU')"
   ]
  },
  {
   "cell_type": "code",
   "execution_count": 2,
   "id": "speaking-secretariat",
   "metadata": {},
   "outputs": [],
   "source": [
    "%store -r data_ready"
   ]
  },
  {
   "cell_type": "code",
   "execution_count": null,
   "id": "immediate-valentine",
   "metadata": {},
   "outputs": [],
   "source": [
    "def plot_history(history):\n",
    "    acc = history.history['accuracy']\n",
    "    val_acc = history.history['val_accuracy']\n",
    "    loss = history.history['loss']\n",
    "    val_loss = history.history['val_loss']\n",
    "    x = range(1, len(acc) + 1)\n",
    "\n",
    "    plt.figure(figsize=(12, 5))\n",
    "    plt.subplot(1, 2, 1)\n",
    "    plt.plot(x, acc, 'b', label='Training acc')\n",
    "    plt.plot(x, val_acc, 'r', label='Validation acc')\n",
    "    plt.title('Training and validation accuracy')\n",
    "    plt.legend()\n",
    "    plt.subplot(1, 2, 2)\n",
    "    plt.plot(x, loss, 'b', label='Training loss')\n",
    "    plt.plot(x, val_loss, 'r', label='Validation loss')\n",
    "    plt.title('Training and validation loss')\n",
    "    plt.legend()"
   ]
  },
  {
   "cell_type": "code",
   "execution_count": 3,
   "id": "blind-priority",
   "metadata": {},
   "outputs": [],
   "source": [
    "#print(data_ready['category'].value_counts())\n",
    "cat_index = data_ready['category'].value_counts().index"
   ]
  },
  {
   "cell_type": "code",
   "execution_count": 4,
   "id": "running-skiing",
   "metadata": {},
   "outputs": [],
   "source": [
    "select_data = data_ready[data_ready['category'].isin(['hep-ph','hep-th','quant-ph'])].reset_index(drop=True)\n",
    "\n",
    "#SPLITTING THE TRAINING DATASET INTO TRAIN AND TEST\n",
    "X_train, X_test, y_train, y_test = train_test_split(select_data[\"clean_text\"], select_data[\"category\"],\n",
    "                                                    stratify = select_data[\"category\"], test_size=0.2, shuffle=True)\n",
    "\n",
    "#Tf-Idf\n",
    "tfidf_vectorizer = TfidfVectorizer(use_idf=True)\n",
    "X_train = tfidf_vectorizer.fit_transform(X_train) \n",
    "X_test = tfidf_vectorizer.transform(X_test)\n",
    "\n",
    "X_train.sort_indices()\n",
    "X_test.sort_indices()\n",
    "\n",
    "# encode class values as integers\n",
    "encoder = LabelEncoder()\n",
    "encoder.fit(y_train)\n",
    "encoded_y_train = encoder.transform(y_train)\n",
    "encoded_y_test = encoder.transform(y_test)\n",
    "# convert integers to dummy variables (i.e. one hot encoded)\n",
    "dummy_y_train = to_categorical(encoded_y_train)\n",
    "dummy_y_test = to_categorical(encoded_y_test)\n",
    "\n",
    "input_dim = X_train.shape[1]  # Number of features"
   ]
  },
  {
   "cell_type": "code",
   "execution_count": 18,
   "id": "nutritional-leone",
   "metadata": {},
   "outputs": [],
   "source": [
    "def create_nn_model(dropout_rate=0.0, lam_l2=1e-3, learning_rate=1e-3, nlayers=5):\n",
    "    # create model\n",
    "    model = Sequential(name=\"Neural_network\")\n",
    "    for i in range(nlayers):\n",
    "        model.add(layers.Dense(8*(nlayers-i), kernel_regularizer=l2(lam_l2), bias_regularizer=l2(lam_l2), input_dim=input_dim, activation='relu'))\n",
    "        model.add(layers.Dropout(dropout_rate))\n",
    "    model.add(layers.Dense(3, activation='softmax'))\n",
    "    optimizer = Adam(learning_rate)\n",
    "    model.compile(loss='categorical_crossentropy', optimizer=optimizer, metrics=['accuracy'])\n",
    "    return model"
   ]
  },
  {
   "cell_type": "code",
   "execution_count": 7,
   "id": "forty-briefs",
   "metadata": {},
   "outputs": [],
   "source": [
    "# define the grid search parameters\n",
    "#batch_size\n",
    "cand_bs = [512, 1024, 2048]\n",
    "#dropout rate\n",
    "cand_dr = [0, 0.15, 0.3]\n",
    "#regularization\n",
    "cand_l2 = [0, 1e-3, 1e-1, 1]\n",
    "#learning rate\n",
    "cand_lr = [1e-4, 1e-3, 1e-2]\n",
    "#layers number\n",
    "cand_ln = [10, 5, 2, 1]\n",
    "\n",
    "model = KerasClassifier(build_fn=create_model, epochs=10, verbose=0)\n",
    "\n",
    "param_grid = dict(batch_size=cand_bs, dropout_rate=cand_dr, lam_l2=cand_l2, nlayers=cand_ln, learning_rate=cand_lr)\n",
    "grid = GridSearchCV(estimator=model, param_grid=param_grid, n_jobs=-1, cv=5)"
   ]
  },
  {
   "cell_type": "markdown",
   "id": "dominant-missouri",
   "metadata": {},
   "source": [
    "Tune hyperparameters through cross-validation"
   ]
  },
  {
   "cell_type": "code",
   "execution_count": null,
   "id": "efficient-disaster",
   "metadata": {},
   "outputs": [],
   "source": [
    "grid_result = grid.fit(X_train, dummy_y_train)\n",
    "\n",
    "# summarize results\n",
    "print(\"Best: %f using %s\" % (grid_result.best_score_, grid_result.best_params_))\n",
    "means = grid_result.cv_results_['mean_test_score']\n",
    "stds = grid_result.cv_results_['std_test_score']\n",
    "params = grid_result.cv_results_['params']"
   ]
  },
  {
   "cell_type": "code",
   "execution_count": 82,
   "id": "worldwide-model",
   "metadata": {},
   "outputs": [
    {
     "name": "stdout",
     "output_type": "stream",
     "text": [
      "Stored 'nn_cv_results0' (DataFrame)\n"
     ]
    },
    {
     "data": {
      "text/html": [
       "<div>\n",
       "<style scoped>\n",
       "    .dataframe tbody tr th:only-of-type {\n",
       "        vertical-align: middle;\n",
       "    }\n",
       "\n",
       "    .dataframe tbody tr th {\n",
       "        vertical-align: top;\n",
       "    }\n",
       "\n",
       "    .dataframe thead th {\n",
       "        text-align: right;\n",
       "    }\n",
       "</style>\n",
       "<table border=\"1\" class=\"dataframe\">\n",
       "  <thead>\n",
       "    <tr style=\"text-align: right;\">\n",
       "      <th></th>\n",
       "      <th>mean_test_score</th>\n",
       "      <th>std_test_score</th>\n",
       "      <th>mean_fit_time</th>\n",
       "      <th>mean_score_time</th>\n",
       "      <th>param_batch_size</th>\n",
       "      <th>param_dropout_rate</th>\n",
       "      <th>param_lam_l2</th>\n",
       "      <th>param_learning_rate</th>\n",
       "      <th>param_nlayers</th>\n",
       "    </tr>\n",
       "    <tr>\n",
       "      <th>rank_test_score</th>\n",
       "      <th></th>\n",
       "      <th></th>\n",
       "      <th></th>\n",
       "      <th></th>\n",
       "      <th></th>\n",
       "      <th></th>\n",
       "      <th></th>\n",
       "      <th></th>\n",
       "      <th></th>\n",
       "    </tr>\n",
       "  </thead>\n",
       "  <tbody>\n",
       "    <tr>\n",
       "      <th>1</th>\n",
       "      <td>0.949328</td>\n",
       "      <td>0.000889</td>\n",
       "      <td>84.785579</td>\n",
       "      <td>1.89908</td>\n",
       "      <td>1024</td>\n",
       "      <td>0.15</td>\n",
       "      <td>0.001</td>\n",
       "      <td>0.001</td>\n",
       "      <td>5</td>\n",
       "    </tr>\n",
       "  </tbody>\n",
       "</table>\n",
       "</div>"
      ],
      "text/plain": [
       "                 mean_test_score  std_test_score  mean_fit_time  \\\n",
       "rank_test_score                                                   \n",
       "1                       0.949328        0.000889      84.785579   \n",
       "\n",
       "                 mean_score_time param_batch_size param_dropout_rate  \\\n",
       "rank_test_score                                                        \n",
       "1                        1.89908             1024               0.15   \n",
       "\n",
       "                param_lam_l2 param_learning_rate param_nlayers  \n",
       "rank_test_score                                                 \n",
       "1                      0.001               0.001             5  "
      ]
     },
     "execution_count": 82,
     "metadata": {},
     "output_type": "execute_result"
    }
   ],
   "source": [
    "cv_results = pd.DataFrame.from_dict(grid_result.cv_results_).sort_values(by=['rank_test_score']).set_index('rank_test_score')\n",
    "nn_cv_results0 = cv_results.drop(['std_fit_time', 'std_score_time', 'params', 'split0_test_score', 'split1_test_score', \n",
    "                              'split2_test_score', 'split3_test_score', 'split4_test_score'], 1)\n",
    "clist = list(nn_cv_results0.columns.values)\n",
    "nn_cv_results0 = nn_cv_results0[clist[-2:] + clist[:-2]]\n",
    "%store nn_cv_results0\n",
    "nn_cv_results0"
   ]
  },
  {
   "cell_type": "markdown",
   "id": "distant-victim",
   "metadata": {},
   "source": [
    "Summarizing results"
   ]
  },
  {
   "cell_type": "markdown",
   "id": "popular-teaching",
   "metadata": {},
   "source": [
    "Training the best model on the whole training set"
   ]
  },
  {
   "cell_type": "code",
   "execution_count": 19,
   "id": "herbal-wallace",
   "metadata": {},
   "outputs": [
    {
     "name": "stdout",
     "output_type": "stream",
     "text": [
      "Model: \"Neural_network\"\n",
      "_________________________________________________________________\n",
      "Layer (type)                 Output Shape              Param #   \n",
      "=================================================================\n",
      "dense (Dense)                (None, 40)                1874920   \n",
      "_________________________________________________________________\n",
      "dropout (Dropout)            (None, 40)                0         \n",
      "_________________________________________________________________\n",
      "dense_1 (Dense)              (None, 32)                1312      \n",
      "_________________________________________________________________\n",
      "dropout_1 (Dropout)          (None, 32)                0         \n",
      "_________________________________________________________________\n",
      "dense_2 (Dense)              (None, 24)                792       \n",
      "_________________________________________________________________\n",
      "dropout_2 (Dropout)          (None, 24)                0         \n",
      "_________________________________________________________________\n",
      "dense_3 (Dense)              (None, 16)                400       \n",
      "_________________________________________________________________\n",
      "dropout_3 (Dropout)          (None, 16)                0         \n",
      "_________________________________________________________________\n",
      "dense_4 (Dense)              (None, 8)                 136       \n",
      "_________________________________________________________________\n",
      "dropout_4 (Dropout)          (None, 8)                 0         \n",
      "_________________________________________________________________\n",
      "dense_5 (Dense)              (None, 3)                 27        \n",
      "=================================================================\n",
      "Total params: 1,877,587\n",
      "Trainable params: 1,877,587\n",
      "Non-trainable params: 0\n",
      "_________________________________________________________________\n"
     ]
    }
   ],
   "source": [
    "clear_session()\n",
    "\n",
    "model = create_nn_model(dropout_rate=0.3, lam_l2=1e-3, learning_rate=1e-3, nlayers=5)\n",
    "model.summary()"
   ]
  },
  {
   "cell_type": "code",
   "execution_count": 20,
   "id": "fabulous-facility",
   "metadata": {},
   "outputs": [
    {
     "name": "stdout",
     "output_type": "stream",
     "text": [
      "Epoch 1/5\n",
      "27/27 [==============================] - 3s 74ms/step - loss: 1.2049 - accuracy: 0.3731 - val_loss: 1.0694 - val_accuracy: 0.3768\n",
      "Epoch 2/5\n",
      "27/27 [==============================] - 2s 61ms/step - loss: 1.0604 - accuracy: 0.4543 - val_loss: 0.8181 - val_accuracy: 0.9227\n",
      "Epoch 3/5\n",
      "27/27 [==============================] - 2s 61ms/step - loss: 0.8803 - accuracy: 0.7241 - val_loss: 0.6700 - val_accuracy: 0.9176\n",
      "Epoch 4/5\n",
      "27/27 [==============================] - 2s 63ms/step - loss: 0.7447 - accuracy: 0.8406 - val_loss: 0.5831 - val_accuracy: 0.9364\n",
      "Epoch 5/5\n",
      "27/27 [==============================] - 2s 65ms/step - loss: 0.6690 - accuracy: 0.8975 - val_loss: 0.5524 - val_accuracy: 0.9426\n"
     ]
    }
   ],
   "source": [
    "history = model.fit(X_train, dummy_y_train, epochs=5, verbose=True, validation_data=(X_test, dummy_y_test),\n",
    "                    batch_size=4096)"
   ]
  },
  {
   "cell_type": "code",
   "execution_count": 23,
   "id": "greatest-greenhouse",
   "metadata": {},
   "outputs": [
    {
     "name": "stdout",
     "output_type": "stream",
     "text": [
      "Training Accuracy: 0.9525\n",
      "Testing Accuracy:  0.9426\n"
     ]
    }
   ],
   "source": [
    "loss, accuracy = model.evaluate(X_train, dummy_y_train, verbose=False)\n",
    "print(\"Training Accuracy: {:.4f}\".format(accuracy))\n",
    "loss, accuracy = model.evaluate(X_test, dummy_y_test, verbose=False)\n",
    "print(\"Testing Accuracy:  {:.4f}\".format(accuracy))"
   ]
  },
  {
   "cell_type": "code",
   "execution_count": 24,
   "id": "searching-trainer",
   "metadata": {},
   "outputs": [
    {
     "data": {
      "image/png": "[encoded data removed]",
      "text/plain": [
       "<Figure size 864x360 with 2 Axes>"
      ]
     },
     "metadata": {},
     "output_type": "display_data"
    }
   ],
   "source": [
    "plt.style.use('ggplot')\n",
    "\n",
    "def plot_history(history):\n",
    "    acc = history.history['accuracy']\n",
    "    val_acc = history.history['val_accuracy']\n",
    "    loss = history.history['loss']\n",
    "    val_loss = history.history['val_loss']\n",
    "    x = range(1, len(acc) + 1)\n",
    "\n",
    "    plt.figure(figsize=(12, 5))\n",
    "    plt.subplot(1, 2, 1)\n",
    "    plt.plot(x[:-1], acc[1:], 'b', label='Training acc')\n",
    "    plt.plot(x, val_acc, 'r', label='Validation acc')\n",
    "    plt.title('Training and validation accuracy')\n",
    "    plt.legend()\n",
    "    plt.subplot(1, 2, 2)\n",
    "    plt.plot(x[:-1], loss[1:], 'b', label='Training loss')\n",
    "    plt.plot(x, val_loss, 'r', label='Validation loss')\n",
    "    plt.title('Training and validation loss')\n",
    "    plt.legend()\n",
    "    \n",
    "plot_history(history)"
   ]
  },
  {
   "cell_type": "code",
   "execution_count": 30,
   "id": "considerable-classics",
   "metadata": {},
   "outputs": [],
   "source": [
    "test_predicted_prob = model.predict(X_test)\n",
    "test_predicted_classes = test_predicted_prob.argmax(1)"
   ]
  },
  {
   "cell_type": "code",
   "execution_count": 35,
   "id": "mature-building",
   "metadata": {},
   "outputs": [
    {
     "name": "stdout",
     "output_type": "stream",
     "text": [
      "Each row corresponds to a true class, each columns corresponds to a predicted class.\n",
      "\n",
      "\n",
      "[[0.9446695  0.04762375 0.00770675]\n",
      " [0.04396309 0.93168418 0.02435273]\n",
      " [0.01600269 0.0341316  0.94986571]]\n"
     ]
    }
   ],
   "source": [
    "print(\"Each row corresponds to a true class, each columns corresponds to a predicted class.\")\n",
    "print(\"\\n\")\n",
    "print(confusion_matrix(encoded_y_test, test_predicted_classes, normalize = 'true'))"
   ]
  },
  {
   "cell_type": "code",
   "execution_count": null,
   "id": "beginning-somalia",
   "metadata": {},
   "outputs": [],
   "source": []
  }
 ],
 "metadata": {
  "kernelspec": {
   "display_name": "Python 3",
   "language": "python",
   "name": "python3"
  },
  "language_info": {
   "codemirror_mode": {
    "name": "ipython",
    "version": 3
   },
   "file_extension": ".py",
   "mimetype": "text/x-python",
   "name": "python",
   "nbconvert_exporter": "python",
   "pygments_lexer": "ipython3",
   "version": "3.9.12"
  }
 },
 "nbformat": 4,
 "nbformat_minor": 5
}

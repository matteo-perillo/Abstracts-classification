{
  "cells": [
    {
      "cell_type": "code",
      "execution_count": 2,
      "id": "fallen-telescope",
      "metadata": {
        "id": "fallen-telescope"
      },
      "outputs": [],
      "source": [
        "from google.colab import files\n",
        "import numpy as np\n",
        "import pandas as pd\n",
        "import itertools\n",
        "import io\n",
        "import timeit\n",
        "\n",
        "from pydrive.auth import GoogleAuth\n",
        "from pydrive.drive import GoogleDrive\n",
        "from google.colab import auth\n",
        "from oauth2client.client import GoogleCredentials\n",
        "\n",
        "from sklearn.metrics import confusion_matrix\n",
        "from sklearn.model_selection import train_test_split, cross_val_score, KFold, GridSearchCV\n",
        "from sklearn.feature_extraction.text import TfidfVectorizer, CountVectorizer\n",
        "from sklearn.preprocessing import LabelEncoder\n",
        "from sklearn.pipeline import Pipeline\n",
        "import tensorflow as tf\n",
        "from tensorflow import keras\n",
        "from tensorflow.keras.models import Sequential\n",
        "from tensorflow.keras import layers\n",
        "from tensorflow.keras.utils import to_categorical\n",
        "from tensorflow.keras.backend import clear_session\n",
        "from tensorflow.keras.regularizers import l2\n",
        "from tensorflow.keras.wrappers.scikit_learn import KerasClassifier\n",
        "import matplotlib.pyplot as plt"
      ]
    },
    {
      "cell_type": "code",
      "source": [
        "#%tensorflow_version 2.x\n",
        "#import tensorflow as tf\n",
        "device_name = tf.test.gpu_device_name()\n",
        "if device_name != '/device:GPU:0':\n",
        "  raise SystemError('GPU device not found')\n",
        "print('Found GPU at: {}'.format(device_name))"
      ],
      "metadata": {
        "id": "nfQnixC9PMyT",
        "outputId": "5eee21d5-aca2-430b-945c-d05606d8e5b3",
        "colab": {
          "base_uri": "https://localhost:8080/"
        }
      },
      "id": "nfQnixC9PMyT",
      "execution_count": 3,
      "outputs": [
        {
          "output_type": "stream",
          "name": "stdout",
          "text": [
            "Found GPU at: /device:GPU:0\n"
          ]
        }
      ]
    },
    {
      "cell_type": "code",
      "source": [
        "auth.authenticate_user()\n",
        "gauth = GoogleAuth()\n",
        "gauth.credentials = GoogleCredentials.get_application_default()\n",
        "drive = GoogleDrive(gauth)\n",
        "downloaded = drive.CreateFile({'id':\"1rJUCyDztqA321Uo690atZCQYS8Q1Y6XN\"})\n",
        "downloaded.GetContentFile('preprocessed_data.csv')\n",
        "data_ready = pd.read_csv('preprocessed_data.csv')"
      ],
      "metadata": {
        "id": "jXVnibNH67XV"
      },
      "id": "jXVnibNH67XV",
      "execution_count": 4,
      "outputs": []
    },
    {
      "cell_type": "code",
      "execution_count": 34,
      "id": "immediate-valentine",
      "metadata": {
        "id": "immediate-valentine"
      },
      "outputs": [],
      "source": [
        "def create_nn_model(dropout_rate=0.0, lam_l2=1e-3, learn_rate=1e-3, nlayers=5, nclass=3):\n",
        "    # create model\n",
        "    model = Sequential(name=\"Neural_network\")\n",
        "    for i in range(nlayers):\n",
        "        model.add(layers.Dense(8*(nlayers-i), kernel_regularizer=l2(lam_l2), bias_regularizer=l2(lam_l2), input_dim=input_dim, activation='relu'))\n",
        "        model.add(layers.Dropout(dropout_rate))\n",
        "    model.add(layers.Dense(nclass, activation='softmax'))\n",
        "    optimizer = keras.optimizers.Adam(learn_rate)\n",
        "    model.compile(loss='categorical_crossentropy', optimizer=optimizer, metrics=['accuracy'])\n",
        "    return model\n",
        "\n",
        "def plot_history(history):\n",
        "    acc = history.history['accuracy']\n",
        "    val_acc = history.history['val_accuracy']\n",
        "    loss = history.history['loss']\n",
        "    val_loss = history.history['val_loss']\n",
        "    x = range(1, len(acc) + 1)\n",
        "\n",
        "    plt.figure(figsize=(12, 5))\n",
        "    plt.subplot(1, 2, 1)\n",
        "    plt.plot(x[:-1], acc[1:], 'b', label='Training acc')\n",
        "    plt.plot(x, val_acc, 'r', label='Validation acc')\n",
        "    plt.title('Training and validation accuracy')\n",
        "    plt.legend()\n",
        "    plt.subplot(1, 2, 2)\n",
        "    plt.plot(x[:-1], loss[1:], 'b', label='Training loss')\n",
        "    plt.plot(x, val_loss, 'r', label='Validation loss')\n",
        "    plt.title('Training and validation loss')\n",
        "    plt.legend()\n",
        "\n",
        "def plot_confusion_matrix(cm, target_names, title='Confusion matrix', cmap=None, normalize=True):\n",
        "    accuracy = np.trace(cm) / np.sum(cm).astype('float')\n",
        "    misclass = 1 - accuracy\n",
        "\n",
        "    if cmap is None:\n",
        "        cmap = plt.get_cmap('Blues')\n",
        "\n",
        "    plt.figure(figsize=(8, 6))\n",
        "    plt.imshow(cm, interpolation='nearest', cmap=cmap)\n",
        "    plt.title(title)\n",
        "    plt.colorbar()\n",
        "\n",
        "    if target_names is not None:\n",
        "        tick_marks = np.arange(len(target_names))\n",
        "        plt.xticks(tick_marks, target_names, rotation=45)\n",
        "        plt.yticks(tick_marks, target_names)\n",
        "\n",
        "    if normalize:\n",
        "        cm = cm.astype('float') / cm.sum(axis=1)[:, np.newaxis]\n",
        "\n",
        "\n",
        "    thresh = cm.max() / 1.5 if normalize else cm.max() / 2\n",
        "    for i, j in itertools.product(range(cm.shape[0]), range(cm.shape[1])):\n",
        "        if normalize:\n",
        "            plt.text(j, i, \"{:0.4f}\".format(cm[i, j]),\n",
        "                     horizontalalignment=\"center\",\n",
        "                     color=\"white\" if cm[i, j] > thresh else \"black\")\n",
        "        else:\n",
        "            plt.text(j, i, \"{:,}\".format(cm[i, j]),\n",
        "                     horizontalalignment=\"center\",\n",
        "                     color=\"white\" if cm[i, j] > thresh else \"black\")\n",
        "\n",
        "\n",
        "    plt.tight_layout()\n",
        "    plt.ylabel('True label')\n",
        "    plt.xlabel('Predicted label\\naccuracy={:0.4f}; misclass={:0.4f}'.format(accuracy, misclass))\n",
        "    plt.show()"
      ]
    },
    {
      "cell_type": "code",
      "execution_count": 31,
      "id": "forty-briefs",
      "metadata": {
        "id": "forty-briefs",
        "colab": {
          "base_uri": "https://localhost:8080/"
        },
        "outputId": "38251bb5-f1b3-4d1c-b1ff-40c303b4a2bf"
      },
      "outputs": [
        {
          "output_type": "stream",
          "name": "stderr",
          "text": [
            "/usr/local/lib/python3.7/dist-packages/ipykernel_launcher.py:13: DeprecationWarning: KerasClassifier is deprecated, use Sci-Keras (https://github.com/adriangb/scikeras) instead. See https://www.adriangb.com/scikeras/stable/migration.html for help migrating.\n",
            "  del sys.path[0]\n"
          ]
        }
      ],
      "source": [
        "# define the grid search parameters\n",
        "#batch_size\n",
        "cand_bs = [512, 2048, 4096]\n",
        "#dropout rate\n",
        "cand_dr = [0, 0.3]\n",
        "#regularization\n",
        "cand_l2 = [0, 1e-1]\n",
        "#learning rate\n",
        "#cand_lr = [1e-4, 1e-3, 1e-2]\n",
        "#layers number\n",
        "cand_ln = [10, 5, 1]"
      ]
    },
    {
      "cell_type": "code",
      "execution_count": 6,
      "id": "blind-priority",
      "metadata": {
        "id": "blind-priority"
      },
      "outputs": [],
      "source": [
        "#print(data_ready['category'].value_counts())\n",
        "cat_index = data_ready['category'].value_counts().index"
      ]
    },
    {
      "cell_type": "code",
      "execution_count": 7,
      "id": "running-skiing",
      "metadata": {
        "id": "running-skiing",
        "outputId": "46a882d4-f80b-4f33-9fc6-1fa7c163a8c4",
        "colab": {
          "base_uri": "https://localhost:8080/"
        }
      },
      "outputs": [
        {
          "output_type": "stream",
          "name": "stdout",
          "text": [
            "hep-ph      50603\n",
            "quant-ph    44678\n",
            "hep-th      39013\n",
            "Name: category, dtype: int64\n"
          ]
        }
      ],
      "source": [
        "select_data = data_ready[data_ready['category'].isin(cat_index[0:3])].dropna().reset_index(drop=True)\n",
        "print(select_data['category'].value_counts())\n",
        "\n",
        "#SPLITTING THE TRAINING DATASET INTO TRAIN AND TEST\n",
        "X_train, X_test, y_train, y_test = train_test_split(select_data[\"clean_text\"], select_data[\"category\"], random_state = 1000,\n",
        "                                                    stratify = select_data[\"category\"], test_size=0.2, shuffle=True)\n",
        "\n",
        "#Tf-Idf\n",
        "tfidf_vectorizer = TfidfVectorizer(use_idf=True)\n",
        "X_train = tfidf_vectorizer.fit_transform(X_train) \n",
        "X_test = tfidf_vectorizer.transform(X_test)\n",
        "\n",
        "X_train.sort_indices()\n",
        "X_test.sort_indices()\n",
        "y_train.sort_indices()\n",
        "y_test.sort_indices()\n",
        "\n",
        "# encode class values as integers\n",
        "encoder = LabelEncoder()\n",
        "encoder.fit(y_train)\n",
        "encoded_y_train = encoder.transform(y_train)\n",
        "encoded_y_test = encoder.transform(y_test)\n",
        "# convert integers to dummy variables (i.e. one hot encoded)\n",
        "dummy_y_train = to_categorical(encoded_y_train)\n",
        "dummy_y_test = to_categorical(encoded_y_test)\n",
        "\n",
        "input_dim = X_train.shape[1]  # Number of features\n",
        "\n",
        "model = KerasClassifier(build_fn=create_nn_model, epochs=25, verbose=0, nclass=3)"
      ]
    },
    {
      "cell_type": "markdown",
      "id": "dominant-missouri",
      "metadata": {
        "id": "dominant-missouri"
      },
      "source": [
        "Tune hyperparameters through cross-validation"
      ]
    },
    {
      "cell_type": "code",
      "source": [
        "#1 hidden layer\n",
        "\n",
        "param_grid = dict(batch_size=cand_bs, dropout_rate=cand_dr, lam_l2=cand_l2, nlayers=cand_ln[2:3])\n",
        "grid = GridSearchCV(estimator=model, param_grid=param_grid, verbose = 3, n_jobs=1, cv=5)\n",
        "\n",
        "grid_result = grid.fit(X_train, dummy_y_train)\n",
        "\n",
        "# summarize results\n",
        "print(\"Best with 1 hidden layer: %f using %s\" % (grid_result.best_score_, grid_result.best_params_))\n",
        "means = grid_result.cv_results_['mean_test_score']\n",
        "stds = grid_result.cv_results_['std_test_score']\n",
        "params = grid_result.cv_results_['params']\n",
        "\n",
        "cv_results0 = pd.DataFrame.from_dict(grid_result.cv_results_).sort_values(by=['rank_test_score']).set_index('rank_test_score')"
      ],
      "metadata": {
        "id": "nCkPaqdQHcfn"
      },
      "id": "nCkPaqdQHcfn",
      "execution_count": null,
      "outputs": []
    },
    {
      "cell_type": "code",
      "source": [
        "#5 hidden layers\n",
        "\n",
        "param_grid = dict(batch_size=cand_bs, dropout_rate=cand_dr, lam_l2=cand_l2, nlayers=cand_ln[1:2])\n",
        "grid = GridSearchCV(estimator=model, param_grid=param_grid, verbose = 3, n_jobs=1, cv=5)\n",
        "\n",
        "grid_result = grid.fit(X_train, dummy_y_train)\n",
        "\n",
        "# summarize results\n",
        "print(\"Best with 5 hidden layers: %f using %s\" % (grid_result.best_score_, grid_result.best_params_))\n",
        "means = grid_result.cv_results_['mean_test_score']\n",
        "stds = grid_result.cv_results_['std_test_score']\n",
        "params = grid_result.cv_results_['params']\n",
        "\n",
        "cv_results1 = pd.DataFrame.from_dict(grid_result.cv_results_).sort_values(by=['rank_test_score']).set_index('rank_test_score')"
      ],
      "metadata": {
        "id": "cyXStE4LatVE"
      },
      "id": "cyXStE4LatVE",
      "execution_count": null,
      "outputs": []
    },
    {
      "cell_type": "code",
      "source": [
        "#10 hidden layers\n",
        "\n",
        "param_grid = dict(batch_size=cand_bs, dropout_rate=cand_dr, lam_l2=cand_l2, nlayers=cand_ln[0:1])\n",
        "grid = GridSearchCV(estimator=model, param_grid=param_grid, verbose = 3, n_jobs=1, cv=5)\n",
        "\n",
        "grid_result = grid.fit(X_train, dummy_y_train)\n",
        "\n",
        "# summarize results\n",
        "print(\"Best with 10 hidden layers: %f using %s\" % (grid_result.best_score_, grid_result.best_params_))\n",
        "means = grid_result.cv_results_['mean_test_score']\n",
        "stds = grid_result.cv_results_['std_test_score']\n",
        "params = grid_result.cv_results_['params']\n",
        "\n",
        "cv_results2 = pd.DataFrame.from_dict(grid_result.cv_results_).sort_values(by=['rank_test_score']).set_index('rank_test_score')"
      ],
      "metadata": {
        "id": "F8o44oBeZwuW"
      },
      "id": "F8o44oBeZwuW",
      "execution_count": null,
      "outputs": []
    },
    {
      "cell_type": "markdown",
      "id": "distant-victim",
      "metadata": {
        "id": "distant-victim"
      },
      "source": [
        "Summarizing results"
      ]
    },
    {
      "cell_type": "code",
      "execution_count": 16,
      "id": "worldwide-model",
      "metadata": {
        "id": "worldwide-model",
        "outputId": "179fa517-1b7a-45b6-f154-b49aeb094ae9",
        "colab": {
          "base_uri": "https://localhost:8080/",
          "height": 398
        }
      },
      "outputs": [
        {
          "output_type": "stream",
          "name": "stderr",
          "text": [
            "/usr/local/lib/python3.7/dist-packages/ipykernel_launcher.py:3: FutureWarning: In a future version of pandas all arguments of DataFrame.drop except for the argument 'labels' will be keyword-only\n",
            "  This is separate from the ipykernel package so we can avoid doing imports until\n"
          ]
        },
        {
          "output_type": "execute_result",
          "data": {
            "text/plain": [
              "   mean_test_score  std_test_score  mean_fit_time  mean_score_time  \\\n",
              "0         0.952874        0.001265      19.606653         0.304203   \n",
              "1         0.952306        0.000999      30.247239         0.404164   \n",
              "2         0.952138        0.001662      19.316914         0.307041   \n",
              "3         0.949970        0.001091      17.742523         0.295999   \n",
              "4         0.949691        0.001238      17.625663         0.291132   \n",
              "5         0.949458        0.001305      31.011815         0.407232   \n",
              "6         0.948024        0.000967      20.128936         0.366224   \n",
              "7         0.947494        0.000751      21.458816         0.370651   \n",
              "8         0.946442        0.000590      33.377254         0.460079   \n",
              "9         0.942626        0.001271      38.406523         0.533708   \n",
              "\n",
              "  param_batch_size param_dropout_rate param_lam_l2 param_nlayers  \n",
              "0             2048                  0            0             1  \n",
              "1              512                0.3            0             1  \n",
              "2             2048                0.3            0             1  \n",
              "3             4096                  0            0             1  \n",
              "4             4096                0.3            0             1  \n",
              "5              512                  0            0             1  \n",
              "6             4096                0.3            0             5  \n",
              "7             2048                0.3            0             5  \n",
              "8              512                0.3            0             5  \n",
              "9              512                  0            0            10  "
            ],
            "text/html": [
              "\n",
              "  <div id=\"df-39d964d5-600f-48a3-a526-e5e0d1fd1b85\">\n",
              "    <div class=\"colab-df-container\">\n",
              "      <div>\n",
              "<style scoped>\n",
              "    .dataframe tbody tr th:only-of-type {\n",
              "        vertical-align: middle;\n",
              "    }\n",
              "\n",
              "    .dataframe tbody tr th {\n",
              "        vertical-align: top;\n",
              "    }\n",
              "\n",
              "    .dataframe thead th {\n",
              "        text-align: right;\n",
              "    }\n",
              "</style>\n",
              "<table border=\"1\" class=\"dataframe\">\n",
              "  <thead>\n",
              "    <tr style=\"text-align: right;\">\n",
              "      <th></th>\n",
              "      <th>mean_test_score</th>\n",
              "      <th>std_test_score</th>\n",
              "      <th>mean_fit_time</th>\n",
              "      <th>mean_score_time</th>\n",
              "      <th>param_batch_size</th>\n",
              "      <th>param_dropout_rate</th>\n",
              "      <th>param_lam_l2</th>\n",
              "      <th>param_nlayers</th>\n",
              "    </tr>\n",
              "  </thead>\n",
              "  <tbody>\n",
              "    <tr>\n",
              "      <th>0</th>\n",
              "      <td>0.952874</td>\n",
              "      <td>0.001265</td>\n",
              "      <td>19.606653</td>\n",
              "      <td>0.304203</td>\n",
              "      <td>2048</td>\n",
              "      <td>0</td>\n",
              "      <td>0</td>\n",
              "      <td>1</td>\n",
              "    </tr>\n",
              "    <tr>\n",
              "      <th>1</th>\n",
              "      <td>0.952306</td>\n",
              "      <td>0.000999</td>\n",
              "      <td>30.247239</td>\n",
              "      <td>0.404164</td>\n",
              "      <td>512</td>\n",
              "      <td>0.3</td>\n",
              "      <td>0</td>\n",
              "      <td>1</td>\n",
              "    </tr>\n",
              "    <tr>\n",
              "      <th>2</th>\n",
              "      <td>0.952138</td>\n",
              "      <td>0.001662</td>\n",
              "      <td>19.316914</td>\n",
              "      <td>0.307041</td>\n",
              "      <td>2048</td>\n",
              "      <td>0.3</td>\n",
              "      <td>0</td>\n",
              "      <td>1</td>\n",
              "    </tr>\n",
              "    <tr>\n",
              "      <th>3</th>\n",
              "      <td>0.949970</td>\n",
              "      <td>0.001091</td>\n",
              "      <td>17.742523</td>\n",
              "      <td>0.295999</td>\n",
              "      <td>4096</td>\n",
              "      <td>0</td>\n",
              "      <td>0</td>\n",
              "      <td>1</td>\n",
              "    </tr>\n",
              "    <tr>\n",
              "      <th>4</th>\n",
              "      <td>0.949691</td>\n",
              "      <td>0.001238</td>\n",
              "      <td>17.625663</td>\n",
              "      <td>0.291132</td>\n",
              "      <td>4096</td>\n",
              "      <td>0.3</td>\n",
              "      <td>0</td>\n",
              "      <td>1</td>\n",
              "    </tr>\n",
              "    <tr>\n",
              "      <th>5</th>\n",
              "      <td>0.949458</td>\n",
              "      <td>0.001305</td>\n",
              "      <td>31.011815</td>\n",
              "      <td>0.407232</td>\n",
              "      <td>512</td>\n",
              "      <td>0</td>\n",
              "      <td>0</td>\n",
              "      <td>1</td>\n",
              "    </tr>\n",
              "    <tr>\n",
              "      <th>6</th>\n",
              "      <td>0.948024</td>\n",
              "      <td>0.000967</td>\n",
              "      <td>20.128936</td>\n",
              "      <td>0.366224</td>\n",
              "      <td>4096</td>\n",
              "      <td>0.3</td>\n",
              "      <td>0</td>\n",
              "      <td>5</td>\n",
              "    </tr>\n",
              "    <tr>\n",
              "      <th>7</th>\n",
              "      <td>0.947494</td>\n",
              "      <td>0.000751</td>\n",
              "      <td>21.458816</td>\n",
              "      <td>0.370651</td>\n",
              "      <td>2048</td>\n",
              "      <td>0.3</td>\n",
              "      <td>0</td>\n",
              "      <td>5</td>\n",
              "    </tr>\n",
              "    <tr>\n",
              "      <th>8</th>\n",
              "      <td>0.946442</td>\n",
              "      <td>0.000590</td>\n",
              "      <td>33.377254</td>\n",
              "      <td>0.460079</td>\n",
              "      <td>512</td>\n",
              "      <td>0.3</td>\n",
              "      <td>0</td>\n",
              "      <td>5</td>\n",
              "    </tr>\n",
              "    <tr>\n",
              "      <th>9</th>\n",
              "      <td>0.942626</td>\n",
              "      <td>0.001271</td>\n",
              "      <td>38.406523</td>\n",
              "      <td>0.533708</td>\n",
              "      <td>512</td>\n",
              "      <td>0</td>\n",
              "      <td>0</td>\n",
              "      <td>10</td>\n",
              "    </tr>\n",
              "  </tbody>\n",
              "</table>\n",
              "</div>\n",
              "      <button class=\"colab-df-convert\" onclick=\"convertToInteractive('df-39d964d5-600f-48a3-a526-e5e0d1fd1b85')\"\n",
              "              title=\"Convert this dataframe to an interactive table.\"\n",
              "              style=\"display:none;\">\n",
              "        \n",
              "  <svg xmlns=\"http://www.w3.org/2000/svg\" height=\"24px\"viewBox=\"0 0 24 24\"\n",
              "       width=\"24px\">\n",
              "    <path d=\"M0 0h24v24H0V0z\" fill=\"none\"/>\n",
              "    <path d=\"M18.56 5.44l.94 2.06.94-2.06 2.06-.94-2.06-.94-.94-2.06-.94 2.06-2.06.94zm-11 1L8.5 8.5l.94-2.06 2.06-.94-2.06-.94L8.5 2.5l-.94 2.06-2.06.94zm10 10l.94 2.06.94-2.06 2.06-.94-2.06-.94-.94-2.06-.94 2.06-2.06.94z\"/><path d=\"M17.41 7.96l-1.37-1.37c-.4-.4-.92-.59-1.43-.59-.52 0-1.04.2-1.43.59L10.3 9.45l-7.72 7.72c-.78.78-.78 2.05 0 2.83L4 21.41c.39.39.9.59 1.41.59.51 0 1.02-.2 1.41-.59l7.78-7.78 2.81-2.81c.8-.78.8-2.07 0-2.86zM5.41 20L4 18.59l7.72-7.72 1.47 1.35L5.41 20z\"/>\n",
              "  </svg>\n",
              "      </button>\n",
              "      \n",
              "  <style>\n",
              "    .colab-df-container {\n",
              "      display:flex;\n",
              "      flex-wrap:wrap;\n",
              "      gap: 12px;\n",
              "    }\n",
              "\n",
              "    .colab-df-convert {\n",
              "      background-color: #E8F0FE;\n",
              "      border: none;\n",
              "      border-radius: 50%;\n",
              "      cursor: pointer;\n",
              "      display: none;\n",
              "      fill: #1967D2;\n",
              "      height: 32px;\n",
              "      padding: 0 0 0 0;\n",
              "      width: 32px;\n",
              "    }\n",
              "\n",
              "    .colab-df-convert:hover {\n",
              "      background-color: #E2EBFA;\n",
              "      box-shadow: 0px 1px 2px rgba(60, 64, 67, 0.3), 0px 1px 3px 1px rgba(60, 64, 67, 0.15);\n",
              "      fill: #174EA6;\n",
              "    }\n",
              "\n",
              "    [theme=dark] .colab-df-convert {\n",
              "      background-color: #3B4455;\n",
              "      fill: #D2E3FC;\n",
              "    }\n",
              "\n",
              "    [theme=dark] .colab-df-convert:hover {\n",
              "      background-color: #434B5C;\n",
              "      box-shadow: 0px 1px 3px 1px rgba(0, 0, 0, 0.15);\n",
              "      filter: drop-shadow(0px 1px 2px rgba(0, 0, 0, 0.3));\n",
              "      fill: #FFFFFF;\n",
              "    }\n",
              "  </style>\n",
              "\n",
              "      <script>\n",
              "        const buttonEl =\n",
              "          document.querySelector('#df-39d964d5-600f-48a3-a526-e5e0d1fd1b85 button.colab-df-convert');\n",
              "        buttonEl.style.display =\n",
              "          google.colab.kernel.accessAllowed ? 'block' : 'none';\n",
              "\n",
              "        async function convertToInteractive(key) {\n",
              "          const element = document.querySelector('#df-39d964d5-600f-48a3-a526-e5e0d1fd1b85');\n",
              "          const dataTable =\n",
              "            await google.colab.kernel.invokeFunction('convertToInteractive',\n",
              "                                                     [key], {});\n",
              "          if (!dataTable) return;\n",
              "\n",
              "          const docLinkHtml = 'Like what you see? Visit the ' +\n",
              "            '<a target=\"_blank\" href=https://colab.research.google.com/notebooks/data_table.ipynb>data table notebook</a>'\n",
              "            + ' to learn more about interactive tables.';\n",
              "          element.innerHTML = '';\n",
              "          dataTable['output_type'] = 'display_data';\n",
              "          await google.colab.output.renderOutput(dataTable, element);\n",
              "          const docLink = document.createElement('div');\n",
              "          docLink.innerHTML = docLinkHtml;\n",
              "          element.appendChild(docLink);\n",
              "        }\n",
              "      </script>\n",
              "    </div>\n",
              "  </div>\n",
              "  "
            ]
          },
          "metadata": {},
          "execution_count": 16
        }
      ],
      "source": [
        "cv_results = pd.concat([cv_results0, cv_results1, cv_results2]).sort_values(by=['mean_test_score'], ascending=False).reset_index(drop=True)\n",
        "cv_results.drop(['std_fit_time', 'std_score_time', 'params', 'split0_test_score', 'split1_test_score', \n",
        "                 'split2_test_score', 'split3_test_score', 'split4_test_score'], 1, inplace = True)\n",
        "clist = list(cv_results.columns.values)\n",
        "cv_results_set0_nn = cv_results[clist[-2:] + clist[:-2]]\n",
        "cv_results_set0_nn.head(10)"
      ]
    },
    {
      "cell_type": "code",
      "source": [
        "cv_results_set0_nn.to_csv('cv_results_set0_nn.csv', encoding = 'utf-8-sig') \n",
        "files.download('cv_results_set0_nn.csv')"
      ],
      "metadata": {
        "id": "PD6MUbzgWgpS",
        "outputId": "bb935d4a-636e-4ca7-b0bd-0e7a94cce35c",
        "colab": {
          "base_uri": "https://localhost:8080/",
          "height": 17
        }
      },
      "id": "PD6MUbzgWgpS",
      "execution_count": 17,
      "outputs": [
        {
          "output_type": "display_data",
          "data": {
            "text/plain": [
              "<IPython.core.display.Javascript object>"
            ],
            "application/javascript": [
              "\n",
              "    async function download(id, filename, size) {\n",
              "      if (!google.colab.kernel.accessAllowed) {\n",
              "        return;\n",
              "      }\n",
              "      const div = document.createElement('div');\n",
              "      const label = document.createElement('label');\n",
              "      label.textContent = `Downloading \"${filename}\": `;\n",
              "      div.appendChild(label);\n",
              "      const progress = document.createElement('progress');\n",
              "      progress.max = size;\n",
              "      div.appendChild(progress);\n",
              "      document.body.appendChild(div);\n",
              "\n",
              "      const buffers = [];\n",
              "      let downloaded = 0;\n",
              "\n",
              "      const channel = await google.colab.kernel.comms.open(id);\n",
              "      // Send a message to notify the kernel that we're ready.\n",
              "      channel.send({})\n",
              "\n",
              "      for await (const message of channel.messages) {\n",
              "        // Send a message to notify the kernel that we're ready.\n",
              "        channel.send({})\n",
              "        if (message.buffers) {\n",
              "          for (const buffer of message.buffers) {\n",
              "            buffers.push(buffer);\n",
              "            downloaded += buffer.byteLength;\n",
              "            progress.value = downloaded;\n",
              "          }\n",
              "        }\n",
              "      }\n",
              "      const blob = new Blob(buffers, {type: 'application/binary'});\n",
              "      const a = document.createElement('a');\n",
              "      a.href = window.URL.createObjectURL(blob);\n",
              "      a.download = filename;\n",
              "      div.appendChild(a);\n",
              "      a.click();\n",
              "      div.remove();\n",
              "    }\n",
              "  "
            ]
          },
          "metadata": {}
        },
        {
          "output_type": "display_data",
          "data": {
            "text/plain": [
              "<IPython.core.display.Javascript object>"
            ],
            "application/javascript": [
              "download(\"download_41618b62-ecc1-452e-bd49-b53188656fad\", \"cv_results_set0_nn.csv\", 3513)"
            ]
          },
          "metadata": {}
        }
      ]
    },
    {
      "cell_type": "markdown",
      "id": "popular-teaching",
      "metadata": {
        "id": "popular-teaching"
      },
      "source": [
        "Training the best model on the whole training set"
      ]
    },
    {
      "cell_type": "code",
      "execution_count": null,
      "id": "herbal-wallace",
      "metadata": {
        "id": "herbal-wallace"
      },
      "outputs": [],
      "source": [
        "clear_session()\n",
        "\n",
        "model = create_nn_model(dropout_rate=0, lam_l2=0, learn_rate=1e-3, nlayers=1)\n",
        "model.summary()"
      ]
    },
    {
      "cell_type": "code",
      "execution_count": null,
      "id": "fabulous-facility",
      "metadata": {
        "id": "fabulous-facility"
      },
      "outputs": [],
      "source": [
        "history = model.fit(X_train, dummy_y_train, epochs=50, verbose=True, validation_data=(X_test, dummy_y_test),\n",
        "                    batch_size=2048)"
      ]
    },
    {
      "cell_type": "code",
      "execution_count": 20,
      "id": "greatest-greenhouse",
      "metadata": {
        "id": "greatest-greenhouse",
        "outputId": "d62cf0f9-c526-4587-8b96-336278a3c28e",
        "colab": {
          "base_uri": "https://localhost:8080/"
        }
      },
      "outputs": [
        {
          "output_type": "stream",
          "name": "stdout",
          "text": [
            "Training Accuracy: 0.9851\n",
            "Testing Accuracy:  0.9529\n"
          ]
        }
      ],
      "source": [
        "loss, accuracy = model.evaluate(X_train, dummy_y_train, verbose=False)\n",
        "print(\"Training Accuracy: {:.4f}\".format(accuracy))\n",
        "loss, accuracy = model.evaluate(X_test, dummy_y_test, verbose=False)\n",
        "print(\"Testing Accuracy:  {:.4f}\".format(accuracy))"
      ]
    },
    {
      "cell_type": "code",
      "execution_count": 21,
      "id": "searching-trainer",
      "metadata": {
        "id": "searching-trainer",
        "outputId": "76b3b4b2-8d0f-42db-b32d-895b3d4ab2ca",
        "colab": {
          "base_uri": "https://localhost:8080/",
          "height": 337
        }
      },
      "outputs": [
        {
          "output_type": "display_data",
          "data": {
            "text/plain": [
              "<Figure size 864x360 with 2 Axes>"
            ],
            "image/png": "[encoded data removed]"
          },
          "metadata": {}
        }
      ],
      "source": [
        "plt.style.use('ggplot')\n",
        "   \n",
        "plot_history(history)"
      ]
    },
    {
      "cell_type": "code",
      "execution_count": 24,
      "id": "beginning-somalia",
      "metadata": {
        "id": "beginning-somalia",
        "outputId": "aa84ae85-9a19-4d8b-e7d0-c35de32db5d2",
        "colab": {
          "base_uri": "https://localhost:8080/",
          "height": 473
        }
      },
      "outputs": [
        {
          "output_type": "display_data",
          "data": {
            "text/plain": [
              "<Figure size 576x432 with 2 Axes>"
            ],
            "image/png": "[encoded data removed]"
          },
          "metadata": {}
        }
      ],
      "source": [
        "test_predicted_prob = model.predict(X_test)\n",
        "test_predicted_classes = test_predicted_prob.argmax(1)\n",
        "\n",
        "#Confusion matrix\n",
        "conf = confusion_matrix(encoded_y_test, test_predicted_classes)\n",
        "le_name_mapping = dict(zip(encoder.transform(encoder.classes_), encoder.classes_))\n",
        "class_codes = [le_name_mapping[i] for i in range(3)]\n",
        "plot_confusion_matrix(conf, class_codes)"
      ]
    },
    {
      "cell_type": "markdown",
      "source": [
        "Set 1"
      ],
      "metadata": {
        "id": "XsnljElTvhUH"
      },
      "id": "XsnljElTvhUH"
    },
    {
      "cell_type": "code",
      "source": [
        "select_data = data_ready[data_ready['category'].isin(cat_index[4:9])].reset_index(drop=True)\n",
        "print(select_data['category'].value_counts())\n",
        "\n",
        "#SPLITTING THE TRAINING DATASET INTO TRAIN AND TEST\n",
        "X_train, X_test, y_train, y_test = train_test_split(select_data[\"clean_text\"], select_data[\"category\"], random_state = 1000,\n",
        "                                                    stratify = select_data[\"category\"], test_size=0.2, shuffle=True)\n",
        "\n",
        "#Tf-Idf\n",
        "tfidf_vectorizer = TfidfVectorizer(use_idf=True)\n",
        "X_train = tfidf_vectorizer.fit_transform(X_train) \n",
        "X_test = tfidf_vectorizer.transform(X_test)\n",
        "\n",
        "X_train.sort_indices()\n",
        "X_test.sort_indices()\n",
        "y_train.sort_indices()\n",
        "y_test.sort_indices()\n",
        "\n",
        "# encode class values as integers\n",
        "encoder = LabelEncoder()\n",
        "encoder.fit(y_train)\n",
        "encoded_y_train = encoder.transform(y_train)\n",
        "encoded_y_test = encoder.transform(y_test)\n",
        "# convert integers to dummy variables (i.e. one hot encoded)\n",
        "dummy_y_train = to_categorical(encoded_y_train)\n",
        "dummy_y_test = to_categorical(encoded_y_test)\n",
        "\n",
        "input_dim = X_train.shape[1]  # Number of features\n",
        "\n",
        "model = KerasClassifier(build_fn=create_nn_model, epochs=25, verbose=0, nclass=5)"
      ],
      "metadata": {
        "id": "KMlQyZMfWA-h",
        "outputId": "311d54b4-76fc-41f8-a93f-5c8daa27bf59",
        "colab": {
          "base_uri": "https://localhost:8080/"
        }
      },
      "id": "KMlQyZMfWA-h",
      "execution_count": 35,
      "outputs": [
        {
          "output_type": "stream",
          "name": "stdout",
          "text": [
            "stat       19868\n",
            "math-ph    17597\n",
            "nucl-th    13730\n",
            "q-bio      13316\n",
            "hep-ex     10158\n",
            "Name: category, dtype: int64\n"
          ]
        },
        {
          "output_type": "stream",
          "name": "stderr",
          "text": [
            "/usr/local/lib/python3.7/dist-packages/ipykernel_launcher.py:27: DeprecationWarning: KerasClassifier is deprecated, use Sci-Keras (https://github.com/adriangb/scikeras) instead. See https://www.adriangb.com/scikeras/stable/migration.html for help migrating.\n"
          ]
        }
      ]
    },
    {
      "cell_type": "code",
      "source": [
        "#1 hidden layer\n",
        "\n",
        "param_grid = dict(batch_size=cand_bs, dropout_rate=cand_dr, lam_l2=cand_l2, nlayers=cand_ln[2:3])\n",
        "grid = GridSearchCV(estimator=model, param_grid=param_grid, verbose = 3, n_jobs=1, cv=5)\n",
        "\n",
        "grid_result = grid.fit(X_train, dummy_y_train)\n",
        "\n",
        "# summarize results\n",
        "print(\"Best with 1 hidden layer: %f using %s\" % (grid_result.best_score_, grid_result.best_params_))\n",
        "means = grid_result.cv_results_['mean_test_score']\n",
        "stds = grid_result.cv_results_['std_test_score']\n",
        "params = grid_result.cv_results_['params']\n",
        "\n",
        "cv_results0 = pd.DataFrame.from_dict(grid_result.cv_results_).sort_values(by=['rank_test_score']).set_index('rank_test_score')"
      ],
      "metadata": {
        "id": "zaDhCLCxWP0_"
      },
      "id": "zaDhCLCxWP0_",
      "execution_count": null,
      "outputs": []
    },
    {
      "cell_type": "code",
      "source": [
        "#5 hidden layers\n",
        "\n",
        "param_grid = dict(batch_size=cand_bs, dropout_rate=cand_dr, lam_l2=cand_l2, nlayers=cand_ln[1:2])\n",
        "grid = GridSearchCV(estimator=model, param_grid=param_grid, verbose = 3, n_jobs=1, cv=5)\n",
        "\n",
        "grid_result = grid.fit(X_train, dummy_y_train)\n",
        "\n",
        "# summarize results\n",
        "print(\"Best with 5 hidden layers: %f using %s\" % (grid_result.best_score_, grid_result.best_params_))\n",
        "means = grid_result.cv_results_['mean_test_score']\n",
        "stds = grid_result.cv_results_['std_test_score']\n",
        "params = grid_result.cv_results_['params']\n",
        "\n",
        "cv_results1 = pd.DataFrame.from_dict(grid_result.cv_results_).sort_values(by=['rank_test_score']).set_index('rank_test_score')"
      ],
      "metadata": {
        "id": "czDiA1vXW0aQ"
      },
      "id": "czDiA1vXW0aQ",
      "execution_count": null,
      "outputs": []
    },
    {
      "cell_type": "code",
      "source": [
        "#10 hidden layers\n",
        "\n",
        "param_grid = dict(batch_size=cand_bs, dropout_rate=cand_dr, lam_l2=cand_l2, nlayers=cand_ln[0:1])\n",
        "grid = GridSearchCV(estimator=model, param_grid=param_grid, verbose = 3, n_jobs=1, cv=5)\n",
        "\n",
        "grid_result = grid.fit(X_train, dummy_y_train)\n",
        "\n",
        "# summarize results\n",
        "print(\"Best with 10 hidden layers: %f using %s\" % (grid_result.best_score_, grid_result.best_params_))\n",
        "means = grid_result.cv_results_['mean_test_score']\n",
        "stds = grid_result.cv_results_['std_test_score']\n",
        "params = grid_result.cv_results_['params']\n",
        "\n",
        "cv_results2 = pd.DataFrame.from_dict(grid_result.cv_results_).sort_values(by=['rank_test_score']).set_index('rank_test_score')"
      ],
      "metadata": {
        "id": "iciEQ3M5XBeA"
      },
      "id": "iciEQ3M5XBeA",
      "execution_count": null,
      "outputs": []
    },
    {
      "cell_type": "code",
      "source": [
        "cv_results = pd.concat([cv_results0, cv_results1, cv_results2]).sort_values(by=['mean_test_score'], ascending=False).reset_index(drop=True)\n",
        "cv_results.drop(['std_fit_time', 'std_score_time', 'params', 'split0_test_score', 'split1_test_score', \n",
        "                 'split2_test_score', 'split3_test_score', 'split4_test_score'], 1, inplace = True)\n",
        "clist = list(cv_results.columns.values)\n",
        "cv_results_set1_nn = cv_results[clist[-2:] + clist[:-2]]\n",
        "cv_results_set1_nn.head(10)"
      ],
      "metadata": {
        "id": "ER_wuevAXFDG",
        "outputId": "a007e329-2377-479e-8561-9e5d1ff57a76",
        "colab": {
          "base_uri": "https://localhost:8080/",
          "height": 398
        }
      },
      "id": "ER_wuevAXFDG",
      "execution_count": 41,
      "outputs": [
        {
          "output_type": "stream",
          "name": "stderr",
          "text": [
            "/usr/local/lib/python3.7/dist-packages/ipykernel_launcher.py:3: FutureWarning: In a future version of pandas all arguments of DataFrame.drop except for the argument 'labels' will be keyword-only\n",
            "  This is separate from the ipykernel package so we can avoid doing imports until\n"
          ]
        },
        {
          "output_type": "execute_result",
          "data": {
            "text/plain": [
              "   mean_test_score  std_test_score  mean_fit_time  mean_score_time  \\\n",
              "0         0.956541        0.000583      25.060851         0.310192   \n",
              "1         0.956458        0.000975      26.447002         0.310058   \n",
              "2         0.953428        0.000616      13.995536         0.321429   \n",
              "3         0.950632        0.001647      13.851811         0.241693   \n",
              "4         0.949628        0.003069      14.739215         0.305614   \n",
              "5         0.945426        0.003077      24.351287         0.433355   \n",
              "6         0.944756        0.002685      25.359168         0.353253   \n",
              "7         0.943400        0.006133      14.362242         0.299939   \n",
              "8         0.942295        0.006324      12.511711         0.235048   \n",
              "9         0.941157        0.004503      13.344885         0.240714   \n",
              "\n",
              "  param_batch_size param_dropout_rate param_lam_l2 param_nlayers  \n",
              "0              512                0.3            0             1  \n",
              "1              512                  0            0             1  \n",
              "2             2048                  0            0             1  \n",
              "3             2048                0.3            0             1  \n",
              "4             2048                0.3            0             5  \n",
              "5              512                0.3            0             5  \n",
              "6              512                  0            0             5  \n",
              "7             2048                  0            0             5  \n",
              "8             4096                0.3            0             1  \n",
              "9             4096                  0            0             1  "
            ],
            "text/html": [
              "\n",
              "  <div id=\"df-e77ed2c3-49ee-4351-9e0b-ce5db862c44b\">\n",
              "    <div class=\"colab-df-container\">\n",
              "      <div>\n",
              "<style scoped>\n",
              "    .dataframe tbody tr th:only-of-type {\n",
              "        vertical-align: middle;\n",
              "    }\n",
              "\n",
              "    .dataframe tbody tr th {\n",
              "        vertical-align: top;\n",
              "    }\n",
              "\n",
              "    .dataframe thead th {\n",
              "        text-align: right;\n",
              "    }\n",
              "</style>\n",
              "<table border=\"1\" class=\"dataframe\">\n",
              "  <thead>\n",
              "    <tr style=\"text-align: right;\">\n",
              "      <th></th>\n",
              "      <th>mean_test_score</th>\n",
              "      <th>std_test_score</th>\n",
              "      <th>mean_fit_time</th>\n",
              "      <th>mean_score_time</th>\n",
              "      <th>param_batch_size</th>\n",
              "      <th>param_dropout_rate</th>\n",
              "      <th>param_lam_l2</th>\n",
              "      <th>param_nlayers</th>\n",
              "    </tr>\n",
              "  </thead>\n",
              "  <tbody>\n",
              "    <tr>\n",
              "      <th>0</th>\n",
              "      <td>0.956541</td>\n",
              "      <td>0.000583</td>\n",
              "      <td>25.060851</td>\n",
              "      <td>0.310192</td>\n",
              "      <td>512</td>\n",
              "      <td>0.3</td>\n",
              "      <td>0</td>\n",
              "      <td>1</td>\n",
              "    </tr>\n",
              "    <tr>\n",
              "      <th>1</th>\n",
              "      <td>0.956458</td>\n",
              "      <td>0.000975</td>\n",
              "      <td>26.447002</td>\n",
              "      <td>0.310058</td>\n",
              "      <td>512</td>\n",
              "      <td>0</td>\n",
              "      <td>0</td>\n",
              "      <td>1</td>\n",
              "    </tr>\n",
              "    <tr>\n",
              "      <th>2</th>\n",
              "      <td>0.953428</td>\n",
              "      <td>0.000616</td>\n",
              "      <td>13.995536</td>\n",
              "      <td>0.321429</td>\n",
              "      <td>2048</td>\n",
              "      <td>0</td>\n",
              "      <td>0</td>\n",
              "      <td>1</td>\n",
              "    </tr>\n",
              "    <tr>\n",
              "      <th>3</th>\n",
              "      <td>0.950632</td>\n",
              "      <td>0.001647</td>\n",
              "      <td>13.851811</td>\n",
              "      <td>0.241693</td>\n",
              "      <td>2048</td>\n",
              "      <td>0.3</td>\n",
              "      <td>0</td>\n",
              "      <td>1</td>\n",
              "    </tr>\n",
              "    <tr>\n",
              "      <th>4</th>\n",
              "      <td>0.949628</td>\n",
              "      <td>0.003069</td>\n",
              "      <td>14.739215</td>\n",
              "      <td>0.305614</td>\n",
              "      <td>2048</td>\n",
              "      <td>0.3</td>\n",
              "      <td>0</td>\n",
              "      <td>5</td>\n",
              "    </tr>\n",
              "    <tr>\n",
              "      <th>5</th>\n",
              "      <td>0.945426</td>\n",
              "      <td>0.003077</td>\n",
              "      <td>24.351287</td>\n",
              "      <td>0.433355</td>\n",
              "      <td>512</td>\n",
              "      <td>0.3</td>\n",
              "      <td>0</td>\n",
              "      <td>5</td>\n",
              "    </tr>\n",
              "    <tr>\n",
              "      <th>6</th>\n",
              "      <td>0.944756</td>\n",
              "      <td>0.002685</td>\n",
              "      <td>25.359168</td>\n",
              "      <td>0.353253</td>\n",
              "      <td>512</td>\n",
              "      <td>0</td>\n",
              "      <td>0</td>\n",
              "      <td>5</td>\n",
              "    </tr>\n",
              "    <tr>\n",
              "      <th>7</th>\n",
              "      <td>0.943400</td>\n",
              "      <td>0.006133</td>\n",
              "      <td>14.362242</td>\n",
              "      <td>0.299939</td>\n",
              "      <td>2048</td>\n",
              "      <td>0</td>\n",
              "      <td>0</td>\n",
              "      <td>5</td>\n",
              "    </tr>\n",
              "    <tr>\n",
              "      <th>8</th>\n",
              "      <td>0.942295</td>\n",
              "      <td>0.006324</td>\n",
              "      <td>12.511711</td>\n",
              "      <td>0.235048</td>\n",
              "      <td>4096</td>\n",
              "      <td>0.3</td>\n",
              "      <td>0</td>\n",
              "      <td>1</td>\n",
              "    </tr>\n",
              "    <tr>\n",
              "      <th>9</th>\n",
              "      <td>0.941157</td>\n",
              "      <td>0.004503</td>\n",
              "      <td>13.344885</td>\n",
              "      <td>0.240714</td>\n",
              "      <td>4096</td>\n",
              "      <td>0</td>\n",
              "      <td>0</td>\n",
              "      <td>1</td>\n",
              "    </tr>\n",
              "  </tbody>\n",
              "</table>\n",
              "</div>\n",
              "      <button class=\"colab-df-convert\" onclick=\"convertToInteractive('df-e77ed2c3-49ee-4351-9e0b-ce5db862c44b')\"\n",
              "              title=\"Convert this dataframe to an interactive table.\"\n",
              "              style=\"display:none;\">\n",
              "        \n",
              "  <svg xmlns=\"http://www.w3.org/2000/svg\" height=\"24px\"viewBox=\"0 0 24 24\"\n",
              "       width=\"24px\">\n",
              "    <path d=\"M0 0h24v24H0V0z\" fill=\"none\"/>\n",
              "    <path d=\"M18.56 5.44l.94 2.06.94-2.06 2.06-.94-2.06-.94-.94-2.06-.94 2.06-2.06.94zm-11 1L8.5 8.5l.94-2.06 2.06-.94-2.06-.94L8.5 2.5l-.94 2.06-2.06.94zm10 10l.94 2.06.94-2.06 2.06-.94-2.06-.94-.94-2.06-.94 2.06-2.06.94z\"/><path d=\"M17.41 7.96l-1.37-1.37c-.4-.4-.92-.59-1.43-.59-.52 0-1.04.2-1.43.59L10.3 9.45l-7.72 7.72c-.78.78-.78 2.05 0 2.83L4 21.41c.39.39.9.59 1.41.59.51 0 1.02-.2 1.41-.59l7.78-7.78 2.81-2.81c.8-.78.8-2.07 0-2.86zM5.41 20L4 18.59l7.72-7.72 1.47 1.35L5.41 20z\"/>\n",
              "  </svg>\n",
              "      </button>\n",
              "      \n",
              "  <style>\n",
              "    .colab-df-container {\n",
              "      display:flex;\n",
              "      flex-wrap:wrap;\n",
              "      gap: 12px;\n",
              "    }\n",
              "\n",
              "    .colab-df-convert {\n",
              "      background-color: #E8F0FE;\n",
              "      border: none;\n",
              "      border-radius: 50%;\n",
              "      cursor: pointer;\n",
              "      display: none;\n",
              "      fill: #1967D2;\n",
              "      height: 32px;\n",
              "      padding: 0 0 0 0;\n",
              "      width: 32px;\n",
              "    }\n",
              "\n",
              "    .colab-df-convert:hover {\n",
              "      background-color: #E2EBFA;\n",
              "      box-shadow: 0px 1px 2px rgba(60, 64, 67, 0.3), 0px 1px 3px 1px rgba(60, 64, 67, 0.15);\n",
              "      fill: #174EA6;\n",
              "    }\n",
              "\n",
              "    [theme=dark] .colab-df-convert {\n",
              "      background-color: #3B4455;\n",
              "      fill: #D2E3FC;\n",
              "    }\n",
              "\n",
              "    [theme=dark] .colab-df-convert:hover {\n",
              "      background-color: #434B5C;\n",
              "      box-shadow: 0px 1px 3px 1px rgba(0, 0, 0, 0.15);\n",
              "      filter: drop-shadow(0px 1px 2px rgba(0, 0, 0, 0.3));\n",
              "      fill: #FFFFFF;\n",
              "    }\n",
              "  </style>\n",
              "\n",
              "      <script>\n",
              "        const buttonEl =\n",
              "          document.querySelector('#df-e77ed2c3-49ee-4351-9e0b-ce5db862c44b button.colab-df-convert');\n",
              "        buttonEl.style.display =\n",
              "          google.colab.kernel.accessAllowed ? 'block' : 'none';\n",
              "\n",
              "        async function convertToInteractive(key) {\n",
              "          const element = document.querySelector('#df-e77ed2c3-49ee-4351-9e0b-ce5db862c44b');\n",
              "          const dataTable =\n",
              "            await google.colab.kernel.invokeFunction('convertToInteractive',\n",
              "                                                     [key], {});\n",
              "          if (!dataTable) return;\n",
              "\n",
              "          const docLinkHtml = 'Like what you see? Visit the ' +\n",
              "            '<a target=\"_blank\" href=https://colab.research.google.com/notebooks/data_table.ipynb>data table notebook</a>'\n",
              "            + ' to learn more about interactive tables.';\n",
              "          element.innerHTML = '';\n",
              "          dataTable['output_type'] = 'display_data';\n",
              "          await google.colab.output.renderOutput(dataTable, element);\n",
              "          const docLink = document.createElement('div');\n",
              "          docLink.innerHTML = docLinkHtml;\n",
              "          element.appendChild(docLink);\n",
              "        }\n",
              "      </script>\n",
              "    </div>\n",
              "  </div>\n",
              "  "
            ]
          },
          "metadata": {},
          "execution_count": 41
        }
      ]
    },
    {
      "cell_type": "code",
      "source": [
        "cv_results_set1_nn.to_csv('cv_results_set1_nn.csv', encoding = 'utf-8-sig') \n",
        "files.download('cv_results_set1_nn.csv')"
      ],
      "metadata": {
        "id": "Ay5sUErZXIcD",
        "outputId": "8f284cd5-0d30-49a6-e975-75765819229e",
        "colab": {
          "base_uri": "https://localhost:8080/",
          "height": 17
        }
      },
      "id": "Ay5sUErZXIcD",
      "execution_count": 42,
      "outputs": [
        {
          "output_type": "display_data",
          "data": {
            "text/plain": [
              "<IPython.core.display.Javascript object>"
            ],
            "application/javascript": [
              "\n",
              "    async function download(id, filename, size) {\n",
              "      if (!google.colab.kernel.accessAllowed) {\n",
              "        return;\n",
              "      }\n",
              "      const div = document.createElement('div');\n",
              "      const label = document.createElement('label');\n",
              "      label.textContent = `Downloading \"${filename}\": `;\n",
              "      div.appendChild(label);\n",
              "      const progress = document.createElement('progress');\n",
              "      progress.max = size;\n",
              "      div.appendChild(progress);\n",
              "      document.body.appendChild(div);\n",
              "\n",
              "      const buffers = [];\n",
              "      let downloaded = 0;\n",
              "\n",
              "      const channel = await google.colab.kernel.comms.open(id);\n",
              "      // Send a message to notify the kernel that we're ready.\n",
              "      channel.send({})\n",
              "\n",
              "      for await (const message of channel.messages) {\n",
              "        // Send a message to notify the kernel that we're ready.\n",
              "        channel.send({})\n",
              "        if (message.buffers) {\n",
              "          for (const buffer of message.buffers) {\n",
              "            buffers.push(buffer);\n",
              "            downloaded += buffer.byteLength;\n",
              "            progress.value = downloaded;\n",
              "          }\n",
              "        }\n",
              "      }\n",
              "      const blob = new Blob(buffers, {type: 'application/binary'});\n",
              "      const a = document.createElement('a');\n",
              "      a.href = window.URL.createObjectURL(blob);\n",
              "      a.download = filename;\n",
              "      div.appendChild(a);\n",
              "      a.click();\n",
              "      div.remove();\n",
              "    }\n",
              "  "
            ]
          },
          "metadata": {}
        },
        {
          "output_type": "display_data",
          "data": {
            "text/plain": [
              "<IPython.core.display.Javascript object>"
            ],
            "application/javascript": [
              "download(\"download_6358ebab-b104-4088-8cc9-8d643e8f4430\", \"cv_results_set1_nn.csv\", 3510)"
            ]
          },
          "metadata": {}
        }
      ]
    },
    {
      "cell_type": "code",
      "source": [
        "clear_session()\n",
        "\n",
        "model = create_nn_model(dropout_rate=0.3, lam_l2=0, learn_rate=1e-3, nlayers=1, nclass=5)\n",
        "model.summary()"
      ],
      "metadata": {
        "id": "KvpBHMIggcXM",
        "outputId": "9fad630b-cd92-4b79-95f9-1230f4165413",
        "colab": {
          "base_uri": "https://localhost:8080/"
        }
      },
      "id": "KvpBHMIggcXM",
      "execution_count": 46,
      "outputs": [
        {
          "output_type": "stream",
          "name": "stdout",
          "text": [
            "Model: \"Neural_network\"\n",
            "_________________________________________________________________\n",
            " Layer (type)                Output Shape              Param #   \n",
            "=================================================================\n",
            " dense (Dense)               (None, 8)                 491336    \n",
            "                                                                 \n",
            " dropout (Dropout)           (None, 8)                 0         \n",
            "                                                                 \n",
            " dense_1 (Dense)             (None, 5)                 45        \n",
            "                                                                 \n",
            "=================================================================\n",
            "Total params: 491,381\n",
            "Trainable params: 491,381\n",
            "Non-trainable params: 0\n",
            "_________________________________________________________________\n"
          ]
        }
      ]
    },
    {
      "cell_type": "code",
      "source": [
        "history = model.fit(X_train, dummy_y_train, epochs=50, verbose=True, validation_data=(X_test, dummy_y_test), batch_size=512)\n",
        "\n",
        "loss, accuracy = model.evaluate(X_train, dummy_y_train, verbose=False)\n",
        "print(\"Training Accuracy: {:.4f}\".format(accuracy))\n",
        "loss, accuracy = model.evaluate(X_test, dummy_y_test, verbose=False)\n",
        "print(\"Testing Accuracy:  {:.4f}\".format(accuracy))"
      ],
      "metadata": {
        "id": "wgipp_hovo7i",
        "outputId": "f27e5e4f-fef8-47fb-c523-f7f7937d01e8",
        "colab": {
          "base_uri": "https://localhost:8080/"
        }
      },
      "id": "wgipp_hovo7i",
      "execution_count": 47,
      "outputs": [
        {
          "output_type": "stream",
          "name": "stdout",
          "text": [
            "Epoch 1/50\n"
          ]
        },
        {
          "output_type": "stream",
          "name": "stderr",
          "text": [
            "/usr/local/lib/python3.7/dist-packages/tensorflow/python/framework/indexed_slices.py:446: UserWarning: Converting sparse IndexedSlices(IndexedSlices(indices=Tensor(\"gradient_tape/Neural_network/dense/embedding_lookup_sparse/Reshape_1:0\", shape=(None,), dtype=int32), values=Tensor(\"gradient_tape/Neural_network/dense/embedding_lookup_sparse/Reshape:0\", shape=(None, 8), dtype=float32), dense_shape=Tensor(\"gradient_tape/Neural_network/dense/embedding_lookup_sparse/Cast:0\", shape=(2,), dtype=int32))) to a dense Tensor of unknown shape. This may consume a large amount of memory.\n",
            "  \"shape. This may consume a large amount of memory.\" % value)\n"
          ]
        },
        {
          "output_type": "stream",
          "name": "stdout",
          "text": [
            "117/117 [==============================] - 2s 10ms/step - loss: 1.3926 - accuracy: 0.5412 - val_loss: 1.1397 - val_accuracy: 0.8354\n",
            "Epoch 2/50\n",
            "117/117 [==============================] - 1s 8ms/step - loss: 0.9783 - accuracy: 0.7508 - val_loss: 0.7231 - val_accuracy: 0.9277\n",
            "Epoch 3/50\n",
            "117/117 [==============================] - 2s 11ms/step - loss: 0.7063 - accuracy: 0.8012 - val_loss: 0.4798 - val_accuracy: 0.9423\n",
            "Epoch 4/50\n",
            "117/117 [==============================] - 1s 8ms/step - loss: 0.5661 - accuracy: 0.8291 - val_loss: 0.3546 - val_accuracy: 0.9468\n",
            "Epoch 5/50\n",
            "117/117 [==============================] - 1s 8ms/step - loss: 0.4861 - accuracy: 0.8440 - val_loss: 0.2864 - val_accuracy: 0.9501\n",
            "Epoch 6/50\n",
            "117/117 [==============================] - 1s 8ms/step - loss: 0.4325 - accuracy: 0.8578 - val_loss: 0.2439 - val_accuracy: 0.9520\n",
            "Epoch 7/50\n",
            "117/117 [==============================] - 1s 8ms/step - loss: 0.4007 - accuracy: 0.8626 - val_loss: 0.2169 - val_accuracy: 0.9549\n",
            "Epoch 8/50\n",
            "117/117 [==============================] - 1s 8ms/step - loss: 0.3766 - accuracy: 0.8682 - val_loss: 0.1980 - val_accuracy: 0.9557\n",
            "Epoch 9/50\n",
            "117/117 [==============================] - 1s 8ms/step - loss: 0.3554 - accuracy: 0.8731 - val_loss: 0.1837 - val_accuracy: 0.9576\n",
            "Epoch 10/50\n",
            "117/117 [==============================] - 1s 8ms/step - loss: 0.3376 - accuracy: 0.8767 - val_loss: 0.1728 - val_accuracy: 0.9582\n",
            "Epoch 11/50\n",
            "117/117 [==============================] - 1s 8ms/step - loss: 0.3245 - accuracy: 0.8798 - val_loss: 0.1650 - val_accuracy: 0.9588\n",
            "Epoch 12/50\n",
            "117/117 [==============================] - 1s 8ms/step - loss: 0.3112 - accuracy: 0.8823 - val_loss: 0.1589 - val_accuracy: 0.9579\n",
            "Epoch 13/50\n",
            "117/117 [==============================] - 1s 8ms/step - loss: 0.3006 - accuracy: 0.8859 - val_loss: 0.1547 - val_accuracy: 0.9586\n",
            "Epoch 14/50\n",
            "117/117 [==============================] - 1s 8ms/step - loss: 0.2925 - accuracy: 0.8875 - val_loss: 0.1508 - val_accuracy: 0.9584\n",
            "Epoch 15/50\n",
            "117/117 [==============================] - 1s 8ms/step - loss: 0.2786 - accuracy: 0.8986 - val_loss: 0.1470 - val_accuracy: 0.9583\n",
            "Epoch 16/50\n",
            "117/117 [==============================] - 1s 8ms/step - loss: 0.2698 - accuracy: 0.9063 - val_loss: 0.1451 - val_accuracy: 0.9581\n",
            "Epoch 17/50\n",
            "117/117 [==============================] - 1s 8ms/step - loss: 0.2593 - accuracy: 0.9131 - val_loss: 0.1424 - val_accuracy: 0.9575\n",
            "Epoch 18/50\n",
            "117/117 [==============================] - 1s 8ms/step - loss: 0.2460 - accuracy: 0.9174 - val_loss: 0.1402 - val_accuracy: 0.9573\n",
            "Epoch 19/50\n",
            "117/117 [==============================] - 1s 8ms/step - loss: 0.2362 - accuracy: 0.9204 - val_loss: 0.1389 - val_accuracy: 0.9575\n",
            "Epoch 20/50\n",
            "117/117 [==============================] - 1s 8ms/step - loss: 0.2311 - accuracy: 0.9208 - val_loss: 0.1375 - val_accuracy: 0.9577\n",
            "Epoch 21/50\n",
            "117/117 [==============================] - 1s 8ms/step - loss: 0.2267 - accuracy: 0.9224 - val_loss: 0.1371 - val_accuracy: 0.9579\n",
            "Epoch 22/50\n",
            "117/117 [==============================] - 1s 8ms/step - loss: 0.2184 - accuracy: 0.9246 - val_loss: 0.1361 - val_accuracy: 0.9579\n",
            "Epoch 23/50\n",
            "117/117 [==============================] - 1s 9ms/step - loss: 0.2133 - accuracy: 0.9260 - val_loss: 0.1357 - val_accuracy: 0.9579\n",
            "Epoch 24/50\n",
            "117/117 [==============================] - 2s 11ms/step - loss: 0.2095 - accuracy: 0.9260 - val_loss: 0.1365 - val_accuracy: 0.9578\n",
            "Epoch 25/50\n",
            "117/117 [==============================] - 1s 10ms/step - loss: 0.2023 - accuracy: 0.9283 - val_loss: 0.1361 - val_accuracy: 0.9575\n",
            "Epoch 26/50\n",
            "117/117 [==============================] - 1s 10ms/step - loss: 0.1997 - accuracy: 0.9317 - val_loss: 0.1368 - val_accuracy: 0.9575\n",
            "Epoch 27/50\n",
            "117/117 [==============================] - 2s 11ms/step - loss: 0.1951 - accuracy: 0.9316 - val_loss: 0.1367 - val_accuracy: 0.9575\n",
            "Epoch 28/50\n",
            "117/117 [==============================] - 2s 11ms/step - loss: 0.1906 - accuracy: 0.9336 - val_loss: 0.1378 - val_accuracy: 0.9575\n",
            "Epoch 29/50\n",
            "117/117 [==============================] - 1s 10ms/step - loss: 0.1861 - accuracy: 0.9356 - val_loss: 0.1381 - val_accuracy: 0.9574\n",
            "Epoch 30/50\n",
            "117/117 [==============================] - 2s 11ms/step - loss: 0.1807 - accuracy: 0.9381 - val_loss: 0.1383 - val_accuracy: 0.9572\n",
            "Epoch 31/50\n",
            "117/117 [==============================] - 2s 11ms/step - loss: 0.1778 - accuracy: 0.9369 - val_loss: 0.1394 - val_accuracy: 0.9578\n",
            "Epoch 32/50\n",
            "117/117 [==============================] - 2s 12ms/step - loss: 0.1785 - accuracy: 0.9377 - val_loss: 0.1410 - val_accuracy: 0.9576\n",
            "Epoch 33/50\n",
            "117/117 [==============================] - 1s 9ms/step - loss: 0.1720 - accuracy: 0.9398 - val_loss: 0.1419 - val_accuracy: 0.9569\n",
            "Epoch 34/50\n",
            "117/117 [==============================] - 2s 10ms/step - loss: 0.1719 - accuracy: 0.9398 - val_loss: 0.1437 - val_accuracy: 0.9571\n",
            "Epoch 35/50\n",
            "117/117 [==============================] - 2s 11ms/step - loss: 0.1610 - accuracy: 0.9437 - val_loss: 0.1446 - val_accuracy: 0.9571\n",
            "Epoch 36/50\n",
            "117/117 [==============================] - 2s 10ms/step - loss: 0.1647 - accuracy: 0.9414 - val_loss: 0.1458 - val_accuracy: 0.9577\n",
            "Epoch 37/50\n",
            "117/117 [==============================] - 1s 8ms/step - loss: 0.1599 - accuracy: 0.9433 - val_loss: 0.1475 - val_accuracy: 0.9575\n",
            "Epoch 38/50\n",
            "117/117 [==============================] - 1s 8ms/step - loss: 0.1594 - accuracy: 0.9428 - val_loss: 0.1487 - val_accuracy: 0.9574\n",
            "Epoch 39/50\n",
            "117/117 [==============================] - 1s 8ms/step - loss: 0.1555 - accuracy: 0.9452 - val_loss: 0.1489 - val_accuracy: 0.9572\n",
            "Epoch 40/50\n",
            "117/117 [==============================] - 1s 8ms/step - loss: 0.1560 - accuracy: 0.9433 - val_loss: 0.1511 - val_accuracy: 0.9576\n",
            "Epoch 41/50\n",
            "117/117 [==============================] - 1s 8ms/step - loss: 0.1537 - accuracy: 0.9440 - val_loss: 0.1529 - val_accuracy: 0.9574\n",
            "Epoch 42/50\n",
            "117/117 [==============================] - 1s 8ms/step - loss: 0.1490 - accuracy: 0.9463 - val_loss: 0.1545 - val_accuracy: 0.9576\n",
            "Epoch 43/50\n",
            "117/117 [==============================] - 1s 8ms/step - loss: 0.1504 - accuracy: 0.9443 - val_loss: 0.1555 - val_accuracy: 0.9575\n",
            "Epoch 44/50\n",
            "117/117 [==============================] - 1s 8ms/step - loss: 0.1507 - accuracy: 0.9436 - val_loss: 0.1571 - val_accuracy: 0.9571\n",
            "Epoch 45/50\n",
            "117/117 [==============================] - 1s 9ms/step - loss: 0.1446 - accuracy: 0.9464 - val_loss: 0.1599 - val_accuracy: 0.9577\n",
            "Epoch 46/50\n",
            "117/117 [==============================] - 1s 9ms/step - loss: 0.1413 - accuracy: 0.9470 - val_loss: 0.1614 - val_accuracy: 0.9575\n",
            "Epoch 47/50\n",
            "117/117 [==============================] - 1s 9ms/step - loss: 0.1399 - accuracy: 0.9472 - val_loss: 0.1619 - val_accuracy: 0.9577\n",
            "Epoch 48/50\n",
            "117/117 [==============================] - 1s 9ms/step - loss: 0.1453 - accuracy: 0.9444 - val_loss: 0.1638 - val_accuracy: 0.9574\n",
            "Epoch 49/50\n",
            "117/117 [==============================] - 1s 8ms/step - loss: 0.1420 - accuracy: 0.9463 - val_loss: 0.1653 - val_accuracy: 0.9572\n",
            "Epoch 50/50\n",
            "117/117 [==============================] - 1s 8ms/step - loss: 0.1393 - accuracy: 0.9468 - val_loss: 0.1680 - val_accuracy: 0.9568\n",
            "Training Accuracy: 0.9982\n",
            "Testing Accuracy:  0.9568\n"
          ]
        }
      ]
    },
    {
      "cell_type": "code",
      "source": [
        "plt.style.use('ggplot')\n",
        "   \n",
        "plot_history(history)"
      ],
      "metadata": {
        "id": "tgbL2gRBvp67",
        "outputId": "f2e4908e-dd4c-4bb2-d2f9-5a32a792e430",
        "colab": {
          "base_uri": "https://localhost:8080/",
          "height": 337
        }
      },
      "id": "tgbL2gRBvp67",
      "execution_count": 48,
      "outputs": [
        {
          "output_type": "display_data",
          "data": {
            "text/plain": [
              "<Figure size 864x360 with 2 Axes>"
            ],
            "image/png": "[encoded data removed]"
          },
          "metadata": {}
        }
      ]
    },
    {
      "cell_type": "code",
      "source": [
        "test_predicted_prob = model.predict(X_test)\n",
        "test_predicted_classes = test_predicted_prob.argmax(1)\n",
        "\n",
        "#Confusion matrix\n",
        "conf = confusion_matrix(encoded_y_test, test_predicted_classes)\n",
        "le_name_mapping = dict(zip(encoder.transform(encoder.classes_), encoder.classes_))\n",
        "class_codes = [le_name_mapping[i] for i in range(5)]\n",
        "plot_confusion_matrix(conf, class_codes)"
      ],
      "metadata": {
        "id": "F70Ysj-vwPhs",
        "outputId": "84ddd425-8957-4dd6-fafe-3e8ea2516dae",
        "colab": {
          "base_uri": "https://localhost:8080/",
          "height": 473
        }
      },
      "id": "F70Ysj-vwPhs",
      "execution_count": 74,
      "outputs": [
        {
          "output_type": "display_data",
          "data": {
            "text/plain": [
              "<Figure size 576x432 with 2 Axes>"
            ],
            "image/png": "[encoded data removed]"
          },
          "metadata": {}
        }
      ]
    }
  ],
  "metadata": {
    "kernelspec": {
      "display_name": "Python 3",
      "language": "python",
      "name": "python3"
    },
    "language_info": {
      "codemirror_mode": {
        "name": "ipython",
        "version": 3
      },
      "file_extension": ".py",
      "mimetype": "text/x-python",
      "name": "python",
      "nbconvert_exporter": "python",
      "pygments_lexer": "ipython3",
      "version": "3.9.12"
    },
    "colab": {
      "name": "03_Neural network.ipynb",
      "provenance": []
    },
    "accelerator": "GPU"
  },
  "nbformat": 4,
  "nbformat_minor": 5
}
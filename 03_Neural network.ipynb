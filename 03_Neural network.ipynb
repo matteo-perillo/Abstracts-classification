{
  "cells": [
    {
      "cell_type": "code",
      "execution_count": 1,
      "id": "fallen-telescope",
      "metadata": {
        "id": "fallen-telescope"
      },
      "outputs": [],
      "source": [
        "import numpy as np\n",
        "import pandas as pd\n",
        "import itertools\n",
        "import io\n",
        "import timeit\n",
        "import matplotlib.pyplot as plt\n",
        "\n",
        "from google.colab import files\n",
        "from pydrive.auth import GoogleAuth\n",
        "from pydrive.drive import GoogleDrive\n",
        "from google.colab import auth\n",
        "from oauth2client.client import GoogleCredentials\n",
        "\n",
        "from sklearn.metrics import confusion_matrix\n",
        "from sklearn.model_selection import train_test_split, cross_val_score, KFold, GridSearchCV\n",
        "from sklearn.feature_extraction.text import TfidfVectorizer, CountVectorizer\n",
        "from sklearn.preprocessing import LabelEncoder\n",
        "\n",
        "import tensorflow as tf\n",
        "from tensorflow import keras\n",
        "from tensorflow.keras.models import Sequential\n",
        "from tensorflow.keras import layers\n",
        "from tensorflow.keras.utils import to_categorical\n",
        "from tensorflow.keras.backend import clear_session\n",
        "from tensorflow.keras.regularizers import l2\n",
        "from tensorflow.keras.wrappers.scikit_learn import KerasClassifier"
      ]
    },
    {
      "cell_type": "code",
      "source": [
        "#%tensorflow_version 2.x\n",
        "#import tensorflow as tf\n",
        "device_name = tf.test.gpu_device_name()\n",
        "if device_name != '/device:GPU:0':\n",
        "  raise SystemError('GPU device not found')\n",
        "print('Found GPU at: {}'.format(device_name))"
      ],
      "metadata": {
        "id": "nfQnixC9PMyT",
        "outputId": "6e8e84d7-49ea-4126-b630-4bb2aea9146e",
        "colab": {
          "base_uri": "https://localhost:8080/",
          "height": 217
        }
      },
      "id": "nfQnixC9PMyT",
      "execution_count": null,
      "outputs": [
        {
          "output_type": "error",
          "ename": "SystemError",
          "evalue": "ignored",
          "traceback": [
            "\u001b[0;31m---------------------------------------------------------------------------\u001b[0m",
            "\u001b[0;31mSystemError\u001b[0m                               Traceback (most recent call last)",
            "\u001b[0;32m<ipython-input-2-8bde8b8df490>\u001b[0m in \u001b[0;36m<module>\u001b[0;34m()\u001b[0m\n\u001b[1;32m      3\u001b[0m \u001b[0mdevice_name\u001b[0m \u001b[0;34m=\u001b[0m \u001b[0mtf\u001b[0m\u001b[0;34m.\u001b[0m\u001b[0mtest\u001b[0m\u001b[0;34m.\u001b[0m\u001b[0mgpu_device_name\u001b[0m\u001b[0;34m(\u001b[0m\u001b[0;34m)\u001b[0m\u001b[0;34m\u001b[0m\u001b[0;34m\u001b[0m\u001b[0m\n\u001b[1;32m      4\u001b[0m \u001b[0;32mif\u001b[0m \u001b[0mdevice_name\u001b[0m \u001b[0;34m!=\u001b[0m \u001b[0;34m'/device:GPU:0'\u001b[0m\u001b[0;34m:\u001b[0m\u001b[0;34m\u001b[0m\u001b[0;34m\u001b[0m\u001b[0m\n\u001b[0;32m----> 5\u001b[0;31m   \u001b[0;32mraise\u001b[0m \u001b[0mSystemError\u001b[0m\u001b[0;34m(\u001b[0m\u001b[0;34m'GPU device not found'\u001b[0m\u001b[0;34m)\u001b[0m\u001b[0;34m\u001b[0m\u001b[0;34m\u001b[0m\u001b[0m\n\u001b[0m\u001b[1;32m      6\u001b[0m \u001b[0mprint\u001b[0m\u001b[0;34m(\u001b[0m\u001b[0;34m'Found GPU at: {}'\u001b[0m\u001b[0;34m.\u001b[0m\u001b[0mformat\u001b[0m\u001b[0;34m(\u001b[0m\u001b[0mdevice_name\u001b[0m\u001b[0;34m)\u001b[0m\u001b[0;34m)\u001b[0m\u001b[0;34m\u001b[0m\u001b[0;34m\u001b[0m\u001b[0m\n",
            "\u001b[0;31mSystemError\u001b[0m: GPU device not found"
          ]
        }
      ]
    },
    {
      "cell_type": "code",
      "source": [
        "auth.authenticate_user()\n",
        "gauth = GoogleAuth()\n",
        "gauth.credentials = GoogleCredentials.get_application_default()\n",
        "drive = GoogleDrive(gauth)\n",
        "downloaded = drive.CreateFile({'id':\"1rJUCyDztqA321Uo690atZCQYS8Q1Y6XN\"})\n",
        "downloaded.GetContentFile('preprocessed_data.csv')\n",
        "data_ready = pd.read_csv('preprocessed_data.csv')"
      ],
      "metadata": {
        "id": "jXVnibNH67XV"
      },
      "id": "jXVnibNH67XV",
      "execution_count": 2,
      "outputs": []
    },
    {
      "cell_type": "code",
      "source": [
        "par = ['Batch size', 'Dropout rate', 'L2 reg', 'Num layers']\n",
        "val = ['512, 2048, 4096', '0, 0.3', '0, 0.1', '1, 5, 10']\n",
        "\n",
        "d = {'Parametro': par, 'Valori possibili': val}\n",
        "hyperp_grid = pd.DataFrame(d)\n",
        "\n",
        "hyperp_grid.to_csv('hyperp_grid.csv', encoding = 'utf-8-sig') \n",
        "files.download('hyperp_grid.csv')"
      ],
      "metadata": {
        "id": "T00i3cTjRSNa",
        "outputId": "91ca0c00-1232-4d31-e2bd-17304e64b73b",
        "colab": {
          "base_uri": "https://localhost:8080/",
          "height": 17
        }
      },
      "id": "T00i3cTjRSNa",
      "execution_count": null,
      "outputs": [
        {
          "output_type": "display_data",
          "data": {
            "text/plain": [
              "<IPython.core.display.Javascript object>"
            ],
            "application/javascript": [
              "\n",
              "    async function download(id, filename, size) {\n",
              "      if (!google.colab.kernel.accessAllowed) {\n",
              "        return;\n",
              "      }\n",
              "      const div = document.createElement('div');\n",
              "      const label = document.createElement('label');\n",
              "      label.textContent = `Downloading \"${filename}\": `;\n",
              "      div.appendChild(label);\n",
              "      const progress = document.createElement('progress');\n",
              "      progress.max = size;\n",
              "      div.appendChild(progress);\n",
              "      document.body.appendChild(div);\n",
              "\n",
              "      const buffers = [];\n",
              "      let downloaded = 0;\n",
              "\n",
              "      const channel = await google.colab.kernel.comms.open(id);\n",
              "      // Send a message to notify the kernel that we're ready.\n",
              "      channel.send({})\n",
              "\n",
              "      for await (const message of channel.messages) {\n",
              "        // Send a message to notify the kernel that we're ready.\n",
              "        channel.send({})\n",
              "        if (message.buffers) {\n",
              "          for (const buffer of message.buffers) {\n",
              "            buffers.push(buffer);\n",
              "            downloaded += buffer.byteLength;\n",
              "            progress.value = downloaded;\n",
              "          }\n",
              "        }\n",
              "      }\n",
              "      const blob = new Blob(buffers, {type: 'application/binary'});\n",
              "      const a = document.createElement('a');\n",
              "      a.href = window.URL.createObjectURL(blob);\n",
              "      a.download = filename;\n",
              "      div.appendChild(a);\n",
              "      a.click();\n",
              "      div.remove();\n",
              "    }\n",
              "  "
            ]
          },
          "metadata": {}
        },
        {
          "output_type": "display_data",
          "data": {
            "text/plain": [
              "<IPython.core.display.Javascript object>"
            ],
            "application/javascript": [
              "download(\"download_275dc772-a93e-4cff-b130-2815fed88270\", \"hyperp_grid.csv\", 128)"
            ]
          },
          "metadata": {}
        }
      ]
    },
    {
      "cell_type": "code",
      "execution_count": 3,
      "id": "immediate-valentine",
      "metadata": {
        "id": "immediate-valentine"
      },
      "outputs": [],
      "source": [
        "def create_nn_model(dropout_rate=0.0, lam_l2=1e-3, learn_rate=1e-3, nlayers=5, nclass=3):\n",
        "    # create model\n",
        "    model = Sequential(name=\"Neural_network\")\n",
        "    for i in range(nlayers):\n",
        "        model.add(layers.Dense(8*(nlayers-i), kernel_regularizer=l2(lam_l2), bias_regularizer=l2(lam_l2), input_dim=input_dim, activation='relu'))\n",
        "        model.add(layers.Dropout(dropout_rate))\n",
        "    model.add(layers.Dense(nclass, activation='softmax'))\n",
        "    optimizer = keras.optimizers.Adam(learn_rate)\n",
        "    model.compile(loss='categorical_crossentropy', optimizer=optimizer, metrics=['accuracy'])\n",
        "    return model\n",
        "\n",
        "def plot_history(history, name = 'provah'):\n",
        "    acc = history.history['accuracy']\n",
        "    val_acc = history.history['val_accuracy']\n",
        "    loss = history.history['loss']\n",
        "    val_loss = history.history['val_loss']\n",
        "    x = range(1, len(acc) + 1)\n",
        "\n",
        "    plt.figure(figsize=(12, 5))\n",
        "    plt.subplot(1, 2, 1)\n",
        "    plt.plot(x[:-1], acc[1:], 'b', label='Training acc')\n",
        "    plt.plot(x, val_acc, 'r', label='Validation acc')\n",
        "    plt.title('Training and validation accuracy')\n",
        "    plt.legend()\n",
        "    plt.subplot(1, 2, 2)\n",
        "    plt.plot(x[:-1], loss[1:], 'b', label='Training loss')\n",
        "    plt.plot(x, val_loss, 'r', label='Validation loss')\n",
        "    plt.title('Training and validation loss')\n",
        "    plt.legend()\n",
        "    filename = name + '.png'\n",
        "    plt.savefig(filename, bbox_inches = 'tight')\n",
        "\n",
        "def plot_confusion_matrix(cm, target_names, title='Confusion matrix', xsize=4, ysize=3,\n",
        "                          cmap=None, normalize=True, name='prova'):\n",
        "    accuracy = np.trace(cm) / np.sum(cm).astype('float')\n",
        "    misclass = 1 - accuracy\n",
        "\n",
        "    if cmap is None:\n",
        "        cmap = plt.get_cmap('Blues')\n",
        "\n",
        "    plt.figure(figsize=(xsize, ysize))\n",
        "    plt.imshow(cm, interpolation='nearest', cmap=cmap)\n",
        "    plt.title(title)\n",
        "  #  plt.colorbar()\n",
        "\n",
        "    if target_names is not None:\n",
        "        tick_marks = np.arange(len(target_names))\n",
        "        plt.xticks(tick_marks, target_names, rotation=45)\n",
        "        plt.yticks(tick_marks, target_names)\n",
        "\n",
        "    if normalize:\n",
        "        cm = cm.astype('float') / cm.sum(axis=1)[:, np.newaxis]\n",
        "\n",
        "\n",
        "    thresh = cm.max() / 1.5 if normalize else cm.max() / 2\n",
        "    for i, j in itertools.product(range(cm.shape[0]), range(cm.shape[1])):\n",
        "        if normalize:\n",
        "            plt.text(j, i, \"{:0.3f}\".format(cm[i, j]),\n",
        "                     horizontalalignment=\"center\",\n",
        "                     color=\"white\" if cm[i, j] > thresh else \"black\")\n",
        "        else:\n",
        "            plt.text(j, i, \"{:,}\".format(cm[i, j]),\n",
        "                     horizontalalignment=\"center\",\n",
        "                     color=\"white\" if cm[i, j] > thresh else \"black\")\n",
        "\n",
        "\n",
        "    plt.tight_layout()\n",
        "    plt.ylabel('True label')\n",
        "    plt.xlabel('Predicted label\\naccuracy={:0.3f}; misclass={:0.3f}'.format(accuracy, misclass))\n",
        "    filename = name + '.png'\n",
        "    plt.savefig(filename, bbox_inches = 'tight')"
      ]
    },
    {
      "cell_type": "code",
      "execution_count": null,
      "id": "forty-briefs",
      "metadata": {
        "id": "forty-briefs",
        "colab": {
          "base_uri": "https://localhost:8080/"
        },
        "outputId": "38251bb5-f1b3-4d1c-b1ff-40c303b4a2bf"
      },
      "outputs": [
        {
          "output_type": "stream",
          "name": "stderr",
          "text": [
            "/usr/local/lib/python3.7/dist-packages/ipykernel_launcher.py:13: DeprecationWarning: KerasClassifier is deprecated, use Sci-Keras (https://github.com/adriangb/scikeras) instead. See https://www.adriangb.com/scikeras/stable/migration.html for help migrating.\n",
            "  del sys.path[0]\n"
          ]
        }
      ],
      "source": [
        "# define the grid search parameters\n",
        "#batch_size\n",
        "cand_bs = [512, 2048, 4096]\n",
        "#dropout rate\n",
        "cand_dr = [0, 0.3]\n",
        "#regularization\n",
        "cand_l2 = [0, 1e-1]\n",
        "#learning rate\n",
        "#cand_lr = [1e-4, 1e-3, 1e-2]\n",
        "#layers number\n",
        "cand_ln = [10, 5, 1]"
      ]
    },
    {
      "cell_type": "code",
      "execution_count": 5,
      "id": "blind-priority",
      "metadata": {
        "id": "blind-priority"
      },
      "outputs": [],
      "source": [
        "#print(data_ready['category'].value_counts())\n",
        "cat_index = data_ready['category'].value_counts().index"
      ]
    },
    {
      "cell_type": "code",
      "execution_count": 6,
      "id": "running-skiing",
      "metadata": {
        "id": "running-skiing",
        "outputId": "9d9c5d28-97ea-4e07-e43b-ae899d5ff158",
        "colab": {
          "base_uri": "https://localhost:8080/"
        }
      },
      "outputs": [
        {
          "output_type": "stream",
          "name": "stdout",
          "text": [
            "hep-ph      50603\n",
            "quant-ph    44678\n",
            "hep-th      39013\n",
            "Name: category, dtype: int64\n"
          ]
        },
        {
          "output_type": "stream",
          "name": "stderr",
          "text": [
            "/usr/local/lib/python3.7/dist-packages/ipykernel_launcher.py:38: DeprecationWarning: KerasClassifier is deprecated, use Sci-Keras (https://github.com/adriangb/scikeras) instead. See https://www.adriangb.com/scikeras/stable/migration.html for help migrating.\n"
          ]
        }
      ],
      "source": [
        "select_data = data_ready[data_ready['category'].isin(cat_index[0:3])].dropna().reset_index(drop=True)\n",
        "print(select_data['category'].value_counts())\n",
        "\n",
        "#SPLITTING THE TRAINING DATASET INTO TRAIN AND TEST\n",
        "X_train, X_test, y_train, y_test = train_test_split(select_data[\"clean_text\"], select_data[\"category\"], random_state = 1000,\n",
        "                                                    stratify = select_data[\"category\"], test_size=0.2, shuffle=True)\n",
        "\n",
        "X_train.reset_index(drop=True, inplace=True)\n",
        "X_test.reset_index(drop=True, inplace=True)\n",
        "y_train.reset_index(drop=True, inplace=True)\n",
        "y_test.reset_index(drop=True, inplace=True)\n",
        "\n",
        "#Tf-Idf\n",
        "tfidf_vectorizer = TfidfVectorizer(use_idf=True)\n",
        "X_train = tfidf_vectorizer.fit_transform(X_train) \n",
        "X_test = tfidf_vectorizer.transform(X_test)\n",
        "\n",
        "X_train.sort_indices()\n",
        "X_test.sort_indices()\n",
        "\n",
        "# encode class values as integers\n",
        "encoder = LabelEncoder()\n",
        "encoder.fit(y_train)\n",
        "encoded_y_train = encoder.transform(y_train)\n",
        "encoded_y_test = encoder.transform(y_test)\n",
        "# convert integers to dummy variables (i.e. one hot encoded)\n",
        "dummy_y_train = to_categorical(encoded_y_train)\n",
        "dummy_y_test = to_categorical(encoded_y_test)\n",
        "\n",
        "input_dim = X_train.shape[1]  # Number of features\n",
        "\n",
        "X_train0 = X_train\n",
        "dummy_y_train0 = dummy_y_train\n",
        "X_test0 = X_test\n",
        "dummy_y_test0 = dummy_y_test\n",
        "encoded_y_test0 = encoded_y_test\n",
        "\n",
        "model = KerasClassifier(build_fn=create_nn_model, epochs=25, verbose=0, nclass=3)"
      ]
    },
    {
      "cell_type": "markdown",
      "id": "dominant-missouri",
      "metadata": {
        "id": "dominant-missouri"
      },
      "source": [
        "Tune hyperparameters through cross-validation"
      ]
    },
    {
      "cell_type": "code",
      "source": [
        "#1 hidden layer\n",
        "\n",
        "param_grid = dict(batch_size=cand_bs, dropout_rate=cand_dr, lam_l2=cand_l2, nlayers=cand_ln[2:3])\n",
        "grid = GridSearchCV(estimator=model, param_grid=param_grid, verbose = 3, n_jobs=1, cv=5)\n",
        "\n",
        "grid_result = grid.fit(X_train, dummy_y_train)\n",
        "\n",
        "# summarize results\n",
        "print(\"Best with 1 hidden layer: %f using %s\" % (grid_result.best_score_, grid_result.best_params_))\n",
        "means = grid_result.cv_results_['mean_test_score']\n",
        "stds = grid_result.cv_results_['std_test_score']\n",
        "params = grid_result.cv_results_['params']\n",
        "\n",
        "cv_results0 = pd.DataFrame.from_dict(grid_result.cv_results_).sort_values(by=['rank_test_score']).set_index('rank_test_score')"
      ],
      "metadata": {
        "id": "nCkPaqdQHcfn"
      },
      "id": "nCkPaqdQHcfn",
      "execution_count": null,
      "outputs": []
    },
    {
      "cell_type": "code",
      "source": [
        "#5 hidden layers\n",
        "\n",
        "param_grid = dict(batch_size=cand_bs, dropout_rate=cand_dr, lam_l2=cand_l2, nlayers=cand_ln[1:2])\n",
        "grid = GridSearchCV(estimator=model, param_grid=param_grid, verbose = 3, n_jobs=1, cv=5)\n",
        "\n",
        "grid_result = grid.fit(X_train, dummy_y_train)\n",
        "\n",
        "# summarize results\n",
        "print(\"Best with 5 hidden layers: %f using %s\" % (grid_result.best_score_, grid_result.best_params_))\n",
        "means = grid_result.cv_results_['mean_test_score']\n",
        "stds = grid_result.cv_results_['std_test_score']\n",
        "params = grid_result.cv_results_['params']\n",
        "\n",
        "cv_results1 = pd.DataFrame.from_dict(grid_result.cv_results_).sort_values(by=['rank_test_score']).set_index('rank_test_score')"
      ],
      "metadata": {
        "id": "cyXStE4LatVE"
      },
      "id": "cyXStE4LatVE",
      "execution_count": null,
      "outputs": []
    },
    {
      "cell_type": "code",
      "source": [
        "#10 hidden layers\n",
        "\n",
        "param_grid = dict(batch_size=cand_bs, dropout_rate=cand_dr, lam_l2=cand_l2, nlayers=cand_ln[0:1])\n",
        "grid = GridSearchCV(estimator=model, param_grid=param_grid, verbose = 3, n_jobs=1, cv=5)\n",
        "\n",
        "grid_result = grid.fit(X_train, dummy_y_train)\n",
        "\n",
        "# summarize results\n",
        "print(\"Best with 10 hidden layers: %f using %s\" % (grid_result.best_score_, grid_result.best_params_))\n",
        "means = grid_result.cv_results_['mean_test_score']\n",
        "stds = grid_result.cv_results_['std_test_score']\n",
        "params = grid_result.cv_results_['params']\n",
        "\n",
        "cv_results2 = pd.DataFrame.from_dict(grid_result.cv_results_).sort_values(by=['rank_test_score']).set_index('rank_test_score')"
      ],
      "metadata": {
        "id": "F8o44oBeZwuW"
      },
      "id": "F8o44oBeZwuW",
      "execution_count": null,
      "outputs": []
    },
    {
      "cell_type": "markdown",
      "id": "distant-victim",
      "metadata": {
        "id": "distant-victim"
      },
      "source": [
        "Summarizing results"
      ]
    },
    {
      "cell_type": "code",
      "execution_count": null,
      "id": "worldwide-model",
      "metadata": {
        "id": "worldwide-model",
        "outputId": "179fa517-1b7a-45b6-f154-b49aeb094ae9",
        "colab": {
          "base_uri": "https://localhost:8080/",
          "height": 398
        }
      },
      "outputs": [
        {
          "output_type": "stream",
          "name": "stderr",
          "text": [
            "/usr/local/lib/python3.7/dist-packages/ipykernel_launcher.py:3: FutureWarning: In a future version of pandas all arguments of DataFrame.drop except for the argument 'labels' will be keyword-only\n",
            "  This is separate from the ipykernel package so we can avoid doing imports until\n"
          ]
        },
        {
          "output_type": "execute_result",
          "data": {
            "text/plain": [
              "   mean_test_score  std_test_score  mean_fit_time  mean_score_time  \\\n",
              "0         0.952874        0.001265      19.606653         0.304203   \n",
              "1         0.952306        0.000999      30.247239         0.404164   \n",
              "2         0.952138        0.001662      19.316914         0.307041   \n",
              "3         0.949970        0.001091      17.742523         0.295999   \n",
              "4         0.949691        0.001238      17.625663         0.291132   \n",
              "5         0.949458        0.001305      31.011815         0.407232   \n",
              "6         0.948024        0.000967      20.128936         0.366224   \n",
              "7         0.947494        0.000751      21.458816         0.370651   \n",
              "8         0.946442        0.000590      33.377254         0.460079   \n",
              "9         0.942626        0.001271      38.406523         0.533708   \n",
              "\n",
              "  param_batch_size param_dropout_rate param_lam_l2 param_nlayers  \n",
              "0             2048                  0            0             1  \n",
              "1              512                0.3            0             1  \n",
              "2             2048                0.3            0             1  \n",
              "3             4096                  0            0             1  \n",
              "4             4096                0.3            0             1  \n",
              "5              512                  0            0             1  \n",
              "6             4096                0.3            0             5  \n",
              "7             2048                0.3            0             5  \n",
              "8              512                0.3            0             5  \n",
              "9              512                  0            0            10  "
            ],
            "text/html": [
              "\n",
              "  <div id=\"df-39d964d5-600f-48a3-a526-e5e0d1fd1b85\">\n",
              "    <div class=\"colab-df-container\">\n",
              "      <div>\n",
              "<style scoped>\n",
              "    .dataframe tbody tr th:only-of-type {\n",
              "        vertical-align: middle;\n",
              "    }\n",
              "\n",
              "    .dataframe tbody tr th {\n",
              "        vertical-align: top;\n",
              "    }\n",
              "\n",
              "    .dataframe thead th {\n",
              "        text-align: right;\n",
              "    }\n",
              "</style>\n",
              "<table border=\"1\" class=\"dataframe\">\n",
              "  <thead>\n",
              "    <tr style=\"text-align: right;\">\n",
              "      <th></th>\n",
              "      <th>mean_test_score</th>\n",
              "      <th>std_test_score</th>\n",
              "      <th>mean_fit_time</th>\n",
              "      <th>mean_score_time</th>\n",
              "      <th>param_batch_size</th>\n",
              "      <th>param_dropout_rate</th>\n",
              "      <th>param_lam_l2</th>\n",
              "      <th>param_nlayers</th>\n",
              "    </tr>\n",
              "  </thead>\n",
              "  <tbody>\n",
              "    <tr>\n",
              "      <th>0</th>\n",
              "      <td>0.952874</td>\n",
              "      <td>0.001265</td>\n",
              "      <td>19.606653</td>\n",
              "      <td>0.304203</td>\n",
              "      <td>2048</td>\n",
              "      <td>0</td>\n",
              "      <td>0</td>\n",
              "      <td>1</td>\n",
              "    </tr>\n",
              "    <tr>\n",
              "      <th>1</th>\n",
              "      <td>0.952306</td>\n",
              "      <td>0.000999</td>\n",
              "      <td>30.247239</td>\n",
              "      <td>0.404164</td>\n",
              "      <td>512</td>\n",
              "      <td>0.3</td>\n",
              "      <td>0</td>\n",
              "      <td>1</td>\n",
              "    </tr>\n",
              "    <tr>\n",
              "      <th>2</th>\n",
              "      <td>0.952138</td>\n",
              "      <td>0.001662</td>\n",
              "      <td>19.316914</td>\n",
              "      <td>0.307041</td>\n",
              "      <td>2048</td>\n",
              "      <td>0.3</td>\n",
              "      <td>0</td>\n",
              "      <td>1</td>\n",
              "    </tr>\n",
              "    <tr>\n",
              "      <th>3</th>\n",
              "      <td>0.949970</td>\n",
              "      <td>0.001091</td>\n",
              "      <td>17.742523</td>\n",
              "      <td>0.295999</td>\n",
              "      <td>4096</td>\n",
              "      <td>0</td>\n",
              "      <td>0</td>\n",
              "      <td>1</td>\n",
              "    </tr>\n",
              "    <tr>\n",
              "      <th>4</th>\n",
              "      <td>0.949691</td>\n",
              "      <td>0.001238</td>\n",
              "      <td>17.625663</td>\n",
              "      <td>0.291132</td>\n",
              "      <td>4096</td>\n",
              "      <td>0.3</td>\n",
              "      <td>0</td>\n",
              "      <td>1</td>\n",
              "    </tr>\n",
              "    <tr>\n",
              "      <th>5</th>\n",
              "      <td>0.949458</td>\n",
              "      <td>0.001305</td>\n",
              "      <td>31.011815</td>\n",
              "      <td>0.407232</td>\n",
              "      <td>512</td>\n",
              "      <td>0</td>\n",
              "      <td>0</td>\n",
              "      <td>1</td>\n",
              "    </tr>\n",
              "    <tr>\n",
              "      <th>6</th>\n",
              "      <td>0.948024</td>\n",
              "      <td>0.000967</td>\n",
              "      <td>20.128936</td>\n",
              "      <td>0.366224</td>\n",
              "      <td>4096</td>\n",
              "      <td>0.3</td>\n",
              "      <td>0</td>\n",
              "      <td>5</td>\n",
              "    </tr>\n",
              "    <tr>\n",
              "      <th>7</th>\n",
              "      <td>0.947494</td>\n",
              "      <td>0.000751</td>\n",
              "      <td>21.458816</td>\n",
              "      <td>0.370651</td>\n",
              "      <td>2048</td>\n",
              "      <td>0.3</td>\n",
              "      <td>0</td>\n",
              "      <td>5</td>\n",
              "    </tr>\n",
              "    <tr>\n",
              "      <th>8</th>\n",
              "      <td>0.946442</td>\n",
              "      <td>0.000590</td>\n",
              "      <td>33.377254</td>\n",
              "      <td>0.460079</td>\n",
              "      <td>512</td>\n",
              "      <td>0.3</td>\n",
              "      <td>0</td>\n",
              "      <td>5</td>\n",
              "    </tr>\n",
              "    <tr>\n",
              "      <th>9</th>\n",
              "      <td>0.942626</td>\n",
              "      <td>0.001271</td>\n",
              "      <td>38.406523</td>\n",
              "      <td>0.533708</td>\n",
              "      <td>512</td>\n",
              "      <td>0</td>\n",
              "      <td>0</td>\n",
              "      <td>10</td>\n",
              "    </tr>\n",
              "  </tbody>\n",
              "</table>\n",
              "</div>\n",
              "      <button class=\"colab-df-convert\" onclick=\"convertToInteractive('df-39d964d5-600f-48a3-a526-e5e0d1fd1b85')\"\n",
              "              title=\"Convert this dataframe to an interactive table.\"\n",
              "              style=\"display:none;\">\n",
              "        \n",
              "  <svg xmlns=\"http://www.w3.org/2000/svg\" height=\"24px\"viewBox=\"0 0 24 24\"\n",
              "       width=\"24px\">\n",
              "    <path d=\"M0 0h24v24H0V0z\" fill=\"none\"/>\n",
              "    <path d=\"M18.56 5.44l.94 2.06.94-2.06 2.06-.94-2.06-.94-.94-2.06-.94 2.06-2.06.94zm-11 1L8.5 8.5l.94-2.06 2.06-.94-2.06-.94L8.5 2.5l-.94 2.06-2.06.94zm10 10l.94 2.06.94-2.06 2.06-.94-2.06-.94-.94-2.06-.94 2.06-2.06.94z\"/><path d=\"M17.41 7.96l-1.37-1.37c-.4-.4-.92-.59-1.43-.59-.52 0-1.04.2-1.43.59L10.3 9.45l-7.72 7.72c-.78.78-.78 2.05 0 2.83L4 21.41c.39.39.9.59 1.41.59.51 0 1.02-.2 1.41-.59l7.78-7.78 2.81-2.81c.8-.78.8-2.07 0-2.86zM5.41 20L4 18.59l7.72-7.72 1.47 1.35L5.41 20z\"/>\n",
              "  </svg>\n",
              "      </button>\n",
              "      \n",
              "  <style>\n",
              "    .colab-df-container {\n",
              "      display:flex;\n",
              "      flex-wrap:wrap;\n",
              "      gap: 12px;\n",
              "    }\n",
              "\n",
              "    .colab-df-convert {\n",
              "      background-color: #E8F0FE;\n",
              "      border: none;\n",
              "      border-radius: 50%;\n",
              "      cursor: pointer;\n",
              "      display: none;\n",
              "      fill: #1967D2;\n",
              "      height: 32px;\n",
              "      padding: 0 0 0 0;\n",
              "      width: 32px;\n",
              "    }\n",
              "\n",
              "    .colab-df-convert:hover {\n",
              "      background-color: #E2EBFA;\n",
              "      box-shadow: 0px 1px 2px rgba(60, 64, 67, 0.3), 0px 1px 3px 1px rgba(60, 64, 67, 0.15);\n",
              "      fill: #174EA6;\n",
              "    }\n",
              "\n",
              "    [theme=dark] .colab-df-convert {\n",
              "      background-color: #3B4455;\n",
              "      fill: #D2E3FC;\n",
              "    }\n",
              "\n",
              "    [theme=dark] .colab-df-convert:hover {\n",
              "      background-color: #434B5C;\n",
              "      box-shadow: 0px 1px 3px 1px rgba(0, 0, 0, 0.15);\n",
              "      filter: drop-shadow(0px 1px 2px rgba(0, 0, 0, 0.3));\n",
              "      fill: #FFFFFF;\n",
              "    }\n",
              "  </style>\n",
              "\n",
              "      <script>\n",
              "        const buttonEl =\n",
              "          document.querySelector('#df-39d964d5-600f-48a3-a526-e5e0d1fd1b85 button.colab-df-convert');\n",
              "        buttonEl.style.display =\n",
              "          google.colab.kernel.accessAllowed ? 'block' : 'none';\n",
              "\n",
              "        async function convertToInteractive(key) {\n",
              "          const element = document.querySelector('#df-39d964d5-600f-48a3-a526-e5e0d1fd1b85');\n",
              "          const dataTable =\n",
              "            await google.colab.kernel.invokeFunction('convertToInteractive',\n",
              "                                                     [key], {});\n",
              "          if (!dataTable) return;\n",
              "\n",
              "          const docLinkHtml = 'Like what you see? Visit the ' +\n",
              "            '<a target=\"_blank\" href=https://colab.research.google.com/notebooks/data_table.ipynb>data table notebook</a>'\n",
              "            + ' to learn more about interactive tables.';\n",
              "          element.innerHTML = '';\n",
              "          dataTable['output_type'] = 'display_data';\n",
              "          await google.colab.output.renderOutput(dataTable, element);\n",
              "          const docLink = document.createElement('div');\n",
              "          docLink.innerHTML = docLinkHtml;\n",
              "          element.appendChild(docLink);\n",
              "        }\n",
              "      </script>\n",
              "    </div>\n",
              "  </div>\n",
              "  "
            ]
          },
          "metadata": {},
          "execution_count": 16
        }
      ],
      "source": [
        "cv_results = pd.concat([cv_results0, cv_results1, cv_results2]).sort_values(by=['mean_test_score'], ascending=False).reset_index(drop=True)\n",
        "cv_results.drop(['std_fit_time', 'std_score_time', 'params', 'split0_test_score', 'split1_test_score', \n",
        "                 'split2_test_score', 'split3_test_score', 'split4_test_score'], 1, inplace = True)\n",
        "clist = list(cv_results.columns.values)\n",
        "cv_results_set0_nn = cv_results[clist[-2:] + clist[:-2]]\n",
        "cv_results_set0_nn.head(10)"
      ]
    },
    {
      "cell_type": "code",
      "source": [
        "cv_results_set0_nn.to_csv('cv_results_set0_nn.csv', encoding = 'utf-8-sig') \n",
        "files.download('cv_results_set0_nn.csv')"
      ],
      "metadata": {
        "id": "PD6MUbzgWgpS",
        "outputId": "bb935d4a-636e-4ca7-b0bd-0e7a94cce35c",
        "colab": {
          "base_uri": "https://localhost:8080/",
          "height": 17
        }
      },
      "id": "PD6MUbzgWgpS",
      "execution_count": null,
      "outputs": [
        {
          "output_type": "display_data",
          "data": {
            "text/plain": [
              "<IPython.core.display.Javascript object>"
            ],
            "application/javascript": [
              "\n",
              "    async function download(id, filename, size) {\n",
              "      if (!google.colab.kernel.accessAllowed) {\n",
              "        return;\n",
              "      }\n",
              "      const div = document.createElement('div');\n",
              "      const label = document.createElement('label');\n",
              "      label.textContent = `Downloading \"${filename}\": `;\n",
              "      div.appendChild(label);\n",
              "      const progress = document.createElement('progress');\n",
              "      progress.max = size;\n",
              "      div.appendChild(progress);\n",
              "      document.body.appendChild(div);\n",
              "\n",
              "      const buffers = [];\n",
              "      let downloaded = 0;\n",
              "\n",
              "      const channel = await google.colab.kernel.comms.open(id);\n",
              "      // Send a message to notify the kernel that we're ready.\n",
              "      channel.send({})\n",
              "\n",
              "      for await (const message of channel.messages) {\n",
              "        // Send a message to notify the kernel that we're ready.\n",
              "        channel.send({})\n",
              "        if (message.buffers) {\n",
              "          for (const buffer of message.buffers) {\n",
              "            buffers.push(buffer);\n",
              "            downloaded += buffer.byteLength;\n",
              "            progress.value = downloaded;\n",
              "          }\n",
              "        }\n",
              "      }\n",
              "      const blob = new Blob(buffers, {type: 'application/binary'});\n",
              "      const a = document.createElement('a');\n",
              "      a.href = window.URL.createObjectURL(blob);\n",
              "      a.download = filename;\n",
              "      div.appendChild(a);\n",
              "      a.click();\n",
              "      div.remove();\n",
              "    }\n",
              "  "
            ]
          },
          "metadata": {}
        },
        {
          "output_type": "display_data",
          "data": {
            "text/plain": [
              "<IPython.core.display.Javascript object>"
            ],
            "application/javascript": [
              "download(\"download_41618b62-ecc1-452e-bd49-b53188656fad\", \"cv_results_set0_nn.csv\", 3513)"
            ]
          },
          "metadata": {}
        }
      ]
    },
    {
      "cell_type": "markdown",
      "id": "popular-teaching",
      "metadata": {
        "id": "popular-teaching"
      },
      "source": [
        "Training the best model on the whole training set"
      ]
    },
    {
      "cell_type": "code",
      "execution_count": 7,
      "id": "herbal-wallace",
      "metadata": {
        "id": "herbal-wallace",
        "colab": {
          "base_uri": "https://localhost:8080/"
        },
        "outputId": "15e9951e-3aa6-4997-d729-6caa41a62481"
      },
      "outputs": [
        {
          "output_type": "stream",
          "name": "stdout",
          "text": [
            "Model: \"Neural_network\"\n",
            "_________________________________________________________________\n",
            " Layer (type)                Output Shape              Param #   \n",
            "=================================================================\n",
            " dense (Dense)               (None, 8)                 373752    \n",
            "                                                                 \n",
            " dropout (Dropout)           (None, 8)                 0         \n",
            "                                                                 \n",
            " dense_1 (Dense)             (None, 3)                 27        \n",
            "                                                                 \n",
            "=================================================================\n",
            "Total params: 373,779\n",
            "Trainable params: 373,779\n",
            "Non-trainable params: 0\n",
            "_________________________________________________________________\n"
          ]
        }
      ],
      "source": [
        "clear_session()\n",
        "\n",
        "model = create_nn_model(dropout_rate=0, lam_l2=0, learn_rate=1e-3, nlayers=1)\n",
        "model.summary()"
      ]
    },
    {
      "cell_type": "code",
      "execution_count": null,
      "id": "fabulous-facility",
      "metadata": {
        "id": "fabulous-facility"
      },
      "outputs": [],
      "source": [
        "h0 = model.fit(X_train, dummy_y_train, epochs=50, verbose=True,\n",
        "                    validation_data=(X_test, dummy_y_test), batch_size=2048)"
      ]
    },
    {
      "cell_type": "code",
      "source": [
        "idx_min_test_loss0 = np.argmin(h0.history['val_loss'])\n",
        "best_acc0 = h0.history['val_accuracy'][idx_min_test_loss0]\n",
        "\n",
        "loss, accuracy = model.evaluate(X_train0, dummy_y_train0, verbose=False)\n",
        "print(\"Training Accuracy: {:.3f}\".format(accuracy))\n",
        "loss, accuracy = model.evaluate(X_test0, dummy_y_test0, verbose=False)\n",
        "print(\"Testing Accuracy: {:.3f}\".format(accuracy))\n",
        "\n",
        "print(\"Minimum value of loss in the test set at epoch: {:d}\".format(idx_min_test_loss0))\n",
        "print(\"Testing Accuracy at that epoch: {:.3f}\".format(best_acc0))"
      ],
      "metadata": {
        "colab": {
          "base_uri": "https://localhost:8080/"
        },
        "id": "C6KC8dlZnAjH",
        "outputId": "13ac9fba-aa6e-42ba-ec96-0ff18ce6afad"
      },
      "id": "C6KC8dlZnAjH",
      "execution_count": 9,
      "outputs": [
        {
          "output_type": "stream",
          "name": "stdout",
          "text": [
            "Training Accuracy: 0.985\n",
            "Testing Accuracy: 0.952\n",
            "Minimum value of loss in the test set at epoch: 28\n",
            "Testing Accuracy at that epoch: 0.954\n"
          ]
        }
      ]
    },
    {
      "cell_type": "code",
      "execution_count": null,
      "id": "searching-trainer",
      "metadata": {
        "id": "searching-trainer"
      },
      "outputs": [],
      "source": [
        "plt.style.use('ggplot')\n",
        "   \n",
        "plot_history(h0, name = 'hnn0')"
      ]
    },
    {
      "cell_type": "code",
      "source": [
        "test_predicted_prob0 = model.predict(X_test0)\n",
        "test_predicted_classes0 = test_predicted_prob0.argmax(1)"
      ],
      "metadata": {
        "id": "oXjE5EoFueoH"
      },
      "id": "oXjE5EoFueoH",
      "execution_count": 10,
      "outputs": []
    },
    {
      "cell_type": "code",
      "source": [
        "encoded_y_test0"
      ],
      "metadata": {
        "id": "zo1XTZb2HCwO",
        "outputId": "97ac720e-741d-497c-8515-bd501b220c7d",
        "colab": {
          "base_uri": "https://localhost:8080/"
        }
      },
      "id": "zo1XTZb2HCwO",
      "execution_count": 11,
      "outputs": [
        {
          "output_type": "execute_result",
          "data": {
            "text/plain": [
              "array([1, 1, 1, ..., 1, 1, 2])"
            ]
          },
          "metadata": {},
          "execution_count": 11
        }
      ]
    },
    {
      "cell_type": "code",
      "execution_count": 12,
      "id": "beginning-somalia",
      "metadata": {
        "id": "beginning-somalia",
        "outputId": "ec5f9044-b046-4d4b-882a-612ac5f320e3",
        "colab": {
          "base_uri": "https://localhost:8080/",
          "height": 251
        }
      },
      "outputs": [
        {
          "output_type": "display_data",
          "data": {
            "text/plain": [
              "<Figure size 288x216 with 1 Axes>"
            ],
            "image/png": "[encoded data removed]"
          },
          "metadata": {
            "needs_background": "light"
          }
        }
      ],
      "source": [
        "#Confusion matrix\n",
        "conf = confusion_matrix(encoded_y_test0, test_predicted_classes0)\n",
        "le_name_mapping = dict(zip(encoder.transform(encoder.classes_), encoder.classes_))\n",
        "class_codes = [le_name_mapping[i] for i in range(3)]\n",
        "plot_confusion_matrix(conf, class_codes, name = 'nn0')"
      ]
    },
    {
      "cell_type": "markdown",
      "source": [
        "Set 1"
      ],
      "metadata": {
        "id": "XsnljElTvhUH"
      },
      "id": "XsnljElTvhUH"
    },
    {
      "cell_type": "code",
      "source": [
        "select_data = data_ready[data_ready['category'].isin(cat_index[4:9])].reset_index(drop=True)\n",
        "print(select_data['category'].value_counts())\n",
        "\n",
        "#SPLITTING THE TRAINING DATASET INTO TRAIN AND TEST\n",
        "X_train, X_test, y_train, y_test = train_test_split(select_data[\"clean_text\"], select_data[\"category\"], random_state = 1000,\n",
        "                                                    stratify = select_data[\"category\"], test_size=0.2, shuffle=True)\n",
        "\n",
        "X_train.reset_index(drop=True, inplace=True)\n",
        "X_test.reset_index(drop=True, inplace=True)\n",
        "y_train.reset_index(drop=True, inplace=True)\n",
        "y_test.reset_index(drop=True, inplace=True)\n",
        "\n",
        "#Tf-Idf\n",
        "tfidf_vectorizer = TfidfVectorizer(use_idf=True)\n",
        "X_train = tfidf_vectorizer.fit_transform(X_train) \n",
        "X_test = tfidf_vectorizer.transform(X_test)\n",
        "\n",
        "X_train.sort_indices()\n",
        "X_test.sort_indices()\n",
        "\n",
        "# encode class values as integers\n",
        "encoder = LabelEncoder()\n",
        "encoder.fit(y_train)\n",
        "encoded_y_train = encoder.transform(y_train)\n",
        "encoded_y_test = encoder.transform(y_test)\n",
        "# convert integers to dummy variables (i.e. one hot encoded)\n",
        "dummy_y_train = to_categorical(encoded_y_train)\n",
        "dummy_y_test = to_categorical(encoded_y_test)\n",
        "\n",
        "input_dim = X_train.shape[1]  # Number of features\n",
        "\n",
        "X_train1 = X_train\n",
        "dummy_y_train1 = dummy_y_train\n",
        "X_test1 = X_test\n",
        "dummy_y_test1 = dummy_y_test\n",
        "encoded_y_test1 = encoded_y_test\n",
        "\n",
        "model = KerasClassifier(build_fn=create_nn_model, epochs=25, verbose=0, nclass=5)"
      ],
      "metadata": {
        "id": "KMlQyZMfWA-h",
        "outputId": "5d7e44b9-33fc-49f1-ac1c-605dd2c6e543",
        "colab": {
          "base_uri": "https://localhost:8080/"
        }
      },
      "id": "KMlQyZMfWA-h",
      "execution_count": 13,
      "outputs": [
        {
          "output_type": "stream",
          "name": "stdout",
          "text": [
            "stat       19868\n",
            "math-ph    17597\n",
            "nucl-th    13730\n",
            "q-bio      13316\n",
            "hep-ex     10158\n",
            "Name: category, dtype: int64\n"
          ]
        },
        {
          "output_type": "stream",
          "name": "stderr",
          "text": [
            "/usr/local/lib/python3.7/dist-packages/ipykernel_launcher.py:38: DeprecationWarning: KerasClassifier is deprecated, use Sci-Keras (https://github.com/adriangb/scikeras) instead. See https://www.adriangb.com/scikeras/stable/migration.html for help migrating.\n"
          ]
        }
      ]
    },
    {
      "cell_type": "code",
      "source": [
        "#1 hidden layer\n",
        "\n",
        "param_grid = dict(batch_size=cand_bs, dropout_rate=cand_dr, lam_l2=cand_l2, nlayers=cand_ln[2:3])\n",
        "grid = GridSearchCV(estimator=model, param_grid=param_grid, verbose = 3, n_jobs=1, cv=5)\n",
        "\n",
        "grid_result = grid.fit(X_train, dummy_y_train)\n",
        "\n",
        "# summarize results\n",
        "print(\"Best with 1 hidden layer: %f using %s\" % (grid_result.best_score_, grid_result.best_params_))\n",
        "means = grid_result.cv_results_['mean_test_score']\n",
        "stds = grid_result.cv_results_['std_test_score']\n",
        "params = grid_result.cv_results_['params']\n",
        "\n",
        "cv_results0 = pd.DataFrame.from_dict(grid_result.cv_results_).sort_values(by=['rank_test_score']).set_index('rank_test_score')"
      ],
      "metadata": {
        "id": "zaDhCLCxWP0_"
      },
      "id": "zaDhCLCxWP0_",
      "execution_count": null,
      "outputs": []
    },
    {
      "cell_type": "code",
      "source": [
        "#5 hidden layers\n",
        "\n",
        "param_grid = dict(batch_size=cand_bs, dropout_rate=cand_dr, lam_l2=cand_l2, nlayers=cand_ln[1:2])\n",
        "grid = GridSearchCV(estimator=model, param_grid=param_grid, verbose = 3, n_jobs=1, cv=5)\n",
        "\n",
        "grid_result = grid.fit(X_train, dummy_y_train)\n",
        "\n",
        "# summarize results\n",
        "print(\"Best with 5 hidden layers: %f using %s\" % (grid_result.best_score_, grid_result.best_params_))\n",
        "means = grid_result.cv_results_['mean_test_score']\n",
        "stds = grid_result.cv_results_['std_test_score']\n",
        "params = grid_result.cv_results_['params']\n",
        "\n",
        "cv_results1 = pd.DataFrame.from_dict(grid_result.cv_results_).sort_values(by=['rank_test_score']).set_index('rank_test_score')"
      ],
      "metadata": {
        "id": "czDiA1vXW0aQ"
      },
      "id": "czDiA1vXW0aQ",
      "execution_count": null,
      "outputs": []
    },
    {
      "cell_type": "code",
      "source": [
        "#10 hidden layers\n",
        "\n",
        "param_grid = dict(batch_size=cand_bs, dropout_rate=cand_dr, lam_l2=cand_l2, nlayers=cand_ln[0:1])\n",
        "grid = GridSearchCV(estimator=model, param_grid=param_grid, verbose = 3, n_jobs=1, cv=5)\n",
        "\n",
        "grid_result = grid.fit(X_train, dummy_y_train)\n",
        "\n",
        "# summarize results\n",
        "print(\"Best with 10 hidden layers: %f using %s\" % (grid_result.best_score_, grid_result.best_params_))\n",
        "means = grid_result.cv_results_['mean_test_score']\n",
        "stds = grid_result.cv_results_['std_test_score']\n",
        "params = grid_result.cv_results_['params']\n",
        "\n",
        "cv_results2 = pd.DataFrame.from_dict(grid_result.cv_results_).sort_values(by=['rank_test_score']).set_index('rank_test_score')"
      ],
      "metadata": {
        "id": "iciEQ3M5XBeA"
      },
      "id": "iciEQ3M5XBeA",
      "execution_count": null,
      "outputs": []
    },
    {
      "cell_type": "code",
      "source": [
        "cv_results = pd.concat([cv_results0, cv_results1, cv_results2]).sort_values(by=['mean_test_score'], ascending=False).reset_index(drop=True)\n",
        "cv_results.drop(['std_fit_time', 'std_score_time', 'params', 'split0_test_score', 'split1_test_score', \n",
        "                 'split2_test_score', 'split3_test_score', 'split4_test_score'], 1, inplace = True)\n",
        "clist = list(cv_results.columns.values)\n",
        "cv_results_set1_nn = cv_results[clist[-2:] + clist[:-2]]\n",
        "cv_results_set1_nn.head(10)"
      ],
      "metadata": {
        "id": "ER_wuevAXFDG"
      },
      "id": "ER_wuevAXFDG",
      "execution_count": null,
      "outputs": []
    },
    {
      "cell_type": "code",
      "source": [
        "cv_results_set1_nn.to_csv('cv_results_set1_nn.csv', encoding = 'utf-8-sig') \n",
        "files.download('cv_results_set1_nn.csv')"
      ],
      "metadata": {
        "id": "Ay5sUErZXIcD",
        "outputId": "8f284cd5-0d30-49a6-e975-75765819229e",
        "colab": {
          "base_uri": "https://localhost:8080/",
          "height": 17
        }
      },
      "id": "Ay5sUErZXIcD",
      "execution_count": null,
      "outputs": [
        {
          "output_type": "display_data",
          "data": {
            "text/plain": [
              "<IPython.core.display.Javascript object>"
            ],
            "application/javascript": [
              "\n",
              "    async function download(id, filename, size) {\n",
              "      if (!google.colab.kernel.accessAllowed) {\n",
              "        return;\n",
              "      }\n",
              "      const div = document.createElement('div');\n",
              "      const label = document.createElement('label');\n",
              "      label.textContent = `Downloading \"${filename}\": `;\n",
              "      div.appendChild(label);\n",
              "      const progress = document.createElement('progress');\n",
              "      progress.max = size;\n",
              "      div.appendChild(progress);\n",
              "      document.body.appendChild(div);\n",
              "\n",
              "      const buffers = [];\n",
              "      let downloaded = 0;\n",
              "\n",
              "      const channel = await google.colab.kernel.comms.open(id);\n",
              "      // Send a message to notify the kernel that we're ready.\n",
              "      channel.send({})\n",
              "\n",
              "      for await (const message of channel.messages) {\n",
              "        // Send a message to notify the kernel that we're ready.\n",
              "        channel.send({})\n",
              "        if (message.buffers) {\n",
              "          for (const buffer of message.buffers) {\n",
              "            buffers.push(buffer);\n",
              "            downloaded += buffer.byteLength;\n",
              "            progress.value = downloaded;\n",
              "          }\n",
              "        }\n",
              "      }\n",
              "      const blob = new Blob(buffers, {type: 'application/binary'});\n",
              "      const a = document.createElement('a');\n",
              "      a.href = window.URL.createObjectURL(blob);\n",
              "      a.download = filename;\n",
              "      div.appendChild(a);\n",
              "      a.click();\n",
              "      div.remove();\n",
              "    }\n",
              "  "
            ]
          },
          "metadata": {}
        },
        {
          "output_type": "display_data",
          "data": {
            "text/plain": [
              "<IPython.core.display.Javascript object>"
            ],
            "application/javascript": [
              "download(\"download_6358ebab-b104-4088-8cc9-8d643e8f4430\", \"cv_results_set1_nn.csv\", 3510)"
            ]
          },
          "metadata": {}
        }
      ]
    },
    {
      "cell_type": "code",
      "source": [
        "clear_session()\n",
        "\n",
        "model = create_nn_model(dropout_rate=0.3, lam_l2=0, learn_rate=1e-3, nlayers=1, nclass=5)\n",
        "model.summary()"
      ],
      "metadata": {
        "id": "KvpBHMIggcXM",
        "outputId": "21be21c7-308c-4bc5-e231-cb480e8fde35",
        "colab": {
          "base_uri": "https://localhost:8080/"
        }
      },
      "id": "KvpBHMIggcXM",
      "execution_count": 14,
      "outputs": [
        {
          "output_type": "stream",
          "name": "stdout",
          "text": [
            "Model: \"Neural_network\"\n",
            "_________________________________________________________________\n",
            " Layer (type)                Output Shape              Param #   \n",
            "=================================================================\n",
            " dense (Dense)               (None, 8)                 491336    \n",
            "                                                                 \n",
            " dropout (Dropout)           (None, 8)                 0         \n",
            "                                                                 \n",
            " dense_1 (Dense)             (None, 5)                 45        \n",
            "                                                                 \n",
            "=================================================================\n",
            "Total params: 491,381\n",
            "Trainable params: 491,381\n",
            "Non-trainable params: 0\n",
            "_________________________________________________________________\n"
          ]
        }
      ]
    },
    {
      "cell_type": "code",
      "source": [
        "h1 = model.fit(X_train, dummy_y_train, epochs=50, verbose=True,\n",
        "                    validation_data=(X_test, dummy_y_test), batch_size=512)"
      ],
      "metadata": {
        "id": "wgipp_hovo7i",
        "outputId": "cfc12803-005c-4e7b-deff-1d0a7b031264",
        "colab": {
          "base_uri": "https://localhost:8080/"
        }
      },
      "id": "wgipp_hovo7i",
      "execution_count": 15,
      "outputs": [
        {
          "output_type": "stream",
          "name": "stdout",
          "text": [
            "Epoch 1/50\n"
          ]
        },
        {
          "output_type": "stream",
          "name": "stderr",
          "text": [
            "/usr/local/lib/python3.7/dist-packages/tensorflow/python/framework/indexed_slices.py:446: UserWarning: Converting sparse IndexedSlices(IndexedSlices(indices=Tensor(\"gradient_tape/Neural_network/dense/embedding_lookup_sparse/Reshape_1:0\", shape=(None,), dtype=int32), values=Tensor(\"gradient_tape/Neural_network/dense/embedding_lookup_sparse/Reshape:0\", shape=(None, 8), dtype=float32), dense_shape=Tensor(\"gradient_tape/Neural_network/dense/embedding_lookup_sparse/Cast:0\", shape=(2,), dtype=int32))) to a dense Tensor of unknown shape. This may consume a large amount of memory.\n",
            "  \"shape. This may consume a large amount of memory.\" % value)\n"
          ]
        },
        {
          "output_type": "stream",
          "name": "stdout",
          "text": [
            "117/117 [==============================] - 2s 13ms/step - loss: 1.3708 - accuracy: 0.6168 - val_loss: 1.0899 - val_accuracy: 0.7973\n",
            "Epoch 2/50\n",
            "117/117 [==============================] - 2s 15ms/step - loss: 0.9311 - accuracy: 0.7591 - val_loss: 0.6708 - val_accuracy: 0.9260\n",
            "Epoch 3/50\n",
            "117/117 [==============================] - 2s 16ms/step - loss: 0.6684 - accuracy: 0.8118 - val_loss: 0.4525 - val_accuracy: 0.9405\n",
            "Epoch 4/50\n",
            "117/117 [==============================] - 2s 11ms/step - loss: 0.5413 - accuracy: 0.8343 - val_loss: 0.3405 - val_accuracy: 0.9469\n",
            "Epoch 5/50\n",
            "117/117 [==============================] - 2s 11ms/step - loss: 0.4660 - accuracy: 0.8515 - val_loss: 0.2763 - val_accuracy: 0.9502\n",
            "Epoch 6/50\n",
            "117/117 [==============================] - 2s 11ms/step - loss: 0.4164 - accuracy: 0.8638 - val_loss: 0.2352 - val_accuracy: 0.9531\n",
            "Epoch 7/50\n",
            "117/117 [==============================] - 2s 11ms/step - loss: 0.3839 - accuracy: 0.8739 - val_loss: 0.2067 - val_accuracy: 0.9549\n",
            "Epoch 8/50\n",
            "117/117 [==============================] - 2s 11ms/step - loss: 0.3536 - accuracy: 0.8832 - val_loss: 0.1854 - val_accuracy: 0.9560\n",
            "Epoch 9/50\n",
            "117/117 [==============================] - 1s 11ms/step - loss: 0.3280 - accuracy: 0.8903 - val_loss: 0.1704 - val_accuracy: 0.9569\n",
            "Epoch 10/50\n",
            "117/117 [==============================] - 2s 12ms/step - loss: 0.3077 - accuracy: 0.8958 - val_loss: 0.1587 - val_accuracy: 0.9578\n",
            "Epoch 11/50\n",
            "117/117 [==============================] - 2s 14ms/step - loss: 0.2948 - accuracy: 0.8996 - val_loss: 0.1501 - val_accuracy: 0.9585\n",
            "Epoch 12/50\n",
            "117/117 [==============================] - 2s 15ms/step - loss: 0.2815 - accuracy: 0.9026 - val_loss: 0.1430 - val_accuracy: 0.9590\n",
            "Epoch 13/50\n",
            "117/117 [==============================] - 2s 16ms/step - loss: 0.2673 - accuracy: 0.9060 - val_loss: 0.1378 - val_accuracy: 0.9586\n",
            "Epoch 14/50\n",
            "117/117 [==============================] - 2s 12ms/step - loss: 0.2583 - accuracy: 0.9087 - val_loss: 0.1335 - val_accuracy: 0.9584\n",
            "Epoch 15/50\n",
            "117/117 [==============================] - 2s 13ms/step - loss: 0.2495 - accuracy: 0.9119 - val_loss: 0.1302 - val_accuracy: 0.9587\n",
            "Epoch 16/50\n",
            "117/117 [==============================] - 2s 13ms/step - loss: 0.2413 - accuracy: 0.9150 - val_loss: 0.1274 - val_accuracy: 0.9592\n",
            "Epoch 17/50\n",
            "117/117 [==============================] - 1s 11ms/step - loss: 0.2324 - accuracy: 0.9179 - val_loss: 0.1254 - val_accuracy: 0.9593\n",
            "Epoch 18/50\n",
            "117/117 [==============================] - 2s 11ms/step - loss: 0.2278 - accuracy: 0.9185 - val_loss: 0.1237 - val_accuracy: 0.9595\n",
            "Epoch 19/50\n",
            "117/117 [==============================] - 2s 11ms/step - loss: 0.2196 - accuracy: 0.9226 - val_loss: 0.1224 - val_accuracy: 0.9596\n",
            "Epoch 20/50\n",
            "117/117 [==============================] - 2s 11ms/step - loss: 0.2118 - accuracy: 0.9255 - val_loss: 0.1211 - val_accuracy: 0.9600\n",
            "Epoch 21/50\n",
            "117/117 [==============================] - 2s 11ms/step - loss: 0.2074 - accuracy: 0.9264 - val_loss: 0.1205 - val_accuracy: 0.9598\n",
            "Epoch 22/50\n",
            "117/117 [==============================] - 2s 11ms/step - loss: 0.2018 - accuracy: 0.9297 - val_loss: 0.1199 - val_accuracy: 0.9602\n",
            "Epoch 23/50\n",
            "117/117 [==============================] - 1s 11ms/step - loss: 0.1991 - accuracy: 0.9306 - val_loss: 0.1196 - val_accuracy: 0.9601\n",
            "Epoch 24/50\n",
            "117/117 [==============================] - 2s 14ms/step - loss: 0.1937 - accuracy: 0.9344 - val_loss: 0.1193 - val_accuracy: 0.9602\n",
            "Epoch 25/50\n",
            "117/117 [==============================] - 2s 14ms/step - loss: 0.1868 - accuracy: 0.9363 - val_loss: 0.1194 - val_accuracy: 0.9596\n",
            "Epoch 26/50\n",
            "117/117 [==============================] - 2s 17ms/step - loss: 0.1882 - accuracy: 0.9353 - val_loss: 0.1196 - val_accuracy: 0.9602\n",
            "Epoch 27/50\n",
            "117/117 [==============================] - 2s 13ms/step - loss: 0.1791 - accuracy: 0.9400 - val_loss: 0.1198 - val_accuracy: 0.9598\n",
            "Epoch 28/50\n",
            "117/117 [==============================] - 2s 12ms/step - loss: 0.1763 - accuracy: 0.9405 - val_loss: 0.1200 - val_accuracy: 0.9602\n",
            "Epoch 29/50\n",
            "117/117 [==============================] - 1s 11ms/step - loss: 0.1754 - accuracy: 0.9417 - val_loss: 0.1203 - val_accuracy: 0.9598\n",
            "Epoch 30/50\n",
            "117/117 [==============================] - 1s 11ms/step - loss: 0.1710 - accuracy: 0.9438 - val_loss: 0.1210 - val_accuracy: 0.9602\n",
            "Epoch 31/50\n",
            "117/117 [==============================] - 1s 11ms/step - loss: 0.1687 - accuracy: 0.9439 - val_loss: 0.1217 - val_accuracy: 0.9598\n",
            "Epoch 32/50\n",
            "117/117 [==============================] - 1s 11ms/step - loss: 0.1659 - accuracy: 0.9453 - val_loss: 0.1221 - val_accuracy: 0.9600\n",
            "Epoch 33/50\n",
            "117/117 [==============================] - 1s 11ms/step - loss: 0.1637 - accuracy: 0.9453 - val_loss: 0.1228 - val_accuracy: 0.9599\n",
            "Epoch 34/50\n",
            "117/117 [==============================] - 1s 11ms/step - loss: 0.1590 - accuracy: 0.9466 - val_loss: 0.1234 - val_accuracy: 0.9606\n",
            "Epoch 35/50\n",
            "117/117 [==============================] - 2s 12ms/step - loss: 0.1578 - accuracy: 0.9469 - val_loss: 0.1244 - val_accuracy: 0.9606\n",
            "Epoch 36/50\n",
            "117/117 [==============================] - 2s 11ms/step - loss: 0.1549 - accuracy: 0.9485 - val_loss: 0.1256 - val_accuracy: 0.9602\n",
            "Epoch 37/50\n",
            "117/117 [==============================] - 2s 11ms/step - loss: 0.1536 - accuracy: 0.9490 - val_loss: 0.1264 - val_accuracy: 0.9602\n",
            "Epoch 38/50\n",
            "117/117 [==============================] - 1s 11ms/step - loss: 0.1504 - accuracy: 0.9497 - val_loss: 0.1275 - val_accuracy: 0.9596\n",
            "Epoch 39/50\n",
            "117/117 [==============================] - 2s 12ms/step - loss: 0.1461 - accuracy: 0.9515 - val_loss: 0.1285 - val_accuracy: 0.9601\n",
            "Epoch 40/50\n",
            "117/117 [==============================] - 1s 11ms/step - loss: 0.1477 - accuracy: 0.9506 - val_loss: 0.1294 - val_accuracy: 0.9598\n",
            "Epoch 41/50\n",
            "117/117 [==============================] - 1s 11ms/step - loss: 0.1429 - accuracy: 0.9528 - val_loss: 0.1307 - val_accuracy: 0.9602\n",
            "Epoch 42/50\n",
            "117/117 [==============================] - 2s 12ms/step - loss: 0.1396 - accuracy: 0.9527 - val_loss: 0.1318 - val_accuracy: 0.9598\n",
            "Epoch 43/50\n",
            "117/117 [==============================] - 1s 11ms/step - loss: 0.1433 - accuracy: 0.9516 - val_loss: 0.1331 - val_accuracy: 0.9596\n",
            "Epoch 44/50\n",
            "117/117 [==============================] - 1s 11ms/step - loss: 0.1404 - accuracy: 0.9502 - val_loss: 0.1342 - val_accuracy: 0.9595\n",
            "Epoch 45/50\n",
            "117/117 [==============================] - 1s 11ms/step - loss: 0.1371 - accuracy: 0.9516 - val_loss: 0.1355 - val_accuracy: 0.9595\n",
            "Epoch 46/50\n",
            "117/117 [==============================] - 2s 11ms/step - loss: 0.1367 - accuracy: 0.9513 - val_loss: 0.1368 - val_accuracy: 0.9597\n",
            "Epoch 47/50\n",
            "117/117 [==============================] - 2s 12ms/step - loss: 0.1347 - accuracy: 0.9517 - val_loss: 0.1390 - val_accuracy: 0.9590\n",
            "Epoch 48/50\n",
            "117/117 [==============================] - 1s 11ms/step - loss: 0.1344 - accuracy: 0.9502 - val_loss: 0.1401 - val_accuracy: 0.9592\n",
            "Epoch 49/50\n",
            "117/117 [==============================] - 1s 11ms/step - loss: 0.1310 - accuracy: 0.9521 - val_loss: 0.1419 - val_accuracy: 0.9594\n",
            "Epoch 50/50\n",
            "117/117 [==============================] - 1s 11ms/step - loss: 0.1313 - accuracy: 0.9523 - val_loss: 0.1429 - val_accuracy: 0.9596\n"
          ]
        }
      ]
    },
    {
      "cell_type": "code",
      "source": [
        "idx_min_test_loss1 = np.argmin(h1.history['val_loss'])\n",
        "best_acc1 = h1.history['val_accuracy'][idx_min_test_loss1]\n",
        "\n",
        "loss, accuracy = model.evaluate(X_train1, dummy_y_train1, verbose=False)\n",
        "print(\"Training Accuracy: {:.3f}\".format(accuracy))\n",
        "loss, accuracy = model.evaluate(X_test1, dummy_y_test1, verbose=False)\n",
        "print(\"Testing Accuracy: {:.3f}\".format(accuracy))\n",
        "\n",
        "print(\"Minimum value of loss in the test set at epoch: {:d}\".format(idx_min_test_loss0))\n",
        "print(\"Testing Accuracy at that epoch: {:.3f}\".format(best_acc0))"
      ],
      "metadata": {
        "colab": {
          "base_uri": "https://localhost:8080/"
        },
        "id": "dDOfZrAKsbVR",
        "outputId": "3c0767c9-b907-40b3-ed6c-0806035ee04b"
      },
      "id": "dDOfZrAKsbVR",
      "execution_count": 16,
      "outputs": [
        {
          "output_type": "stream",
          "name": "stdout",
          "text": [
            "Training Accuracy: 0.998\n",
            "Testing Accuracy: 0.960\n",
            "Minimum value of loss in the test set at epoch: 28\n",
            "Testing Accuracy at that epoch: 0.954\n"
          ]
        }
      ]
    },
    {
      "cell_type": "code",
      "source": [
        "plt.style.use('ggplot')\n",
        "   \n",
        "plot_history(h1, name=\"hnn1\")"
      ],
      "metadata": {
        "id": "tgbL2gRBvp67",
        "outputId": "88d902c2-fcc6-4fb7-9b18-e8a895d05823",
        "colab": {
          "base_uri": "https://localhost:8080/",
          "height": 337
        }
      },
      "id": "tgbL2gRBvp67",
      "execution_count": null,
      "outputs": [
        {
          "output_type": "display_data",
          "data": {
            "text/plain": [
              "<Figure size 864x360 with 2 Axes>"
            ],
            "image/png": "[encoded data removed]"
          },
          "metadata": {}
        }
      ]
    },
    {
      "cell_type": "code",
      "source": [
        "test_predicted_prob1 = model.predict(X_test1)\n",
        "test_predicted_classes1 = test_predicted_prob1.argmax(1)"
      ],
      "metadata": {
        "id": "1yyVxyC-uq4M"
      },
      "id": "1yyVxyC-uq4M",
      "execution_count": 18,
      "outputs": []
    },
    {
      "cell_type": "code",
      "source": [
        "#Confusion matrix\n",
        "conf = confusion_matrix(encoded_y_test1, test_predicted_classes1)\n",
        "le_name_mapping = dict(zip(encoder.transform(encoder.classes_), encoder.classes_))\n",
        "class_codes = [le_name_mapping[i] for i in range(5)]\n",
        "plot_confusion_matrix(conf, class_codes, name = 'nn1', xsize=6, ysize=4)"
      ],
      "metadata": {
        "colab": {
          "base_uri": "https://localhost:8080/",
          "height": 323
        },
        "id": "AJrpZNJUtBck",
        "outputId": "bdd49e78-2edd-4fd4-c200-96691bdaaa8b"
      },
      "id": "AJrpZNJUtBck",
      "execution_count": 19,
      "outputs": [
        {
          "output_type": "display_data",
          "data": {
            "text/plain": [
              "<Figure size 432x288 with 1 Axes>"
            ],
            "image/png": "[encoded data removed]"
          },
          "metadata": {
            "needs_background": "light"
          }
        }
      ]
    }
  ],
  "metadata": {
    "kernelspec": {
      "display_name": "Python 3",
      "language": "python",
      "name": "python3"
    },
    "language_info": {
      "codemirror_mode": {
        "name": "ipython",
        "version": 3
      },
      "file_extension": ".py",
      "mimetype": "text/x-python",
      "name": "python",
      "nbconvert_exporter": "python",
      "pygments_lexer": "ipython3",
      "version": "3.9.12"
    },
    "colab": {
      "name": "03_Neural network.ipynb",
      "provenance": []
    }
  },
  "nbformat": 4,
  "nbformat_minor": 5
}
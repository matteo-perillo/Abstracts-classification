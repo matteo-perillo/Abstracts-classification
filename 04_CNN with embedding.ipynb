{
  "cells": [
    {
      "cell_type": "code",
      "source": [
        "import numpy as np\n",
        "import matplotlib.pyplot as plt\n",
        "import pandas as pd\n",
        "\n",
        "import time\n",
        "\n",
        "from google.colab import files\n",
        "import numpy as np\n",
        "import pandas as pd\n",
        "import itertools\n",
        "import io\n",
        "import timeit\n",
        "import time\n",
        "\n",
        "from pydrive.auth import GoogleAuth\n",
        "from pydrive.drive import GoogleDrive\n",
        "from google.colab import auth\n",
        "from oauth2client.client import GoogleCredentials\n",
        "\n",
        "from sklearn.metrics import confusion_matrix\n",
        "from sklearn.model_selection import train_test_split, cross_val_score, KFold, GridSearchCV\n",
        "from sklearn.feature_extraction.text import TfidfVectorizer, CountVectorizer\n",
        "from sklearn.preprocessing import LabelEncoder\n",
        "\n",
        "import tensorflow as tf\n",
        "from tensorflow import keras\n",
        "from tensorflow.keras.preprocessing.text import Tokenizer\n",
        "from tensorflow.keras.preprocessing.sequence import pad_sequences\n",
        "from tensorflow.keras.models import Sequential\n",
        "from tensorflow.keras import layers\n",
        "from tensorflow.keras.utils import to_categorical\n",
        "from tensorflow.keras.backend import clear_session\n",
        "from tensorflow.keras.regularizers import l2\n",
        "from tensorflow.keras.wrappers.scikit_learn import KerasClassifier\n",
        "\n",
        "#tf.config.run_functions_eagerly(True)"
      ],
      "metadata": {
        "id": "pe0w-OKlKsLy"
      },
      "id": "pe0w-OKlKsLy",
      "execution_count": 1,
      "outputs": []
    },
    {
      "cell_type": "code",
      "source": [
        "#%tensorflow_version 2.x\n",
        "#import tensorflow as tf\n",
        "device_name = tf.test.gpu_device_name()\n",
        "if device_name != '/device:GPU:0':\n",
        "  raise SystemError('GPU device not found')\n",
        "print('Found GPU at: {}'.format(device_name))"
      ],
      "metadata": {
        "id": "omNKMb94Knvb",
        "outputId": "14d131e9-1fbc-4bf2-e32a-8f90f6b09729",
        "colab": {
          "base_uri": "https://localhost:8080/"
        }
      },
      "id": "omNKMb94Knvb",
      "execution_count": 3,
      "outputs": [
        {
          "output_type": "stream",
          "name": "stdout",
          "text": [
            "Found GPU at: /device:GPU:0\n"
          ]
        }
      ]
    },
    {
      "cell_type": "code",
      "source": [
        "auth.authenticate_user()\n",
        "gauth = GoogleAuth()\n",
        "gauth.credentials = GoogleCredentials.get_application_default()\n",
        "drive = GoogleDrive(gauth)\n",
        "downloaded = drive.CreateFile({'id':\"1rJUCyDztqA321Uo690atZCQYS8Q1Y6XN\"})\n",
        "downloaded.GetContentFile('preprocessed_data.csv')\n",
        "data_ready = pd.read_csv('preprocessed_data.csv')"
      ],
      "metadata": {
        "id": "zZnFnCCaLuil"
      },
      "id": "zZnFnCCaLuil",
      "execution_count": 2,
      "outputs": []
    },
    {
      "cell_type": "code",
      "execution_count": 3,
      "id": "spatial-mainstream",
      "metadata": {
        "id": "spatial-mainstream"
      },
      "outputs": [],
      "source": [
        "def create_cnn_model(embedding_dim=50, n_filters=64, k_size=5, nlayers=1, nclass=3):\n",
        "    model = Sequential(name=\"Convolutional_Neural_Network\")\n",
        "    model.add(layers.Embedding(input_dim=vocab_size, output_dim=embedding_dim, input_length=maxlen))\n",
        "    if nlayers > 4:\n",
        "      model.add(layers.Conv1D(filters = n_filters*3, kernel_size = k_size*3, activation='relu', name = \"quinto\"))\n",
        "      model.add(layers.Conv1D(filters = n_filters*3, kernel_size = k_size*3, activation='relu', name = \"quarto\"))\n",
        "    if nlayers > 2:\n",
        "      model.add(layers.Conv1D(filters = n_filters*2, kernel_size = k_size*2, activation='relu', name = \"terzo\"))\n",
        "      model.add(layers.Conv1D(filters = n_filters*2, kernel_size = k_size*2, activation='relu', name = \"secondo\"))\n",
        "    model.add(layers.Conv1D(filters = n_filters, kernel_size = k_size, activation='relu', name='primo'))\n",
        "    model.add(layers.GlobalMaxPooling1D())\n",
        "    model.add(layers.Dense(10, activation='relu'))\n",
        "    model.add(layers.Dense(nclass, activation='softmax'))\n",
        "    model.compile(optimizer='adam', loss='categorical_crossentropy', metrics=['accuracy'])\n",
        "    return model\n",
        "\n",
        "def plot_history(history):\n",
        "    acc = history.history['accuracy']\n",
        "    val_acc = history.history['val_accuracy']\n",
        "    loss = history.history['loss']\n",
        "    val_loss = history.history['val_loss']\n",
        "    x = range(1, len(acc) + 1)\n",
        "\n",
        "    plt.figure(figsize=(12, 5))\n",
        "    plt.subplot(1, 2, 1)\n",
        "    plt.plot(x[:-1], acc[1:], 'b', label='Training acc')\n",
        "    plt.plot(x, val_acc, 'r', label='Validation acc')\n",
        "    plt.title('Training and validation accuracy')\n",
        "    plt.legend()\n",
        "    plt.subplot(1, 2, 2)\n",
        "    plt.plot(x[:-1], loss[1:], 'b', label='Training loss')\n",
        "    plt.plot(x, val_loss, 'r', label='Validation loss')\n",
        "    plt.title('Training and validation loss')\n",
        "    plt.legend()\n",
        "\n",
        "def plot_confusion_matrix(cm, target_names, title='Confusion matrix', cmap=None, normalize=True):\n",
        "    accuracy = np.trace(cm) / np.sum(cm).astype('float')\n",
        "    misclass = 1 - accuracy\n",
        "\n",
        "    if cmap is None:\n",
        "        cmap = plt.get_cmap('Blues')\n",
        "\n",
        "    plt.figure(figsize=(8, 6))\n",
        "    plt.imshow(cm, interpolation='nearest', cmap=cmap)\n",
        "    plt.title(title)\n",
        "    plt.colorbar()\n",
        "\n",
        "    if target_names is not None:\n",
        "        tick_marks = np.arange(len(target_names))\n",
        "        plt.xticks(tick_marks, target_names, rotation=45)\n",
        "        plt.yticks(tick_marks, target_names)\n",
        "\n",
        "    if normalize:\n",
        "        cm = cm.astype('float') / cm.sum(axis=1)[:, np.newaxis]\n",
        "\n",
        "\n",
        "    thresh = cm.max() / 1.5 if normalize else cm.max() / 2\n",
        "    for i, j in itertools.product(range(cm.shape[0]), range(cm.shape[1])):\n",
        "        if normalize:\n",
        "            plt.text(j, i, \"{:0.4f}\".format(cm[i, j]),\n",
        "                     horizontalalignment=\"center\",\n",
        "                     color=\"white\" if cm[i, j] > thresh else \"black\")\n",
        "        else:\n",
        "            plt.text(j, i, \"{:,}\".format(cm[i, j]),\n",
        "                     horizontalalignment=\"center\",\n",
        "                     color=\"white\" if cm[i, j] > thresh else \"black\")\n",
        "\n",
        "\n",
        "    plt.tight_layout()\n",
        "    plt.ylabel('True label')\n",
        "    plt.xlabel('Predicted label\\naccuracy={:0.4f}; misclass={:0.4f}'.format(accuracy, misclass))\n",
        "    plt.show()"
      ]
    },
    {
      "cell_type": "code",
      "source": [
        "# define the grid search parameters\n",
        "cand_bs = [512, 2048] #batch size\n",
        "cand_ed = [50, 100] #dimension of output of embedding layer\n",
        "cand_nf = [16, 32] #number of filters convolutional layer\n",
        "cand_ks = [3, 5] #kernel size convolutional layer\n",
        "cand_nl = [1, 3, 5] #number of convolutional layers\n",
        "#OTHER HYPERPARAMETERS TO OPTIMIZE: Number of convolutional layers, kernel dimension"
      ],
      "metadata": {
        "id": "wKVI5RffMM-4"
      },
      "id": "wKVI5RffMM-4",
      "execution_count": 7,
      "outputs": []
    },
    {
      "cell_type": "code",
      "source": [
        "par = ['Batch size', 'Embedding layer output', 'Num conv. filters', 'Kernel size','Num conv. layers']\n",
        "val = ['512, 2048', '50, 100', '16, 32', '3, 5', '1, 3, 5']\n",
        "\n",
        "d = {'Parametro': par, 'Valori possibili': val}\n",
        "hyperp_grid = pd.DataFrame(d)\n",
        "\n",
        "hyperp_grid.to_csv('hyperp_grid.csv', encoding = 'utf-8-sig') \n",
        "files.download('hyperp_grid.csv')"
      ],
      "metadata": {
        "id": "BkEGsyQmqv2P",
        "outputId": "1aab6336-d383-4c97-83bc-e7e35bb09d01",
        "colab": {
          "base_uri": "https://localhost:8080/",
          "height": 17
        }
      },
      "id": "BkEGsyQmqv2P",
      "execution_count": 14,
      "outputs": [
        {
          "output_type": "display_data",
          "data": {
            "text/plain": [
              "<IPython.core.display.Javascript object>"
            ],
            "application/javascript": [
              "\n",
              "    async function download(id, filename, size) {\n",
              "      if (!google.colab.kernel.accessAllowed) {\n",
              "        return;\n",
              "      }\n",
              "      const div = document.createElement('div');\n",
              "      const label = document.createElement('label');\n",
              "      label.textContent = `Downloading \"${filename}\": `;\n",
              "      div.appendChild(label);\n",
              "      const progress = document.createElement('progress');\n",
              "      progress.max = size;\n",
              "      div.appendChild(progress);\n",
              "      document.body.appendChild(div);\n",
              "\n",
              "      const buffers = [];\n",
              "      let downloaded = 0;\n",
              "\n",
              "      const channel = await google.colab.kernel.comms.open(id);\n",
              "      // Send a message to notify the kernel that we're ready.\n",
              "      channel.send({})\n",
              "\n",
              "      for await (const message of channel.messages) {\n",
              "        // Send a message to notify the kernel that we're ready.\n",
              "        channel.send({})\n",
              "        if (message.buffers) {\n",
              "          for (const buffer of message.buffers) {\n",
              "            buffers.push(buffer);\n",
              "            downloaded += buffer.byteLength;\n",
              "            progress.value = downloaded;\n",
              "          }\n",
              "        }\n",
              "      }\n",
              "      const blob = new Blob(buffers, {type: 'application/binary'});\n",
              "      const a = document.createElement('a');\n",
              "      a.href = window.URL.createObjectURL(blob);\n",
              "      a.download = filename;\n",
              "      div.appendChild(a);\n",
              "      a.click();\n",
              "      div.remove();\n",
              "    }\n",
              "  "
            ]
          },
          "metadata": {}
        },
        {
          "output_type": "display_data",
          "data": {
            "text/plain": [
              "<IPython.core.display.Javascript object>"
            ],
            "application/javascript": [
              "download(\"download_e0a3864a-3ce3-422a-8096-095da605de58\", \"hyperp_grid.csv\", 175)"
            ]
          },
          "metadata": {}
        }
      ]
    },
    {
      "cell_type": "code",
      "source": [
        "#print(data_ready['category'].value_counts())\n",
        "cat_index = data_ready['category'].value_counts().index"
      ],
      "metadata": {
        "id": "P3N3MAjLOUqE"
      },
      "id": "P3N3MAjLOUqE",
      "execution_count": 4,
      "outputs": []
    },
    {
      "cell_type": "code",
      "execution_count": 9,
      "id": "matched-share",
      "metadata": {
        "id": "matched-share",
        "outputId": "28ad1be1-5b62-46a8-a8f5-8498a5c14fa0",
        "colab": {
          "base_uri": "https://localhost:8080/"
        }
      },
      "outputs": [
        {
          "output_type": "stream",
          "name": "stdout",
          "text": [
            "hep-ph      50603\n",
            "quant-ph    44678\n",
            "hep-th      39013\n",
            "Name: category, dtype: int64\n"
          ]
        },
        {
          "output_type": "stream",
          "name": "stderr",
          "text": [
            "/usr/local/lib/python3.7/dist-packages/ipykernel_launcher.py:34: DeprecationWarning: KerasClassifier is deprecated, use Sci-Keras (https://github.com/adriangb/scikeras) instead. See https://www.adriangb.com/scikeras/stable/migration.html for help migrating.\n"
          ]
        }
      ],
      "source": [
        "select_data = data_ready[data_ready['category'].isin(cat_index[0:3])].dropna().reset_index(drop=True)\n",
        "print(select_data['category'].value_counts())\n",
        "\n",
        "#SPLITTING THE TRAINING DATASET INTO TRAIN AND TEST\n",
        "X_train, X_test, y_train, y_test = train_test_split(select_data[\"clean_text\"], select_data[\"category\"], random_state = 1000,\n",
        "                                                    stratify = select_data[\"category\"], test_size=0.2, shuffle=True)\n",
        "\n",
        "X_train.reset_index(drop=True, inplace=True)\n",
        "X_test.reset_index(drop=True, inplace=True)\n",
        "y_train.reset_index(drop=True, inplace=True)\n",
        "y_test.reset_index(drop=True, inplace=True)\n",
        "\n",
        "tokenizer = Tokenizer(num_words=100000)\n",
        "tokenizer.fit_on_texts(X_train)\n",
        "\n",
        "X_train = tokenizer.texts_to_sequences(X_train)\n",
        "X_test = tokenizer.texts_to_sequences(X_test)\n",
        "\n",
        "maxlen = np.array([len(a) for a in X_train]).max()\n",
        "\n",
        "X_train = pad_sequences(X_train, padding='post', maxlen=maxlen)\n",
        "X_test = pad_sequences(X_test, padding='post', maxlen=maxlen)\n",
        "\n",
        "vocab_size = len(tokenizer.word_index) + 1\n",
        "\n",
        "encoder = LabelEncoder()\n",
        "encoder.fit(y_train)\n",
        "encoded_y_train = encoder.transform(y_train)\n",
        "encoded_y_test = encoder.transform(y_test)\n",
        "\n",
        "dummy_y_train = to_categorical(encoded_y_train)\n",
        "dummy_y_test = to_categorical(encoded_y_test)\n",
        "\n",
        "model = KerasClassifier(build_fn=create_cnn_model, epochs=25, verbose=0, nclass=3)"
      ]
    },
    {
      "cell_type": "markdown",
      "source": [
        "Set 0"
      ],
      "metadata": {
        "id": "vH_RDuhfOLaE"
      },
      "id": "vH_RDuhfOLaE"
    },
    {
      "cell_type": "code",
      "execution_count": null,
      "id": "desperate-pilot",
      "metadata": {
        "id": "desperate-pilot",
        "colab": {
          "base_uri": "https://localhost:8080/"
        },
        "outputId": "e14b5ea9-fe02-4dbc-ba73-9cfdc5ad9761"
      },
      "outputs": [
        {
          "output_type": "stream",
          "name": "stdout",
          "text": [
            "Fitting 5 folds for each of 24 candidates, totalling 120 fits\n",
            "[CV 1/5] END batch_size=512, embedding_dim=50, k_size=3, n_filters=16, nlayers=1;, score=0.947 total time=  33.8s\n",
            "[CV 2/5] END batch_size=512, embedding_dim=50, k_size=3, n_filters=16, nlayers=1;, score=0.944 total time=  34.8s\n",
            "[CV 3/5] END batch_size=512, embedding_dim=50, k_size=3, n_filters=16, nlayers=1;, score=0.941 total time=  42.0s\n",
            "[CV 4/5] END batch_size=512, embedding_dim=50, k_size=3, n_filters=16, nlayers=1;, score=0.946 total time=  35.5s\n",
            "[CV 5/5] END batch_size=512, embedding_dim=50, k_size=3, n_filters=16, nlayers=1;, score=0.945 total time=  42.6s\n",
            "[CV 1/5] END batch_size=512, embedding_dim=50, k_size=3, n_filters=32, nlayers=1;, score=0.950 total time=  41.9s\n",
            "[CV 2/5] END batch_size=512, embedding_dim=50, k_size=3, n_filters=32, nlayers=1;, score=0.946 total time=  41.8s\n",
            "[CV 3/5] END batch_size=512, embedding_dim=50, k_size=3, n_filters=32, nlayers=1;, score=0.947 total time=  39.7s\n",
            "[CV 4/5] END batch_size=512, embedding_dim=50, k_size=3, n_filters=32, nlayers=1;, score=0.949 total time=  42.0s\n",
            "[CV 5/5] END batch_size=512, embedding_dim=50, k_size=3, n_filters=32, nlayers=1;, score=0.951 total time=  40.2s\n",
            "[CV 1/5] END batch_size=512, embedding_dim=50, k_size=5, n_filters=16, nlayers=1;, score=0.946 total time=  38.1s\n",
            "[CV 2/5] END batch_size=512, embedding_dim=50, k_size=5, n_filters=16, nlayers=1;, score=0.943 total time=  38.1s\n",
            "[CV 3/5] END batch_size=512, embedding_dim=50, k_size=5, n_filters=16, nlayers=1;, score=0.942 total time=  42.0s\n",
            "[CV 4/5] END batch_size=512, embedding_dim=50, k_size=5, n_filters=16, nlayers=1;, score=0.944 total time=  41.8s\n",
            "[CV 5/5] END batch_size=512, embedding_dim=50, k_size=5, n_filters=16, nlayers=1;, score=0.945 total time=  41.8s\n",
            "[CV 1/5] END batch_size=512, embedding_dim=50, k_size=5, n_filters=32, nlayers=1;, score=0.946 total time= 1.4min\n",
            "[CV 2/5] END batch_size=512, embedding_dim=50, k_size=5, n_filters=32, nlayers=1;, score=0.944 total time= 1.4min\n",
            "[CV 3/5] END batch_size=512, embedding_dim=50, k_size=5, n_filters=32, nlayers=1;, score=0.947 total time= 1.4min\n",
            "[CV 4/5] END batch_size=512, embedding_dim=50, k_size=5, n_filters=32, nlayers=1;, score=0.947 total time=  44.1s\n",
            "[CV 5/5] END batch_size=512, embedding_dim=50, k_size=5, n_filters=32, nlayers=1;, score=0.947 total time= 1.4min\n",
            "[CV 1/5] END batch_size=512, embedding_dim=100, k_size=3, n_filters=16, nlayers=1;, score=0.947 total time=  51.7s\n",
            "[CV 2/5] END batch_size=512, embedding_dim=100, k_size=3, n_filters=16, nlayers=1;, score=0.944 total time=  51.0s\n",
            "[CV 3/5] END batch_size=512, embedding_dim=100, k_size=3, n_filters=16, nlayers=1;, score=0.945 total time=  51.3s\n",
            "[CV 4/5] END batch_size=512, embedding_dim=100, k_size=3, n_filters=16, nlayers=1;, score=0.946 total time= 1.4min\n",
            "[CV 5/5] END batch_size=512, embedding_dim=100, k_size=3, n_filters=16, nlayers=1;, score=0.945 total time=  51.8s\n",
            "[CV 1/5] END batch_size=512, embedding_dim=100, k_size=3, n_filters=32, nlayers=1;, score=0.950 total time=  57.1s\n",
            "[CV 2/5] END batch_size=512, embedding_dim=100, k_size=3, n_filters=32, nlayers=1;, score=0.950 total time=  57.4s\n",
            "[CV 3/5] END batch_size=512, embedding_dim=100, k_size=3, n_filters=32, nlayers=1;, score=0.948 total time=  57.4s\n",
            "[CV 4/5] END batch_size=512, embedding_dim=100, k_size=3, n_filters=32, nlayers=1;, score=0.950 total time= 1.4min\n",
            "[CV 5/5] END batch_size=512, embedding_dim=100, k_size=3, n_filters=32, nlayers=1;, score=0.950 total time= 1.4min\n",
            "[CV 1/5] END batch_size=512, embedding_dim=100, k_size=5, n_filters=16, nlayers=1;, score=0.947 total time= 1.4min\n",
            "[CV 2/5] END batch_size=512, embedding_dim=100, k_size=5, n_filters=16, nlayers=1;, score=0.943 total time= 1.0min\n",
            "[CV 3/5] END batch_size=512, embedding_dim=100, k_size=5, n_filters=16, nlayers=1;, score=0.947 total time= 1.0min\n",
            "[CV 4/5] END batch_size=512, embedding_dim=100, k_size=5, n_filters=16, nlayers=1;, score=0.948 total time= 1.0min\n",
            "[CV 5/5] END batch_size=512, embedding_dim=100, k_size=5, n_filters=16, nlayers=1;, score=0.946 total time= 1.4min\n",
            "[CV 1/5] END batch_size=512, embedding_dim=100, k_size=5, n_filters=32, nlayers=1;, score=0.950 total time= 1.4min\n",
            "[CV 2/5] END batch_size=512, embedding_dim=100, k_size=5, n_filters=32, nlayers=1;, score=0.946 total time= 1.2min\n",
            "[CV 3/5] END batch_size=512, embedding_dim=100, k_size=5, n_filters=32, nlayers=1;, score=0.947 total time= 1.4min\n",
            "[CV 4/5] END batch_size=512, embedding_dim=100, k_size=5, n_filters=32, nlayers=1;, score=0.949 total time= 1.2min\n",
            "[CV 5/5] END batch_size=512, embedding_dim=100, k_size=5, n_filters=32, nlayers=1;, score=0.948 total time= 1.2min\n",
            "[CV 1/5] END batch_size=512, embedding_dim=200, k_size=3, n_filters=16, nlayers=1;, score=0.949 total time= 1.2min\n",
            "[CV 2/5] END batch_size=512, embedding_dim=200, k_size=3, n_filters=16, nlayers=1;, score=0.946 total time= 1.4min\n",
            "[CV 3/5] END batch_size=512, embedding_dim=200, k_size=3, n_filters=16, nlayers=1;, score=0.946 total time= 1.4min\n",
            "[CV 4/5] END batch_size=512, embedding_dim=200, k_size=3, n_filters=16, nlayers=1;, score=0.946 total time= 1.4min\n",
            "[CV 5/5] END batch_size=512, embedding_dim=200, k_size=3, n_filters=16, nlayers=1;, score=0.945 total time= 1.2min\n",
            "[CV 1/5] END batch_size=512, embedding_dim=200, k_size=3, n_filters=32, nlayers=1;, score=0.950 total time= 1.4min\n",
            "[CV 2/5] END batch_size=512, embedding_dim=200, k_size=3, n_filters=32, nlayers=1;, score=0.947 total time= 1.4min\n",
            "[CV 3/5] END batch_size=512, embedding_dim=200, k_size=3, n_filters=32, nlayers=1;, score=0.948 total time= 1.3min\n",
            "[CV 4/5] END batch_size=512, embedding_dim=200, k_size=3, n_filters=32, nlayers=1;, score=0.949 total time= 1.4min\n",
            "[CV 5/5] END batch_size=512, embedding_dim=200, k_size=3, n_filters=32, nlayers=1;, score=0.950 total time= 1.4min\n",
            "[CV 1/5] END batch_size=512, embedding_dim=200, k_size=5, n_filters=16, nlayers=1;, score=0.946 total time= 1.4min\n",
            "[CV 2/5] END batch_size=512, embedding_dim=200, k_size=5, n_filters=16, nlayers=1;, score=0.948 total time= 1.3min\n",
            "[CV 3/5] END batch_size=512, embedding_dim=200, k_size=5, n_filters=16, nlayers=1;, score=0.944 total time= 1.4min\n",
            "[CV 4/5] END batch_size=512, embedding_dim=200, k_size=5, n_filters=16, nlayers=1;, score=0.948 total time= 1.3min\n",
            "[CV 5/5] END batch_size=512, embedding_dim=200, k_size=5, n_filters=16, nlayers=1;, score=0.946 total time= 1.3min\n",
            "[CV 1/5] END batch_size=512, embedding_dim=200, k_size=5, n_filters=32, nlayers=1;, score=0.947 total time= 2.4min\n",
            "[CV 2/5] END batch_size=512, embedding_dim=200, k_size=5, n_filters=32, nlayers=1;, score=0.947 total time= 2.4min\n",
            "[CV 3/5] END batch_size=512, embedding_dim=200, k_size=5, n_filters=32, nlayers=1;, score=0.948 total time= 1.5min\n",
            "[CV 4/5] END batch_size=512, embedding_dim=200, k_size=5, n_filters=32, nlayers=1;, score=0.948 total time= 2.4min\n",
            "[CV 5/5] END batch_size=512, embedding_dim=200, k_size=5, n_filters=32, nlayers=1;, score=0.947 total time= 1.5min\n",
            "[CV 1/5] END batch_size=2048, embedding_dim=50, k_size=3, n_filters=16, nlayers=1;, score=0.946 total time=  41.9s\n",
            "[CV 2/5] END batch_size=2048, embedding_dim=50, k_size=3, n_filters=16, nlayers=1;, score=0.944 total time=  41.8s\n",
            "[CV 3/5] END batch_size=2048, embedding_dim=50, k_size=3, n_filters=16, nlayers=1;, score=0.943 total time=  26.9s\n",
            "[CV 4/5] END batch_size=2048, embedding_dim=50, k_size=3, n_filters=16, nlayers=1;, score=0.946 total time=  41.7s\n",
            "[CV 5/5] END batch_size=2048, embedding_dim=50, k_size=3, n_filters=16, nlayers=1;, score=0.949 total time=  26.7s\n",
            "[CV 1/5] END batch_size=2048, embedding_dim=50, k_size=3, n_filters=32, nlayers=1;, score=0.946 total time=  32.9s\n",
            "[CV 2/5] END batch_size=2048, embedding_dim=50, k_size=3, n_filters=32, nlayers=1;, score=0.948 total time=  41.8s\n",
            "[CV 3/5] END batch_size=2048, embedding_dim=50, k_size=3, n_filters=32, nlayers=1;, score=0.948 total time=  32.7s\n",
            "[CV 4/5] END batch_size=2048, embedding_dim=50, k_size=3, n_filters=32, nlayers=1;, score=0.949 total time=  32.6s\n",
            "[CV 5/5] END batch_size=2048, embedding_dim=50, k_size=3, n_filters=32, nlayers=1;, score=0.950 total time=  41.8s\n",
            "[CV 1/5] END batch_size=2048, embedding_dim=50, k_size=5, n_filters=16, nlayers=1;, score=0.947 total time=  32.0s\n",
            "[CV 2/5] END batch_size=2048, embedding_dim=50, k_size=5, n_filters=16, nlayers=1;, score=0.946 total time=  31.2s\n",
            "[CV 3/5] END batch_size=2048, embedding_dim=50, k_size=5, n_filters=16, nlayers=1;, score=0.948 total time=  31.1s\n",
            "[CV 4/5] END batch_size=2048, embedding_dim=50, k_size=5, n_filters=16, nlayers=1;, score=0.947 total time=  31.4s\n",
            "[CV 5/5] END batch_size=2048, embedding_dim=50, k_size=5, n_filters=16, nlayers=1;, score=0.946 total time=  41.7s\n",
            "[CV 1/5] END batch_size=2048, embedding_dim=50, k_size=5, n_filters=32, nlayers=1;, score=0.947 total time=  37.7s\n",
            "[CV 2/5] END batch_size=2048, embedding_dim=50, k_size=5, n_filters=32, nlayers=1;, score=0.942 total time=  37.2s\n",
            "[CV 3/5] END batch_size=2048, embedding_dim=50, k_size=5, n_filters=32, nlayers=1;, score=0.944 total time=  41.8s\n",
            "[CV 4/5] END batch_size=2048, embedding_dim=50, k_size=5, n_filters=32, nlayers=1;, score=0.947 total time=  37.5s\n",
            "[CV 5/5] END batch_size=2048, embedding_dim=50, k_size=5, n_filters=32, nlayers=1;, score=0.947 total time=  36.9s\n",
            "[CV 1/5] END batch_size=2048, embedding_dim=100, k_size=3, n_filters=16, nlayers=1;, score=0.949 total time=  42.0s\n",
            "[CV 2/5] END batch_size=2048, embedding_dim=100, k_size=3, n_filters=16, nlayers=1;, score=0.945 total time=  40.4s\n",
            "[CV 3/5] END batch_size=2048, embedding_dim=100, k_size=3, n_filters=16, nlayers=1;, score=0.945 total time=  41.7s\n",
            "[CV 4/5] END batch_size=2048, embedding_dim=100, k_size=3, n_filters=16, nlayers=1;, score=0.944 total time=  40.4s\n",
            "[CV 5/5] END batch_size=2048, embedding_dim=100, k_size=3, n_filters=16, nlayers=1;, score=0.947 total time=  40.5s\n",
            "[CV 1/5] END batch_size=2048, embedding_dim=100, k_size=3, n_filters=32, nlayers=1;, score=0.951 total time= 1.4min\n",
            "[CV 2/5] END batch_size=2048, embedding_dim=100, k_size=3, n_filters=32, nlayers=1;, score=0.949 total time=  46.4s\n",
            "[CV 3/5] END batch_size=2048, embedding_dim=100, k_size=3, n_filters=32, nlayers=1;, score=0.947 total time= 1.4min\n",
            "[CV 4/5] END batch_size=2048, embedding_dim=100, k_size=3, n_filters=32, nlayers=1;, score=0.951 total time= 1.4min\n",
            "[CV 5/5] END batch_size=2048, embedding_dim=100, k_size=3, n_filters=32, nlayers=1;, score=0.950 total time= 1.4min\n",
            "[CV 1/5] END batch_size=2048, embedding_dim=100, k_size=5, n_filters=16, nlayers=1;, score=0.945 total time=  53.2s\n",
            "[CV 2/5] END batch_size=2048, embedding_dim=100, k_size=5, n_filters=16, nlayers=1;, score=0.945 total time=  51.2s\n",
            "[CV 3/5] END batch_size=2048, embedding_dim=100, k_size=5, n_filters=16, nlayers=1;, score=0.945 total time=  51.8s\n",
            "[CV 4/5] END batch_size=2048, embedding_dim=100, k_size=5, n_filters=16, nlayers=1;, score=0.948 total time=  51.6s\n",
            "[CV 5/5] END batch_size=2048, embedding_dim=100, k_size=5, n_filters=16, nlayers=1;, score=0.946 total time=  51.5s\n",
            "[CV 1/5] END batch_size=2048, embedding_dim=100, k_size=5, n_filters=32, nlayers=1;, score=0.947 total time= 1.0min\n",
            "[CV 2/5] END batch_size=2048, embedding_dim=100, k_size=5, n_filters=32, nlayers=1;, score=0.942 total time= 1.4min\n"
          ]
        }
      ],
      "source": [
        "#1 conv layer\n",
        "\n",
        "param_grid = dict(batch_size=cand_bs, embedding_dim=cand_ed, n_filters=cand_nf, k_size=cand_ks, nlayers=cand_nl[:1])\n",
        "grid = GridSearchCV(estimator=model, param_grid=param_grid, verbose=3, n_jobs=1, cv=5)\n",
        "\n",
        "grid_result = grid.fit(X_train, dummy_y_train)\n",
        "\n",
        "# summarize results\n",
        "print(\"Best: %f using %s\" % (grid_result.best_score_, grid_result.best_params_))\n",
        "means = grid_result.cv_results_['mean_test_score']\n",
        "stds = grid_result.cv_results_['std_test_score']\n",
        "params = grid_result.cv_results_['params']\n",
        "\n",
        "cv_results0 = pd.DataFrame.from_dict(grid_result.cv_results_).sort_values(by=['rank_test_score']).set_index('rank_test_score')"
      ]
    },
    {
      "cell_type": "code",
      "source": [
        "#3 conv layers\n",
        "\n",
        "param_grid = dict(batch_size=cand_bs, embedding_dim=cand_ed, n_filters=cand_nf, k_size=cand_ks, nlayers=cand_nl[1:2])\n",
        "grid = GridSearchCV(estimator=model, param_grid=param_grid, verbose=3, n_jobs=1, cv=5)\n",
        "\n",
        "grid_result = grid.fit(X_train, dummy_y_train)\n",
        "\n",
        "# summarize results\n",
        "print(\"Best: %f using %s\" % (grid_result.best_score_, grid_result.best_params_))\n",
        "means = grid_result.cv_results_['mean_test_score']\n",
        "stds = grid_result.cv_results_['std_test_score']\n",
        "params = grid_result.cv_results_['params']\n",
        "\n",
        "cv_results1 = pd.DataFrame.from_dict(grid_result.cv_results_).sort_values(by=['rank_test_score']).set_index('rank_test_score')"
      ],
      "metadata": {
        "id": "4oxVoGLHNoY3"
      },
      "id": "4oxVoGLHNoY3",
      "execution_count": null,
      "outputs": []
    },
    {
      "cell_type": "code",
      "source": [
        "#5 conv layers\n",
        "\n",
        "param_grid = dict(batch_size=cand_bs, embedding_dim=cand_ed, n_filters=cand_nf, k_size=cand_ks, nlayers=cand_nl[2:3])\n",
        "grid = GridSearchCV(estimator=model, param_grid=param_grid, verbose=3, n_jobs=1, cv=5)\n",
        "\n",
        "grid_result = grid.fit(X_train, dummy_y_train)\n",
        "\n",
        "# summarize results\n",
        "print(\"Best: %f using %s\" % (grid_result.best_score_, grid_result.best_params_))\n",
        "means = grid_result.cv_results_['mean_test_score']\n",
        "stds = grid_result.cv_results_['std_test_score']\n",
        "params = grid_result.cv_results_['params']\n",
        "\n",
        "cv_results2 = pd.DataFrame.from_dict(grid_result.cv_results_).sort_values(by=['rank_test_score']).set_index('rank_test_score')"
      ],
      "metadata": {
        "id": "yOSCUkvfNof2"
      },
      "id": "yOSCUkvfNof2",
      "execution_count": null,
      "outputs": []
    },
    {
      "cell_type": "code",
      "source": [
        "cv_results = pd.concat([cv_results0, cv_results1, cv_results2]).sort_values(by=['mean_test_score'], ascending=False).reset_index(drop=True)\n",
        "\n",
        "emb_cv_results0 = cv_results.drop(['std_fit_time', 'std_score_time', 'params', 'split0_test_score', 'split1_test_score', \n",
        "                              'split2_test_score', 'split3_test_score', 'split4_test_score'], 1)\n",
        "clist = list(emb_cv_results0.columns.values)\n",
        "cv_results_set0_emb = emb_cv_results0[clist[-2:] + clist[:-2]]\n",
        "cv_results_set0_emb"
      ],
      "metadata": {
        "id": "Fjvuy57n-4Sf"
      },
      "id": "Fjvuy57n-4Sf",
      "execution_count": null,
      "outputs": []
    },
    {
      "cell_type": "code",
      "execution_count": null,
      "id": "final-bearing",
      "metadata": {
        "id": "final-bearing"
      },
      "outputs": [],
      "source": [
        "cv_results_set0_emb.to_csv('cv_results_set0_emb.csv', encoding = 'utf-8-sig') \n",
        "files.download('cv_results_set0_emb.csv')"
      ]
    },
    {
      "cell_type": "code",
      "execution_count": 26,
      "id": "attached-poultry",
      "metadata": {
        "id": "attached-poultry",
        "outputId": "f334214e-b25b-42cd-cfc5-182e9380ba94",
        "colab": {
          "base_uri": "https://localhost:8080/"
        }
      },
      "outputs": [
        {
          "output_type": "stream",
          "name": "stdout",
          "text": [
            "Model: \"Convolutional_Neural_Network\"\n",
            "_________________________________________________________________\n",
            " Layer (type)                Output Shape              Param #   \n",
            "=================================================================\n",
            " embedding (Embedding)       (None, 264, 50)           2337200   \n",
            "                                                                 \n",
            " primo (Conv1D)              (None, 257, 16)           6416      \n",
            "                                                                 \n",
            " global_max_pooling1d (Globa  (None, 16)               0         \n",
            " lMaxPooling1D)                                                  \n",
            "                                                                 \n",
            " dense (Dense)               (None, 10)                170       \n",
            "                                                                 \n",
            " dense_1 (Dense)             (None, 3)                 33        \n",
            "                                                                 \n",
            "=================================================================\n",
            "Total params: 2,343,819\n",
            "Trainable params: 2,343,819\n",
            "Non-trainable params: 0\n",
            "_________________________________________________________________\n"
          ]
        }
      ],
      "source": [
        "clear_session()\n",
        "model = create_cnn_model(embedding_dim=50, n_filters=16, k_size=8, nlayers=1, nclass=3)\n",
        "model.summary()"
      ]
    },
    {
      "cell_type": "code",
      "execution_count": null,
      "id": "reduced-potato",
      "metadata": {
        "id": "reduced-potato"
      },
      "outputs": [],
      "source": [
        "history = model.fit(X_train, dummy_y_train, epochs=50, verbose=True, validation_data=(X_test, dummy_y_test), batch_size=4096)"
      ]
    },
    {
      "cell_type": "code",
      "execution_count": 28,
      "id": "miniature-estonia",
      "metadata": {
        "id": "miniature-estonia",
        "outputId": "718296bb-3424-43f8-ff70-bd307b898aed",
        "colab": {
          "base_uri": "https://localhost:8080/"
        }
      },
      "outputs": [
        {
          "output_type": "stream",
          "name": "stderr",
          "text": [
            "/usr/local/lib/python3.7/dist-packages/tensorflow/python/data/ops/structured_function.py:265: UserWarning: Even though the `tf.config.experimental_run_functions_eagerly` option is set, this option does not apply to tf.data functions. To force eager execution of tf.data functions, please use `tf.data.experimental.enable_debug_mode()`.\n",
            "  \"Even though the `tf.config.experimental_run_functions_eagerly` \"\n"
          ]
        },
        {
          "output_type": "stream",
          "name": "stdout",
          "text": [
            "Training Accuracy: 0.9999\n",
            "Testing Accuracy:  0.9445\n"
          ]
        }
      ],
      "source": [
        "loss, accuracy = model.evaluate(X_train, dummy_y_train, verbose=False)\n",
        "print(\"Training Accuracy: {:.4f}\".format(accuracy))\n",
        "loss, accuracy = model.evaluate(X_test, dummy_y_test, verbose=False)\n",
        "print(\"Testing Accuracy:  {:.4f}\".format(accuracy))"
      ]
    },
    {
      "cell_type": "code",
      "execution_count": 29,
      "id": "lasting-automation",
      "metadata": {
        "id": "lasting-automation",
        "outputId": "bba78b17-e7cb-4e52-83a2-49e923afa0db",
        "colab": {
          "base_uri": "https://localhost:8080/",
          "height": 336
        }
      },
      "outputs": [
        {
          "output_type": "display_data",
          "data": {
            "text/plain": [
              "<Figure size 864x360 with 2 Axes>"
            ],
            "image/png": "[encoded data removed]"
          },
          "metadata": {
            "needs_background": "light"
          }
        }
      ],
      "source": [
        "plot_history(history)"
      ]
    },
    {
      "cell_type": "markdown",
      "source": [
        "Set 1"
      ],
      "metadata": {
        "id": "asCxu4L8OO__"
      },
      "id": "asCxu4L8OO__"
    },
    {
      "cell_type": "code",
      "execution_count": 5,
      "metadata": {
        "outputId": "5ccd5661-d465-4aec-8705-fd181399bd2a",
        "colab": {
          "base_uri": "https://localhost:8080/"
        },
        "id": "Zu2ozOc3b3g0"
      },
      "outputs": [
        {
          "output_type": "stream",
          "name": "stdout",
          "text": [
            "stat       19868\n",
            "math-ph    17597\n",
            "nucl-th    13730\n",
            "q-bio      13316\n",
            "hep-ex     10158\n",
            "Name: category, dtype: int64\n"
          ]
        },
        {
          "output_type": "stream",
          "name": "stderr",
          "text": [
            "/usr/local/lib/python3.7/dist-packages/ipykernel_launcher.py:34: DeprecationWarning: KerasClassifier is deprecated, use Sci-Keras (https://github.com/adriangb/scikeras) instead. See https://www.adriangb.com/scikeras/stable/migration.html for help migrating.\n"
          ]
        }
      ],
      "source": [
        "select_data = data_ready[data_ready['category'].isin(cat_index[4:9])].dropna().reset_index(drop=True)\n",
        "print(select_data['category'].value_counts())\n",
        "\n",
        "#SPLITTING THE TRAINING DATASET INTO TRAIN AND TEST\n",
        "X_train, X_test, y_train, y_test = train_test_split(select_data[\"clean_text\"], select_data[\"category\"], random_state = 1000,\n",
        "                                                    stratify = select_data[\"category\"], test_size=0.2, shuffle=True)\n",
        "\n",
        "X_train.reset_index(drop=True, inplace=True)\n",
        "X_test.reset_index(drop=True, inplace=True)\n",
        "y_train.reset_index(drop=True, inplace=True)\n",
        "y_test.reset_index(drop=True, inplace=True)\n",
        "\n",
        "tokenizer = Tokenizer(num_words=100000)\n",
        "tokenizer.fit_on_texts(X_train)\n",
        "\n",
        "X_train = tokenizer.texts_to_sequences(X_train)\n",
        "X_test = tokenizer.texts_to_sequences(X_test)\n",
        "\n",
        "maxlen = np.array([len(a) for a in X_train]).max()\n",
        "\n",
        "X_train = pad_sequences(X_train, padding='post', maxlen=maxlen)\n",
        "X_test = pad_sequences(X_test, padding='post', maxlen=maxlen)\n",
        "\n",
        "vocab_size = len(tokenizer.word_index) + 1\n",
        "\n",
        "encoder = LabelEncoder()\n",
        "encoder.fit(y_train)\n",
        "encoded_y_train = encoder.transform(y_train)\n",
        "encoded_y_test = encoder.transform(y_test)\n",
        "\n",
        "dummy_y_train = to_categorical(encoded_y_train)\n",
        "dummy_y_test = to_categorical(encoded_y_test)\n",
        "\n",
        "model = KerasClassifier(build_fn=create_cnn_model, epochs=25, verbose=0, nclass=5)"
      ],
      "id": "Zu2ozOc3b3g0"
    },
    {
      "cell_type": "code",
      "execution_count": null,
      "metadata": {
        "id": "VUk1SKw4cfTW"
      },
      "outputs": [],
      "source": [
        "#1 conv layer\n",
        "\n",
        "param_grid = dict(batch_size=cand_bs, embedding_dim=cand_ed, n_filters=cand_nf, k_size=cand_ks, nlayers=cand_nl[:1])\n",
        "grid = GridSearchCV(estimator=model, param_grid=param_grid, verbose=3, n_jobs=1, cv=5)\n",
        "\n",
        "grid_result = grid.fit(X_train, dummy_y_train)\n",
        "\n",
        "# summarize results\n",
        "print(\"Best: %f using %s\" % (grid_result.best_score_, grid_result.best_params_))\n",
        "means = grid_result.cv_results_['mean_test_score']\n",
        "stds = grid_result.cv_results_['std_test_score']\n",
        "params = grid_result.cv_results_['params']\n",
        "\n",
        "cv_results0 = pd.DataFrame.from_dict(grid_result.cv_results_).sort_values(by=['rank_test_score']).set_index('rank_test_score')"
      ],
      "id": "VUk1SKw4cfTW"
    },
    {
      "cell_type": "code",
      "source": [
        "#3 conv layers\n",
        "\n",
        "param_grid = dict(batch_size=cand_bs, embedding_dim=cand_ed, n_filters=cand_nf, k_size=cand_ks, nlayers=cand_nl[1:2])\n",
        "grid = GridSearchCV(estimator=model, param_grid=param_grid, verbose=3, n_jobs=1, cv=5)\n",
        "\n",
        "grid_result = grid.fit(X_train, dummy_y_train)\n",
        "\n",
        "# summarize results\n",
        "print(\"Best: %f using %s\" % (grid_result.best_score_, grid_result.best_params_))\n",
        "means = grid_result.cv_results_['mean_test_score']\n",
        "stds = grid_result.cv_results_['std_test_score']\n",
        "params = grid_result.cv_results_['params']\n",
        "\n",
        "cv_results1 = pd.DataFrame.from_dict(grid_result.cv_results_).sort_values(by=['rank_test_score']).set_index('rank_test_score')"
      ],
      "metadata": {
        "id": "hEQWy2hRciUU"
      },
      "id": "hEQWy2hRciUU",
      "execution_count": null,
      "outputs": []
    },
    {
      "cell_type": "code",
      "source": [
        "#5 conv layers\n",
        "\n",
        "param_grid = dict(batch_size=cand_bs, embedding_dim=cand_ed, n_filters=cand_nf, k_size=cand_ks, nlayers=cand_nl[2:3])\n",
        "grid = GridSearchCV(estimator=model, param_grid=param_grid, verbose=3, n_jobs=1, cv=5)\n",
        "\n",
        "grid_result = grid.fit(X_train, dummy_y_train)\n",
        "\n",
        "# summarize results\n",
        "print(\"Best: %f using %s\" % (grid_result.best_score_, grid_result.best_params_))\n",
        "means = grid_result.cv_results_['mean_test_score']\n",
        "stds = grid_result.cv_results_['std_test_score']\n",
        "params = grid_result.cv_results_['params']\n",
        "\n",
        "cv_results2 = pd.DataFrame.from_dict(grid_result.cv_results_).sort_values(by=['rank_test_score']).set_index('rank_test_score')"
      ],
      "metadata": {
        "id": "r3Oq1dcRclPX"
      },
      "id": "r3Oq1dcRclPX",
      "execution_count": null,
      "outputs": []
    },
    {
      "cell_type": "code",
      "source": [
        "cv_results = pd.concat([cv_results0, cv_results1, cv_results2]).sort_values(by=['mean_test_score'], ascending=False).reset_index(drop=True)\n",
        "\n",
        "emb_cv_results1 = cv_results.drop(['std_fit_time', 'std_score_time', 'params', 'split0_test_score', 'split1_test_score', \n",
        "                              'split2_test_score', 'split3_test_score', 'split4_test_score'], 1)\n",
        "clist = list(emb_cv_results1.columns.values)\n",
        "cv_results_set1_emb = emb_cv_results1[clist[-2:] + clist[:-2]]\n",
        "cv_results_set1_emb"
      ],
      "metadata": {
        "id": "hDpSocIRcvra"
      },
      "execution_count": null,
      "outputs": [],
      "id": "hDpSocIRcvra"
    },
    {
      "cell_type": "code",
      "execution_count": null,
      "metadata": {
        "id": "O4o5-c5qcvrh"
      },
      "outputs": [],
      "source": [
        "cv_results_set1_emb.to_csv('cv_results_set1_emb.csv', encoding = 'utf-8-sig') \n",
        "files.download('cv_results_set1_emb.csv')"
      ],
      "id": "O4o5-c5qcvrh"
    },
    {
      "cell_type": "code",
      "execution_count": null,
      "metadata": {
        "outputId": "8bafa194-2173-4d37-9f70-420a845c54fe",
        "colab": {
          "base_uri": "https://localhost:8080/"
        },
        "id": "KU3n_O8Bcvri"
      },
      "outputs": [
        {
          "output_type": "stream",
          "name": "stdout",
          "text": [
            "Model: \"Convolutional_Neural_Network\"\n",
            "_________________________________________________________________\n",
            " Layer (type)                Output Shape              Param #   \n",
            "=================================================================\n",
            " embedding (Embedding)       (None, 194, 50)           92400     \n",
            "                                                                 \n",
            " primo (Conv1D)              (None, 187, 16)           6416      \n",
            "                                                                 \n",
            " global_max_pooling1d (Globa  (None, 16)               0         \n",
            " lMaxPooling1D)                                                  \n",
            "                                                                 \n",
            " dense (Dense)               (None, 10)                170       \n",
            "                                                                 \n",
            " dense_1 (Dense)             (None, 3)                 33        \n",
            "                                                                 \n",
            "=================================================================\n",
            "Total params: 99,019\n",
            "Trainable params: 99,019\n",
            "Non-trainable params: 0\n",
            "_________________________________________________________________\n"
          ]
        }
      ],
      "source": [
        "clear_session()\n",
        "model = create_cnn_model(embedding_dim=50, n_filters=16, k_size=8, nlayers=1, nclass=3)\n",
        "model.summary()"
      ],
      "id": "KU3n_O8Bcvri"
    },
    {
      "cell_type": "code",
      "execution_count": null,
      "metadata": {
        "id": "0DItlKCZcvri"
      },
      "outputs": [],
      "source": [
        "history = model.fit(X_train, dummy_y_train, epochs=50, verbose=True, validation_data=(X_test, dummy_y_test), batch_size=4096)"
      ],
      "id": "0DItlKCZcvri"
    },
    {
      "cell_type": "code",
      "execution_count": null,
      "metadata": {
        "outputId": "f01376ba-80e1-4fb8-fcf9-b6c5a09ca595",
        "colab": {
          "base_uri": "https://localhost:8080/"
        },
        "id": "e1MOePw2cvri"
      },
      "outputs": [
        {
          "output_type": "stream",
          "name": "stderr",
          "text": [
            "/usr/local/lib/python3.7/dist-packages/tensorflow/python/data/ops/structured_function.py:265: UserWarning: Even though the `tf.config.experimental_run_functions_eagerly` option is set, this option does not apply to tf.data functions. To force eager execution of tf.data functions, please use `tf.data.experimental.enable_debug_mode()`.\n",
            "  \"Even though the `tf.config.experimental_run_functions_eagerly` \"\n"
          ]
        },
        {
          "output_type": "stream",
          "name": "stdout",
          "text": [
            "Training Accuracy: 0.9988\n",
            "Testing Accuracy:  0.9307\n"
          ]
        }
      ],
      "source": [
        "loss, accuracy = model.evaluate(X_train, dummy_y_train, verbose=False)\n",
        "print(\"Training Accuracy: {:.4f}\".format(accuracy))\n",
        "loss, accuracy = model.evaluate(X_test, dummy_y_test, verbose=False)\n",
        "print(\"Testing Accuracy:  {:.4f}\".format(accuracy))"
      ],
      "id": "e1MOePw2cvri"
    },
    {
      "cell_type": "code",
      "execution_count": null,
      "metadata": {
        "outputId": "9c7aabd3-9af5-4a61-c4c7-1ac4c6b5d9f4",
        "colab": {
          "base_uri": "https://localhost:8080/",
          "height": 336
        },
        "id": "1bweLSSVcvrj"
      },
      "outputs": [
        {
          "output_type": "display_data",
          "data": {
            "text/plain": [
              "<Figure size 864x360 with 2 Axes>"
            ],
            "image/png": "[encoded data removed]"
          },
          "metadata": {
            "needs_background": "light"
          }
        }
      ],
      "source": [
        "plot_history(history)"
      ],
      "id": "1bweLSSVcvrj"
    }
  ],
  "metadata": {
    "kernelspec": {
      "display_name": "Python 3",
      "language": "python",
      "name": "python3"
    },
    "language_info": {
      "codemirror_mode": {
        "name": "ipython",
        "version": 3
      },
      "file_extension": ".py",
      "mimetype": "text/x-python",
      "name": "python",
      "nbconvert_exporter": "python",
      "pygments_lexer": "ipython3",
      "version": "3.8.5"
    },
    "colab": {
      "name": "04_Words embedding.ipynb",
      "provenance": []
    }
  },
  "nbformat": 4,
  "nbformat_minor": 5
}
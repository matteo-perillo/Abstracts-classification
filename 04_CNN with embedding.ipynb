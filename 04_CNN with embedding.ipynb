{
  "cells": [
    {
      "cell_type": "code",
      "source": [
        "import numpy as np\n",
        "import matplotlib.pyplot as plt\n",
        "import pandas as pd\n",
        "\n",
        "import time\n",
        "\n",
        "from google.colab import files\n",
        "import numpy as np\n",
        "import pandas as pd\n",
        "import itertools\n",
        "import io\n",
        "import timeit\n",
        "import time\n",
        "\n",
        "from pydrive.auth import GoogleAuth\n",
        "from pydrive.drive import GoogleDrive\n",
        "from google.colab import auth\n",
        "from oauth2client.client import GoogleCredentials\n",
        "\n",
        "from sklearn.metrics import confusion_matrix\n",
        "from sklearn.model_selection import train_test_split, cross_val_score, KFold, GridSearchCV\n",
        "from sklearn.feature_extraction.text import TfidfVectorizer, CountVectorizer\n",
        "from sklearn.preprocessing import LabelEncoder\n",
        "\n",
        "import tensorflow as tf\n",
        "from tensorflow import keras\n",
        "from tensorflow.keras.preprocessing.text import Tokenizer\n",
        "from tensorflow.keras.preprocessing.sequence import pad_sequences\n",
        "from tensorflow.keras.models import Sequential\n",
        "from tensorflow.keras import layers\n",
        "from tensorflow.keras.utils import to_categorical\n",
        "from tensorflow.keras.backend import clear_session\n",
        "from tensorflow.keras.regularizers import l2\n",
        "from tensorflow.keras.wrappers.scikit_learn import KerasClassifier\n",
        "\n",
        "#tf.config.run_functions_eagerly(True)"
      ],
      "metadata": {
        "id": "pe0w-OKlKsLy"
      },
      "id": "pe0w-OKlKsLy",
      "execution_count": 1,
      "outputs": []
    },
    {
      "cell_type": "markdown",
      "source": [
        "Check if the GPU is on"
      ],
      "metadata": {
        "id": "qD1VMfHDCnVB"
      },
      "id": "qD1VMfHDCnVB"
    },
    {
      "cell_type": "code",
      "source": [
        "#%tensorflow_version 2.x\n",
        "#import tensorflow as tf\n",
        "device_name = tf.test.gpu_device_name()\n",
        "if device_name != '/device:GPU:0':\n",
        "  raise SystemError('GPU device not found')\n",
        "print('Found GPU at: {}'.format(device_name))"
      ],
      "metadata": {
        "id": "omNKMb94Knvb",
        "outputId": "47ac9272-1c9f-4043-a2ca-c5300b58c39a",
        "colab": {
          "base_uri": "https://localhost:8080/"
        }
      },
      "id": "omNKMb94Knvb",
      "execution_count": null,
      "outputs": [
        {
          "output_type": "stream",
          "name": "stdout",
          "text": [
            "Found GPU at: /device:GPU:0\n"
          ]
        }
      ]
    },
    {
      "cell_type": "markdown",
      "source": [
        "Access datasets"
      ],
      "metadata": {
        "id": "Y4snGylICsMZ"
      },
      "id": "Y4snGylICsMZ"
    },
    {
      "cell_type": "code",
      "source": [
        "auth.authenticate_user()\n",
        "gauth = GoogleAuth()\n",
        "gauth.credentials = GoogleCredentials.get_application_default()\n",
        "drive = GoogleDrive(gauth)\n",
        "\n",
        "downloaded = drive.CreateFile({'id':\"1iknZspDiM285QuBXLT9sjuZ-bTOxN6Hm\"})\n",
        "downloaded.GetContentFile('dataset0.csv')\n",
        "dataset0 = pd.read_csv('dataset0.csv')\n",
        "dataset0.drop('Unnamed: 0', axis=1, inplace=True)\n",
        "\n",
        "downloaded = drive.CreateFile({'id':\"1SjMr-w8_ypfgxfMIZIClZicxzYPknzIf\"})\n",
        "downloaded.GetContentFile('dataset1.csv')\n",
        "dataset1 = pd.read_csv('dataset1.csv')\n",
        "dataset1.drop('Unnamed: 0', axis=1, inplace=True)\n",
        "\n",
        "cat_index0 = dataset0['category'].value_counts().index\n",
        "cat_index1 = dataset1['category'].value_counts().index"
      ],
      "metadata": {
        "id": "zZnFnCCaLuil"
      },
      "id": "zZnFnCCaLuil",
      "execution_count": 2,
      "outputs": []
    },
    {
      "cell_type": "markdown",
      "source": [
        "Functions to create the model and plot the results"
      ],
      "metadata": {
        "id": "BaKyGpOoC2fM"
      },
      "id": "BaKyGpOoC2fM"
    },
    {
      "cell_type": "code",
      "execution_count": 18,
      "id": "spatial-mainstream",
      "metadata": {
        "id": "spatial-mainstream"
      },
      "outputs": [],
      "source": [
        "def create_cnn_model(embedding_dim=50, n_filters=64, k_size=5, nlayers=1, nclass=3):\n",
        "    model = Sequential(name=\"Convolutional_Neural_Network\")\n",
        "    model.add(layers.Embedding(input_dim=vocab_size, output_dim=embedding_dim, input_length=maxlen))\n",
        "    if nlayers > 4:\n",
        "      model.add(layers.Conv1D(filters = n_filters*3, kernel_size = k_size*3, activation='relu', name = \"quinto\"))\n",
        "      model.add(layers.Conv1D(filters = n_filters*3, kernel_size = k_size*3, activation='relu', name = \"quarto\"))\n",
        "    if nlayers > 2:\n",
        "      model.add(layers.Conv1D(filters = n_filters*2, kernel_size = k_size*2, activation='relu', name = \"terzo\"))\n",
        "      model.add(layers.Conv1D(filters = n_filters*2, kernel_size = k_size*2, activation='relu', name = \"secondo\"))\n",
        "    model.add(layers.Conv1D(filters = n_filters, kernel_size = k_size, activation='relu', name='primo'))\n",
        "    model.add(layers.GlobalMaxPooling1D())\n",
        "    model.add(layers.Dense(10, activation='relu'))\n",
        "    model.add(layers.Dense(nclass, activation='softmax'))\n",
        "    model.compile(optimizer='adam', loss='categorical_crossentropy', metrics=['accuracy'])\n",
        "    return model\n",
        "\n",
        "def plot_history(history, name = 'provah'):\n",
        "    acc = history.history['accuracy']\n",
        "    val_acc = history.history['val_accuracy']\n",
        "    loss = history.history['loss']\n",
        "    val_loss = history.history['val_loss']\n",
        "    x = range(1, len(acc) + 1)\n",
        "\n",
        "    plt.figure(figsize=(12, 5))\n",
        "    plt.subplot(1, 2, 1)\n",
        "    plt.plot(x[:-1], acc[1:], 'b', label='Training acc')\n",
        "    plt.plot(x, val_acc, 'r', label='Validation acc')\n",
        "    plt.title('Training and validation accuracy')\n",
        "    plt.legend()\n",
        "    plt.subplot(1, 2, 2)\n",
        "    plt.plot(x[:-1], loss[1:], 'b', label='Training loss')\n",
        "    plt.plot(x, val_loss, 'r', label='Validation loss')\n",
        "    plt.title('Training and validation loss')\n",
        "    plt.legend()\n",
        "    filename = name + '.png'\n",
        "    plt.savefig(filename, bbox_inches = 'tight')\n",
        "\n",
        "def plot_confusion_matrix(cm, target_names, title='Confusion matrix', xsize=4, ysize=3,\n",
        "                          cmap=None, normalize=True, name='prova'):\n",
        "    accuracy = np.trace(cm) / np.sum(cm).astype('float')\n",
        "    misclass = 1 - accuracy\n",
        "\n",
        "    if cmap is None:\n",
        "        cmap = plt.get_cmap('Blues')\n",
        "\n",
        "    plt.figure(figsize=(xsize, ysize))\n",
        "    plt.imshow(cm, interpolation='nearest', cmap=cmap)\n",
        "    plt.title(title)\n",
        "  #  plt.colorbar()\n",
        "\n",
        "    if target_names is not None:\n",
        "        tick_marks = np.arange(len(target_names))\n",
        "        plt.xticks(tick_marks, target_names, rotation=45)\n",
        "        plt.yticks(tick_marks, target_names)\n",
        "\n",
        "    if normalize:\n",
        "        cm = cm.astype('float') / cm.sum(axis=1)[:, np.newaxis]\n",
        "\n",
        "\n",
        "    thresh = cm.max() / 1.5 if normalize else cm.max() / 2\n",
        "    for i, j in itertools.product(range(cm.shape[0]), range(cm.shape[1])):\n",
        "        if normalize:\n",
        "            plt.text(j, i, \"{:0.3f}\".format(cm[i, j]),\n",
        "                     horizontalalignment=\"center\",\n",
        "                     color=\"white\" if cm[i, j] > thresh else \"black\")\n",
        "        else:\n",
        "            plt.text(j, i, \"{:,}\".format(cm[i, j]),\n",
        "                     horizontalalignment=\"center\",\n",
        "                     color=\"white\" if cm[i, j] > thresh else \"black\")\n",
        "\n",
        "\n",
        "    plt.tight_layout()\n",
        "    plt.ylabel('True label')\n",
        "    plt.xlabel('Predicted label\\naccuracy={:0.3f}; misclass={:0.3f}'.format(accuracy, misclass))\n",
        "    filename = name + '.png'\n",
        "    plt.savefig(filename, bbox_inches = 'tight')"
      ]
    },
    {
      "cell_type": "markdown",
      "source": [
        "Define the grid search parameters"
      ],
      "metadata": {
        "id": "pU4ZT5ZhC6Rr"
      },
      "id": "pU4ZT5ZhC6Rr"
    },
    {
      "cell_type": "code",
      "source": [
        "# define the grid search parameters\n",
        "cand_bs = [512, 2048] #batch size\n",
        "cand_ed = [50, 100] #dimension of output of embedding layer\n",
        "cand_nf = [16, 32] #number of filters convolutional layer\n",
        "cand_ks = [3, 5] #kernel size convolutional layer\n",
        "cand_nl = [1, 3, 5] #number of convolutional layers"
      ],
      "metadata": {
        "id": "wKVI5RffMM-4"
      },
      "id": "wKVI5RffMM-4",
      "execution_count": null,
      "outputs": []
    },
    {
      "cell_type": "code",
      "source": [
        "par = ['Batch size', 'Embedding layer output', 'Num conv. filters', 'Kernel size','Num conv. layers']\n",
        "val = ['512, 2048', '50, 100', '16, 32', '3, 5', '1, 3, 5']\n",
        "\n",
        "d = {'Parametro': par, 'Valori possibili': val}\n",
        "hyperp_grid = pd.DataFrame(d)\n",
        "\n",
        "hyperp_grid.to_csv('hyperp_grid.csv', encoding = 'utf-8-sig') \n",
        "files.download('hyperp_grid.csv')"
      ],
      "metadata": {
        "id": "BkEGsyQmqv2P",
        "outputId": "1aab6336-d383-4c97-83bc-e7e35bb09d01",
        "colab": {
          "base_uri": "https://localhost:8080/",
          "height": 17
        }
      },
      "id": "BkEGsyQmqv2P",
      "execution_count": null,
      "outputs": [
        {
          "output_type": "display_data",
          "data": {
            "text/plain": [
              "<IPython.core.display.Javascript object>"
            ],
            "application/javascript": [
              "\n",
              "    async function download(id, filename, size) {\n",
              "      if (!google.colab.kernel.accessAllowed) {\n",
              "        return;\n",
              "      }\n",
              "      const div = document.createElement('div');\n",
              "      const label = document.createElement('label');\n",
              "      label.textContent = `Downloading \"${filename}\": `;\n",
              "      div.appendChild(label);\n",
              "      const progress = document.createElement('progress');\n",
              "      progress.max = size;\n",
              "      div.appendChild(progress);\n",
              "      document.body.appendChild(div);\n",
              "\n",
              "      const buffers = [];\n",
              "      let downloaded = 0;\n",
              "\n",
              "      const channel = await google.colab.kernel.comms.open(id);\n",
              "      // Send a message to notify the kernel that we're ready.\n",
              "      channel.send({})\n",
              "\n",
              "      for await (const message of channel.messages) {\n",
              "        // Send a message to notify the kernel that we're ready.\n",
              "        channel.send({})\n",
              "        if (message.buffers) {\n",
              "          for (const buffer of message.buffers) {\n",
              "            buffers.push(buffer);\n",
              "            downloaded += buffer.byteLength;\n",
              "            progress.value = downloaded;\n",
              "          }\n",
              "        }\n",
              "      }\n",
              "      const blob = new Blob(buffers, {type: 'application/binary'});\n",
              "      const a = document.createElement('a');\n",
              "      a.href = window.URL.createObjectURL(blob);\n",
              "      a.download = filename;\n",
              "      div.appendChild(a);\n",
              "      a.click();\n",
              "      div.remove();\n",
              "    }\n",
              "  "
            ]
          },
          "metadata": {}
        },
        {
          "output_type": "display_data",
          "data": {
            "text/plain": [
              "<IPython.core.display.Javascript object>"
            ],
            "application/javascript": [
              "download(\"download_e0a3864a-3ce3-422a-8096-095da605de58\", \"hyperp_grid.csv\", 175)"
            ]
          },
          "metadata": {}
        }
      ]
    },
    {
      "cell_type": "markdown",
      "source": [
        "Set 0"
      ],
      "metadata": {
        "id": "umusDZN8DAOC"
      },
      "id": "umusDZN8DAOC"
    },
    {
      "cell_type": "code",
      "source": [
        "print(dataset0['category'].value_counts())"
      ],
      "metadata": {
        "id": "P3N3MAjLOUqE",
        "colab": {
          "base_uri": "https://localhost:8080/"
        },
        "outputId": "adba6bd6-4b3a-49ed-8700-51a55b2a1286"
      },
      "id": "P3N3MAjLOUqE",
      "execution_count": null,
      "outputs": [
        {
          "output_type": "stream",
          "name": "stdout",
          "text": [
            "hep-ph      50603\n",
            "quant-ph    44678\n",
            "hep-th      39013\n",
            "Name: category, dtype: int64\n"
          ]
        }
      ]
    },
    {
      "cell_type": "markdown",
      "source": [
        "Split the dataset in training and test set"
      ],
      "metadata": {
        "id": "9xJlgXK8DD39"
      },
      "id": "9xJlgXK8DD39"
    },
    {
      "cell_type": "code",
      "execution_count": 5,
      "id": "matched-share",
      "metadata": {
        "id": "matched-share",
        "outputId": "c310e1d0-d3eb-4062-cf8d-e692a58d73e1",
        "colab": {
          "base_uri": "https://localhost:8080/"
        }
      },
      "outputs": [
        {
          "output_type": "stream",
          "name": "stderr",
          "text": [
            "/usr/local/lib/python3.7/dist-packages/ipykernel_launcher.py:36: DeprecationWarning: KerasClassifier is deprecated, use Sci-Keras (https://github.com/adriangb/scikeras) instead. See https://www.adriangb.com/scikeras/stable/migration.html for help migrating.\n"
          ]
        }
      ],
      "source": [
        "X_train, X_test, y_train, y_test = train_test_split(dataset0[\"clean_text\"], dataset0[\"category\"], random_state = 1000,\n",
        "                                                    stratify = dataset0[\"category\"], test_size=0.2, shuffle=True)\n",
        "\n",
        "X_train.reset_index(drop=True, inplace=True)\n",
        "X_test.reset_index(drop=True, inplace=True)\n",
        "y_train.reset_index(drop=True, inplace=True)\n",
        "y_test.reset_index(drop=True, inplace=True)\n",
        "\n",
        "tokenizer = Tokenizer(num_words=100000)\n",
        "tokenizer.fit_on_texts(X_train)\n",
        "\n",
        "X_train = tokenizer.texts_to_sequences(X_train)\n",
        "X_test = tokenizer.texts_to_sequences(X_test)\n",
        "\n",
        "maxlen = np.array([len(a) for a in X_train]).max()\n",
        "\n",
        "X_train = pad_sequences(X_train, padding='post', maxlen=maxlen)\n",
        "X_test = pad_sequences(X_test, padding='post', maxlen=maxlen)\n",
        "\n",
        "vocab_size = len(tokenizer.word_index) + 1\n",
        "\n",
        "encoder = LabelEncoder()\n",
        "encoder.fit(y_train)\n",
        "encoded_y_train = encoder.transform(y_train)\n",
        "encoded_y_test = encoder.transform(y_test)\n",
        "\n",
        "dummy_y_train = to_categorical(encoded_y_train)\n",
        "dummy_y_test = to_categorical(encoded_y_test)\n",
        "\n",
        "X_train0 = X_train\n",
        "dummy_y_train0 = dummy_y_train\n",
        "X_test0 = X_test\n",
        "dummy_y_test0 = dummy_y_test\n",
        "encoded_y_test0 = encoded_y_test\n",
        "\n",
        "model = KerasClassifier(build_fn=create_cnn_model, epochs=25, verbose=0, nclass=3)"
      ]
    },
    {
      "cell_type": "markdown",
      "source": [
        "Hyperparameters tuning through 5-fold cv"
      ],
      "metadata": {
        "id": "vH_RDuhfOLaE"
      },
      "id": "vH_RDuhfOLaE"
    },
    {
      "cell_type": "code",
      "execution_count": null,
      "id": "desperate-pilot",
      "metadata": {
        "id": "desperate-pilot"
      },
      "outputs": [],
      "source": [
        "#1 conv layer\n",
        "\n",
        "param_grid = dict(batch_size=cand_bs, embedding_dim=cand_ed, n_filters=cand_nf, k_size=cand_ks, nlayers=cand_nl[:1])\n",
        "grid = GridSearchCV(estimator=model, param_grid=param_grid, verbose=3, n_jobs=1, cv=5)\n",
        "\n",
        "grid_result = grid.fit(X_train, dummy_y_train)\n",
        "\n",
        "# summarize results\n",
        "print(\"Best: %f using %s\" % (grid_result.best_score_, grid_result.best_params_))\n",
        "means = grid_result.cv_results_['mean_test_score']\n",
        "stds = grid_result.cv_results_['std_test_score']\n",
        "params = grid_result.cv_results_['params']\n",
        "\n",
        "cv_results0 = pd.DataFrame.from_dict(grid_result.cv_results_).sort_values(by=['rank_test_score']).set_index('rank_test_score')"
      ]
    },
    {
      "cell_type": "code",
      "source": [
        "#3 conv layers\n",
        "\n",
        "param_grid = dict(batch_size=cand_bs, embedding_dim=cand_ed, n_filters=cand_nf, k_size=cand_ks, nlayers=cand_nl[1:2])\n",
        "grid = GridSearchCV(estimator=model, param_grid=param_grid, verbose=3, n_jobs=1, cv=5)\n",
        "\n",
        "grid_result = grid.fit(X_train, dummy_y_train)\n",
        "\n",
        "# summarize results\n",
        "print(\"Best: %f using %s\" % (grid_result.best_score_, grid_result.best_params_))\n",
        "means = grid_result.cv_results_['mean_test_score']\n",
        "stds = grid_result.cv_results_['std_test_score']\n",
        "params = grid_result.cv_results_['params']\n",
        "\n",
        "cv_results1 = pd.DataFrame.from_dict(grid_result.cv_results_).sort_values(by=['rank_test_score']).set_index('rank_test_score')"
      ],
      "metadata": {
        "id": "4oxVoGLHNoY3"
      },
      "id": "4oxVoGLHNoY3",
      "execution_count": null,
      "outputs": []
    },
    {
      "cell_type": "code",
      "source": [
        "#5 conv layers A\n",
        "\n",
        "param_grid = dict(batch_size=cand_bs, embedding_dim=cand_ed, n_filters=cand_nf, k_size=cand_ks[:1], nlayers=cand_nl[2:3])\n",
        "grid = GridSearchCV(estimator=model, param_grid=param_grid, verbose=3, n_jobs=1, cv=5)\n",
        "\n",
        "grid_result = grid.fit(X_train, dummy_y_train)\n",
        "\n",
        "# summarize results\n",
        "print(\"Best: %f using %s\" % (grid_result.best_score_, grid_result.best_params_))\n",
        "means = grid_result.cv_results_['mean_test_score']\n",
        "stds = grid_result.cv_results_['std_test_score']\n",
        "params = grid_result.cv_results_['params']\n",
        "\n",
        "cv_results2a = pd.DataFrame.from_dict(grid_result.cv_results_).sort_values(by=['rank_test_score']).set_index('rank_test_score')"
      ],
      "metadata": {
        "id": "yOSCUkvfNof2",
        "outputId": "592dc845-0b5a-4963-dc72-0e211aeca299",
        "colab": {
          "base_uri": "https://localhost:8080/",
          "height": 415
        }
      },
      "id": "yOSCUkvfNof2",
      "execution_count": null,
      "outputs": [
        {
          "output_type": "stream",
          "name": "stdout",
          "text": [
            "Fitting 5 folds for each of 8 candidates, totalling 40 fits\n",
            "[CV 1/5] END batch_size=512, embedding_dim=50, k_size=3, n_filters=16, nlayers=5;, score=0.933 total time= 2.5min\n"
          ]
        },
        {
          "output_type": "error",
          "ename": "KeyboardInterrupt",
          "evalue": "ignored",
          "traceback": [
            "\u001b[0;31m---------------------------------------------------------------------------\u001b[0m",
            "\u001b[0;31mKeyboardInterrupt\u001b[0m                         Traceback (most recent call last)",
            "\u001b[0;32m<ipython-input-12-a1ce176e9d94>\u001b[0m in \u001b[0;36m<module>\u001b[0;34m()\u001b[0m\n\u001b[1;32m      4\u001b[0m \u001b[0mgrid\u001b[0m \u001b[0;34m=\u001b[0m \u001b[0mGridSearchCV\u001b[0m\u001b[0;34m(\u001b[0m\u001b[0mestimator\u001b[0m\u001b[0;34m=\u001b[0m\u001b[0mmodel\u001b[0m\u001b[0;34m,\u001b[0m \u001b[0mparam_grid\u001b[0m\u001b[0;34m=\u001b[0m\u001b[0mparam_grid\u001b[0m\u001b[0;34m,\u001b[0m \u001b[0mverbose\u001b[0m\u001b[0;34m=\u001b[0m\u001b[0;36m3\u001b[0m\u001b[0;34m,\u001b[0m \u001b[0mn_jobs\u001b[0m\u001b[0;34m=\u001b[0m\u001b[0;36m1\u001b[0m\u001b[0;34m,\u001b[0m \u001b[0mcv\u001b[0m\u001b[0;34m=\u001b[0m\u001b[0;36m5\u001b[0m\u001b[0;34m)\u001b[0m\u001b[0;34m\u001b[0m\u001b[0;34m\u001b[0m\u001b[0m\n\u001b[1;32m      5\u001b[0m \u001b[0;34m\u001b[0m\u001b[0m\n\u001b[0;32m----> 6\u001b[0;31m \u001b[0mgrid_result\u001b[0m \u001b[0;34m=\u001b[0m \u001b[0mgrid\u001b[0m\u001b[0;34m.\u001b[0m\u001b[0mfit\u001b[0m\u001b[0;34m(\u001b[0m\u001b[0mX_train\u001b[0m\u001b[0;34m,\u001b[0m \u001b[0mdummy_y_train\u001b[0m\u001b[0;34m)\u001b[0m\u001b[0;34m\u001b[0m\u001b[0;34m\u001b[0m\u001b[0m\n\u001b[0m\u001b[1;32m      7\u001b[0m \u001b[0;34m\u001b[0m\u001b[0m\n\u001b[1;32m      8\u001b[0m \u001b[0;31m# summarize results\u001b[0m\u001b[0;34m\u001b[0m\u001b[0;34m\u001b[0m\u001b[0;34m\u001b[0m\u001b[0m\n",
            "\u001b[0;32m/usr/local/lib/python3.7/dist-packages/sklearn/model_selection/_search.py\u001b[0m in \u001b[0;36mfit\u001b[0;34m(self, X, y, groups, **fit_params)\u001b[0m\n\u001b[1;32m    889\u001b[0m                 \u001b[0;32mreturn\u001b[0m \u001b[0mresults\u001b[0m\u001b[0;34m\u001b[0m\u001b[0;34m\u001b[0m\u001b[0m\n\u001b[1;32m    890\u001b[0m \u001b[0;34m\u001b[0m\u001b[0m\n\u001b[0;32m--> 891\u001b[0;31m             \u001b[0mself\u001b[0m\u001b[0;34m.\u001b[0m\u001b[0m_run_search\u001b[0m\u001b[0;34m(\u001b[0m\u001b[0mevaluate_candidates\u001b[0m\u001b[0;34m)\u001b[0m\u001b[0;34m\u001b[0m\u001b[0;34m\u001b[0m\u001b[0m\n\u001b[0m\u001b[1;32m    892\u001b[0m \u001b[0;34m\u001b[0m\u001b[0m\n\u001b[1;32m    893\u001b[0m             \u001b[0;31m# multimetric is determined here because in the case of a callable\u001b[0m\u001b[0;34m\u001b[0m\u001b[0;34m\u001b[0m\u001b[0;34m\u001b[0m\u001b[0m\n",
            "\u001b[0;32m/usr/local/lib/python3.7/dist-packages/sklearn/model_selection/_search.py\u001b[0m in \u001b[0;36m_run_search\u001b[0;34m(self, evaluate_candidates)\u001b[0m\n\u001b[1;32m   1390\u001b[0m     \u001b[0;32mdef\u001b[0m \u001b[0m_run_search\u001b[0m\u001b[0;34m(\u001b[0m\u001b[0mself\u001b[0m\u001b[0;34m,\u001b[0m \u001b[0mevaluate_candidates\u001b[0m\u001b[0;34m)\u001b[0m\u001b[0;34m:\u001b[0m\u001b[0;34m\u001b[0m\u001b[0;34m\u001b[0m\u001b[0m\n\u001b[1;32m   1391\u001b[0m         \u001b[0;34m\"\"\"Search all candidates in param_grid\"\"\"\u001b[0m\u001b[0;34m\u001b[0m\u001b[0;34m\u001b[0m\u001b[0m\n\u001b[0;32m-> 1392\u001b[0;31m         \u001b[0mevaluate_candidates\u001b[0m\u001b[0;34m(\u001b[0m\u001b[0mParameterGrid\u001b[0m\u001b[0;34m(\u001b[0m\u001b[0mself\u001b[0m\u001b[0;34m.\u001b[0m\u001b[0mparam_grid\u001b[0m\u001b[0;34m)\u001b[0m\u001b[0;34m)\u001b[0m\u001b[0;34m\u001b[0m\u001b[0;34m\u001b[0m\u001b[0m\n\u001b[0m\u001b[1;32m   1393\u001b[0m \u001b[0;34m\u001b[0m\u001b[0m\n\u001b[1;32m   1394\u001b[0m \u001b[0;34m\u001b[0m\u001b[0m\n",
            "\u001b[0;32m/usr/local/lib/python3.7/dist-packages/sklearn/model_selection/_search.py\u001b[0m in \u001b[0;36mevaluate_candidates\u001b[0;34m(candidate_params, cv, more_results)\u001b[0m\n\u001b[1;32m    849\u001b[0m                     )\n\u001b[1;32m    850\u001b[0m                     for (cand_idx, parameters), (split_idx, (train, test)) in product(\n\u001b[0;32m--> 851\u001b[0;31m                         \u001b[0menumerate\u001b[0m\u001b[0;34m(\u001b[0m\u001b[0mcandidate_params\u001b[0m\u001b[0;34m)\u001b[0m\u001b[0;34m,\u001b[0m \u001b[0menumerate\u001b[0m\u001b[0;34m(\u001b[0m\u001b[0mcv\u001b[0m\u001b[0;34m.\u001b[0m\u001b[0msplit\u001b[0m\u001b[0;34m(\u001b[0m\u001b[0mX\u001b[0m\u001b[0;34m,\u001b[0m \u001b[0my\u001b[0m\u001b[0;34m,\u001b[0m \u001b[0mgroups\u001b[0m\u001b[0;34m)\u001b[0m\u001b[0;34m)\u001b[0m\u001b[0;34m\u001b[0m\u001b[0;34m\u001b[0m\u001b[0m\n\u001b[0m\u001b[1;32m    852\u001b[0m                     )\n\u001b[1;32m    853\u001b[0m                 )\n",
            "\u001b[0;32m/usr/local/lib/python3.7/dist-packages/joblib/parallel.py\u001b[0m in \u001b[0;36m__call__\u001b[0;34m(self, iterable)\u001b[0m\n\u001b[1;32m   1044\u001b[0m                 \u001b[0mself\u001b[0m\u001b[0;34m.\u001b[0m\u001b[0m_iterating\u001b[0m \u001b[0;34m=\u001b[0m \u001b[0mself\u001b[0m\u001b[0;34m.\u001b[0m\u001b[0m_original_iterator\u001b[0m \u001b[0;32mis\u001b[0m \u001b[0;32mnot\u001b[0m \u001b[0;32mNone\u001b[0m\u001b[0;34m\u001b[0m\u001b[0;34m\u001b[0m\u001b[0m\n\u001b[1;32m   1045\u001b[0m \u001b[0;34m\u001b[0m\u001b[0m\n\u001b[0;32m-> 1046\u001b[0;31m             \u001b[0;32mwhile\u001b[0m \u001b[0mself\u001b[0m\u001b[0;34m.\u001b[0m\u001b[0mdispatch_one_batch\u001b[0m\u001b[0;34m(\u001b[0m\u001b[0miterator\u001b[0m\u001b[0;34m)\u001b[0m\u001b[0;34m:\u001b[0m\u001b[0;34m\u001b[0m\u001b[0;34m\u001b[0m\u001b[0m\n\u001b[0m\u001b[1;32m   1047\u001b[0m                 \u001b[0;32mpass\u001b[0m\u001b[0;34m\u001b[0m\u001b[0;34m\u001b[0m\u001b[0m\n\u001b[1;32m   1048\u001b[0m \u001b[0;34m\u001b[0m\u001b[0m\n",
            "\u001b[0;32m/usr/local/lib/python3.7/dist-packages/joblib/parallel.py\u001b[0m in \u001b[0;36mdispatch_one_batch\u001b[0;34m(self, iterator)\u001b[0m\n\u001b[1;32m    859\u001b[0m                 \u001b[0;32mreturn\u001b[0m \u001b[0;32mFalse\u001b[0m\u001b[0;34m\u001b[0m\u001b[0;34m\u001b[0m\u001b[0m\n\u001b[1;32m    860\u001b[0m             \u001b[0;32melse\u001b[0m\u001b[0;34m:\u001b[0m\u001b[0;34m\u001b[0m\u001b[0;34m\u001b[0m\u001b[0m\n\u001b[0;32m--> 861\u001b[0;31m                 \u001b[0mself\u001b[0m\u001b[0;34m.\u001b[0m\u001b[0m_dispatch\u001b[0m\u001b[0;34m(\u001b[0m\u001b[0mtasks\u001b[0m\u001b[0;34m)\u001b[0m\u001b[0;34m\u001b[0m\u001b[0;34m\u001b[0m\u001b[0m\n\u001b[0m\u001b[1;32m    862\u001b[0m                 \u001b[0;32mreturn\u001b[0m \u001b[0;32mTrue\u001b[0m\u001b[0;34m\u001b[0m\u001b[0;34m\u001b[0m\u001b[0m\n\u001b[1;32m    863\u001b[0m \u001b[0;34m\u001b[0m\u001b[0m\n",
            "\u001b[0;32m/usr/local/lib/python3.7/dist-packages/joblib/parallel.py\u001b[0m in \u001b[0;36m_dispatch\u001b[0;34m(self, batch)\u001b[0m\n\u001b[1;32m    777\u001b[0m         \u001b[0;32mwith\u001b[0m \u001b[0mself\u001b[0m\u001b[0;34m.\u001b[0m\u001b[0m_lock\u001b[0m\u001b[0;34m:\u001b[0m\u001b[0;34m\u001b[0m\u001b[0;34m\u001b[0m\u001b[0m\n\u001b[1;32m    778\u001b[0m             \u001b[0mjob_idx\u001b[0m \u001b[0;34m=\u001b[0m \u001b[0mlen\u001b[0m\u001b[0;34m(\u001b[0m\u001b[0mself\u001b[0m\u001b[0;34m.\u001b[0m\u001b[0m_jobs\u001b[0m\u001b[0;34m)\u001b[0m\u001b[0;34m\u001b[0m\u001b[0;34m\u001b[0m\u001b[0m\n\u001b[0;32m--> 779\u001b[0;31m             \u001b[0mjob\u001b[0m \u001b[0;34m=\u001b[0m \u001b[0mself\u001b[0m\u001b[0;34m.\u001b[0m\u001b[0m_backend\u001b[0m\u001b[0;34m.\u001b[0m\u001b[0mapply_async\u001b[0m\u001b[0;34m(\u001b[0m\u001b[0mbatch\u001b[0m\u001b[0;34m,\u001b[0m \u001b[0mcallback\u001b[0m\u001b[0;34m=\u001b[0m\u001b[0mcb\u001b[0m\u001b[0;34m)\u001b[0m\u001b[0;34m\u001b[0m\u001b[0;34m\u001b[0m\u001b[0m\n\u001b[0m\u001b[1;32m    780\u001b[0m             \u001b[0;31m# A job can complete so quickly than its callback is\u001b[0m\u001b[0;34m\u001b[0m\u001b[0;34m\u001b[0m\u001b[0;34m\u001b[0m\u001b[0m\n\u001b[1;32m    781\u001b[0m             \u001b[0;31m# called before we get here, causing self._jobs to\u001b[0m\u001b[0;34m\u001b[0m\u001b[0;34m\u001b[0m\u001b[0;34m\u001b[0m\u001b[0m\n",
            "\u001b[0;32m/usr/local/lib/python3.7/dist-packages/joblib/_parallel_backends.py\u001b[0m in \u001b[0;36mapply_async\u001b[0;34m(self, func, callback)\u001b[0m\n\u001b[1;32m    206\u001b[0m     \u001b[0;32mdef\u001b[0m \u001b[0mapply_async\u001b[0m\u001b[0;34m(\u001b[0m\u001b[0mself\u001b[0m\u001b[0;34m,\u001b[0m \u001b[0mfunc\u001b[0m\u001b[0;34m,\u001b[0m \u001b[0mcallback\u001b[0m\u001b[0;34m=\u001b[0m\u001b[0;32mNone\u001b[0m\u001b[0;34m)\u001b[0m\u001b[0;34m:\u001b[0m\u001b[0;34m\u001b[0m\u001b[0;34m\u001b[0m\u001b[0m\n\u001b[1;32m    207\u001b[0m         \u001b[0;34m\"\"\"Schedule a func to be run\"\"\"\u001b[0m\u001b[0;34m\u001b[0m\u001b[0;34m\u001b[0m\u001b[0m\n\u001b[0;32m--> 208\u001b[0;31m         \u001b[0mresult\u001b[0m \u001b[0;34m=\u001b[0m \u001b[0mImmediateResult\u001b[0m\u001b[0;34m(\u001b[0m\u001b[0mfunc\u001b[0m\u001b[0;34m)\u001b[0m\u001b[0;34m\u001b[0m\u001b[0;34m\u001b[0m\u001b[0m\n\u001b[0m\u001b[1;32m    209\u001b[0m         \u001b[0;32mif\u001b[0m \u001b[0mcallback\u001b[0m\u001b[0;34m:\u001b[0m\u001b[0;34m\u001b[0m\u001b[0;34m\u001b[0m\u001b[0m\n\u001b[1;32m    210\u001b[0m             \u001b[0mcallback\u001b[0m\u001b[0;34m(\u001b[0m\u001b[0mresult\u001b[0m\u001b[0;34m)\u001b[0m\u001b[0;34m\u001b[0m\u001b[0;34m\u001b[0m\u001b[0m\n",
            "\u001b[0;32m/usr/local/lib/python3.7/dist-packages/joblib/_parallel_backends.py\u001b[0m in \u001b[0;36m__init__\u001b[0;34m(self, batch)\u001b[0m\n\u001b[1;32m    570\u001b[0m         \u001b[0;31m# Don't delay the application, to avoid keeping the input\u001b[0m\u001b[0;34m\u001b[0m\u001b[0;34m\u001b[0m\u001b[0;34m\u001b[0m\u001b[0m\n\u001b[1;32m    571\u001b[0m         \u001b[0;31m# arguments in memory\u001b[0m\u001b[0;34m\u001b[0m\u001b[0;34m\u001b[0m\u001b[0;34m\u001b[0m\u001b[0m\n\u001b[0;32m--> 572\u001b[0;31m         \u001b[0mself\u001b[0m\u001b[0;34m.\u001b[0m\u001b[0mresults\u001b[0m \u001b[0;34m=\u001b[0m \u001b[0mbatch\u001b[0m\u001b[0;34m(\u001b[0m\u001b[0;34m)\u001b[0m\u001b[0;34m\u001b[0m\u001b[0;34m\u001b[0m\u001b[0m\n\u001b[0m\u001b[1;32m    573\u001b[0m \u001b[0;34m\u001b[0m\u001b[0m\n\u001b[1;32m    574\u001b[0m     \u001b[0;32mdef\u001b[0m \u001b[0mget\u001b[0m\u001b[0;34m(\u001b[0m\u001b[0mself\u001b[0m\u001b[0;34m)\u001b[0m\u001b[0;34m:\u001b[0m\u001b[0;34m\u001b[0m\u001b[0;34m\u001b[0m\u001b[0m\n",
            "\u001b[0;32m/usr/local/lib/python3.7/dist-packages/joblib/parallel.py\u001b[0m in \u001b[0;36m__call__\u001b[0;34m(self)\u001b[0m\n\u001b[1;32m    261\u001b[0m         \u001b[0;32mwith\u001b[0m \u001b[0mparallel_backend\u001b[0m\u001b[0;34m(\u001b[0m\u001b[0mself\u001b[0m\u001b[0;34m.\u001b[0m\u001b[0m_backend\u001b[0m\u001b[0;34m,\u001b[0m \u001b[0mn_jobs\u001b[0m\u001b[0;34m=\u001b[0m\u001b[0mself\u001b[0m\u001b[0;34m.\u001b[0m\u001b[0m_n_jobs\u001b[0m\u001b[0;34m)\u001b[0m\u001b[0;34m:\u001b[0m\u001b[0;34m\u001b[0m\u001b[0;34m\u001b[0m\u001b[0m\n\u001b[1;32m    262\u001b[0m             return [func(*args, **kwargs)\n\u001b[0;32m--> 263\u001b[0;31m                     for func, args, kwargs in self.items]\n\u001b[0m\u001b[1;32m    264\u001b[0m \u001b[0;34m\u001b[0m\u001b[0m\n\u001b[1;32m    265\u001b[0m     \u001b[0;32mdef\u001b[0m \u001b[0m__reduce__\u001b[0m\u001b[0;34m(\u001b[0m\u001b[0mself\u001b[0m\u001b[0;34m)\u001b[0m\u001b[0;34m:\u001b[0m\u001b[0;34m\u001b[0m\u001b[0;34m\u001b[0m\u001b[0m\n",
            "\u001b[0;32m/usr/local/lib/python3.7/dist-packages/joblib/parallel.py\u001b[0m in \u001b[0;36m<listcomp>\u001b[0;34m(.0)\u001b[0m\n\u001b[1;32m    261\u001b[0m         \u001b[0;32mwith\u001b[0m \u001b[0mparallel_backend\u001b[0m\u001b[0;34m(\u001b[0m\u001b[0mself\u001b[0m\u001b[0;34m.\u001b[0m\u001b[0m_backend\u001b[0m\u001b[0;34m,\u001b[0m \u001b[0mn_jobs\u001b[0m\u001b[0;34m=\u001b[0m\u001b[0mself\u001b[0m\u001b[0;34m.\u001b[0m\u001b[0m_n_jobs\u001b[0m\u001b[0;34m)\u001b[0m\u001b[0;34m:\u001b[0m\u001b[0;34m\u001b[0m\u001b[0;34m\u001b[0m\u001b[0m\n\u001b[1;32m    262\u001b[0m             return [func(*args, **kwargs)\n\u001b[0;32m--> 263\u001b[0;31m                     for func, args, kwargs in self.items]\n\u001b[0m\u001b[1;32m    264\u001b[0m \u001b[0;34m\u001b[0m\u001b[0m\n\u001b[1;32m    265\u001b[0m     \u001b[0;32mdef\u001b[0m \u001b[0m__reduce__\u001b[0m\u001b[0;34m(\u001b[0m\u001b[0mself\u001b[0m\u001b[0;34m)\u001b[0m\u001b[0;34m:\u001b[0m\u001b[0;34m\u001b[0m\u001b[0;34m\u001b[0m\u001b[0m\n",
            "\u001b[0;32m/usr/local/lib/python3.7/dist-packages/sklearn/utils/fixes.py\u001b[0m in \u001b[0;36m__call__\u001b[0;34m(self, *args, **kwargs)\u001b[0m\n\u001b[1;32m    214\u001b[0m     \u001b[0;32mdef\u001b[0m \u001b[0m__call__\u001b[0m\u001b[0;34m(\u001b[0m\u001b[0mself\u001b[0m\u001b[0;34m,\u001b[0m \u001b[0;34m*\u001b[0m\u001b[0margs\u001b[0m\u001b[0;34m,\u001b[0m \u001b[0;34m**\u001b[0m\u001b[0mkwargs\u001b[0m\u001b[0;34m)\u001b[0m\u001b[0;34m:\u001b[0m\u001b[0;34m\u001b[0m\u001b[0;34m\u001b[0m\u001b[0m\n\u001b[1;32m    215\u001b[0m         \u001b[0;32mwith\u001b[0m \u001b[0mconfig_context\u001b[0m\u001b[0;34m(\u001b[0m\u001b[0;34m**\u001b[0m\u001b[0mself\u001b[0m\u001b[0;34m.\u001b[0m\u001b[0mconfig\u001b[0m\u001b[0;34m)\u001b[0m\u001b[0;34m:\u001b[0m\u001b[0;34m\u001b[0m\u001b[0;34m\u001b[0m\u001b[0m\n\u001b[0;32m--> 216\u001b[0;31m             \u001b[0;32mreturn\u001b[0m \u001b[0mself\u001b[0m\u001b[0;34m.\u001b[0m\u001b[0mfunction\u001b[0m\u001b[0;34m(\u001b[0m\u001b[0;34m*\u001b[0m\u001b[0margs\u001b[0m\u001b[0;34m,\u001b[0m \u001b[0;34m**\u001b[0m\u001b[0mkwargs\u001b[0m\u001b[0;34m)\u001b[0m\u001b[0;34m\u001b[0m\u001b[0;34m\u001b[0m\u001b[0m\n\u001b[0m\u001b[1;32m    217\u001b[0m \u001b[0;34m\u001b[0m\u001b[0m\n\u001b[1;32m    218\u001b[0m \u001b[0;34m\u001b[0m\u001b[0m\n",
            "\u001b[0;32m/usr/local/lib/python3.7/dist-packages/sklearn/model_selection/_validation.py\u001b[0m in \u001b[0;36m_fit_and_score\u001b[0;34m(estimator, X, y, scorer, train, test, verbose, parameters, fit_params, return_train_score, return_parameters, return_n_test_samples, return_times, return_estimator, split_progress, candidate_progress, error_score)\u001b[0m\n\u001b[1;32m    678\u001b[0m             \u001b[0mestimator\u001b[0m\u001b[0;34m.\u001b[0m\u001b[0mfit\u001b[0m\u001b[0;34m(\u001b[0m\u001b[0mX_train\u001b[0m\u001b[0;34m,\u001b[0m \u001b[0;34m**\u001b[0m\u001b[0mfit_params\u001b[0m\u001b[0;34m)\u001b[0m\u001b[0;34m\u001b[0m\u001b[0;34m\u001b[0m\u001b[0m\n\u001b[1;32m    679\u001b[0m         \u001b[0;32melse\u001b[0m\u001b[0;34m:\u001b[0m\u001b[0;34m\u001b[0m\u001b[0;34m\u001b[0m\u001b[0m\n\u001b[0;32m--> 680\u001b[0;31m             \u001b[0mestimator\u001b[0m\u001b[0;34m.\u001b[0m\u001b[0mfit\u001b[0m\u001b[0;34m(\u001b[0m\u001b[0mX_train\u001b[0m\u001b[0;34m,\u001b[0m \u001b[0my_train\u001b[0m\u001b[0;34m,\u001b[0m \u001b[0;34m**\u001b[0m\u001b[0mfit_params\u001b[0m\u001b[0;34m)\u001b[0m\u001b[0;34m\u001b[0m\u001b[0;34m\u001b[0m\u001b[0m\n\u001b[0m\u001b[1;32m    681\u001b[0m \u001b[0;34m\u001b[0m\u001b[0m\n\u001b[1;32m    682\u001b[0m     \u001b[0;32mexcept\u001b[0m \u001b[0mException\u001b[0m\u001b[0;34m:\u001b[0m\u001b[0;34m\u001b[0m\u001b[0;34m\u001b[0m\u001b[0m\n",
            "\u001b[0;32m/usr/local/lib/python3.7/dist-packages/keras/wrappers/scikit_learn.py\u001b[0m in \u001b[0;36mfit\u001b[0;34m(self, x, y, **kwargs)\u001b[0m\n\u001b[1;32m    234\u001b[0m       \u001b[0;32mraise\u001b[0m \u001b[0mValueError\u001b[0m\u001b[0;34m(\u001b[0m\u001b[0;34m'Invalid shape for y: '\u001b[0m \u001b[0;34m+\u001b[0m \u001b[0mstr\u001b[0m\u001b[0;34m(\u001b[0m\u001b[0my\u001b[0m\u001b[0;34m.\u001b[0m\u001b[0mshape\u001b[0m\u001b[0;34m)\u001b[0m\u001b[0;34m)\u001b[0m\u001b[0;34m\u001b[0m\u001b[0;34m\u001b[0m\u001b[0m\n\u001b[1;32m    235\u001b[0m     \u001b[0mself\u001b[0m\u001b[0;34m.\u001b[0m\u001b[0mn_classes_\u001b[0m \u001b[0;34m=\u001b[0m \u001b[0mlen\u001b[0m\u001b[0;34m(\u001b[0m\u001b[0mself\u001b[0m\u001b[0;34m.\u001b[0m\u001b[0mclasses_\u001b[0m\u001b[0;34m)\u001b[0m\u001b[0;34m\u001b[0m\u001b[0;34m\u001b[0m\u001b[0m\n\u001b[0;32m--> 236\u001b[0;31m     \u001b[0;32mreturn\u001b[0m \u001b[0msuper\u001b[0m\u001b[0;34m(\u001b[0m\u001b[0mKerasClassifier\u001b[0m\u001b[0;34m,\u001b[0m \u001b[0mself\u001b[0m\u001b[0;34m)\u001b[0m\u001b[0;34m.\u001b[0m\u001b[0mfit\u001b[0m\u001b[0;34m(\u001b[0m\u001b[0mx\u001b[0m\u001b[0;34m,\u001b[0m \u001b[0my\u001b[0m\u001b[0;34m,\u001b[0m \u001b[0;34m**\u001b[0m\u001b[0mkwargs\u001b[0m\u001b[0;34m)\u001b[0m\u001b[0;34m\u001b[0m\u001b[0;34m\u001b[0m\u001b[0m\n\u001b[0m\u001b[1;32m    237\u001b[0m \u001b[0;34m\u001b[0m\u001b[0m\n\u001b[1;32m    238\u001b[0m   \u001b[0;32mdef\u001b[0m \u001b[0mpredict\u001b[0m\u001b[0;34m(\u001b[0m\u001b[0mself\u001b[0m\u001b[0;34m,\u001b[0m \u001b[0mx\u001b[0m\u001b[0;34m,\u001b[0m \u001b[0;34m**\u001b[0m\u001b[0mkwargs\u001b[0m\u001b[0;34m)\u001b[0m\u001b[0;34m:\u001b[0m\u001b[0;34m\u001b[0m\u001b[0;34m\u001b[0m\u001b[0m\n",
            "\u001b[0;32m/usr/local/lib/python3.7/dist-packages/keras/wrappers/scikit_learn.py\u001b[0m in \u001b[0;36mfit\u001b[0;34m(self, x, y, **kwargs)\u001b[0m\n\u001b[1;32m    162\u001b[0m     \u001b[0mfit_args\u001b[0m\u001b[0;34m.\u001b[0m\u001b[0mupdate\u001b[0m\u001b[0;34m(\u001b[0m\u001b[0mkwargs\u001b[0m\u001b[0;34m)\u001b[0m\u001b[0;34m\u001b[0m\u001b[0;34m\u001b[0m\u001b[0m\n\u001b[1;32m    163\u001b[0m \u001b[0;34m\u001b[0m\u001b[0m\n\u001b[0;32m--> 164\u001b[0;31m     \u001b[0mhistory\u001b[0m \u001b[0;34m=\u001b[0m \u001b[0mself\u001b[0m\u001b[0;34m.\u001b[0m\u001b[0mmodel\u001b[0m\u001b[0;34m.\u001b[0m\u001b[0mfit\u001b[0m\u001b[0;34m(\u001b[0m\u001b[0mx\u001b[0m\u001b[0;34m,\u001b[0m \u001b[0my\u001b[0m\u001b[0;34m,\u001b[0m \u001b[0;34m**\u001b[0m\u001b[0mfit_args\u001b[0m\u001b[0;34m)\u001b[0m\u001b[0;34m\u001b[0m\u001b[0;34m\u001b[0m\u001b[0m\n\u001b[0m\u001b[1;32m    165\u001b[0m \u001b[0;34m\u001b[0m\u001b[0m\n\u001b[1;32m    166\u001b[0m     \u001b[0;32mreturn\u001b[0m \u001b[0mhistory\u001b[0m\u001b[0;34m\u001b[0m\u001b[0;34m\u001b[0m\u001b[0m\n",
            "\u001b[0;32m/usr/local/lib/python3.7/dist-packages/keras/utils/traceback_utils.py\u001b[0m in \u001b[0;36merror_handler\u001b[0;34m(*args, **kwargs)\u001b[0m\n\u001b[1;32m     62\u001b[0m     \u001b[0mfiltered_tb\u001b[0m \u001b[0;34m=\u001b[0m \u001b[0;32mNone\u001b[0m\u001b[0;34m\u001b[0m\u001b[0;34m\u001b[0m\u001b[0m\n\u001b[1;32m     63\u001b[0m     \u001b[0;32mtry\u001b[0m\u001b[0;34m:\u001b[0m\u001b[0;34m\u001b[0m\u001b[0;34m\u001b[0m\u001b[0m\n\u001b[0;32m---> 64\u001b[0;31m       \u001b[0;32mreturn\u001b[0m \u001b[0mfn\u001b[0m\u001b[0;34m(\u001b[0m\u001b[0;34m*\u001b[0m\u001b[0margs\u001b[0m\u001b[0;34m,\u001b[0m \u001b[0;34m**\u001b[0m\u001b[0mkwargs\u001b[0m\u001b[0;34m)\u001b[0m\u001b[0;34m\u001b[0m\u001b[0;34m\u001b[0m\u001b[0m\n\u001b[0m\u001b[1;32m     65\u001b[0m     \u001b[0;32mexcept\u001b[0m \u001b[0mException\u001b[0m \u001b[0;32mas\u001b[0m \u001b[0me\u001b[0m\u001b[0;34m:\u001b[0m  \u001b[0;31m# pylint: disable=broad-except\u001b[0m\u001b[0;34m\u001b[0m\u001b[0;34m\u001b[0m\u001b[0m\n\u001b[1;32m     66\u001b[0m       \u001b[0mfiltered_tb\u001b[0m \u001b[0;34m=\u001b[0m \u001b[0m_process_traceback_frames\u001b[0m\u001b[0;34m(\u001b[0m\u001b[0me\u001b[0m\u001b[0;34m.\u001b[0m\u001b[0m__traceback__\u001b[0m\u001b[0;34m)\u001b[0m\u001b[0;34m\u001b[0m\u001b[0;34m\u001b[0m\u001b[0m\n",
            "\u001b[0;32m/usr/local/lib/python3.7/dist-packages/keras/engine/training.py\u001b[0m in \u001b[0;36mfit\u001b[0;34m(self, x, y, batch_size, epochs, verbose, callbacks, validation_split, validation_data, shuffle, class_weight, sample_weight, initial_epoch, steps_per_epoch, validation_steps, validation_batch_size, validation_freq, max_queue_size, workers, use_multiprocessing)\u001b[0m\n\u001b[1;32m   1374\u001b[0m         \u001b[0mcallbacks\u001b[0m\u001b[0;34m.\u001b[0m\u001b[0mon_epoch_begin\u001b[0m\u001b[0;34m(\u001b[0m\u001b[0mepoch\u001b[0m\u001b[0;34m)\u001b[0m\u001b[0;34m\u001b[0m\u001b[0;34m\u001b[0m\u001b[0m\n\u001b[1;32m   1375\u001b[0m         \u001b[0;32mwith\u001b[0m \u001b[0mdata_handler\u001b[0m\u001b[0;34m.\u001b[0m\u001b[0mcatch_stop_iteration\u001b[0m\u001b[0;34m(\u001b[0m\u001b[0;34m)\u001b[0m\u001b[0;34m:\u001b[0m\u001b[0;34m\u001b[0m\u001b[0;34m\u001b[0m\u001b[0m\n\u001b[0;32m-> 1376\u001b[0;31m           \u001b[0;32mfor\u001b[0m \u001b[0mstep\u001b[0m \u001b[0;32min\u001b[0m \u001b[0mdata_handler\u001b[0m\u001b[0;34m.\u001b[0m\u001b[0msteps\u001b[0m\u001b[0;34m(\u001b[0m\u001b[0;34m)\u001b[0m\u001b[0;34m:\u001b[0m\u001b[0;34m\u001b[0m\u001b[0;34m\u001b[0m\u001b[0m\n\u001b[0m\u001b[1;32m   1377\u001b[0m             with tf.profiler.experimental.Trace(\n\u001b[1;32m   1378\u001b[0m                 \u001b[0;34m'train'\u001b[0m\u001b[0;34m,\u001b[0m\u001b[0;34m\u001b[0m\u001b[0;34m\u001b[0m\u001b[0m\n",
            "\u001b[0;32m/usr/local/lib/python3.7/dist-packages/keras/engine/data_adapter.py\u001b[0m in \u001b[0;36msteps\u001b[0;34m(self)\u001b[0m\n\u001b[1;32m   1244\u001b[0m       \u001b[0;32mif\u001b[0m \u001b[0mself\u001b[0m\u001b[0;34m.\u001b[0m\u001b[0m_insufficient_data\u001b[0m\u001b[0;34m:\u001b[0m  \u001b[0;31m# Set by `catch_stop_iteration`.\u001b[0m\u001b[0;34m\u001b[0m\u001b[0;34m\u001b[0m\u001b[0m\n\u001b[1;32m   1245\u001b[0m         \u001b[0;32mbreak\u001b[0m\u001b[0;34m\u001b[0m\u001b[0;34m\u001b[0m\u001b[0m\n\u001b[0;32m-> 1246\u001b[0;31m       \u001b[0moriginal_spe\u001b[0m \u001b[0;34m=\u001b[0m \u001b[0mself\u001b[0m\u001b[0;34m.\u001b[0m\u001b[0m_steps_per_execution\u001b[0m\u001b[0;34m.\u001b[0m\u001b[0mnumpy\u001b[0m\u001b[0;34m(\u001b[0m\u001b[0;34m)\u001b[0m\u001b[0;34m.\u001b[0m\u001b[0mitem\u001b[0m\u001b[0;34m(\u001b[0m\u001b[0;34m)\u001b[0m\u001b[0;34m\u001b[0m\u001b[0;34m\u001b[0m\u001b[0m\n\u001b[0m\u001b[1;32m   1247\u001b[0m       can_run_full_execution = (\n\u001b[1;32m   1248\u001b[0m           \u001b[0moriginal_spe\u001b[0m \u001b[0;34m==\u001b[0m \u001b[0;36m1\u001b[0m \u001b[0;32mor\u001b[0m\u001b[0;34m\u001b[0m\u001b[0;34m\u001b[0m\u001b[0m\n",
            "\u001b[0;32m/usr/local/lib/python3.7/dist-packages/tensorflow/python/ops/resource_variable_ops.py\u001b[0m in \u001b[0;36mnumpy\u001b[0;34m(self)\u001b[0m\n\u001b[1;32m    672\u001b[0m   \u001b[0;32mdef\u001b[0m \u001b[0mnumpy\u001b[0m\u001b[0;34m(\u001b[0m\u001b[0mself\u001b[0m\u001b[0;34m)\u001b[0m\u001b[0;34m:\u001b[0m\u001b[0;34m\u001b[0m\u001b[0;34m\u001b[0m\u001b[0m\n\u001b[1;32m    673\u001b[0m     \u001b[0;32mif\u001b[0m \u001b[0mcontext\u001b[0m\u001b[0;34m.\u001b[0m\u001b[0mexecuting_eagerly\u001b[0m\u001b[0;34m(\u001b[0m\u001b[0;34m)\u001b[0m\u001b[0;34m:\u001b[0m\u001b[0;34m\u001b[0m\u001b[0;34m\u001b[0m\u001b[0m\n\u001b[0;32m--> 674\u001b[0;31m       \u001b[0;32mreturn\u001b[0m \u001b[0mself\u001b[0m\u001b[0;34m.\u001b[0m\u001b[0mread_value\u001b[0m\u001b[0;34m(\u001b[0m\u001b[0;34m)\u001b[0m\u001b[0;34m.\u001b[0m\u001b[0mnumpy\u001b[0m\u001b[0;34m(\u001b[0m\u001b[0;34m)\u001b[0m\u001b[0;34m\u001b[0m\u001b[0;34m\u001b[0m\u001b[0m\n\u001b[0m\u001b[1;32m    675\u001b[0m     raise NotImplementedError(\n\u001b[1;32m    676\u001b[0m         \"numpy() is only available when eager execution is enabled.\")\n",
            "\u001b[0;32m/usr/local/lib/python3.7/dist-packages/tensorflow/python/framework/ops.py\u001b[0m in \u001b[0;36mnumpy\u001b[0;34m(self)\u001b[0m\n\u001b[1;32m   1221\u001b[0m     \"\"\"\n\u001b[1;32m   1222\u001b[0m     \u001b[0;31m# TODO(slebedev): Consider avoiding a copy for non-CPU or remote tensors.\u001b[0m\u001b[0;34m\u001b[0m\u001b[0;34m\u001b[0m\u001b[0;34m\u001b[0m\u001b[0m\n\u001b[0;32m-> 1223\u001b[0;31m     \u001b[0mmaybe_arr\u001b[0m \u001b[0;34m=\u001b[0m \u001b[0mself\u001b[0m\u001b[0;34m.\u001b[0m\u001b[0m_numpy\u001b[0m\u001b[0;34m(\u001b[0m\u001b[0;34m)\u001b[0m  \u001b[0;31m# pylint: disable=protected-access\u001b[0m\u001b[0;34m\u001b[0m\u001b[0;34m\u001b[0m\u001b[0m\n\u001b[0m\u001b[1;32m   1224\u001b[0m     \u001b[0;32mreturn\u001b[0m \u001b[0mmaybe_arr\u001b[0m\u001b[0;34m.\u001b[0m\u001b[0mcopy\u001b[0m\u001b[0;34m(\u001b[0m\u001b[0;34m)\u001b[0m \u001b[0;32mif\u001b[0m \u001b[0misinstance\u001b[0m\u001b[0;34m(\u001b[0m\u001b[0mmaybe_arr\u001b[0m\u001b[0;34m,\u001b[0m \u001b[0mnp\u001b[0m\u001b[0;34m.\u001b[0m\u001b[0mndarray\u001b[0m\u001b[0;34m)\u001b[0m \u001b[0;32melse\u001b[0m \u001b[0mmaybe_arr\u001b[0m\u001b[0;34m\u001b[0m\u001b[0;34m\u001b[0m\u001b[0m\n\u001b[1;32m   1225\u001b[0m \u001b[0;34m\u001b[0m\u001b[0m\n",
            "\u001b[0;32m/usr/local/lib/python3.7/dist-packages/tensorflow/python/framework/ops.py\u001b[0m in \u001b[0;36m_numpy\u001b[0;34m(self)\u001b[0m\n\u001b[1;32m   1187\u001b[0m   \u001b[0;32mdef\u001b[0m \u001b[0m_numpy\u001b[0m\u001b[0;34m(\u001b[0m\u001b[0mself\u001b[0m\u001b[0;34m)\u001b[0m\u001b[0;34m:\u001b[0m\u001b[0;34m\u001b[0m\u001b[0;34m\u001b[0m\u001b[0m\n\u001b[1;32m   1188\u001b[0m     \u001b[0;32mtry\u001b[0m\u001b[0;34m:\u001b[0m\u001b[0;34m\u001b[0m\u001b[0;34m\u001b[0m\u001b[0m\n\u001b[0;32m-> 1189\u001b[0;31m       \u001b[0;32mreturn\u001b[0m \u001b[0mself\u001b[0m\u001b[0;34m.\u001b[0m\u001b[0m_numpy_internal\u001b[0m\u001b[0;34m(\u001b[0m\u001b[0;34m)\u001b[0m\u001b[0;34m\u001b[0m\u001b[0;34m\u001b[0m\u001b[0m\n\u001b[0m\u001b[1;32m   1190\u001b[0m     \u001b[0;32mexcept\u001b[0m \u001b[0mcore\u001b[0m\u001b[0;34m.\u001b[0m\u001b[0m_NotOkStatusException\u001b[0m \u001b[0;32mas\u001b[0m \u001b[0me\u001b[0m\u001b[0;34m:\u001b[0m  \u001b[0;31m# pylint: disable=protected-access\u001b[0m\u001b[0;34m\u001b[0m\u001b[0;34m\u001b[0m\u001b[0m\n\u001b[1;32m   1191\u001b[0m       \u001b[0;32mraise\u001b[0m \u001b[0mcore\u001b[0m\u001b[0;34m.\u001b[0m\u001b[0m_status_to_exception\u001b[0m\u001b[0;34m(\u001b[0m\u001b[0me\u001b[0m\u001b[0;34m)\u001b[0m \u001b[0;32mfrom\u001b[0m \u001b[0;32mNone\u001b[0m  \u001b[0;31m# pylint: disable=protected-access\u001b[0m\u001b[0;34m\u001b[0m\u001b[0;34m\u001b[0m\u001b[0m\n",
            "\u001b[0;31mKeyboardInterrupt\u001b[0m: "
          ]
        }
      ]
    },
    {
      "cell_type": "code",
      "source": [
        "#5 conv layers B\n",
        "\n",
        "param_grid = dict(batch_size=cand_bs, embedding_dim=cand_ed, n_filters=cand_nf, k_size=cand_ks[1:], nlayers=cand_nl[2:3])\n",
        "grid = GridSearchCV(estimator=model, param_grid=param_grid, verbose=3, n_jobs=1, cv=5)\n",
        "\n",
        "grid_result = grid.fit(X_train, dummy_y_train)\n",
        "\n",
        "# summarize results\n",
        "print(\"Best: %f using %s\" % (grid_result.best_score_, grid_result.best_params_))\n",
        "means = grid_result.cv_results_['mean_test_score']\n",
        "stds = grid_result.cv_results_['std_test_score']\n",
        "params = grid_result.cv_results_['params']\n",
        "\n",
        "cv_results2b = pd.DataFrame.from_dict(grid_result.cv_results_).sort_values(by=['rank_test_score']).set_index('rank_test_score')"
      ],
      "metadata": {
        "id": "N3tTPsDc8puj"
      },
      "id": "N3tTPsDc8puj",
      "execution_count": null,
      "outputs": []
    },
    {
      "cell_type": "markdown",
      "source": [
        "Summarizing results of hp tuning"
      ],
      "metadata": {
        "id": "vNfR5pIYDlWa"
      },
      "id": "vNfR5pIYDlWa"
    },
    {
      "cell_type": "code",
      "source": [
        "cv_results = pd.concat([cv_results0, cv_results1, cv_results2]).sort_values(by=['mean_test_score'], ascending=False).reset_index(drop=True)\n",
        "\n",
        "emb_cv_results0 = cv_results.drop(['std_fit_time', 'std_score_time', 'params', 'split0_test_score', 'split1_test_score', \n",
        "                              'split2_test_score', 'split3_test_score', 'split4_test_score'], 1)\n",
        "clist = list(emb_cv_results0.columns.values)\n",
        "cv_results_set0_emb = emb_cv_results0[clist[-2:] + clist[:-2]]\n",
        "cv_results_set0_emb"
      ],
      "metadata": {
        "id": "Fjvuy57n-4Sf"
      },
      "id": "Fjvuy57n-4Sf",
      "execution_count": null,
      "outputs": []
    },
    {
      "cell_type": "code",
      "execution_count": null,
      "id": "final-bearing",
      "metadata": {
        "id": "final-bearing",
        "outputId": "487ad1c9-f53f-42a0-cc74-b39ad202ea27",
        "colab": {
          "base_uri": "https://localhost:8080/",
          "height": 17
        }
      },
      "outputs": [
        {
          "output_type": "display_data",
          "data": {
            "text/plain": [
              "<IPython.core.display.Javascript object>"
            ],
            "application/javascript": [
              "\n",
              "    async function download(id, filename, size) {\n",
              "      if (!google.colab.kernel.accessAllowed) {\n",
              "        return;\n",
              "      }\n",
              "      const div = document.createElement('div');\n",
              "      const label = document.createElement('label');\n",
              "      label.textContent = `Downloading \"${filename}\": `;\n",
              "      div.appendChild(label);\n",
              "      const progress = document.createElement('progress');\n",
              "      progress.max = size;\n",
              "      div.appendChild(progress);\n",
              "      document.body.appendChild(div);\n",
              "\n",
              "      const buffers = [];\n",
              "      let downloaded = 0;\n",
              "\n",
              "      const channel = await google.colab.kernel.comms.open(id);\n",
              "      // Send a message to notify the kernel that we're ready.\n",
              "      channel.send({})\n",
              "\n",
              "      for await (const message of channel.messages) {\n",
              "        // Send a message to notify the kernel that we're ready.\n",
              "        channel.send({})\n",
              "        if (message.buffers) {\n",
              "          for (const buffer of message.buffers) {\n",
              "            buffers.push(buffer);\n",
              "            downloaded += buffer.byteLength;\n",
              "            progress.value = downloaded;\n",
              "          }\n",
              "        }\n",
              "      }\n",
              "      const blob = new Blob(buffers, {type: 'application/binary'});\n",
              "      const a = document.createElement('a');\n",
              "      a.href = window.URL.createObjectURL(blob);\n",
              "      a.download = filename;\n",
              "      div.appendChild(a);\n",
              "      a.click();\n",
              "      div.remove();\n",
              "    }\n",
              "  "
            ]
          },
          "metadata": {}
        },
        {
          "output_type": "display_data",
          "data": {
            "text/plain": [
              "<IPython.core.display.Javascript object>"
            ],
            "application/javascript": [
              "download(\"download_948ccc66-9a73-4fe0-8eac-d93203123ff2\", \"cv_results_set0_emb.csv\", 1686)"
            ]
          },
          "metadata": {}
        }
      ],
      "source": [
        "cv_results_set0_emb.to_csv('cv_results_set0_emb.csv', encoding = 'utf-8-sig') \n",
        "files.download('cv_results_set0_emb.csv')"
      ]
    },
    {
      "cell_type": "markdown",
      "source": [
        "Training the best model on the whole training set"
      ],
      "metadata": {
        "id": "miznZINPDiam"
      },
      "id": "miznZINPDiam"
    },
    {
      "cell_type": "code",
      "execution_count": 10,
      "id": "attached-poultry",
      "metadata": {
        "id": "attached-poultry",
        "outputId": "bbc2b898-2941-47b1-efa0-761af4a556e4",
        "colab": {
          "base_uri": "https://localhost:8080/"
        }
      },
      "outputs": [
        {
          "output_type": "stream",
          "name": "stdout",
          "text": [
            "Model: \"Convolutional_Neural_Network\"\n",
            "_________________________________________________________________\n",
            " Layer (type)                Output Shape              Param #   \n",
            "=================================================================\n",
            " embedding (Embedding)       (None, 264, 50)           2337200   \n",
            "                                                                 \n",
            " primo (Conv1D)              (None, 262, 32)           4832      \n",
            "                                                                 \n",
            " global_max_pooling1d (Globa  (None, 32)               0         \n",
            " lMaxPooling1D)                                                  \n",
            "                                                                 \n",
            " dense (Dense)               (None, 10)                330       \n",
            "                                                                 \n",
            " dense_1 (Dense)             (None, 3)                 33        \n",
            "                                                                 \n",
            "=================================================================\n",
            "Total params: 2,342,395\n",
            "Trainable params: 2,342,395\n",
            "Non-trainable params: 0\n",
            "_________________________________________________________________\n"
          ]
        }
      ],
      "source": [
        "clear_session()\n",
        "model = create_cnn_model(embedding_dim=50, n_filters=32, k_size=3, nlayers=1, nclass=3)\n",
        "model.summary()"
      ]
    },
    {
      "cell_type": "code",
      "execution_count": 11,
      "id": "lasting-automation",
      "metadata": {
        "id": "lasting-automation",
        "outputId": "0bb61953-83fd-423f-ac53-4320e8febc26",
        "colab": {
          "base_uri": "https://localhost:8080/"
        }
      },
      "outputs": [
        {
          "output_type": "stream",
          "name": "stdout",
          "text": [
            "Epoch 1/15\n",
            "53/53 [==============================] - 42s 759ms/step - loss: 0.9046 - accuracy: 0.7048 - val_loss: 0.5616 - val_accuracy: 0.9060\n",
            "Epoch 2/15\n",
            "53/53 [==============================] - 40s 756ms/step - loss: 0.3118 - accuracy: 0.9290 - val_loss: 0.1850 - val_accuracy: 0.9391\n",
            "Epoch 3/15\n",
            "53/53 [==============================] - 40s 756ms/step - loss: 0.1520 - accuracy: 0.9475 - val_loss: 0.1481 - val_accuracy: 0.9456\n",
            "Epoch 4/15\n",
            "53/53 [==============================] - 40s 756ms/step - loss: 0.1209 - accuracy: 0.9570 - val_loss: 0.1376 - val_accuracy: 0.9485\n",
            "Epoch 5/15\n",
            "53/53 [==============================] - 40s 758ms/step - loss: 0.1024 - accuracy: 0.9637 - val_loss: 0.1328 - val_accuracy: 0.9496\n",
            "Epoch 6/15\n",
            "53/53 [==============================] - 40s 754ms/step - loss: 0.0879 - accuracy: 0.9692 - val_loss: 0.1308 - val_accuracy: 0.9510\n",
            "Epoch 7/15\n",
            "53/53 [==============================] - 40s 753ms/step - loss: 0.0751 - accuracy: 0.9744 - val_loss: 0.1303 - val_accuracy: 0.9516\n",
            "Epoch 8/15\n",
            "53/53 [==============================] - 40s 755ms/step - loss: 0.0638 - accuracy: 0.9793 - val_loss: 0.1320 - val_accuracy: 0.9513\n",
            "Epoch 9/15\n",
            "53/53 [==============================] - 40s 756ms/step - loss: 0.0538 - accuracy: 0.9834 - val_loss: 0.1340 - val_accuracy: 0.9515\n",
            "Epoch 10/15\n",
            "53/53 [==============================] - 40s 755ms/step - loss: 0.0449 - accuracy: 0.9870 - val_loss: 0.1377 - val_accuracy: 0.9516\n",
            "Epoch 11/15\n",
            "53/53 [==============================] - 40s 754ms/step - loss: 0.0371 - accuracy: 0.9898 - val_loss: 0.1425 - val_accuracy: 0.9510\n",
            "Epoch 12/15\n",
            "53/53 [==============================] - 40s 753ms/step - loss: 0.0302 - accuracy: 0.9926 - val_loss: 0.1471 - val_accuracy: 0.9514\n",
            "Epoch 13/15\n",
            "53/53 [==============================] - 40s 755ms/step - loss: 0.0245 - accuracy: 0.9945 - val_loss: 0.1534 - val_accuracy: 0.9504\n",
            "Epoch 14/15\n",
            "53/53 [==============================] - 40s 754ms/step - loss: 0.0197 - accuracy: 0.9959 - val_loss: 0.1592 - val_accuracy: 0.9510\n",
            "Epoch 15/15\n",
            "53/53 [==============================] - 40s 753ms/step - loss: 0.0156 - accuracy: 0.9973 - val_loss: 0.1658 - val_accuracy: 0.9504\n"
          ]
        }
      ],
      "source": [
        "history = model.fit(X_train, dummy_y_train, epochs=15, verbose=True, validation_data=(X_test, dummy_y_test), batch_size=2048)"
      ]
    },
    {
      "cell_type": "code",
      "source": [
        "plt.style.use('ggplot')\n",
        "\n",
        "h0 = history\n",
        "plot_history(h0, name = 'hcnn0')"
      ],
      "metadata": {
        "id": "0r5HHNJ5bWpN",
        "outputId": "0db40f34-60c2-48dd-c415-3a0951ab4a76",
        "colab": {
          "base_uri": "https://localhost:8080/",
          "height": 337
        }
      },
      "id": "0r5HHNJ5bWpN",
      "execution_count": 15,
      "outputs": [
        {
          "output_type": "display_data",
          "data": {
            "text/plain": [
              "<Figure size 864x360 with 2 Axes>"
            ],
            "image/png": "[encoded data removed]"
          },
          "metadata": {}
        }
      ]
    },
    {
      "cell_type": "code",
      "execution_count": 13,
      "id": "miniature-estonia",
      "metadata": {
        "id": "miniature-estonia",
        "outputId": "bda4360d-bce2-47f6-c16c-147a8c10e406",
        "colab": {
          "base_uri": "https://localhost:8080/"
        }
      },
      "outputs": [
        {
          "output_type": "stream",
          "name": "stdout",
          "text": [
            "Training Accuracy: 0.9985\n",
            "Testing Accuracy:  0.9504\n"
          ]
        }
      ],
      "source": [
        "loss, accuracy = model.evaluate(X_train, dummy_y_train, verbose=False)\n",
        "print(\"Training Accuracy: {:.4f}\".format(accuracy))\n",
        "loss, accuracy = model.evaluate(X_test, dummy_y_test, verbose=False)\n",
        "print(\"Testing Accuracy:  {:.4f}\".format(accuracy))"
      ]
    },
    {
      "cell_type": "markdown",
      "source": [
        "Assess the classifier"
      ],
      "metadata": {
        "id": "xOIESGjnDqqC"
      },
      "id": "xOIESGjnDqqC"
    },
    {
      "cell_type": "code",
      "source": [
        "test_predicted_prob0 = model.predict(X_test0)\n",
        "test_predicted_classes0 = test_predicted_prob0.argmax(1)"
      ],
      "metadata": {
        "id": "JYBs0GoXF7y5"
      },
      "id": "JYBs0GoXF7y5",
      "execution_count": 16,
      "outputs": []
    },
    {
      "cell_type": "code",
      "source": [
        "#Confusion matrix\n",
        "conf = confusion_matrix(encoded_y_test0, test_predicted_classes0)\n",
        "le_name_mapping = dict(zip(encoder.transform(encoder.classes_), encoder.classes_))\n",
        "class_codes = [le_name_mapping[i] for i in range(3)]\n",
        "plot_confusion_matrix(conf, class_codes, name = 'cnn0')"
      ],
      "metadata": {
        "id": "iHLQbqqcF8IZ",
        "outputId": "a6a41f01-1c5f-4744-ab8b-a5369cc87f9b",
        "colab": {
          "base_uri": "https://localhost:8080/",
          "height": 257
        }
      },
      "id": "iHLQbqqcF8IZ",
      "execution_count": 19,
      "outputs": [
        {
          "output_type": "display_data",
          "data": {
            "text/plain": [
              "<Figure size 288x216 with 1 Axes>"
            ],
            "image/png": "[encoded data removed]"
          },
          "metadata": {}
        }
      ]
    },
    {
      "cell_type": "markdown",
      "source": [
        "Set 1"
      ],
      "metadata": {
        "id": "asCxu4L8OO__"
      },
      "id": "asCxu4L8OO__"
    },
    {
      "cell_type": "code",
      "source": [
        "print(dataset1['category'].value_counts())"
      ],
      "metadata": {
        "colab": {
          "base_uri": "https://localhost:8080/"
        },
        "id": "5bgqjWL4D7f4",
        "outputId": "c89100b6-11bd-4d4e-af7a-311c06c9b278"
      },
      "id": "5bgqjWL4D7f4",
      "execution_count": null,
      "outputs": [
        {
          "output_type": "stream",
          "name": "stdout",
          "text": [
            "stat       19868\n",
            "math-ph    17597\n",
            "nucl-th    13730\n",
            "q-bio      13316\n",
            "hep-ex     10158\n",
            "Name: category, dtype: int64\n"
          ]
        }
      ]
    },
    {
      "cell_type": "markdown",
      "source": [
        "Split the dataset in training and test set"
      ],
      "metadata": {
        "id": "ZufBndokD7sl"
      },
      "id": "ZufBndokD7sl"
    },
    {
      "cell_type": "code",
      "execution_count": 20,
      "metadata": {
        "outputId": "7a0f1cba-2ea7-4624-ad7d-735ab99aeba2",
        "colab": {
          "base_uri": "https://localhost:8080/"
        },
        "id": "Zu2ozOc3b3g0"
      },
      "outputs": [
        {
          "output_type": "stream",
          "name": "stderr",
          "text": [
            "/usr/local/lib/python3.7/dist-packages/ipykernel_launcher.py:36: DeprecationWarning: KerasClassifier is deprecated, use Sci-Keras (https://github.com/adriangb/scikeras) instead. See https://www.adriangb.com/scikeras/stable/migration.html for help migrating.\n"
          ]
        }
      ],
      "source": [
        "X_train, X_test, y_train, y_test = train_test_split(dataset1[\"clean_text\"], dataset1[\"category\"], random_state = 1000,\n",
        "                                                    stratify = dataset1[\"category\"], test_size=0.2, shuffle=True)\n",
        "\n",
        "X_train.reset_index(drop=True, inplace=True)\n",
        "X_test.reset_index(drop=True, inplace=True)\n",
        "y_train.reset_index(drop=True, inplace=True)\n",
        "y_test.reset_index(drop=True, inplace=True)\n",
        "\n",
        "tokenizer = Tokenizer(num_words=100000)\n",
        "tokenizer.fit_on_texts(X_train)\n",
        "\n",
        "X_train = tokenizer.texts_to_sequences(X_train)\n",
        "X_test = tokenizer.texts_to_sequences(X_test)\n",
        "\n",
        "maxlen = np.array([len(a) for a in X_train]).max()\n",
        "\n",
        "X_train = pad_sequences(X_train, padding='post', maxlen=maxlen)\n",
        "X_test = pad_sequences(X_test, padding='post', maxlen=maxlen)\n",
        "\n",
        "vocab_size = len(tokenizer.word_index) + 1\n",
        "\n",
        "encoder = LabelEncoder()\n",
        "encoder.fit(y_train)\n",
        "encoded_y_train = encoder.transform(y_train)\n",
        "encoded_y_test = encoder.transform(y_test)\n",
        "\n",
        "dummy_y_train = to_categorical(encoded_y_train)\n",
        "dummy_y_test = to_categorical(encoded_y_test)\n",
        "\n",
        "X_train1 = X_train\n",
        "dummy_y_train1 = dummy_y_train\n",
        "X_test1 = X_test\n",
        "dummy_y_test1 = dummy_y_test\n",
        "encoded_y_test1 = encoded_y_test\n",
        "\n",
        "model = KerasClassifier(build_fn=create_cnn_model, epochs=25, verbose=0, nclass=5)"
      ],
      "id": "Zu2ozOc3b3g0"
    },
    {
      "cell_type": "markdown",
      "source": [
        "Hp tuning through cv"
      ],
      "metadata": {
        "id": "O4Oq7fPfFaEq"
      },
      "id": "O4Oq7fPfFaEq"
    },
    {
      "cell_type": "code",
      "execution_count": null,
      "metadata": {
        "id": "VUk1SKw4cfTW"
      },
      "outputs": [],
      "source": [
        "#1 conv layer\n",
        "\n",
        "param_grid = dict(batch_size=cand_bs, embedding_dim=cand_ed, n_filters=cand_nf, k_size=cand_ks, nlayers=cand_nl[:1])\n",
        "grid = GridSearchCV(estimator=model, param_grid=param_grid, verbose=3, n_jobs=1, cv=5)\n",
        "\n",
        "grid_result = grid.fit(X_train, dummy_y_train)\n",
        "\n",
        "# summarize results\n",
        "print(\"Best: %f using %s\" % (grid_result.best_score_, grid_result.best_params_))\n",
        "means = grid_result.cv_results_['mean_test_score']\n",
        "stds = grid_result.cv_results_['std_test_score']\n",
        "params = grid_result.cv_results_['params']\n",
        "\n",
        "cv_results0 = pd.DataFrame.from_dict(grid_result.cv_results_).sort_values(by=['rank_test_score']).set_index('rank_test_score')"
      ],
      "id": "VUk1SKw4cfTW"
    },
    {
      "cell_type": "code",
      "source": [
        "#3 conv layers\n",
        "\n",
        "param_grid = dict(batch_size=cand_bs, embedding_dim=cand_ed, n_filters=cand_nf, k_size=cand_ks, nlayers=cand_nl[1:2])\n",
        "grid = GridSearchCV(estimator=model, param_grid=param_grid, verbose=3, n_jobs=1, cv=5)\n",
        "\n",
        "grid_result = grid.fit(X_train, dummy_y_train)\n",
        "\n",
        "# summarize results\n",
        "print(\"Best: %f using %s\" % (grid_result.best_score_, grid_result.best_params_))\n",
        "means = grid_result.cv_results_['mean_test_score']\n",
        "stds = grid_result.cv_results_['std_test_score']\n",
        "params = grid_result.cv_results_['params']\n",
        "\n",
        "cv_results1 = pd.DataFrame.from_dict(grid_result.cv_results_).sort_values(by=['rank_test_score']).set_index('rank_test_score')"
      ],
      "metadata": {
        "id": "hEQWy2hRciUU"
      },
      "id": "hEQWy2hRciUU",
      "execution_count": null,
      "outputs": []
    },
    {
      "cell_type": "code",
      "source": [
        "#5 conv layers\n",
        "\n",
        "param_grid = dict(batch_size=cand_bs, embedding_dim=cand_ed, n_filters=cand_nf, k_size=cand_ks, nlayers=cand_nl[2:3])\n",
        "grid = GridSearchCV(estimator=model, param_grid=param_grid, verbose=3, n_jobs=1, cv=5)\n",
        "\n",
        "grid_result = grid.fit(X_train, dummy_y_train)\n",
        "\n",
        "# summarize results\n",
        "print(\"Best: %f using %s\" % (grid_result.best_score_, grid_result.best_params_))\n",
        "means = grid_result.cv_results_['mean_test_score']\n",
        "stds = grid_result.cv_results_['std_test_score']\n",
        "params = grid_result.cv_results_['params']\n",
        "\n",
        "cv_results2 = pd.DataFrame.from_dict(grid_result.cv_results_).sort_values(by=['rank_test_score']).set_index('rank_test_score')"
      ],
      "metadata": {
        "id": "r3Oq1dcRclPX"
      },
      "id": "r3Oq1dcRclPX",
      "execution_count": null,
      "outputs": []
    },
    {
      "cell_type": "markdown",
      "source": [
        "Summary of results of cv"
      ],
      "metadata": {
        "id": "miadtpwGFc1k"
      },
      "id": "miadtpwGFc1k"
    },
    {
      "cell_type": "code",
      "source": [
        "cv_results = pd.concat([cv_results0, cv_results1, cv_results2]).sort_values(by=['mean_test_score'], ascending=False).reset_index(drop=True)\n",
        "\n",
        "emb_cv_results1 = cv_results.drop(['std_fit_time', 'std_score_time', 'params', 'split0_test_score', 'split1_test_score', \n",
        "                              'split2_test_score', 'split3_test_score', 'split4_test_score'], 1)\n",
        "clist = list(emb_cv_results1.columns.values)\n",
        "cv_results_set1_emb = emb_cv_results1[clist[-2:] + clist[:-2]]\n",
        "cv_results_set1_emb"
      ],
      "metadata": {
        "id": "hDpSocIRcvra"
      },
      "execution_count": null,
      "outputs": [],
      "id": "hDpSocIRcvra"
    },
    {
      "cell_type": "code",
      "execution_count": null,
      "metadata": {
        "id": "O4o5-c5qcvrh"
      },
      "outputs": [],
      "source": [
        "cv_results_set1_emb.to_csv('cv_results_set1_emb.csv', encoding = 'utf-8-sig') \n",
        "files.download('cv_results_set1_emb.csv')"
      ],
      "id": "O4o5-c5qcvrh"
    },
    {
      "cell_type": "markdown",
      "source": [
        "\n",
        "Train the neural network with tuned hyperparameters on the whole training set"
      ],
      "metadata": {
        "id": "l-akRry-Fg52"
      },
      "id": "l-akRry-Fg52"
    },
    {
      "cell_type": "code",
      "execution_count": 32,
      "metadata": {
        "outputId": "baa07f57-d1ed-4c2f-9920-52608d5066e0",
        "colab": {
          "base_uri": "https://localhost:8080/"
        },
        "id": "KU3n_O8Bcvri"
      },
      "outputs": [
        {
          "output_type": "stream",
          "name": "stdout",
          "text": [
            "Model: \"Convolutional_Neural_Network\"\n",
            "_________________________________________________________________\n",
            " Layer (type)                Output Shape              Param #   \n",
            "=================================================================\n",
            " embedding (Embedding)       (None, 484, 50)           3072050   \n",
            "                                                                 \n",
            " primo (Conv1D)              (None, 482, 32)           4832      \n",
            "                                                                 \n",
            " global_max_pooling1d (Globa  (None, 32)               0         \n",
            " lMaxPooling1D)                                                  \n",
            "                                                                 \n",
            " dense (Dense)               (None, 10)                330       \n",
            "                                                                 \n",
            " dense_1 (Dense)             (None, 5)                 55        \n",
            "                                                                 \n",
            "=================================================================\n",
            "Total params: 3,077,267\n",
            "Trainable params: 3,077,267\n",
            "Non-trainable params: 0\n",
            "_________________________________________________________________\n"
          ]
        }
      ],
      "source": [
        "clear_session()\n",
        "model = create_cnn_model(embedding_dim=50, n_filters=32, k_size=3, nlayers=1, nclass=5)\n",
        "model.summary()"
      ],
      "id": "KU3n_O8Bcvri"
    },
    {
      "cell_type": "code",
      "execution_count": 33,
      "metadata": {
        "outputId": "ec130922-541c-40ea-ce0b-37b23493f48c",
        "colab": {
          "base_uri": "https://localhost:8080/"
        },
        "id": "1bweLSSVcvrj"
      },
      "outputs": [
        {
          "output_type": "stream",
          "name": "stdout",
          "text": [
            "Epoch 1/30\n",
            "30/30 [==============================] - 50s 2s/step - loss: 1.5346 - accuracy: 0.3495 - val_loss: 1.4282 - val_accuracy: 0.4696\n",
            "Epoch 2/30\n",
            "30/30 [==============================] - 41s 1s/step - loss: 1.2760 - accuracy: 0.4968 - val_loss: 1.1089 - val_accuracy: 0.5294\n",
            "Epoch 3/30\n",
            "30/30 [==============================] - 40s 1s/step - loss: 0.9675 - accuracy: 0.5731 - val_loss: 0.8566 - val_accuracy: 0.6128\n",
            "Epoch 4/30\n",
            "30/30 [==============================] - 40s 1s/step - loss: 0.7377 - accuracy: 0.6533 - val_loss: 0.6436 - val_accuracy: 0.7251\n",
            "Epoch 5/30\n",
            "30/30 [==============================] - 41s 1s/step - loss: 0.4929 - accuracy: 0.8659 - val_loss: 0.4010 - val_accuracy: 0.9145\n",
            "Epoch 6/30\n",
            "30/30 [==============================] - 40s 1s/step - loss: 0.2784 - accuracy: 0.9440 - val_loss: 0.2530 - val_accuracy: 0.9358\n",
            "Epoch 7/30\n",
            "30/30 [==============================] - 41s 1s/step - loss: 0.1682 - accuracy: 0.9583 - val_loss: 0.1978 - val_accuracy: 0.9409\n",
            "Epoch 8/30\n",
            "30/30 [==============================] - 40s 1s/step - loss: 0.1204 - accuracy: 0.9679 - val_loss: 0.1759 - val_accuracy: 0.9445\n",
            "Epoch 9/30\n",
            "30/30 [==============================] - 40s 1s/step - loss: 0.0941 - accuracy: 0.9750 - val_loss: 0.1652 - val_accuracy: 0.9465\n",
            "Epoch 10/30\n",
            "30/30 [==============================] - 40s 1s/step - loss: 0.0763 - accuracy: 0.9802 - val_loss: 0.1596 - val_accuracy: 0.9477\n",
            "Epoch 11/30\n",
            "30/30 [==============================] - 40s 1s/step - loss: 0.0629 - accuracy: 0.9847 - val_loss: 0.1569 - val_accuracy: 0.9476\n",
            "Epoch 12/30\n",
            "30/30 [==============================] - 40s 1s/step - loss: 0.0523 - accuracy: 0.9882 - val_loss: 0.1554 - val_accuracy: 0.9476\n",
            "Epoch 13/30\n",
            "30/30 [==============================] - 40s 1s/step - loss: 0.0437 - accuracy: 0.9908 - val_loss: 0.1546 - val_accuracy: 0.9482\n",
            "Epoch 14/30\n",
            "30/30 [==============================] - 40s 1s/step - loss: 0.0368 - accuracy: 0.9927 - val_loss: 0.1548 - val_accuracy: 0.9484\n",
            "Epoch 15/30\n",
            "30/30 [==============================] - 40s 1s/step - loss: 0.0308 - accuracy: 0.9943 - val_loss: 0.1558 - val_accuracy: 0.9482\n",
            "Epoch 16/30\n",
            "30/30 [==============================] - 40s 1s/step - loss: 0.0261 - accuracy: 0.9957 - val_loss: 0.1579 - val_accuracy: 0.9480\n",
            "Epoch 17/30\n",
            "30/30 [==============================] - 40s 1s/step - loss: 0.0222 - accuracy: 0.9966 - val_loss: 0.1590 - val_accuracy: 0.9480\n",
            "Epoch 18/30\n",
            "30/30 [==============================] - 40s 1s/step - loss: 0.0188 - accuracy: 0.9974 - val_loss: 0.1604 - val_accuracy: 0.9482\n",
            "Epoch 19/30\n",
            "30/30 [==============================] - 40s 1s/step - loss: 0.0162 - accuracy: 0.9979 - val_loss: 0.1625 - val_accuracy: 0.9482\n",
            "Epoch 20/30\n",
            "30/30 [==============================] - 40s 1s/step - loss: 0.0139 - accuracy: 0.9985 - val_loss: 0.1647 - val_accuracy: 0.9480\n",
            "Epoch 21/30\n",
            "30/30 [==============================] - 40s 1s/step - loss: 0.0119 - accuracy: 0.9987 - val_loss: 0.1665 - val_accuracy: 0.9480\n",
            "Epoch 22/30\n",
            "30/30 [==============================] - 40s 1s/step - loss: 0.0103 - accuracy: 0.9990 - val_loss: 0.1689 - val_accuracy: 0.9479\n",
            "Epoch 23/30\n",
            "30/30 [==============================] - 40s 1s/step - loss: 0.0089 - accuracy: 0.9993 - val_loss: 0.1703 - val_accuracy: 0.9482\n",
            "Epoch 24/30\n",
            "30/30 [==============================] - 40s 1s/step - loss: 0.0078 - accuracy: 0.9995 - val_loss: 0.1720 - val_accuracy: 0.9486\n",
            "Epoch 25/30\n",
            "30/30 [==============================] - 40s 1s/step - loss: 0.0068 - accuracy: 0.9996 - val_loss: 0.1745 - val_accuracy: 0.9485\n",
            "Epoch 26/30\n",
            "30/30 [==============================] - 40s 1s/step - loss: 0.0060 - accuracy: 0.9997 - val_loss: 0.1763 - val_accuracy: 0.9486\n",
            "Epoch 27/30\n",
            "30/30 [==============================] - 40s 1s/step - loss: 0.0053 - accuracy: 0.9997 - val_loss: 0.1781 - val_accuracy: 0.9484\n",
            "Epoch 28/30\n",
            "30/30 [==============================] - 41s 1s/step - loss: 0.0047 - accuracy: 0.9997 - val_loss: 0.1800 - val_accuracy: 0.9488\n",
            "Epoch 29/30\n",
            "30/30 [==============================] - 40s 1s/step - loss: 0.0042 - accuracy: 0.9999 - val_loss: 0.1821 - val_accuracy: 0.9482\n",
            "Epoch 30/30\n",
            "30/30 [==============================] - 40s 1s/step - loss: 0.0038 - accuracy: 0.9998 - val_loss: 0.1838 - val_accuracy: 0.9488\n"
          ]
        }
      ],
      "source": [
        "h1 = model.fit(X_train, dummy_y_train, epochs=30, verbose=True, validation_data=(X_test, dummy_y_test), batch_size=2048)"
      ],
      "id": "1bweLSSVcvrj"
    },
    {
      "cell_type": "code",
      "source": [
        "plt.style.use('ggplot')\n",
        "\n",
        "plot_history(h1, name = 'hcnn1')"
      ],
      "metadata": {
        "id": "pXJOYr6umHds",
        "outputId": "ff4bdfc3-0b8e-4edf-aef0-9b8db4727a23",
        "colab": {
          "base_uri": "https://localhost:8080/",
          "height": 337
        }
      },
      "id": "pXJOYr6umHds",
      "execution_count": 34,
      "outputs": [
        {
          "output_type": "display_data",
          "data": {
            "text/plain": [
              "<Figure size 864x360 with 2 Axes>"
            ],
            "image/png": "[encoded data removed]"
          },
          "metadata": {}
        }
      ]
    },
    {
      "cell_type": "code",
      "execution_count": 35,
      "metadata": {
        "outputId": "2426336a-6051-42a2-f67c-ab2b2b07ce6b",
        "colab": {
          "base_uri": "https://localhost:8080/"
        },
        "id": "e1MOePw2cvri"
      },
      "outputs": [
        {
          "output_type": "stream",
          "name": "stdout",
          "text": [
            "Training Accuracy: 1.000\n",
            "Testing Accuracy:  0.949\n"
          ]
        }
      ],
      "source": [
        "loss, accuracy = model.evaluate(X_train, dummy_y_train, verbose=False)\n",
        "print(\"Training Accuracy: {:.3f}\".format(accuracy))\n",
        "loss, accuracy = model.evaluate(X_test, dummy_y_test, verbose=False)\n",
        "print(\"Testing Accuracy:  {:.3f}\".format(accuracy))"
      ],
      "id": "e1MOePw2cvri"
    },
    {
      "cell_type": "markdown",
      "source": [
        "Assess the classifier"
      ],
      "metadata": {
        "id": "XlXP_Xe9FyLz"
      },
      "id": "XlXP_Xe9FyLz"
    },
    {
      "cell_type": "code",
      "source": [
        "test_predicted_prob1 = model.predict(X_test1)\n",
        "test_predicted_classes1 = test_predicted_prob1.argmax(1)"
      ],
      "metadata": {
        "id": "qw2hGAkvGCYU"
      },
      "id": "qw2hGAkvGCYU",
      "execution_count": 36,
      "outputs": []
    },
    {
      "cell_type": "code",
      "source": [
        "#Confusion matrix\n",
        "conf = confusion_matrix(encoded_y_test1, test_predicted_classes1)\n",
        "le_name_mapping = dict(zip(encoder.transform(encoder.classes_), encoder.classes_))\n",
        "class_codes = [le_name_mapping[i] for i in range(5)]\n",
        "plot_confusion_matrix(conf, class_codes, name = 'cnn1', xsize=6, ysize=4)"
      ],
      "metadata": {
        "id": "35tyQY1kGCbA",
        "outputId": "e47fd12e-1375-488e-e4b0-0c1a57d0b130",
        "colab": {
          "base_uri": "https://localhost:8080/",
          "height": 329
        }
      },
      "id": "35tyQY1kGCbA",
      "execution_count": 37,
      "outputs": [
        {
          "output_type": "display_data",
          "data": {
            "text/plain": [
              "<Figure size 432x288 with 1 Axes>"
            ],
            "image/png": "[encoded data removed]"
          },
          "metadata": {}
        }
      ]
    }
  ],
  "metadata": {
    "kernelspec": {
      "display_name": "Python 3",
      "language": "python",
      "name": "python3"
    },
    "language_info": {
      "codemirror_mode": {
        "name": "ipython",
        "version": 3
      },
      "file_extension": ".py",
      "mimetype": "text/x-python",
      "name": "python",
      "nbconvert_exporter": "python",
      "pygments_lexer": "ipython3",
      "version": "3.8.5"
    },
    "colab": {
      "name": "04_Words embedding.ipynb",
      "provenance": []
    },
    "accelerator": "GPU"
  },
  "nbformat": 4,
  "nbformat_minor": 5
}
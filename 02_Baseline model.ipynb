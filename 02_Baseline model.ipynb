{
 "cells": [
  {
   "cell_type": "code",
   "execution_count": 41,
   "id": "positive-position",
   "metadata": {},
   "outputs": [],
   "source": [
    "from numpy import mean\n",
    "from numpy import std\n",
    "import pandas as pd\n",
    "from sklearn.model_selection import cross_val_score\n",
    "from sklearn.model_selection import KFold, GridSearchCV\n",
    "from sklearn.datasets import make_classification\n",
    "from sklearn.model_selection import cross_val_score\n",
    "from sklearn.model_selection import RepeatedStratifiedKFold\n",
    "from sklearn.model_selection import train_test_split\n",
    "from sklearn.linear_model import LogisticRegression\n",
    "from sklearn.metrics import accuracy_score\n",
    "from sklearn.metrics import confusion_matrix\n",
    "from matplotlib import pyplot\n",
    "from sklearn.feature_extraction.text import TfidfVectorizer\n",
    "from sklearn.feature_extraction.text import CountVectorizer"
   ]
  },
  {
   "cell_type": "code",
   "execution_count": 79,
   "id": "lesser-tunisia",
   "metadata": {},
   "outputs": [],
   "source": [
    "%store -r data_ready"
   ]
  },
  {
   "cell_type": "code",
   "execution_count": 80,
   "id": "disabled-raise",
   "metadata": {},
   "outputs": [],
   "source": [
    "#print(data_ready['category'].value_counts())\n",
    "cat_index = data_ready['category'].value_counts().index"
   ]
  },
  {
   "cell_type": "code",
   "execution_count": 55,
   "id": "collectible-louisiana",
   "metadata": {},
   "outputs": [],
   "source": [
    "def create_model(penalty='l2', C=1, max_iter=100, reg=True):\n",
    "    if reg==True:\n",
    "        model = LogisticRegression(multi_class='multinomial', solver='lbfgs', penalty=penalty, C=C, max_iter=max_iter)\n",
    "    else:\n",
    "        model = LogisticRegression(multi_class='multinomial', solver='lbfgs', penalty=penalty, max_iter=max_iter)\n",
    "    return model"
   ]
  },
  {
   "cell_type": "markdown",
   "id": "magnetic-booking",
   "metadata": {},
   "source": [
    "Set 0"
   ]
  },
  {
   "cell_type": "code",
   "execution_count": 3,
   "id": "assisted-edwards",
   "metadata": {},
   "outputs": [],
   "source": [
    "select_data = data_ready[data_ready['category'].isin(['hep-ph','hep-th','quant-ph'])].reset_index(drop=True)\n",
    "#select_data = data_ready[data_ready['category'].isin(['stat', 'math-ph', 'nucl-th', 'q-bio', 'hep-ex'])].reset_index(drop=True)\n",
    "#select_data\n",
    "\n",
    "#SPLITTING THE TRAINING DATASET INTO TRAIN AND TEST\n",
    "X_train, X_test, y_train, y_test = train_test_split(select_data[\"clean_text\"], select_data[\"category\"],\n",
    "                                                    stratify = select_data[\"category\"], test_size=0.2, shuffle=True)\n",
    "\n",
    "#Tf-Idf\n",
    "tfidf_vectorizer = TfidfVectorizer(use_idf=True)\n",
    "X_train = tfidf_vectorizer.fit_transform(X_train) \n",
    "X_test = tfidf_vectorizer.transform(X_test)"
   ]
  },
  {
   "cell_type": "markdown",
   "id": "circular-andrews",
   "metadata": {},
   "source": [
    "Tune regularization for multinomial logistic regression"
   ]
  },
  {
   "cell_type": "code",
   "execution_count": 59,
   "id": "consistent-secretariat",
   "metadata": {},
   "outputs": [],
   "source": [
    "# define the grid search parameters\n",
    "cand_pt = ['none', 'l2']\n",
    "cand_rs = [0.0001, 0.001, 0.01, 0.1, 1.0][4:]\n",
    "cand_mi = [10, 100, 1000, 10000][1:2]\n",
    "\n",
    "param_grid0 = dict(penalty=cand_pt[1:2], C=cand_rs, max_iter=cand_mi)\n",
    "param_grid1 = dict(penalty=cand_pt[0:1], max_iter=cand_mi)\n",
    "\n",
    "grid0 = GridSearchCV(estimator=model, param_grid=param_grid0, n_jobs=-1, cv=5)\n",
    "grid1 = GridSearchCV(estimator=model, param_grid=param_grid1, n_jobs=-1, cv=5)"
   ]
  },
  {
   "cell_type": "code",
   "execution_count": 60,
   "id": "miniature-genetics",
   "metadata": {
    "collapsed": true
   },
   "outputs": [
    {
     "name": "stderr",
     "output_type": "stream",
     "text": [
      "C:\\Users\\Matteo\\anaconda3\\lib\\site-packages\\sklearn\\linear_model\\_logistic.py:763: ConvergenceWarning: lbfgs failed to converge (status=1):\n",
      "STOP: TOTAL NO. of ITERATIONS REACHED LIMIT.\n",
      "\n",
      "Increase the number of iterations (max_iter) or scale the data as shown in:\n",
      "    https://scikit-learn.org/stable/modules/preprocessing.html\n",
      "Please also refer to the documentation for alternative solver options:\n",
      "    https://scikit-learn.org/stable/modules/linear_model.html#logistic-regression\n",
      "  n_iter_i = _check_optimize_result(\n"
     ]
    },
    {
     "name": "stdout",
     "output_type": "stream",
     "text": [
      "Best with regularization: 0.950920 using {'C': 1.0, 'max_iter': 100, 'penalty': 'l2'}\n",
      "Best without regularization: 0.940122 using {'max_iter': 100, 'penalty': 'none'}\n"
     ]
    },
    {
     "name": "stderr",
     "output_type": "stream",
     "text": [
      "C:\\Users\\Matteo\\anaconda3\\lib\\site-packages\\sklearn\\linear_model\\_logistic.py:763: ConvergenceWarning: lbfgs failed to converge (status=1):\n",
      "STOP: TOTAL NO. of ITERATIONS REACHED LIMIT.\n",
      "\n",
      "Increase the number of iterations (max_iter) or scale the data as shown in:\n",
      "    https://scikit-learn.org/stable/modules/preprocessing.html\n",
      "Please also refer to the documentation for alternative solver options:\n",
      "    https://scikit-learn.org/stable/modules/linear_model.html#logistic-regression\n",
      "  n_iter_i = _check_optimize_result(\n"
     ]
    }
   ],
   "source": [
    "grid_result0 = grid0.fit(X_train, y_train)\n",
    "cv_results0 = pd.DataFrame.from_dict(grid_result0.cv_results_)\n",
    "grid_result1 = grid1.fit(X_train, y_train)\n",
    "cv_results1 = pd.DataFrame.from_dict(grid_result1.cv_results_)\n",
    "\n",
    "# summarize results\n",
    "print(\"Best with regularization: %f using %s\" % (grid_result0.best_score_, grid_result0.best_params_))\n",
    "print(\"Best without regularization: %f using %s\" % (grid_result1.best_score_, grid_result1.best_params_))\n",
    "\n",
    "cv_results = pd.concat([cv_results0, cv_results1]).reset_index(drop=True)\n",
    "cv_results = cv_results.sort_values(by=['mean_test_score'], ascending=False)\n",
    "cv_results_set0 = cv_results.drop(['std_fit_time', 'std_score_time', 'params', 'split0_test_score', 'split1_test_score', \n",
    "                              'split2_test_score', 'split3_test_score', 'split4_test_score', 'rank_test_score'], 1)\n",
    "%store cv_results_set0\n",
    "cv_results_set0"
   ]
  },
  {
   "cell_type": "code",
   "execution_count": 37,
   "id": "facial-patrick",
   "metadata": {},
   "outputs": [
    {
     "name": "stdout",
     "output_type": "stream",
     "text": [
      "Accuracy: 0.951\n",
      "\n",
      "\n",
      "Confusion matrix:\n",
      " [[9563  460   98]\n",
      " [ 349 7256  197]\n",
      " [  40  165 8731]]\n"
     ]
    }
   ],
   "source": [
    "#MULTINOMIAL LOGISTIC REGRESSION with tuned hyperparameters\n",
    "\n",
    "model = LogisticRegression(multi_class='multinomial', solver='lbfgs', penalty='l2', C=1, max_iter = 1000)\n",
    "\n",
    "# make a prediction with a multinomial logistic regression model\n",
    "# fit the model on the whole dataset\n",
    "model.fit(X_train, y_train)\n",
    "# define a single row of input data\n",
    "yhat = model.predict(X_test)\n",
    "\n",
    "#Accuracy score\n",
    "acc = accuracy_score(y_test, yhat)\n",
    "print('Accuracy: %.3f' % round(acc, 3))\n",
    "print('\\n')\n",
    "#Confusion matrix\n",
    "conf = confusion_matrix(y_test, yhat)\n",
    "print('Confusion matrix:\\n', conf)"
   ]
  },
  {
   "cell_type": "code",
   "execution_count": null,
   "id": "important-palestinian",
   "metadata": {},
   "outputs": [],
   "source": []
  },
  {
   "cell_type": "code",
   "execution_count": null,
   "id": "heated-attachment",
   "metadata": {},
   "outputs": [],
   "source": []
  },
  {
   "cell_type": "markdown",
   "id": "mathematical-blast",
   "metadata": {},
   "source": [
    "Set 1"
   ]
  },
  {
   "cell_type": "code",
   "execution_count": 87,
   "id": "excess-reviewer",
   "metadata": {},
   "outputs": [
    {
     "name": "stdout",
     "output_type": "stream",
     "text": [
      "stat       19868\n",
      "math-ph    17597\n",
      "nucl-th    13730\n",
      "q-bio      13316\n",
      "hep-ex     10158\n",
      "Name: category, dtype: int64\n"
     ]
    }
   ],
   "source": [
    "select_data = data_ready[data_ready['category'].isin(cat_index[4:9])].reset_index(drop=True)\n",
    "print(select_data['category'].value_counts())\n",
    "\n",
    "#SPLITTING THE TRAINING DATASET INTO TRAIN AND TEST\n",
    "X_train, X_test, y_train, y_test = train_test_split(select_data[\"clean_text\"], select_data[\"category\"],\n",
    "                                                    stratify = select_data[\"category\"], test_size=0.2, shuffle=True)\n",
    "\n",
    "#Tf-Idf\n",
    "tfidf_vectorizer = TfidfVectorizer(use_idf=True)\n",
    "X_train = tfidf_vectorizer.fit_transform(X_train) \n",
    "X_test = tfidf_vectorizer.transform(X_test)"
   ]
  },
  {
   "cell_type": "code",
   "execution_count": 88,
   "id": "lyric-child",
   "metadata": {},
   "outputs": [],
   "source": [
    "# define the grid search parameters\n",
    "cand_pt = ['none', 'l2']\n",
    "cand_rs = [0.0001, 0.001, 0.01, 0.1, 1.0][4:]\n",
    "cand_mi = [10, 100, 1000, 10000][1:2]\n",
    "\n",
    "param_grid0 = dict(penalty=cand_pt[1:2], C=cand_rs, max_iter=cand_mi)\n",
    "param_grid1 = dict(penalty=cand_pt[0:1], max_iter=cand_mi)\n",
    "\n",
    "grid0 = GridSearchCV(estimator=model, param_grid=param_grid0, n_jobs=-1, cv=5)\n",
    "grid1 = GridSearchCV(estimator=model, param_grid=param_grid1, n_jobs=-1, cv=5)"
   ]
  },
  {
   "cell_type": "code",
   "execution_count": 89,
   "id": "fuzzy-treasury",
   "metadata": {},
   "outputs": [
    {
     "name": "stderr",
     "output_type": "stream",
     "text": [
      "C:\\Users\\Matteo\\anaconda3\\lib\\site-packages\\sklearn\\linear_model\\_logistic.py:763: ConvergenceWarning: lbfgs failed to converge (status=1):\n",
      "STOP: TOTAL NO. of ITERATIONS REACHED LIMIT.\n",
      "\n",
      "Increase the number of iterations (max_iter) or scale the data as shown in:\n",
      "    https://scikit-learn.org/stable/modules/preprocessing.html\n",
      "Please also refer to the documentation for alternative solver options:\n",
      "    https://scikit-learn.org/stable/modules/linear_model.html#logistic-regression\n",
      "  n_iter_i = _check_optimize_result(\n"
     ]
    },
    {
     "name": "stdout",
     "output_type": "stream",
     "text": [
      "Best with regularization: 0.951519 using {'C': 1.0, 'max_iter': 100, 'penalty': 'l2'}\n",
      "Best without regularization: 0.943768 using {'max_iter': 100, 'penalty': 'none'}\n",
      "Stored 'cv_results_set1' (DataFrame)\n"
     ]
    },
    {
     "name": "stderr",
     "output_type": "stream",
     "text": [
      "C:\\Users\\Matteo\\anaconda3\\lib\\site-packages\\sklearn\\linear_model\\_logistic.py:763: ConvergenceWarning: lbfgs failed to converge (status=1):\n",
      "STOP: TOTAL NO. of ITERATIONS REACHED LIMIT.\n",
      "\n",
      "Increase the number of iterations (max_iter) or scale the data as shown in:\n",
      "    https://scikit-learn.org/stable/modules/preprocessing.html\n",
      "Please also refer to the documentation for alternative solver options:\n",
      "    https://scikit-learn.org/stable/modules/linear_model.html#logistic-regression\n",
      "  n_iter_i = _check_optimize_result(\n"
     ]
    },
    {
     "data": {
      "text/html": [
       "<div>\n",
       "<style scoped>\n",
       "    .dataframe tbody tr th:only-of-type {\n",
       "        vertical-align: middle;\n",
       "    }\n",
       "\n",
       "    .dataframe tbody tr th {\n",
       "        vertical-align: top;\n",
       "    }\n",
       "\n",
       "    .dataframe thead th {\n",
       "        text-align: right;\n",
       "    }\n",
       "</style>\n",
       "<table border=\"1\" class=\"dataframe\">\n",
       "  <thead>\n",
       "    <tr style=\"text-align: right;\">\n",
       "      <th></th>\n",
       "      <th>mean_fit_time</th>\n",
       "      <th>mean_score_time</th>\n",
       "      <th>param_C</th>\n",
       "      <th>param_max_iter</th>\n",
       "      <th>param_penalty</th>\n",
       "      <th>mean_test_score</th>\n",
       "      <th>std_test_score</th>\n",
       "    </tr>\n",
       "  </thead>\n",
       "  <tbody>\n",
       "    <tr>\n",
       "      <th>0</th>\n",
       "      <td>29.839002</td>\n",
       "      <td>0.031245</td>\n",
       "      <td>1.0</td>\n",
       "      <td>100</td>\n",
       "      <td>l2</td>\n",
       "      <td>0.951519</td>\n",
       "      <td>0.002004</td>\n",
       "    </tr>\n",
       "    <tr>\n",
       "      <th>1</th>\n",
       "      <td>28.308878</td>\n",
       "      <td>0.031253</td>\n",
       "      <td>NaN</td>\n",
       "      <td>100</td>\n",
       "      <td>none</td>\n",
       "      <td>0.943768</td>\n",
       "      <td>0.001902</td>\n",
       "    </tr>\n",
       "  </tbody>\n",
       "</table>\n",
       "</div>"
      ],
      "text/plain": [
       "   mean_fit_time  mean_score_time param_C param_max_iter param_penalty  \\\n",
       "0      29.839002         0.031245     1.0            100            l2   \n",
       "1      28.308878         0.031253     NaN            100          none   \n",
       "\n",
       "   mean_test_score  std_test_score  \n",
       "0         0.951519        0.002004  \n",
       "1         0.943768        0.001902  "
      ]
     },
     "execution_count": 89,
     "metadata": {},
     "output_type": "execute_result"
    }
   ],
   "source": [
    "grid_result0 = grid0.fit(X_train, y_train)\n",
    "cv_results0 = pd.DataFrame.from_dict(grid_result0.cv_results_)\n",
    "grid_result1 = grid1.fit(X_train, y_train)\n",
    "cv_results1 = pd.DataFrame.from_dict(grid_result1.cv_results_)\n",
    "\n",
    "# summarize results\n",
    "print(\"Best with regularization: %f using %s\" % (grid_result0.best_score_, grid_result0.best_params_))\n",
    "print(\"Best without regularization: %f using %s\" % (grid_result1.best_score_, grid_result1.best_params_))\n",
    "\n",
    "cv_results = pd.concat([cv_results0, cv_results1]).reset_index(drop=True)\n",
    "cv_results = cv_results.sort_values(by=['mean_test_score'], ascending=False)\n",
    "cv_results_set1 = cv_results.drop(['std_fit_time', 'std_score_time', 'params', 'split0_test_score', 'split1_test_score', \n",
    "                              'split2_test_score', 'split3_test_score', 'split4_test_score', 'rank_test_score'], 1)\n",
    "%store cv_results_set1\n",
    "cv_results_set1"
   ]
  },
  {
   "cell_type": "code",
   "execution_count": 90,
   "id": "encouraging-calculation",
   "metadata": {},
   "outputs": [
    {
     "name": "stdout",
     "output_type": "stream",
     "text": [
      "Accuracy: 0.952\n",
      "\n",
      "\n",
      "Confusion matrix:\n",
      " [[1972    3   47    3    7]\n",
      " [   2 3442   16   29   30]\n",
      " [  35   68 2632    6    5]\n",
      " [   0   53    4 2397  209]\n",
      " [   2   45    0  151 3776]]\n"
     ]
    }
   ],
   "source": [
    "#MULTINOMIAL LOGISTIC REGRESSION with tuned hyperparameters\n",
    "\n",
    "model = LogisticRegression(multi_class='multinomial', solver='lbfgs', penalty='l2', C=1, max_iter = 1000)\n",
    "\n",
    "# make a prediction with a multinomial logistic regression model\n",
    "# fit the model on the whole dataset\n",
    "model.fit(X_train, y_train)\n",
    "# define a single row of input data\n",
    "yhat = model.predict(X_test)\n",
    "\n",
    "#Accuracy score\n",
    "acc = accuracy_score(y_test, yhat)\n",
    "print('Accuracy: %.3f' % round(acc, 3))\n",
    "print('\\n')\n",
    "#Confusion matrix\n",
    "conf = confusion_matrix(y_test, yhat)\n",
    "print('Confusion matrix:\\n', conf)"
   ]
  },
  {
   "cell_type": "code",
   "execution_count": null,
   "id": "coupled-stereo",
   "metadata": {},
   "outputs": [],
   "source": []
  },
  {
   "cell_type": "markdown",
   "id": "efficient-greensboro",
   "metadata": {},
   "source": [
    "Extra"
   ]
  },
  {
   "cell_type": "code",
   "execution_count": 40,
   "id": "economic-performer",
   "metadata": {},
   "outputs": [
    {
     "name": "stdout",
     "output_type": "stream",
     "text": [
      "Predicted Class: hep-ph\n",
      "Predicted Probabilities: [0.9962049  0.00222638 0.00156872]\n",
      "Real Class: hep-ph\n"
     ]
    },
    {
     "name": "stderr",
     "output_type": "stream",
     "text": [
      "C:\\Users\\Matteo\\anaconda3\\lib\\site-packages\\sklearn\\linear_model\\_logistic.py:763: ConvergenceWarning: lbfgs failed to converge (status=1):\n",
      "STOP: TOTAL NO. of ITERATIONS REACHED LIMIT.\n",
      "\n",
      "Increase the number of iterations (max_iter) or scale the data as shown in:\n",
      "    https://scikit-learn.org/stable/modules/preprocessing.html\n",
      "Please also refer to the documentation for alternative solver options:\n",
      "    https://scikit-learn.org/stable/modules/linear_model.html#logistic-regression\n",
      "  n_iter_i = _check_optimize_result(\n"
     ]
    }
   ],
   "source": [
    "#MULTINOMIAL LOGISTIC REGRESSION with tuned hyperparameters\n",
    "\n",
    "model = LogisticRegression(multi_class='multinomial', solver='lbfgs', penalty='l2', C=1)\n",
    "\n",
    "# make a prediction with a multinomial logistic regression model\n",
    "# fit the model on the whole dataset\n",
    "model.fit(X_train_tfidf, y_train)\n",
    "# define a single row of input data\n",
    "yhat = model.predict(X_test_tfidf)\n",
    "\n",
    "acc = accuracy_score(y_test, yhat)\n",
    "conf = confusion_matrix(y_test, yhat)\n",
    "\n",
    "#Accuracy score\n",
    "print('Accuracy: %.3f' % round(acc, 3))\n",
    "\n",
    "print('\\n')\n",
    "\n",
    "#Confusion matrix\n",
    "print('Confusion matrix:\\n', conf)"
   ]
  },
  {
   "cell_type": "code",
   "execution_count": 48,
   "id": "according-clone",
   "metadata": {},
   "outputs": [
    {
     "name": "stdout",
     "output_type": "stream",
     "text": [
      "Predicted Class: hep-ph\n",
      "Predicted Probabilities: [0.9962049  0.00222638 0.00156872]\n",
      "Real Class: hep-ph\n"
     ]
    }
   ],
   "source": [
    "#For observation 0\n",
    "# summarize the predicted class\n",
    "print('Predicted Class: %s' % yhat[0])\n",
    "\n",
    "# predict a multinomial probability distribution\n",
    "yhat_p = model.predict_proba(X_test_tfidf)\n",
    "# summarize the predicted probabilities\n",
    "print('Predicted Probabilities: %s' % yhat_p[0])\n",
    "\n",
    "print('Real Class: %s' % y_test[0])"
   ]
  },
  {
   "cell_type": "code",
   "execution_count": 5,
   "id": "nutritional-reproduction",
   "metadata": {
    "collapsed": true
   },
   "outputs": [
    {
     "name": "stdout",
     "output_type": "stream",
     "text": [
      "0.0000\n",
      ">0.0000 0.942 (0.001)\n",
      "0.0001\n",
      ">0.0001 0.386 (0.000)\n",
      "0.0010\n",
      ">0.0010 0.873 (0.003)\n",
      "0.0100\n",
      ">0.0100 0.930 (0.001)\n",
      "0.1000\n",
      ">0.1000 0.942 (0.001)\n",
      "1.0000\n",
      ">1.0000 0.951 (0.001)\n"
     ]
    },
    {
     "data": {
      "image/png": "[encoded data removed]",
      "text/plain": [
       "<Figure size 432x288 with 1 Axes>"
      ]
     },
     "metadata": {
      "needs_background": "light"
     },
     "output_type": "display_data"
    }
   ],
   "source": [
    "for name, model in models.items():\n",
    "    print(name)\n",
    "    # evaluate the model and collect the scores\n",
    "    scores = evaluate_model(model, X_train, y_train)\n",
    "    # store the results\n",
    "    results.append(scores)\n",
    "    names.append(name)\n",
    "    # summarize progress along the way\n",
    "    print('>%s %.3f (%.3f)' % (name, mean(scores), std(scores)))\n",
    "\n",
    "# plot model performance for comparison\n",
    "pyplot.boxplot(results, labels=names, showmeans=True)\n",
    "pyplot.show()"
   ]
  }
 ],
 "metadata": {
  "kernelspec": {
   "display_name": "Python 3",
   "language": "python",
   "name": "python3"
  },
  "language_info": {
   "codemirror_mode": {
    "name": "ipython",
    "version": 3
   },
   "file_extension": ".py",
   "mimetype": "text/x-python",
   "name": "python",
   "nbconvert_exporter": "python",
   "pygments_lexer": "ipython3",
   "version": "3.8.5"
  }
 },
 "nbformat": 4,
 "nbformat_minor": 5
}

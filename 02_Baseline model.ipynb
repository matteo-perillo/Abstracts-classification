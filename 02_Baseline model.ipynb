{
  "cells": [
    {
      "cell_type": "markdown",
      "source": [
        ""
      ],
      "metadata": {
        "id": "WnYf6bL97u3n"
      },
      "id": "WnYf6bL97u3n"
    },
    {
      "cell_type": "code",
      "execution_count": 4,
      "id": "positive-position",
      "metadata": {
        "id": "positive-position"
      },
      "outputs": [],
      "source": [
        "from google.colab import files\n",
        "import pandas as pd\n",
        "import io\n",
        "import time\n",
        "from numpy import mean\n",
        "from numpy import std\n",
        "from sklearn.model_selection import cross_val_score\n",
        "from sklearn.model_selection import KFold, GridSearchCV\n",
        "from sklearn.datasets import make_classification\n",
        "from sklearn.model_selection import cross_val_score\n",
        "from sklearn.model_selection import RepeatedStratifiedKFold\n",
        "from sklearn.model_selection import train_test_split\n",
        "from sklearn.linear_model import LogisticRegression\n",
        "from sklearn.metrics import accuracy_score\n",
        "from sklearn.metrics import confusion_matrix\n",
        "from matplotlib import pyplot\n",
        "from sklearn.feature_extraction.text import TfidfVectorizer\n",
        "from sklearn.feature_extraction.text import CountVectorizer\n",
        "\n",
        "import matplotlib.pyplot as plt\n",
        "import numpy as np\n",
        "import itertools"
      ]
    },
    {
      "cell_type": "code",
      "source": [
        "uploaded = files.upload()"
      ],
      "metadata": {
        "colab": {
          "resources": {
            "http://localhost:8080/nbextensions/google.colab/files.js": {
              "data": "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",
              "ok": true,
              "headers": [
                [
                  "content-type",
                  "application/javascript"
                ]
              ],
              "status": 200,
              "status_text": ""
            }
          },
          "base_uri": "https://localhost:8080/",
          "height": 73
        },
        "id": "03TrtLbw5dNN",
        "outputId": "7c4b321b-d13f-4628-832d-26f4d3c11cdb"
      },
      "id": "03TrtLbw5dNN",
      "execution_count": 6,
      "outputs": [
        {
          "output_type": "display_data",
          "data": {
            "text/plain": [
              "<IPython.core.display.HTML object>"
            ],
            "text/html": [
              "\n",
              "     <input type=\"file\" id=\"files-267520ac-6e70-4a54-bb9a-f23a33fa0472\" name=\"files[]\" multiple disabled\n",
              "        style=\"border:none\" />\n",
              "     <output id=\"result-267520ac-6e70-4a54-bb9a-f23a33fa0472\">\n",
              "      Upload widget is only available when the cell has been executed in the\n",
              "      current browser session. Please rerun this cell to enable.\n",
              "      </output>\n",
              "      <script src=\"/nbextensions/google.colab/files.js\"></script> "
            ]
          },
          "metadata": {}
        },
        {
          "output_type": "stream",
          "name": "stdout",
          "text": [
            "Saving preprocessed_data.csv to preprocessed_data.csv\n"
          ]
        }
      ]
    },
    {
      "cell_type": "code",
      "source": [
        "data_ready = pd.read_csv(io.BytesIO(uploaded['preprocessed_data.csv']))"
      ],
      "metadata": {
        "id": "52Hw5NaGOLHK"
      },
      "id": "52Hw5NaGOLHK",
      "execution_count": 7,
      "outputs": []
    },
    {
      "cell_type": "code",
      "execution_count": 25,
      "id": "lesser-tunisia",
      "metadata": {
        "colab": {
          "base_uri": "https://localhost:8080/"
        },
        "id": "lesser-tunisia",
        "outputId": "e69b39f4-37c4-4fd7-acbd-7448bd1e32a5"
      },
      "outputs": [
        {
          "output_type": "stream",
          "name": "stdout",
          "text": [
            "Stored 'data_ready' (DataFrame)\n"
          ]
        }
      ],
      "source": [
        "%store data_ready"
      ]
    },
    {
      "cell_type": "code",
      "source": [
        "%store -r data_ready"
      ],
      "metadata": {
        "id": "Anej1Wml_2mJ"
      },
      "id": "Anej1Wml_2mJ",
      "execution_count": null,
      "outputs": []
    },
    {
      "cell_type": "code",
      "execution_count": 8,
      "id": "disabled-raise",
      "metadata": {
        "id": "disabled-raise"
      },
      "outputs": [],
      "source": [
        "#print(data_ready['category'].value_counts())\n",
        "cat_index = data_ready['category'].value_counts().index"
      ]
    },
    {
      "cell_type": "code",
      "execution_count": 9,
      "id": "collectible-louisiana",
      "metadata": {
        "id": "collectible-louisiana"
      },
      "outputs": [],
      "source": [
        "def create_lr_model():\n",
        "    model = LogisticRegression(multi_class='multinomial', solver='lbfgs', max_iter = 10000)\n",
        "    return model\n",
        "\n",
        "def plot_confusion_matrix(cm, target_names, title='Confusion matrix', cmap=None, normalize=True):\n",
        "    accuracy = np.trace(cm) / np.sum(cm).astype('float')\n",
        "    misclass = 1 - accuracy\n",
        "\n",
        "    if cmap is None:\n",
        "        cmap = plt.get_cmap('Blues')\n",
        "\n",
        "    plt.figure(figsize=(8, 6))\n",
        "    plt.imshow(cm, interpolation='nearest', cmap=cmap)\n",
        "    plt.title(title)\n",
        "    plt.colorbar()\n",
        "\n",
        "    if target_names is not None:\n",
        "        tick_marks = np.arange(len(target_names))\n",
        "        plt.xticks(tick_marks, target_names, rotation=45)\n",
        "        plt.yticks(tick_marks, target_names)\n",
        "\n",
        "    if normalize:\n",
        "        cm = cm.astype('float') / cm.sum(axis=1)[:, np.newaxis]\n",
        "\n",
        "\n",
        "    thresh = cm.max() / 1.5 if normalize else cm.max() / 2\n",
        "    for i, j in itertools.product(range(cm.shape[0]), range(cm.shape[1])):\n",
        "        if normalize:\n",
        "            plt.text(j, i, \"{:0.4f}\".format(cm[i, j]),\n",
        "                     horizontalalignment=\"center\",\n",
        "                     color=\"white\" if cm[i, j] > thresh else \"black\")\n",
        "        else:\n",
        "            plt.text(j, i, \"{:,}\".format(cm[i, j]),\n",
        "                     horizontalalignment=\"center\",\n",
        "                     color=\"white\" if cm[i, j] > thresh else \"black\")\n",
        "\n",
        "\n",
        "    plt.tight_layout()\n",
        "    plt.ylabel('True label')\n",
        "    plt.xlabel('Predicted label\\naccuracy={:0.4f}; misclass={:0.4f}'.format(accuracy, misclass))\n",
        "    plt.show()"
      ]
    },
    {
      "cell_type": "markdown",
      "id": "magnetic-booking",
      "metadata": {
        "id": "magnetic-booking"
      },
      "source": [
        "Set 0"
      ]
    },
    {
      "cell_type": "code",
      "execution_count": 10,
      "id": "assisted-edwards",
      "metadata": {
        "colab": {
          "base_uri": "https://localhost:8080/"
        },
        "id": "assisted-edwards",
        "outputId": "1c7900e1-8f86-4235-bf07-40f535e0fc52"
      },
      "outputs": [
        {
          "output_type": "stream",
          "name": "stdout",
          "text": [
            "quant-ph    44678\n",
            "hep-th      39013\n",
            "gr-qc       25712\n",
            "Name: category, dtype: int64\n"
          ]
        }
      ],
      "source": [
        "select_data = data_ready[data_ready['category'].isin(cat_index[0:3])].dropna().reset_index(drop=True)\n",
        "print(select_data['category'].value_counts())\n",
        "\n",
        "#SPLITTING THE TRAINING DATASET INTO TRAIN AND TEST\n",
        "X_train, X_test, y_train, y_test = train_test_split(select_data[\"clean_text\"], select_data[\"category\"], random_state = 1000,\n",
        "                                                    stratify = select_data[\"category\"], test_size=0.2, shuffle=True)\n",
        "\n",
        "#Tf-Idf\n",
        "tfidf_vectorizer = TfidfVectorizer(use_idf=True)\n",
        "X_train = tfidf_vectorizer.fit_transform(X_train) \n",
        "X_test = tfidf_vectorizer.transform(X_test)\n",
        "\n",
        "X_train.sort_indices()\n",
        "X_test.sort_indices()"
      ]
    },
    {
      "cell_type": "markdown",
      "id": "circular-andrews",
      "metadata": {
        "id": "circular-andrews"
      },
      "source": [
        "Tune regularization for multinomial logistic regression"
      ]
    },
    {
      "cell_type": "code",
      "execution_count": 44,
      "id": "consistent-secretariat",
      "metadata": {
        "id": "consistent-secretariat"
      },
      "outputs": [],
      "source": [
        "model = create_lr_model()\n",
        "\n",
        "# define the grid search parameters\n",
        "cand_pt = ['none', 'l2']\n",
        "cand_rs = [0.0001, 0.001, 0.01, 0.1, 1.0]\n",
        "#cand_mi = [10, 100, 1000, 10000][1:2]\n",
        "\n",
        "param_grid0 = dict(penalty=cand_pt[1:2], C=cand_rs)\n",
        "param_grid1 = dict(penalty=cand_pt[0:1])\n",
        "\n",
        "grid0 = GridSearchCV(estimator=model, param_grid=param_grid0, n_jobs=-1, cv=5)\n",
        "grid1 = GridSearchCV(estimator=model, param_grid=param_grid1, n_jobs=-1, cv=5)"
      ]
    },
    {
      "cell_type": "code",
      "source": [
        "s = time.time()\n",
        "grid_results_l2 = grid0.fit(X_train, y_train)\n",
        "f = time.time()\n",
        "el_t = f-s\n",
        "\n",
        "cv_results_l2 = pd.DataFrame.from_dict(grid_results_l2.cv_results_)\n",
        "\n",
        "print(\"Best accuracy with l2 regularization: %f using %s\" % (grid_results_l2.best_score_, grid_results_l2.best_params_))\n",
        "print(\"\\n\")\n",
        "print(\"Time needed for the estimation: %f\" % (el_t))"
      ],
      "metadata": {
        "colab": {
          "base_uri": "https://localhost:8080/"
        },
        "id": "nBLvLWzaV0yH",
        "outputId": "eb79ab8b-1740-4989-da87-f1537965e10e"
      },
      "id": "nBLvLWzaV0yH",
      "execution_count": 45,
      "outputs": [
        {
          "output_type": "stream",
          "name": "stdout",
          "text": [
            "Best accuracy with l2 regularization: 0.914547 using {'C': 1.0, 'penalty': 'l2'}\n",
            "\n",
            "\n",
            "Time needed for the estimation: 207.899354\n"
          ]
        }
      ]
    },
    {
      "cell_type": "code",
      "source": [
        "s = time.time()\n",
        "grid_results_noreg = grid1.fit(X_train, y_train)\n",
        "f = time.time()\n",
        "el_t = f-s\n",
        "\n",
        "cv_results_noreg = pd.DataFrame.from_dict(grid_results_noreg.cv_results_)\n",
        "\n",
        "print(\"Best accuracy without regularization: %f using %s\" % (grid_results_noreg.best_score_, grid_results_noreg.best_params_))\n",
        "print(\"\\n\")\n",
        "print(\"Time needed for the estimation: %f\" % (el_t))"
      ],
      "metadata": {
        "colab": {
          "base_uri": "https://localhost:8080/"
        },
        "id": "kh8mGb-oV6j8",
        "outputId": "5a0d1987-d575-4c56-be1f-82e5aa9a382f"
      },
      "id": "kh8mGb-oV6j8",
      "execution_count": 42,
      "outputs": [
        {
          "output_type": "stream",
          "name": "stdout",
          "text": [
            "Best accuracy without regularization: 0.869644 using {'penalty': 'none'}\n",
            "\n",
            "\n",
            "Time needed for fitting: 1207.583550\n"
          ]
        }
      ]
    },
    {
      "cell_type": "code",
      "execution_count": 51,
      "id": "miniature-genetics",
      "metadata": {
        "collapsed": true,
        "colab": {
          "base_uri": "https://localhost:8080/",
          "height": 272
        },
        "id": "miniature-genetics",
        "outputId": "900977d4-0c59-41ba-b27f-ddfee3af3042"
      },
      "outputs": [
        {
          "output_type": "stream",
          "name": "stderr",
          "text": [
            "/usr/local/lib/python3.7/dist-packages/ipykernel_launcher.py:4: FutureWarning: In a future version of pandas all arguments of DataFrame.drop except for the argument 'labels' will be keyword-only\n",
            "  after removing the cwd from sys.path.\n"
          ]
        },
        {
          "output_type": "execute_result",
          "data": {
            "text/plain": [
              "   mean_fit_time  mean_score_time param_C param_penalty  mean_test_score  \\\n",
              "4      30.513894         0.044170     1.0            l2         0.914547   \n",
              "3      14.951698         0.052303     0.1            l2         0.900802   \n",
              "5     187.934037         0.043555     NaN          none         0.869644   \n",
              "2       9.739502         0.059165    0.01            l2         0.866079   \n",
              "1       4.003841         0.049568   0.001            l2         0.702578   \n",
              "0       2.941028         0.068071  0.0001            l2         0.408412   \n",
              "\n",
              "   std_test_score  \n",
              "4        0.002917  \n",
              "3        0.002861  \n",
              "5        0.002257  \n",
              "2        0.002371  \n",
              "1        0.001685  \n",
              "0        0.000030  "
            ],
            "text/html": [
              "\n",
              "  <div id=\"df-2a2aadfb-f707-408f-b758-34e6d0b264c3\">\n",
              "    <div class=\"colab-df-container\">\n",
              "      <div>\n",
              "<style scoped>\n",
              "    .dataframe tbody tr th:only-of-type {\n",
              "        vertical-align: middle;\n",
              "    }\n",
              "\n",
              "    .dataframe tbody tr th {\n",
              "        vertical-align: top;\n",
              "    }\n",
              "\n",
              "    .dataframe thead th {\n",
              "        text-align: right;\n",
              "    }\n",
              "</style>\n",
              "<table border=\"1\" class=\"dataframe\">\n",
              "  <thead>\n",
              "    <tr style=\"text-align: right;\">\n",
              "      <th></th>\n",
              "      <th>mean_fit_time</th>\n",
              "      <th>mean_score_time</th>\n",
              "      <th>param_C</th>\n",
              "      <th>param_penalty</th>\n",
              "      <th>mean_test_score</th>\n",
              "      <th>std_test_score</th>\n",
              "    </tr>\n",
              "  </thead>\n",
              "  <tbody>\n",
              "    <tr>\n",
              "      <th>4</th>\n",
              "      <td>30.513894</td>\n",
              "      <td>0.044170</td>\n",
              "      <td>1.0</td>\n",
              "      <td>l2</td>\n",
              "      <td>0.914547</td>\n",
              "      <td>0.002917</td>\n",
              "    </tr>\n",
              "    <tr>\n",
              "      <th>3</th>\n",
              "      <td>14.951698</td>\n",
              "      <td>0.052303</td>\n",
              "      <td>0.1</td>\n",
              "      <td>l2</td>\n",
              "      <td>0.900802</td>\n",
              "      <td>0.002861</td>\n",
              "    </tr>\n",
              "    <tr>\n",
              "      <th>5</th>\n",
              "      <td>187.934037</td>\n",
              "      <td>0.043555</td>\n",
              "      <td>NaN</td>\n",
              "      <td>none</td>\n",
              "      <td>0.869644</td>\n",
              "      <td>0.002257</td>\n",
              "    </tr>\n",
              "    <tr>\n",
              "      <th>2</th>\n",
              "      <td>9.739502</td>\n",
              "      <td>0.059165</td>\n",
              "      <td>0.01</td>\n",
              "      <td>l2</td>\n",
              "      <td>0.866079</td>\n",
              "      <td>0.002371</td>\n",
              "    </tr>\n",
              "    <tr>\n",
              "      <th>1</th>\n",
              "      <td>4.003841</td>\n",
              "      <td>0.049568</td>\n",
              "      <td>0.001</td>\n",
              "      <td>l2</td>\n",
              "      <td>0.702578</td>\n",
              "      <td>0.001685</td>\n",
              "    </tr>\n",
              "    <tr>\n",
              "      <th>0</th>\n",
              "      <td>2.941028</td>\n",
              "      <td>0.068071</td>\n",
              "      <td>0.0001</td>\n",
              "      <td>l2</td>\n",
              "      <td>0.408412</td>\n",
              "      <td>0.000030</td>\n",
              "    </tr>\n",
              "  </tbody>\n",
              "</table>\n",
              "</div>\n",
              "      <button class=\"colab-df-convert\" onclick=\"convertToInteractive('df-2a2aadfb-f707-408f-b758-34e6d0b264c3')\"\n",
              "              title=\"Convert this dataframe to an interactive table.\"\n",
              "              style=\"display:none;\">\n",
              "        \n",
              "  <svg xmlns=\"http://www.w3.org/2000/svg\" height=\"24px\"viewBox=\"0 0 24 24\"\n",
              "       width=\"24px\">\n",
              "    <path d=\"M0 0h24v24H0V0z\" fill=\"none\"/>\n",
              "    <path d=\"M18.56 5.44l.94 2.06.94-2.06 2.06-.94-2.06-.94-.94-2.06-.94 2.06-2.06.94zm-11 1L8.5 8.5l.94-2.06 2.06-.94-2.06-.94L8.5 2.5l-.94 2.06-2.06.94zm10 10l.94 2.06.94-2.06 2.06-.94-2.06-.94-.94-2.06-.94 2.06-2.06.94z\"/><path d=\"M17.41 7.96l-1.37-1.37c-.4-.4-.92-.59-1.43-.59-.52 0-1.04.2-1.43.59L10.3 9.45l-7.72 7.72c-.78.78-.78 2.05 0 2.83L4 21.41c.39.39.9.59 1.41.59.51 0 1.02-.2 1.41-.59l7.78-7.78 2.81-2.81c.8-.78.8-2.07 0-2.86zM5.41 20L4 18.59l7.72-7.72 1.47 1.35L5.41 20z\"/>\n",
              "  </svg>\n",
              "      </button>\n",
              "      \n",
              "  <style>\n",
              "    .colab-df-container {\n",
              "      display:flex;\n",
              "      flex-wrap:wrap;\n",
              "      gap: 12px;\n",
              "    }\n",
              "\n",
              "    .colab-df-convert {\n",
              "      background-color: #E8F0FE;\n",
              "      border: none;\n",
              "      border-radius: 50%;\n",
              "      cursor: pointer;\n",
              "      display: none;\n",
              "      fill: #1967D2;\n",
              "      height: 32px;\n",
              "      padding: 0 0 0 0;\n",
              "      width: 32px;\n",
              "    }\n",
              "\n",
              "    .colab-df-convert:hover {\n",
              "      background-color: #E2EBFA;\n",
              "      box-shadow: 0px 1px 2px rgba(60, 64, 67, 0.3), 0px 1px 3px 1px rgba(60, 64, 67, 0.15);\n",
              "      fill: #174EA6;\n",
              "    }\n",
              "\n",
              "    [theme=dark] .colab-df-convert {\n",
              "      background-color: #3B4455;\n",
              "      fill: #D2E3FC;\n",
              "    }\n",
              "\n",
              "    [theme=dark] .colab-df-convert:hover {\n",
              "      background-color: #434B5C;\n",
              "      box-shadow: 0px 1px 3px 1px rgba(0, 0, 0, 0.15);\n",
              "      filter: drop-shadow(0px 1px 2px rgba(0, 0, 0, 0.3));\n",
              "      fill: #FFFFFF;\n",
              "    }\n",
              "  </style>\n",
              "\n",
              "      <script>\n",
              "        const buttonEl =\n",
              "          document.querySelector('#df-2a2aadfb-f707-408f-b758-34e6d0b264c3 button.colab-df-convert');\n",
              "        buttonEl.style.display =\n",
              "          google.colab.kernel.accessAllowed ? 'block' : 'none';\n",
              "\n",
              "        async function convertToInteractive(key) {\n",
              "          const element = document.querySelector('#df-2a2aadfb-f707-408f-b758-34e6d0b264c3');\n",
              "          const dataTable =\n",
              "            await google.colab.kernel.invokeFunction('convertToInteractive',\n",
              "                                                     [key], {});\n",
              "          if (!dataTable) return;\n",
              "\n",
              "          const docLinkHtml = 'Like what you see? Visit the ' +\n",
              "            '<a target=\"_blank\" href=https://colab.research.google.com/notebooks/data_table.ipynb>data table notebook</a>'\n",
              "            + ' to learn more about interactive tables.';\n",
              "          element.innerHTML = '';\n",
              "          dataTable['output_type'] = 'display_data';\n",
              "          await google.colab.output.renderOutput(dataTable, element);\n",
              "          const docLink = document.createElement('div');\n",
              "          docLink.innerHTML = docLinkHtml;\n",
              "          element.appendChild(docLink);\n",
              "        }\n",
              "      </script>\n",
              "    </div>\n",
              "  </div>\n",
              "  "
            ]
          },
          "metadata": {},
          "execution_count": 51
        }
      ],
      "source": [
        "cv_results = pd.concat([cv_results_l2, cv_results_noreg]).reset_index(drop=True)\n",
        "cv_results = cv_results.sort_values(by=['mean_test_score'], ascending=False)\n",
        "cv_results_set0_lr = cv_results.drop(['std_fit_time', 'std_score_time', 'params', 'split0_test_score', 'split1_test_score', \n",
        "                              'split2_test_score', 'split3_test_score', 'split4_test_score', 'rank_test_score'], 1)\n",
        "cv_results_set0_lr"
      ]
    },
    {
      "cell_type": "code",
      "source": [
        "%store cv_results_set0_lr"
      ],
      "metadata": {
        "colab": {
          "base_uri": "https://localhost:8080/"
        },
        "id": "idLjTw2gZAVH",
        "outputId": "acc72b0b-f75e-453a-90b1-5888b9569546"
      },
      "id": "idLjTw2gZAVH",
      "execution_count": 52,
      "outputs": [
        {
          "output_type": "stream",
          "name": "stdout",
          "text": [
            "Stored 'cv_results_set0_lr' (DataFrame)\n"
          ]
        }
      ]
    },
    {
      "cell_type": "code",
      "source": [
        "#from google.colab import files\n",
        "\n",
        "cv_results_set0_lr.to_csv('cv_results_set0_lr.csv', encoding = 'utf-8-sig') \n",
        "files.download('cv_results_set0_lr.csv')"
      ],
      "metadata": {
        "colab": {
          "base_uri": "https://localhost:8080/",
          "height": 17
        },
        "id": "6GBkZ7GsiR5q",
        "outputId": "ecfae5ce-6a27-40cf-f9b2-9735cacff85c"
      },
      "id": "6GBkZ7GsiR5q",
      "execution_count": 53,
      "outputs": [
        {
          "output_type": "display_data",
          "data": {
            "text/plain": [
              "<IPython.core.display.Javascript object>"
            ],
            "application/javascript": [
              "\n",
              "    async function download(id, filename, size) {\n",
              "      if (!google.colab.kernel.accessAllowed) {\n",
              "        return;\n",
              "      }\n",
              "      const div = document.createElement('div');\n",
              "      const label = document.createElement('label');\n",
              "      label.textContent = `Downloading \"${filename}\": `;\n",
              "      div.appendChild(label);\n",
              "      const progress = document.createElement('progress');\n",
              "      progress.max = size;\n",
              "      div.appendChild(progress);\n",
              "      document.body.appendChild(div);\n",
              "\n",
              "      const buffers = [];\n",
              "      let downloaded = 0;\n",
              "\n",
              "      const channel = await google.colab.kernel.comms.open(id);\n",
              "      // Send a message to notify the kernel that we're ready.\n",
              "      channel.send({})\n",
              "\n",
              "      for await (const message of channel.messages) {\n",
              "        // Send a message to notify the kernel that we're ready.\n",
              "        channel.send({})\n",
              "        if (message.buffers) {\n",
              "          for (const buffer of message.buffers) {\n",
              "            buffers.push(buffer);\n",
              "            downloaded += buffer.byteLength;\n",
              "            progress.value = downloaded;\n",
              "          }\n",
              "        }\n",
              "      }\n",
              "      const blob = new Blob(buffers, {type: 'application/binary'});\n",
              "      const a = document.createElement('a');\n",
              "      a.href = window.URL.createObjectURL(blob);\n",
              "      a.download = filename;\n",
              "      div.appendChild(a);\n",
              "      a.click();\n",
              "      div.remove();\n",
              "    }\n",
              "  "
            ]
          },
          "metadata": {}
        },
        {
          "output_type": "display_data",
          "data": {
            "text/plain": [
              "<IPython.core.display.Javascript object>"
            ],
            "application/javascript": [
              "download(\"download_b6bac7cd-92c1-4b26-98a1-602aa4541672\", \"cv_results_set0_lr.csv\", 622)"
            ]
          },
          "metadata": {}
        }
      ]
    },
    {
      "cell_type": "code",
      "execution_count": 11,
      "id": "facial-patrick",
      "metadata": {
        "colab": {
          "base_uri": "https://localhost:8080/"
        },
        "id": "facial-patrick",
        "outputId": "609b17b7-15f5-4416-d348-74293f0052df"
      },
      "outputs": [
        {
          "output_type": "stream",
          "name": "stdout",
          "text": [
            "Accuracy: 0.915\n",
            "\n",
            "\n",
            "Confusion matrix:\n",
            " [[4391  616  135]\n",
            " [ 692 6890  221]\n",
            " [  81  122 8733]]\n"
          ]
        }
      ],
      "source": [
        "#MULTINOMIAL LOGISTIC REGRESSION with tuned hyperparameters\n",
        "\n",
        "model = LogisticRegression(multi_class='multinomial', solver='lbfgs', penalty='l2', C=1, max_iter = 10000)\n",
        "\n",
        "# make a prediction with a multinomial logistic regression model\n",
        "# fit the model on the whole dataset\n",
        "model.fit(X_train, y_train)\n",
        "# define a single row of input data\n",
        "yhat = model.predict(X_test)\n",
        "\n",
        "#Accuracy score\n",
        "acc = accuracy_score(y_test, yhat)\n",
        "print('Accuracy: %.3f' % round(acc, 3))"
      ]
    },
    {
      "cell_type": "code",
      "source": [
        "#Confusion matrix\n",
        "conf = confusion_matrix(y_test, yhat)\n",
        "plot_confusion_matrix(conf, [\"gr-qc\", \"hep-th\", \"quant-ph\"])"
      ],
      "metadata": {
        "colab": {
          "base_uri": "https://localhost:8080/",
          "height": 467
        },
        "id": "9TUxmEfe823O",
        "outputId": "02807d79-54d3-4cdf-b1d4-4660660cfdce"
      },
      "id": "9TUxmEfe823O",
      "execution_count": 23,
      "outputs": [
        {
          "output_type": "display_data",
          "data": {
            "text/plain": [
              "<Figure size 576x432 with 2 Axes>"
            ],
            "image/png": "[encoded data removed]"
          },
          "metadata": {
            "needs_background": "light"
          }
        }
      ]
    },
    {
      "cell_type": "markdown",
      "id": "mathematical-blast",
      "metadata": {
        "id": "mathematical-blast"
      },
      "source": [
        "Set 1"
      ]
    },
    {
      "cell_type": "code",
      "execution_count": null,
      "id": "excess-reviewer",
      "metadata": {
        "id": "excess-reviewer",
        "outputId": "57a6c371-6a4e-4536-d61d-485e61c962e6"
      },
      "outputs": [
        {
          "name": "stdout",
          "output_type": "stream",
          "text": [
            "stat       19868\n",
            "math-ph    17597\n",
            "nucl-th    13730\n",
            "q-bio      13316\n",
            "hep-ex     10158\n",
            "Name: category, dtype: int64\n"
          ]
        }
      ],
      "source": [
        "select_data = data_ready[data_ready['category'].isin(cat_index[4:9])].reset_index(drop=True)\n",
        "print(select_data['category'].value_counts())\n",
        "\n",
        "#SPLITTING THE TRAINING DATASET INTO TRAIN AND TEST\n",
        "X_train, X_test, y_train, y_test = train_test_split(select_data[\"clean_text\"], select_data[\"category\"], random_state = 1000,\n",
        "                                                    stratify = select_data[\"category\"], test_size=0.2, shuffle=True)\n",
        "\n",
        "#Tf-Idf\n",
        "tfidf_vectorizer = TfidfVectorizer(use_idf=True)\n",
        "X_train = tfidf_vectorizer.fit_transform(X_train) \n",
        "X_test = tfidf_vectorizer.transform(X_test)"
      ]
    },
    {
      "cell_type": "code",
      "execution_count": null,
      "id": "lyric-child",
      "metadata": {
        "id": "lyric-child"
      },
      "outputs": [],
      "source": [
        "# define the grid search parameters\n",
        "cand_pt = ['none', 'l2']\n",
        "cand_rs = [0.0001, 0.001, 0.01, 0.1, 1.0][4:]\n",
        "cand_mi = [10, 100, 1000, 10000][1:2]\n",
        "\n",
        "param_grid0 = dict(penalty=cand_pt[1:2], C=cand_rs, max_iter=cand_mi)\n",
        "param_grid1 = dict(penalty=cand_pt[0:1], max_iter=cand_mi)\n",
        "\n",
        "grid0 = GridSearchCV(estimator=model, param_grid=param_grid0, n_jobs=-1, cv=5)\n",
        "grid1 = GridSearchCV(estimator=model, param_grid=param_grid1, n_jobs=-1, cv=5)"
      ]
    },
    {
      "cell_type": "code",
      "execution_count": null,
      "id": "fuzzy-treasury",
      "metadata": {
        "id": "fuzzy-treasury",
        "outputId": "aa65c9ef-c95e-431c-f484-399dcace5da7"
      },
      "outputs": [
        {
          "name": "stderr",
          "output_type": "stream",
          "text": [
            "C:\\Users\\Matteo\\anaconda3\\lib\\site-packages\\sklearn\\linear_model\\_logistic.py:763: ConvergenceWarning: lbfgs failed to converge (status=1):\n",
            "STOP: TOTAL NO. of ITERATIONS REACHED LIMIT.\n",
            "\n",
            "Increase the number of iterations (max_iter) or scale the data as shown in:\n",
            "    https://scikit-learn.org/stable/modules/preprocessing.html\n",
            "Please also refer to the documentation for alternative solver options:\n",
            "    https://scikit-learn.org/stable/modules/linear_model.html#logistic-regression\n",
            "  n_iter_i = _check_optimize_result(\n"
          ]
        },
        {
          "name": "stdout",
          "output_type": "stream",
          "text": [
            "Best with regularization: 0.951519 using {'C': 1.0, 'max_iter': 100, 'penalty': 'l2'}\n",
            "Best without regularization: 0.943768 using {'max_iter': 100, 'penalty': 'none'}\n",
            "Stored 'cv_results_set1' (DataFrame)\n"
          ]
        },
        {
          "name": "stderr",
          "output_type": "stream",
          "text": [
            "C:\\Users\\Matteo\\anaconda3\\lib\\site-packages\\sklearn\\linear_model\\_logistic.py:763: ConvergenceWarning: lbfgs failed to converge (status=1):\n",
            "STOP: TOTAL NO. of ITERATIONS REACHED LIMIT.\n",
            "\n",
            "Increase the number of iterations (max_iter) or scale the data as shown in:\n",
            "    https://scikit-learn.org/stable/modules/preprocessing.html\n",
            "Please also refer to the documentation for alternative solver options:\n",
            "    https://scikit-learn.org/stable/modules/linear_model.html#logistic-regression\n",
            "  n_iter_i = _check_optimize_result(\n"
          ]
        },
        {
          "data": {
            "text/html": [
              "<div>\n",
              "<style scoped>\n",
              "    .dataframe tbody tr th:only-of-type {\n",
              "        vertical-align: middle;\n",
              "    }\n",
              "\n",
              "    .dataframe tbody tr th {\n",
              "        vertical-align: top;\n",
              "    }\n",
              "\n",
              "    .dataframe thead th {\n",
              "        text-align: right;\n",
              "    }\n",
              "</style>\n",
              "<table border=\"1\" class=\"dataframe\">\n",
              "  <thead>\n",
              "    <tr style=\"text-align: right;\">\n",
              "      <th></th>\n",
              "      <th>mean_fit_time</th>\n",
              "      <th>mean_score_time</th>\n",
              "      <th>param_C</th>\n",
              "      <th>param_max_iter</th>\n",
              "      <th>param_penalty</th>\n",
              "      <th>mean_test_score</th>\n",
              "      <th>std_test_score</th>\n",
              "    </tr>\n",
              "  </thead>\n",
              "  <tbody>\n",
              "    <tr>\n",
              "      <th>0</th>\n",
              "      <td>29.839002</td>\n",
              "      <td>0.031245</td>\n",
              "      <td>1.0</td>\n",
              "      <td>100</td>\n",
              "      <td>l2</td>\n",
              "      <td>0.951519</td>\n",
              "      <td>0.002004</td>\n",
              "    </tr>\n",
              "    <tr>\n",
              "      <th>1</th>\n",
              "      <td>28.308878</td>\n",
              "      <td>0.031253</td>\n",
              "      <td>NaN</td>\n",
              "      <td>100</td>\n",
              "      <td>none</td>\n",
              "      <td>0.943768</td>\n",
              "      <td>0.001902</td>\n",
              "    </tr>\n",
              "  </tbody>\n",
              "</table>\n",
              "</div>"
            ],
            "text/plain": [
              "   mean_fit_time  mean_score_time param_C param_max_iter param_penalty  \\\n",
              "0      29.839002         0.031245     1.0            100            l2   \n",
              "1      28.308878         0.031253     NaN            100          none   \n",
              "\n",
              "   mean_test_score  std_test_score  \n",
              "0         0.951519        0.002004  \n",
              "1         0.943768        0.001902  "
            ]
          },
          "execution_count": 89,
          "metadata": {},
          "output_type": "execute_result"
        }
      ],
      "source": [
        "grid_result0 = grid0.fit(X_train, y_train)\n",
        "cv_results0 = pd.DataFrame.from_dict(grid_result0.cv_results_)\n",
        "grid_result1 = grid1.fit(X_train, y_train)\n",
        "cv_results1 = pd.DataFrame.from_dict(grid_result1.cv_results_)\n",
        "\n",
        "# summarize results\n",
        "print(\"Best with regularization: %f using %s\" % (grid_result0.best_score_, grid_result0.best_params_))\n",
        "print(\"Best without regularization: %f using %s\" % (grid_result1.best_score_, grid_result1.best_params_))\n",
        "\n",
        "cv_results = pd.concat([cv_results0, cv_results1]).reset_index(drop=True)\n",
        "cv_results = cv_results.sort_values(by=['mean_test_score'], ascending=False)\n",
        "cv_results_set1 = cv_results.drop(['std_fit_time', 'std_score_time', 'params', 'split0_test_score', 'split1_test_score', \n",
        "                              'split2_test_score', 'split3_test_score', 'split4_test_score', 'rank_test_score'], 1)\n",
        "%store cv_results_set1\n",
        "cv_results_set1"
      ]
    },
    {
      "cell_type": "code",
      "execution_count": null,
      "id": "encouraging-calculation",
      "metadata": {
        "id": "encouraging-calculation",
        "outputId": "8451f089-21b4-4973-ef32-b1e881683893"
      },
      "outputs": [
        {
          "name": "stdout",
          "output_type": "stream",
          "text": [
            "Accuracy: 0.952\n",
            "\n",
            "\n",
            "Confusion matrix:\n",
            " [[1972    3   47    3    7]\n",
            " [   2 3442   16   29   30]\n",
            " [  35   68 2632    6    5]\n",
            " [   0   53    4 2397  209]\n",
            " [   2   45    0  151 3776]]\n"
          ]
        }
      ],
      "source": [
        "#MULTINOMIAL LOGISTIC REGRESSION with tuned hyperparameters\n",
        "\n",
        "model = LogisticRegression(multi_class='multinomial', solver='lbfgs', penalty='l2', C=1, max_iter = 1000)\n",
        "\n",
        "# make a prediction with a multinomial logistic regression model\n",
        "# fit the model on the whole dataset\n",
        "model.fit(X_train, y_train)\n",
        "# define a single row of input data\n",
        "yhat = model.predict(X_test)\n",
        "\n",
        "#Accuracy score\n",
        "acc = accuracy_score(y_test, yhat)\n",
        "print('Accuracy: %.3f' % round(acc, 3))\n",
        "print('\\n')\n",
        "#Confusion matrix\n",
        "conf = confusion_matrix(y_test, yhat)\n",
        "print('Confusion matrix:\\n', conf)"
      ]
    },
    {
      "cell_type": "code",
      "execution_count": null,
      "id": "coupled-stereo",
      "metadata": {
        "id": "coupled-stereo"
      },
      "outputs": [],
      "source": [
        ""
      ]
    },
    {
      "cell_type": "markdown",
      "id": "efficient-greensboro",
      "metadata": {
        "id": "efficient-greensboro"
      },
      "source": [
        "Extra"
      ]
    },
    {
      "cell_type": "code",
      "execution_count": null,
      "id": "economic-performer",
      "metadata": {
        "id": "economic-performer",
        "outputId": "c2936a9b-f77d-4c91-8829-8a90d38ec988"
      },
      "outputs": [
        {
          "name": "stdout",
          "output_type": "stream",
          "text": [
            "Predicted Class: hep-ph\n",
            "Predicted Probabilities: [0.9962049  0.00222638 0.00156872]\n",
            "Real Class: hep-ph\n"
          ]
        },
        {
          "name": "stderr",
          "output_type": "stream",
          "text": [
            "C:\\Users\\Matteo\\anaconda3\\lib\\site-packages\\sklearn\\linear_model\\_logistic.py:763: ConvergenceWarning: lbfgs failed to converge (status=1):\n",
            "STOP: TOTAL NO. of ITERATIONS REACHED LIMIT.\n",
            "\n",
            "Increase the number of iterations (max_iter) or scale the data as shown in:\n",
            "    https://scikit-learn.org/stable/modules/preprocessing.html\n",
            "Please also refer to the documentation for alternative solver options:\n",
            "    https://scikit-learn.org/stable/modules/linear_model.html#logistic-regression\n",
            "  n_iter_i = _check_optimize_result(\n"
          ]
        }
      ],
      "source": [
        "#MULTINOMIAL LOGISTIC REGRESSION with tuned hyperparameters\n",
        "\n",
        "model = LogisticRegression(multi_class='multinomial', solver='lbfgs', penalty='l2', C=1)\n",
        "\n",
        "# make a prediction with a multinomial logistic regression model\n",
        "# fit the model on the whole dataset\n",
        "model.fit(X_train_tfidf, y_train)\n",
        "# define a single row of input data\n",
        "yhat = model.predict(X_test_tfidf)\n",
        "\n",
        "acc = accuracy_score(y_test, yhat)\n",
        "conf = confusion_matrix(y_test, yhat)\n",
        "\n",
        "#Accuracy score\n",
        "print('Accuracy: %.3f' % round(acc, 3))\n",
        "\n",
        "print('\\n')\n",
        "\n",
        "#Confusion matrix\n",
        "print('Confusion matrix:\\n', conf)"
      ]
    },
    {
      "cell_type": "code",
      "execution_count": null,
      "id": "according-clone",
      "metadata": {
        "id": "according-clone",
        "outputId": "15e75406-1f4d-4309-ccbb-f88b7818eb6b"
      },
      "outputs": [
        {
          "name": "stdout",
          "output_type": "stream",
          "text": [
            "Predicted Class: hep-ph\n",
            "Predicted Probabilities: [0.9962049  0.00222638 0.00156872]\n",
            "Real Class: hep-ph\n"
          ]
        }
      ],
      "source": [
        "#For observation 0\n",
        "# summarize the predicted class\n",
        "print('Predicted Class: %s' % yhat[0])\n",
        "\n",
        "# predict a multinomial probability distribution\n",
        "yhat_p = model.predict_proba(X_test_tfidf)\n",
        "# summarize the predicted probabilities\n",
        "print('Predicted Probabilities: %s' % yhat_p[0])\n",
        "\n",
        "print('Real Class: %s' % y_test[0])"
      ]
    },
    {
      "cell_type": "code",
      "execution_count": null,
      "id": "nutritional-reproduction",
      "metadata": {
        "collapsed": true,
        "id": "nutritional-reproduction",
        "outputId": "cec5c070-ef24-4b9a-b85e-f5c826d9472e"
      },
      "outputs": [
        {
          "name": "stdout",
          "output_type": "stream",
          "text": [
            "0.0000\n",
            ">0.0000 0.942 (0.001)\n",
            "0.0001\n",
            ">0.0001 0.386 (0.000)\n",
            "0.0010\n",
            ">0.0010 0.873 (0.003)\n",
            "0.0100\n",
            ">0.0100 0.930 (0.001)\n",
            "0.1000\n",
            ">0.1000 0.942 (0.001)\n",
            "1.0000\n",
            ">1.0000 0.951 (0.001)\n"
          ]
        },
        {
          "data": {
            "image/png": "[encoded data removed]",
            "text/plain": [
              "<Figure size 432x288 with 1 Axes>"
            ]
          },
          "metadata": {
            "needs_background": "light"
          },
          "output_type": "display_data"
        }
      ],
      "source": [
        "for name, model in models.items():\n",
        "    print(name)\n",
        "    # evaluate the model and collect the scores\n",
        "    scores = evaluate_model(model, X_train, y_train)\n",
        "    # store the results\n",
        "    results.append(scores)\n",
        "    names.append(name)\n",
        "    # summarize progress along the way\n",
        "    print('>%s %.3f (%.3f)' % (name, mean(scores), std(scores)))\n",
        "\n",
        "# plot model performance for comparison\n",
        "pyplot.boxplot(results, labels=names, showmeans=True)\n",
        "pyplot.show()"
      ]
    }
  ],
  "metadata": {
    "kernelspec": {
      "display_name": "Python 3",
      "language": "python",
      "name": "python3"
    },
    "language_info": {
      "codemirror_mode": {
        "name": "ipython",
        "version": 3
      },
      "file_extension": ".py",
      "mimetype": "text/x-python",
      "name": "python",
      "nbconvert_exporter": "python",
      "pygments_lexer": "ipython3",
      "version": "3.8.5"
    },
    "colab": {
      "name": "02_Baseline model.ipynb",
      "provenance": []
    }
  },
  "nbformat": 4,
  "nbformat_minor": 5
}